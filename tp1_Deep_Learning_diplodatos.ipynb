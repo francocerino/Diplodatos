{
  "nbformat": 4,
  "nbformat_minor": 0,
  "metadata": {
    "colab": {
      "name": "tp1_Deep_Learning_diplodatos.ipynb",
      "provenance": [],
      "collapsed_sections": []
    },
    "kernelspec": {
      "name": "python3",
      "display_name": "Python 3"
    },
    "accelerator": "GPU"
  },
  "cells": [
    {
      "cell_type": "markdown",
      "metadata": {
        "id": "TEWsHjCErydp",
        "colab_type": "text"
      },
      "source": [
        "# Aprendizaje Profundo\n",
        "\n",
        "Franco Cerino"
      ]
    },
    {
      "cell_type": "markdown",
      "metadata": {
        "id": "HPvisvysYr6Y",
        "colab_type": "text"
      },
      "source": [
        "#Práctico 1\n",
        "En este práctico trabajaremos con el conjuto de datos de petfinder que utilizaron en la materia Aprendizaje Supervisado. La tarea es predecir la velocidad de adopción de un conjunto de mascotas. Para ello, también utilizaremos esta competencia de Kaggle.\n",
        "\n",
        "Durante esta etapa implementaremos modelos MLP básicos y no tan básicos, y veremos los diferentes hiperparámetros y arquitecturas que podemos elegir. Compararemos además dos tipos de representaciones comunes para datos categóricos: one-hot-encodings y embeddings. El primer ejercicio consiste en implementar y entrenar un modelo básico, y el segundo consiste en explorar las distintas combinaciones de características e hiperparámetros.\n",
        "\n",
        "Para resolver los ejercicios, les proveemos un esqueleto que pueden completar en el archivo practico_1_train_petfinder.py. Este esqueleto ya contiene muchas de las funciones para combinar las representaciones de las distintas columnas que vimos en la notebook 2, aunque pueden agregar más columnas y las columnas con valores numéricos.\n",
        "\n",
        "#Ejercicio 1\n",
        "Construir un pipeline de clasificación con un modelo Keras MLP. Pueden comenzar con una versión simplicada que sólo tenga una capa de Input donde pasen los valores de las columnas de one-hot-encodings.\n",
        "\n",
        "Entrenar uno o varios modelos (con dos o tres es suficiente, veremos más de esto en el práctico 2). Evaluar los modelos en el conjunto de dev y test.\n",
        "\n",
        "#Ejercicio 2\n",
        "Utilizar el mismo modelo anterior y explorar cómo cambian los resultados a medida que agregamos o quitamos columnas.\n",
        "\n",
        "Volver a ejecutar una exploración de hyperparámetros teniendo en cuenta la información que agregan las nuevas columnas.\n",
        "\n",
        "Subir los resultados a la competencia de Kaggle.\n",
        "\n",
        "Finalmente, tienen que reportar los hyperparámetros y resultados de todos los modelos entrenados. Para esto, pueden utilizar los resultados que recolectan con mlflow y procesarlos con una notebook. Tiene que presentar esa notebook o un archivo (pdf|md) con las conclusiones que puedan sacar. Dentro de este reporte tiene que describir:\n",
        "\n",
        "Hyperparámetros con los que procesaron cada columna del dataset. ¿Cuáles son las columnas que más afectan al desempeño? ¿Por qué?\n",
        "Las decisiones tomadas al construir cada modelo: regularización, batch normalization, dropout, número y tamaño de las capas, optimizador.\n",
        "Proceso de entrenamiento: división del train/dev, tamaño del batch, número de épocas, métricas de evaluación. Seleccione los mejores hiperparámetros en función de su rendimiento. El proceso de entrenamiento debería ser el mismo para todos los modelos.\n",
        "Analizar si el clasificador está haciendo overfitting. Esto se puede determinar a partir del resultado del método fit."
      ]
    },
    {
      "cell_type": "code",
      "metadata": {
        "id": "pevixGwqrwCb",
        "colab_type": "code",
        "outputId": "e6c9a0cd-297e-4fb3-b2c1-3008d03b0864",
        "colab": {
          "base_uri": "https://localhost:8080/",
          "height": 1000
        }
      },
      "source": [
        "%%bash\n",
        "pip install --upgrade pip\n",
        "pip install --upgrade tensorflow-gpu==2.0.0\n",
        "pip install --upgrade mlflow graphviz pydot"
      ],
      "execution_count": 1,
      "outputs": [
        {
          "output_type": "stream",
          "text": [
            "Requirement already up-to-date: pip in /usr/local/lib/python3.6/dist-packages (19.3.1)\n",
            "Requirement already up-to-date: tensorflow-gpu==2.0.0 in /usr/local/lib/python3.6/dist-packages (2.0.0)\n",
            "Requirement already satisfied, skipping upgrade: keras-preprocessing>=1.0.5 in /usr/local/lib/python3.6/dist-packages (from tensorflow-gpu==2.0.0) (1.1.0)\n",
            "Requirement already satisfied, skipping upgrade: protobuf>=3.6.1 in /usr/local/lib/python3.6/dist-packages (from tensorflow-gpu==2.0.0) (3.10.0)\n",
            "Requirement already satisfied, skipping upgrade: google-pasta>=0.1.6 in /usr/local/lib/python3.6/dist-packages (from tensorflow-gpu==2.0.0) (0.1.8)\n",
            "Requirement already satisfied, skipping upgrade: wheel>=0.26 in /usr/local/lib/python3.6/dist-packages (from tensorflow-gpu==2.0.0) (0.33.6)\n",
            "Requirement already satisfied, skipping upgrade: wrapt>=1.11.1 in /usr/local/lib/python3.6/dist-packages (from tensorflow-gpu==2.0.0) (1.11.2)\n",
            "Requirement already satisfied, skipping upgrade: astor>=0.6.0 in /usr/local/lib/python3.6/dist-packages (from tensorflow-gpu==2.0.0) (0.8.0)\n",
            "Requirement already satisfied, skipping upgrade: opt-einsum>=2.3.2 in /usr/local/lib/python3.6/dist-packages (from tensorflow-gpu==2.0.0) (3.1.0)\n",
            "Requirement already satisfied, skipping upgrade: grpcio>=1.8.6 in /usr/local/lib/python3.6/dist-packages (from tensorflow-gpu==2.0.0) (1.15.0)\n",
            "Requirement already satisfied, skipping upgrade: gast==0.2.2 in /usr/local/lib/python3.6/dist-packages (from tensorflow-gpu==2.0.0) (0.2.2)\n",
            "Requirement already satisfied, skipping upgrade: numpy<2.0,>=1.16.0 in /usr/local/lib/python3.6/dist-packages (from tensorflow-gpu==2.0.0) (1.17.4)\n",
            "Requirement already satisfied, skipping upgrade: termcolor>=1.1.0 in /usr/local/lib/python3.6/dist-packages (from tensorflow-gpu==2.0.0) (1.1.0)\n",
            "Requirement already satisfied, skipping upgrade: tensorboard<2.1.0,>=2.0.0 in /usr/local/lib/python3.6/dist-packages (from tensorflow-gpu==2.0.0) (2.0.1)\n",
            "Requirement already satisfied, skipping upgrade: tensorflow-estimator<2.1.0,>=2.0.0 in /usr/local/lib/python3.6/dist-packages (from tensorflow-gpu==2.0.0) (2.0.1)\n",
            "Requirement already satisfied, skipping upgrade: keras-applications>=1.0.8 in /usr/local/lib/python3.6/dist-packages (from tensorflow-gpu==2.0.0) (1.0.8)\n",
            "Requirement already satisfied, skipping upgrade: absl-py>=0.7.0 in /usr/local/lib/python3.6/dist-packages (from tensorflow-gpu==2.0.0) (0.8.1)\n",
            "Requirement already satisfied, skipping upgrade: six>=1.10.0 in /usr/local/lib/python3.6/dist-packages (from tensorflow-gpu==2.0.0) (1.12.0)\n",
            "Requirement already satisfied, skipping upgrade: setuptools in /usr/local/lib/python3.6/dist-packages (from protobuf>=3.6.1->tensorflow-gpu==2.0.0) (41.4.0)\n",
            "Requirement already satisfied, skipping upgrade: google-auth-oauthlib<0.5,>=0.4.1 in /usr/local/lib/python3.6/dist-packages (from tensorboard<2.1.0,>=2.0.0->tensorflow-gpu==2.0.0) (0.4.1)\n",
            "Requirement already satisfied, skipping upgrade: google-auth<2,>=1.6.3 in /usr/local/lib/python3.6/dist-packages (from tensorboard<2.1.0,>=2.0.0->tensorflow-gpu==2.0.0) (1.7.1)\n",
            "Requirement already satisfied, skipping upgrade: werkzeug>=0.11.15 in /usr/local/lib/python3.6/dist-packages (from tensorboard<2.1.0,>=2.0.0->tensorflow-gpu==2.0.0) (0.16.0)\n",
            "Requirement already satisfied, skipping upgrade: markdown>=2.6.8 in /usr/local/lib/python3.6/dist-packages (from tensorboard<2.1.0,>=2.0.0->tensorflow-gpu==2.0.0) (3.1.1)\n",
            "Requirement already satisfied, skipping upgrade: h5py in /usr/local/lib/python3.6/dist-packages (from keras-applications>=1.0.8->tensorflow-gpu==2.0.0) (2.8.0)\n",
            "Requirement already satisfied, skipping upgrade: requests-oauthlib>=0.7.0 in /usr/local/lib/python3.6/dist-packages (from google-auth-oauthlib<0.5,>=0.4.1->tensorboard<2.1.0,>=2.0.0->tensorflow-gpu==2.0.0) (1.3.0)\n",
            "Requirement already satisfied, skipping upgrade: pyasn1-modules>=0.2.1 in /usr/local/lib/python3.6/dist-packages (from google-auth<2,>=1.6.3->tensorboard<2.1.0,>=2.0.0->tensorflow-gpu==2.0.0) (0.2.7)\n",
            "Requirement already satisfied, skipping upgrade: cachetools<3.2,>=2.0.0 in /usr/local/lib/python3.6/dist-packages (from google-auth<2,>=1.6.3->tensorboard<2.1.0,>=2.0.0->tensorflow-gpu==2.0.0) (3.1.1)\n",
            "Requirement already satisfied, skipping upgrade: rsa<4.1,>=3.1.4 in /usr/local/lib/python3.6/dist-packages (from google-auth<2,>=1.6.3->tensorboard<2.1.0,>=2.0.0->tensorflow-gpu==2.0.0) (4.0)\n",
            "Requirement already satisfied, skipping upgrade: oauthlib>=3.0.0 in /usr/local/lib/python3.6/dist-packages (from requests-oauthlib>=0.7.0->google-auth-oauthlib<0.5,>=0.4.1->tensorboard<2.1.0,>=2.0.0->tensorflow-gpu==2.0.0) (3.1.0)\n",
            "Requirement already satisfied, skipping upgrade: requests>=2.0.0 in /usr/local/lib/python3.6/dist-packages (from requests-oauthlib>=0.7.0->google-auth-oauthlib<0.5,>=0.4.1->tensorboard<2.1.0,>=2.0.0->tensorflow-gpu==2.0.0) (2.21.0)\n",
            "Requirement already satisfied, skipping upgrade: pyasn1<0.5.0,>=0.4.6 in /usr/local/lib/python3.6/dist-packages (from pyasn1-modules>=0.2.1->google-auth<2,>=1.6.3->tensorboard<2.1.0,>=2.0.0->tensorflow-gpu==2.0.0) (0.4.7)\n",
            "Requirement already satisfied, skipping upgrade: urllib3<1.25,>=1.21.1 in /usr/local/lib/python3.6/dist-packages (from requests>=2.0.0->requests-oauthlib>=0.7.0->google-auth-oauthlib<0.5,>=0.4.1->tensorboard<2.1.0,>=2.0.0->tensorflow-gpu==2.0.0) (1.24.3)\n",
            "Requirement already satisfied, skipping upgrade: idna<2.9,>=2.5 in /usr/local/lib/python3.6/dist-packages (from requests>=2.0.0->requests-oauthlib>=0.7.0->google-auth-oauthlib<0.5,>=0.4.1->tensorboard<2.1.0,>=2.0.0->tensorflow-gpu==2.0.0) (2.8)\n",
            "Requirement already satisfied, skipping upgrade: certifi>=2017.4.17 in /usr/local/lib/python3.6/dist-packages (from requests>=2.0.0->requests-oauthlib>=0.7.0->google-auth-oauthlib<0.5,>=0.4.1->tensorboard<2.1.0,>=2.0.0->tensorflow-gpu==2.0.0) (2019.9.11)\n",
            "Requirement already satisfied, skipping upgrade: chardet<3.1.0,>=3.0.2 in /usr/local/lib/python3.6/dist-packages (from requests>=2.0.0->requests-oauthlib>=0.7.0->google-auth-oauthlib<0.5,>=0.4.1->tensorboard<2.1.0,>=2.0.0->tensorflow-gpu==2.0.0) (3.0.4)\n",
            "Requirement already up-to-date: mlflow in /usr/local/lib/python3.6/dist-packages (1.4.0)\n",
            "Requirement already up-to-date: graphviz in /usr/local/lib/python3.6/dist-packages (0.13.2)\n",
            "Requirement already up-to-date: pydot in /usr/local/lib/python3.6/dist-packages (1.4.1)\n",
            "Requirement already satisfied, skipping upgrade: Flask in /usr/local/lib/python3.6/dist-packages (from mlflow) (1.1.1)\n",
            "Requirement already satisfied, skipping upgrade: pyyaml in /usr/local/lib/python3.6/dist-packages (from mlflow) (3.13)\n",
            "Requirement already satisfied, skipping upgrade: protobuf>=3.6.0 in /usr/local/lib/python3.6/dist-packages (from mlflow) (3.10.0)\n",
            "Requirement already satisfied, skipping upgrade: simplejson in /usr/local/lib/python3.6/dist-packages (from mlflow) (3.16.0)\n",
            "Requirement already satisfied, skipping upgrade: cloudpickle in /usr/local/lib/python3.6/dist-packages (from mlflow) (1.2.2)\n",
            "Requirement already satisfied, skipping upgrade: databricks-cli>=0.8.7 in /usr/local/lib/python3.6/dist-packages (from mlflow) (0.9.1)\n",
            "Requirement already satisfied, skipping upgrade: click>=7.0 in /usr/local/lib/python3.6/dist-packages (from mlflow) (7.0)\n",
            "Requirement already satisfied, skipping upgrade: requests>=2.17.3 in /usr/local/lib/python3.6/dist-packages (from mlflow) (2.21.0)\n",
            "Requirement already satisfied, skipping upgrade: sqlparse in /usr/local/lib/python3.6/dist-packages (from mlflow) (0.3.0)\n",
            "Requirement already satisfied, skipping upgrade: docker>=4.0.0 in /usr/local/lib/python3.6/dist-packages (from mlflow) (4.1.0)\n",
            "Requirement already satisfied, skipping upgrade: gunicorn; platform_system != \"Windows\" in /usr/local/lib/python3.6/dist-packages (from mlflow) (20.0.0)\n",
            "Requirement already satisfied, skipping upgrade: six>=1.10.0 in /usr/local/lib/python3.6/dist-packages (from mlflow) (1.12.0)\n",
            "Requirement already satisfied, skipping upgrade: python-dateutil in /usr/local/lib/python3.6/dist-packages (from mlflow) (2.6.1)\n",
            "Requirement already satisfied, skipping upgrade: gitpython>=2.1.0 in /usr/local/lib/python3.6/dist-packages (from mlflow) (3.0.5)\n",
            "Requirement already satisfied, skipping upgrade: gorilla in /usr/local/lib/python3.6/dist-packages (from mlflow) (0.3.0)\n",
            "Requirement already satisfied, skipping upgrade: pandas in /usr/local/lib/python3.6/dist-packages (from mlflow) (0.25.3)\n",
            "Requirement already satisfied, skipping upgrade: querystring-parser in /usr/local/lib/python3.6/dist-packages (from mlflow) (1.2.4)\n",
            "Requirement already satisfied, skipping upgrade: entrypoints in /usr/local/lib/python3.6/dist-packages (from mlflow) (0.3)\n",
            "Requirement already satisfied, skipping upgrade: alembic in /usr/local/lib/python3.6/dist-packages (from mlflow) (1.3.1)\n",
            "Requirement already satisfied, skipping upgrade: sqlalchemy in /usr/local/lib/python3.6/dist-packages (from mlflow) (1.3.10)\n",
            "Requirement already satisfied, skipping upgrade: numpy in /usr/local/lib/python3.6/dist-packages (from mlflow) (1.17.4)\n",
            "Requirement already satisfied, skipping upgrade: pyparsing>=2.1.4 in /usr/local/lib/python3.6/dist-packages (from pydot) (2.4.5)\n",
            "Requirement already satisfied, skipping upgrade: Werkzeug>=0.15 in /usr/local/lib/python3.6/dist-packages (from Flask->mlflow) (0.16.0)\n",
            "Requirement already satisfied, skipping upgrade: Jinja2>=2.10.1 in /usr/local/lib/python3.6/dist-packages (from Flask->mlflow) (2.10.3)\n",
            "Requirement already satisfied, skipping upgrade: itsdangerous>=0.24 in /usr/local/lib/python3.6/dist-packages (from Flask->mlflow) (1.1.0)\n",
            "Requirement already satisfied, skipping upgrade: setuptools in /usr/local/lib/python3.6/dist-packages (from protobuf>=3.6.0->mlflow) (41.4.0)\n",
            "Requirement already satisfied, skipping upgrade: configparser>=0.3.5 in /usr/local/lib/python3.6/dist-packages (from databricks-cli>=0.8.7->mlflow) (4.0.2)\n",
            "Requirement already satisfied, skipping upgrade: tabulate>=0.7.7 in /usr/local/lib/python3.6/dist-packages (from databricks-cli>=0.8.7->mlflow) (0.8.5)\n",
            "Requirement already satisfied, skipping upgrade: certifi>=2017.4.17 in /usr/local/lib/python3.6/dist-packages (from requests>=2.17.3->mlflow) (2019.9.11)\n",
            "Requirement already satisfied, skipping upgrade: idna<2.9,>=2.5 in /usr/local/lib/python3.6/dist-packages (from requests>=2.17.3->mlflow) (2.8)\n",
            "Requirement already satisfied, skipping upgrade: urllib3<1.25,>=1.21.1 in /usr/local/lib/python3.6/dist-packages (from requests>=2.17.3->mlflow) (1.24.3)\n",
            "Requirement already satisfied, skipping upgrade: chardet<3.1.0,>=3.0.2 in /usr/local/lib/python3.6/dist-packages (from requests>=2.17.3->mlflow) (3.0.4)\n",
            "Requirement already satisfied, skipping upgrade: websocket-client>=0.32.0 in /usr/local/lib/python3.6/dist-packages (from docker>=4.0.0->mlflow) (0.56.0)\n",
            "Requirement already satisfied, skipping upgrade: gitdb2>=2.0.0 in /usr/local/lib/python3.6/dist-packages (from gitpython>=2.1.0->mlflow) (2.0.6)\n",
            "Requirement already satisfied, skipping upgrade: pytz>=2017.2 in /usr/local/lib/python3.6/dist-packages (from pandas->mlflow) (2018.9)\n",
            "Requirement already satisfied, skipping upgrade: python-editor>=0.3 in /usr/local/lib/python3.6/dist-packages (from alembic->mlflow) (1.0.4)\n",
            "Requirement already satisfied, skipping upgrade: Mako in /usr/local/lib/python3.6/dist-packages (from alembic->mlflow) (1.1.0)\n",
            "Requirement already satisfied, skipping upgrade: MarkupSafe>=0.23 in /usr/local/lib/python3.6/dist-packages (from Jinja2>=2.10.1->Flask->mlflow) (1.1.1)\n",
            "Requirement already satisfied, skipping upgrade: smmap2>=2.0.0 in /usr/local/lib/python3.6/dist-packages (from gitdb2>=2.0.0->gitpython>=2.1.0->mlflow) (2.0.5)\n"
          ],
          "name": "stdout"
        }
      ]
    },
    {
      "cell_type": "markdown",
      "metadata": {
        "id": "dodHEN5YZT9Y",
        "colab_type": "text"
      },
      "source": [
        "Importamos las librerias a utilizar, incluyendo Tensorflow 2.0.0"
      ]
    },
    {
      "cell_type": "code",
      "metadata": {
        "id": "aGmJm24XsEm3",
        "colab_type": "code",
        "outputId": "5d02c29a-db8d-4507-dcec-744209ee5a34",
        "colab": {
          "base_uri": "https://localhost:8080/",
          "height": 35
        }
      },
      "source": [
        "import tensorflow as tf\n",
        "print(\"TensorFlow Version: {} - Is GPU available: {}\".format(tf.__version__, tf.test.is_gpu_available()))"
      ],
      "execution_count": 2,
      "outputs": [
        {
          "output_type": "stream",
          "text": [
            "TensorFlow Version: 2.0.0 - Is GPU available: False\n"
          ],
          "name": "stdout"
        }
      ]
    },
    {
      "cell_type": "code",
      "metadata": {
        "id": "wowek_r8q3SL",
        "colab_type": "code",
        "colab": {
          "base_uri": "https://localhost:8080/",
          "height": 72
        },
        "outputId": "22f1517a-d0ec-4a59-9b03-d6de96c03ae7"
      },
      "source": [
        "import argparse\n",
        "\n",
        "import os\n",
        "import mlflow\n",
        "import numpy\n",
        "import pandas\n",
        "\n",
        "from sklearn.model_selection import train_test_split\n",
        "from tensorflow.keras import layers, models"
      ],
      "execution_count": 3,
      "outputs": [
        {
          "output_type": "stream",
          "text": [
            "/usr/local/lib/python3.6/dist-packages/_pytest/mark/structures.py:426: DeprecationWarning: The usage of `cmp` is deprecated and will be removed on or after 2021-06-01.  Please use `eq` and `order` instead.\n",
            "  @attr.s(cmp=False, hash=False)\n"
          ],
          "name": "stderr"
        }
      ]
    },
    {
      "cell_type": "code",
      "metadata": {
        "id": "V6PuxejQN7XS",
        "colab_type": "code",
        "colab": {}
      },
      "source": [
        "import sklearn\n",
        "from sklearn import preprocessing"
      ],
      "execution_count": 0,
      "outputs": []
    },
    {
      "cell_type": "code",
      "metadata": {
        "id": "WkrRBOTFbshh",
        "colab_type": "code",
        "colab": {}
      },
      "source": [
        "def process_features(df, one_hot_columns, numeric_columns, embedded_columns, test=False):#test=False->valor default para test si no esta definido\n",
        "    direct_features = []\n",
        "\n",
        "    # Create one hot encodings\n",
        "    for one_hot_col, max_value in one_hot_columns.items():\n",
        "        direct_features.append(tf.keras.utils.to_categorical(df[one_hot_col] - 1, max_value))\n",
        "\n",
        "    # Concatenate all features that don't need further embedding into a single matrix.\n",
        "    features = {'direct_features': numpy.hstack(direct_features)}#\"num_columns\":num_columns}\n",
        "\n",
        "    # Create embedding columns - nothing to do here. We will use the zero embedding for OOV\n",
        "    for embedded_col in embedded_columns.keys():\n",
        "        features[embedded_col] = df[embedded_col].values\n",
        "\n",
        "    if not test:\n",
        "        nlabels = df[TARGET_COL].unique().shape[0]\n",
        "        # Convert labels to one-hot encodings\n",
        "        targets = tf.keras.utils.to_categorical(df[TARGET_COL], nlabels)\n",
        "    else:\n",
        "        targets = None\n",
        "    \n",
        "    return features, targets"
      ],
      "execution_count": 0,
      "outputs": []
    },
    {
      "cell_type": "markdown",
      "metadata": {
        "id": "SHpP8ATjIgWX",
        "colab_type": "text"
      },
      "source": [
        "Cargamos librerias y dataset a utilizar."
      ]
    },
    {
      "cell_type": "code",
      "metadata": {
        "id": "QdXtdGot1aHd",
        "colab_type": "code",
        "colab": {}
      },
      "source": [
        "import numpy\n",
        "from tensorflow.keras.datasets import mnist\n",
        "from tensorflow.keras.layers import Activation, BatchNormalization, Dense, Dropout\n",
        "from tensorflow.keras.models import Sequential\n",
        "from tensorflow.keras import optimizers, regularizers\n",
        "\n",
        "%matplotlib inline\n",
        "import matplotlib\n",
        "import matplotlib.pyplot as plt\n",
        "from IPython.display import SVG\n",
        "from tensorflow.keras.utils import model_to_dot\n",
        "import pandas as pd\n",
        "import seaborn"
      ],
      "execution_count": 0,
      "outputs": []
    },
    {
      "cell_type": "code",
      "metadata": {
        "id": "ljAaWOLIr2bf",
        "colab_type": "code",
        "colab": {
          "base_uri": "https://localhost:8080/",
          "height": 35
        },
        "outputId": "418112b2-b776-4141-9586-16cfe52b1859"
      },
      "source": [
        "from google.colab import drive\n",
        "drive.mount('/content/drive')"
      ],
      "execution_count": 9,
      "outputs": [
        {
          "output_type": "stream",
          "text": [
            "Drive already mounted at /content/drive; to attempt to forcibly remount, call drive.mount(\"/content/drive\", force_remount=True).\n"
          ],
          "name": "stdout"
        }
      ]
    },
    {
      "cell_type": "markdown",
      "metadata": {
        "id": "NOkTGRNOcaEw",
        "colab_type": "text"
      },
      "source": [
        "Importamos y visualizamos el dataset."
      ]
    },
    {
      "cell_type": "code",
      "metadata": {
        "id": "T6SMtjBsru8u",
        "colab_type": "code",
        "colab": {
          "base_uri": "https://localhost:8080/",
          "height": 278
        },
        "outputId": "ae27036b-1130-40e8-8840-60debe7e796d"
      },
      "source": [
        "dataset=pd.read_csv(\"/content/drive/My Drive/train.csv\")\n",
        "dataset.head()"
      ],
      "execution_count": 10,
      "outputs": [
        {
          "output_type": "execute_result",
          "data": {
            "text/html": [
              "<div>\n",
              "<style scoped>\n",
              "    .dataframe tbody tr th:only-of-type {\n",
              "        vertical-align: middle;\n",
              "    }\n",
              "\n",
              "    .dataframe tbody tr th {\n",
              "        vertical-align: top;\n",
              "    }\n",
              "\n",
              "    .dataframe thead th {\n",
              "        text-align: right;\n",
              "    }\n",
              "</style>\n",
              "<table border=\"1\" class=\"dataframe\">\n",
              "  <thead>\n",
              "    <tr style=\"text-align: right;\">\n",
              "      <th></th>\n",
              "      <th>Type</th>\n",
              "      <th>Age</th>\n",
              "      <th>Breed1</th>\n",
              "      <th>Breed2</th>\n",
              "      <th>Gender</th>\n",
              "      <th>Color1</th>\n",
              "      <th>Color2</th>\n",
              "      <th>Color3</th>\n",
              "      <th>MaturitySize</th>\n",
              "      <th>FurLength</th>\n",
              "      <th>Vaccinated</th>\n",
              "      <th>Dewormed</th>\n",
              "      <th>Sterilized</th>\n",
              "      <th>Health</th>\n",
              "      <th>Quantity</th>\n",
              "      <th>Fee</th>\n",
              "      <th>State</th>\n",
              "      <th>Description</th>\n",
              "      <th>AdoptionSpeed</th>\n",
              "      <th>PID</th>\n",
              "    </tr>\n",
              "  </thead>\n",
              "  <tbody>\n",
              "    <tr>\n",
              "      <th>0</th>\n",
              "      <td>2</td>\n",
              "      <td>3</td>\n",
              "      <td>299</td>\n",
              "      <td>0</td>\n",
              "      <td>1</td>\n",
              "      <td>1</td>\n",
              "      <td>7</td>\n",
              "      <td>0</td>\n",
              "      <td>1</td>\n",
              "      <td>1</td>\n",
              "      <td>2</td>\n",
              "      <td>2</td>\n",
              "      <td>2</td>\n",
              "      <td>1</td>\n",
              "      <td>1</td>\n",
              "      <td>100</td>\n",
              "      <td>41326</td>\n",
              "      <td>Nibble is a 3+ month old ball of cuteness. He ...</td>\n",
              "      <td>2</td>\n",
              "      <td>0</td>\n",
              "    </tr>\n",
              "    <tr>\n",
              "      <th>1</th>\n",
              "      <td>1</td>\n",
              "      <td>4</td>\n",
              "      <td>307</td>\n",
              "      <td>0</td>\n",
              "      <td>2</td>\n",
              "      <td>1</td>\n",
              "      <td>2</td>\n",
              "      <td>0</td>\n",
              "      <td>2</td>\n",
              "      <td>1</td>\n",
              "      <td>1</td>\n",
              "      <td>1</td>\n",
              "      <td>2</td>\n",
              "      <td>1</td>\n",
              "      <td>1</td>\n",
              "      <td>150</td>\n",
              "      <td>41401</td>\n",
              "      <td>Good guard dog, very alert, active, obedience ...</td>\n",
              "      <td>2</td>\n",
              "      <td>3</td>\n",
              "    </tr>\n",
              "    <tr>\n",
              "      <th>2</th>\n",
              "      <td>1</td>\n",
              "      <td>1</td>\n",
              "      <td>307</td>\n",
              "      <td>0</td>\n",
              "      <td>1</td>\n",
              "      <td>1</td>\n",
              "      <td>0</td>\n",
              "      <td>0</td>\n",
              "      <td>2</td>\n",
              "      <td>1</td>\n",
              "      <td>2</td>\n",
              "      <td>2</td>\n",
              "      <td>2</td>\n",
              "      <td>1</td>\n",
              "      <td>1</td>\n",
              "      <td>0</td>\n",
              "      <td>41326</td>\n",
              "      <td>This handsome yet cute boy is up for adoption....</td>\n",
              "      <td>2</td>\n",
              "      <td>4</td>\n",
              "    </tr>\n",
              "    <tr>\n",
              "      <th>3</th>\n",
              "      <td>2</td>\n",
              "      <td>3</td>\n",
              "      <td>266</td>\n",
              "      <td>0</td>\n",
              "      <td>2</td>\n",
              "      <td>5</td>\n",
              "      <td>6</td>\n",
              "      <td>0</td>\n",
              "      <td>2</td>\n",
              "      <td>1</td>\n",
              "      <td>2</td>\n",
              "      <td>2</td>\n",
              "      <td>2</td>\n",
              "      <td>1</td>\n",
              "      <td>1</td>\n",
              "      <td>0</td>\n",
              "      <td>41326</td>\n",
              "      <td>This is a stray kitten that came to my house. ...</td>\n",
              "      <td>2</td>\n",
              "      <td>5</td>\n",
              "    </tr>\n",
              "    <tr>\n",
              "      <th>4</th>\n",
              "      <td>2</td>\n",
              "      <td>12</td>\n",
              "      <td>264</td>\n",
              "      <td>264</td>\n",
              "      <td>1</td>\n",
              "      <td>1</td>\n",
              "      <td>0</td>\n",
              "      <td>0</td>\n",
              "      <td>2</td>\n",
              "      <td>3</td>\n",
              "      <td>2</td>\n",
              "      <td>2</td>\n",
              "      <td>3</td>\n",
              "      <td>1</td>\n",
              "      <td>1</td>\n",
              "      <td>300</td>\n",
              "      <td>41326</td>\n",
              "      <td>anyone within the area of ipoh or taiping who ...</td>\n",
              "      <td>1</td>\n",
              "      <td>6</td>\n",
              "    </tr>\n",
              "  </tbody>\n",
              "</table>\n",
              "</div>"
            ],
            "text/plain": [
              "   Type  Age  ...  AdoptionSpeed  PID\n",
              "0     2    3  ...              2    0\n",
              "1     1    4  ...              2    3\n",
              "2     1    1  ...              2    4\n",
              "3     2    3  ...              2    5\n",
              "4     2   12  ...              1    6\n",
              "\n",
              "[5 rows x 20 columns]"
            ]
          },
          "metadata": {
            "tags": []
          },
          "execution_count": 10
        }
      ]
    },
    {
      "cell_type": "code",
      "metadata": {
        "id": "54Fbu8k0dk6C",
        "colab_type": "code",
        "outputId": "a4ca906a-6d4a-4f1e-96aa-2a9ebbcf00a5",
        "colab": {
          "base_uri": "https://localhost:8080/",
          "height": 278
        }
      },
      "source": [
        "dataset.head()"
      ],
      "execution_count": 11,
      "outputs": [
        {
          "output_type": "execute_result",
          "data": {
            "text/html": [
              "<div>\n",
              "<style scoped>\n",
              "    .dataframe tbody tr th:only-of-type {\n",
              "        vertical-align: middle;\n",
              "    }\n",
              "\n",
              "    .dataframe tbody tr th {\n",
              "        vertical-align: top;\n",
              "    }\n",
              "\n",
              "    .dataframe thead th {\n",
              "        text-align: right;\n",
              "    }\n",
              "</style>\n",
              "<table border=\"1\" class=\"dataframe\">\n",
              "  <thead>\n",
              "    <tr style=\"text-align: right;\">\n",
              "      <th></th>\n",
              "      <th>Type</th>\n",
              "      <th>Age</th>\n",
              "      <th>Breed1</th>\n",
              "      <th>Breed2</th>\n",
              "      <th>Gender</th>\n",
              "      <th>Color1</th>\n",
              "      <th>Color2</th>\n",
              "      <th>Color3</th>\n",
              "      <th>MaturitySize</th>\n",
              "      <th>FurLength</th>\n",
              "      <th>Vaccinated</th>\n",
              "      <th>Dewormed</th>\n",
              "      <th>Sterilized</th>\n",
              "      <th>Health</th>\n",
              "      <th>Quantity</th>\n",
              "      <th>Fee</th>\n",
              "      <th>State</th>\n",
              "      <th>Description</th>\n",
              "      <th>AdoptionSpeed</th>\n",
              "      <th>PID</th>\n",
              "    </tr>\n",
              "  </thead>\n",
              "  <tbody>\n",
              "    <tr>\n",
              "      <th>0</th>\n",
              "      <td>2</td>\n",
              "      <td>3</td>\n",
              "      <td>299</td>\n",
              "      <td>0</td>\n",
              "      <td>1</td>\n",
              "      <td>1</td>\n",
              "      <td>7</td>\n",
              "      <td>0</td>\n",
              "      <td>1</td>\n",
              "      <td>1</td>\n",
              "      <td>2</td>\n",
              "      <td>2</td>\n",
              "      <td>2</td>\n",
              "      <td>1</td>\n",
              "      <td>1</td>\n",
              "      <td>100</td>\n",
              "      <td>41326</td>\n",
              "      <td>Nibble is a 3+ month old ball of cuteness. He ...</td>\n",
              "      <td>2</td>\n",
              "      <td>0</td>\n",
              "    </tr>\n",
              "    <tr>\n",
              "      <th>1</th>\n",
              "      <td>1</td>\n",
              "      <td>4</td>\n",
              "      <td>307</td>\n",
              "      <td>0</td>\n",
              "      <td>2</td>\n",
              "      <td>1</td>\n",
              "      <td>2</td>\n",
              "      <td>0</td>\n",
              "      <td>2</td>\n",
              "      <td>1</td>\n",
              "      <td>1</td>\n",
              "      <td>1</td>\n",
              "      <td>2</td>\n",
              "      <td>1</td>\n",
              "      <td>1</td>\n",
              "      <td>150</td>\n",
              "      <td>41401</td>\n",
              "      <td>Good guard dog, very alert, active, obedience ...</td>\n",
              "      <td>2</td>\n",
              "      <td>3</td>\n",
              "    </tr>\n",
              "    <tr>\n",
              "      <th>2</th>\n",
              "      <td>1</td>\n",
              "      <td>1</td>\n",
              "      <td>307</td>\n",
              "      <td>0</td>\n",
              "      <td>1</td>\n",
              "      <td>1</td>\n",
              "      <td>0</td>\n",
              "      <td>0</td>\n",
              "      <td>2</td>\n",
              "      <td>1</td>\n",
              "      <td>2</td>\n",
              "      <td>2</td>\n",
              "      <td>2</td>\n",
              "      <td>1</td>\n",
              "      <td>1</td>\n",
              "      <td>0</td>\n",
              "      <td>41326</td>\n",
              "      <td>This handsome yet cute boy is up for adoption....</td>\n",
              "      <td>2</td>\n",
              "      <td>4</td>\n",
              "    </tr>\n",
              "    <tr>\n",
              "      <th>3</th>\n",
              "      <td>2</td>\n",
              "      <td>3</td>\n",
              "      <td>266</td>\n",
              "      <td>0</td>\n",
              "      <td>2</td>\n",
              "      <td>5</td>\n",
              "      <td>6</td>\n",
              "      <td>0</td>\n",
              "      <td>2</td>\n",
              "      <td>1</td>\n",
              "      <td>2</td>\n",
              "      <td>2</td>\n",
              "      <td>2</td>\n",
              "      <td>1</td>\n",
              "      <td>1</td>\n",
              "      <td>0</td>\n",
              "      <td>41326</td>\n",
              "      <td>This is a stray kitten that came to my house. ...</td>\n",
              "      <td>2</td>\n",
              "      <td>5</td>\n",
              "    </tr>\n",
              "    <tr>\n",
              "      <th>4</th>\n",
              "      <td>2</td>\n",
              "      <td>12</td>\n",
              "      <td>264</td>\n",
              "      <td>264</td>\n",
              "      <td>1</td>\n",
              "      <td>1</td>\n",
              "      <td>0</td>\n",
              "      <td>0</td>\n",
              "      <td>2</td>\n",
              "      <td>3</td>\n",
              "      <td>2</td>\n",
              "      <td>2</td>\n",
              "      <td>3</td>\n",
              "      <td>1</td>\n",
              "      <td>1</td>\n",
              "      <td>300</td>\n",
              "      <td>41326</td>\n",
              "      <td>anyone within the area of ipoh or taiping who ...</td>\n",
              "      <td>1</td>\n",
              "      <td>6</td>\n",
              "    </tr>\n",
              "  </tbody>\n",
              "</table>\n",
              "</div>"
            ],
            "text/plain": [
              "   Type  Age  ...  AdoptionSpeed  PID\n",
              "0     2    3  ...              2    0\n",
              "1     1    4  ...              2    3\n",
              "2     1    1  ...              2    4\n",
              "3     2    3  ...              2    5\n",
              "4     2   12  ...              1    6\n",
              "\n",
              "[5 rows x 20 columns]"
            ]
          },
          "metadata": {
            "tags": []
          },
          "execution_count": 11
        }
      ]
    },
    {
      "cell_type": "code",
      "metadata": {
        "id": "Atc_IPKhIrmi",
        "colab_type": "code",
        "outputId": "7c83bb57-bdf4-4a83-eea8-ab078e10fdd4",
        "colab": {
          "base_uri": "https://localhost:8080/",
          "height": 302
        }
      },
      "source": [
        "dataset.describe()"
      ],
      "execution_count": 12,
      "outputs": [
        {
          "output_type": "execute_result",
          "data": {
            "text/html": [
              "<div>\n",
              "<style scoped>\n",
              "    .dataframe tbody tr th:only-of-type {\n",
              "        vertical-align: middle;\n",
              "    }\n",
              "\n",
              "    .dataframe tbody tr th {\n",
              "        vertical-align: top;\n",
              "    }\n",
              "\n",
              "    .dataframe thead th {\n",
              "        text-align: right;\n",
              "    }\n",
              "</style>\n",
              "<table border=\"1\" class=\"dataframe\">\n",
              "  <thead>\n",
              "    <tr style=\"text-align: right;\">\n",
              "      <th></th>\n",
              "      <th>Type</th>\n",
              "      <th>Age</th>\n",
              "      <th>Breed1</th>\n",
              "      <th>Breed2</th>\n",
              "      <th>Gender</th>\n",
              "      <th>Color1</th>\n",
              "      <th>Color2</th>\n",
              "      <th>Color3</th>\n",
              "      <th>MaturitySize</th>\n",
              "      <th>FurLength</th>\n",
              "      <th>Vaccinated</th>\n",
              "      <th>Dewormed</th>\n",
              "      <th>Sterilized</th>\n",
              "      <th>Health</th>\n",
              "      <th>Quantity</th>\n",
              "      <th>Fee</th>\n",
              "      <th>State</th>\n",
              "      <th>AdoptionSpeed</th>\n",
              "      <th>PID</th>\n",
              "    </tr>\n",
              "  </thead>\n",
              "  <tbody>\n",
              "    <tr>\n",
              "      <th>count</th>\n",
              "      <td>10582.000000</td>\n",
              "      <td>10582.000000</td>\n",
              "      <td>10582.000000</td>\n",
              "      <td>10582.000000</td>\n",
              "      <td>10582.000000</td>\n",
              "      <td>10582.000000</td>\n",
              "      <td>10582.000000</td>\n",
              "      <td>10582.000000</td>\n",
              "      <td>10582.000000</td>\n",
              "      <td>10582.000000</td>\n",
              "      <td>10582.000000</td>\n",
              "      <td>10582.000000</td>\n",
              "      <td>10582.000000</td>\n",
              "      <td>10582.000000</td>\n",
              "      <td>10582.000000</td>\n",
              "      <td>10582.000000</td>\n",
              "      <td>10582.000000</td>\n",
              "      <td>10582.000000</td>\n",
              "      <td>10582.000000</td>\n",
              "    </tr>\n",
              "    <tr>\n",
              "      <th>mean</th>\n",
              "      <td>1.454734</td>\n",
              "      <td>10.520412</td>\n",
              "      <td>265.469854</td>\n",
              "      <td>74.388868</td>\n",
              "      <td>1.779059</td>\n",
              "      <td>2.230675</td>\n",
              "      <td>3.236912</td>\n",
              "      <td>1.856738</td>\n",
              "      <td>1.860518</td>\n",
              "      <td>1.460971</td>\n",
              "      <td>1.729730</td>\n",
              "      <td>1.566528</td>\n",
              "      <td>1.912115</td>\n",
              "      <td>1.036666</td>\n",
              "      <td>1.584011</td>\n",
              "      <td>20.809960</td>\n",
              "      <td>41345.994613</td>\n",
              "      <td>2.518900</td>\n",
              "      <td>7477.025799</td>\n",
              "    </tr>\n",
              "    <tr>\n",
              "      <th>std</th>\n",
              "      <td>0.497970</td>\n",
              "      <td>18.374027</td>\n",
              "      <td>60.121490</td>\n",
              "      <td>123.434010</td>\n",
              "      <td>0.684763</td>\n",
              "      <td>1.743985</td>\n",
              "      <td>2.748595</td>\n",
              "      <td>2.974465</td>\n",
              "      <td>0.547535</td>\n",
              "      <td>0.593843</td>\n",
              "      <td>0.670791</td>\n",
              "      <td>0.701482</td>\n",
              "      <td>0.564041</td>\n",
              "      <td>0.198228</td>\n",
              "      <td>1.488348</td>\n",
              "      <td>78.397243</td>\n",
              "      <td>32.409109</td>\n",
              "      <td>1.176018</td>\n",
              "      <td>4310.921553</td>\n",
              "    </tr>\n",
              "    <tr>\n",
              "      <th>min</th>\n",
              "      <td>1.000000</td>\n",
              "      <td>0.000000</td>\n",
              "      <td>0.000000</td>\n",
              "      <td>0.000000</td>\n",
              "      <td>1.000000</td>\n",
              "      <td>1.000000</td>\n",
              "      <td>0.000000</td>\n",
              "      <td>0.000000</td>\n",
              "      <td>1.000000</td>\n",
              "      <td>1.000000</td>\n",
              "      <td>1.000000</td>\n",
              "      <td>1.000000</td>\n",
              "      <td>1.000000</td>\n",
              "      <td>1.000000</td>\n",
              "      <td>1.000000</td>\n",
              "      <td>0.000000</td>\n",
              "      <td>41324.000000</td>\n",
              "      <td>0.000000</td>\n",
              "      <td>0.000000</td>\n",
              "    </tr>\n",
              "    <tr>\n",
              "      <th>25%</th>\n",
              "      <td>1.000000</td>\n",
              "      <td>2.000000</td>\n",
              "      <td>265.000000</td>\n",
              "      <td>0.000000</td>\n",
              "      <td>1.000000</td>\n",
              "      <td>1.000000</td>\n",
              "      <td>0.000000</td>\n",
              "      <td>0.000000</td>\n",
              "      <td>2.000000</td>\n",
              "      <td>1.000000</td>\n",
              "      <td>1.000000</td>\n",
              "      <td>1.000000</td>\n",
              "      <td>2.000000</td>\n",
              "      <td>1.000000</td>\n",
              "      <td>1.000000</td>\n",
              "      <td>0.000000</td>\n",
              "      <td>41326.000000</td>\n",
              "      <td>2.000000</td>\n",
              "      <td>3768.250000</td>\n",
              "    </tr>\n",
              "    <tr>\n",
              "      <th>50%</th>\n",
              "      <td>1.000000</td>\n",
              "      <td>3.000000</td>\n",
              "      <td>266.000000</td>\n",
              "      <td>0.000000</td>\n",
              "      <td>2.000000</td>\n",
              "      <td>2.000000</td>\n",
              "      <td>2.000000</td>\n",
              "      <td>0.000000</td>\n",
              "      <td>2.000000</td>\n",
              "      <td>1.000000</td>\n",
              "      <td>2.000000</td>\n",
              "      <td>1.000000</td>\n",
              "      <td>2.000000</td>\n",
              "      <td>1.000000</td>\n",
              "      <td>1.000000</td>\n",
              "      <td>0.000000</td>\n",
              "      <td>41326.000000</td>\n",
              "      <td>2.000000</td>\n",
              "      <td>7473.500000</td>\n",
              "    </tr>\n",
              "    <tr>\n",
              "      <th>75%</th>\n",
              "      <td>2.000000</td>\n",
              "      <td>12.000000</td>\n",
              "      <td>307.000000</td>\n",
              "      <td>188.000000</td>\n",
              "      <td>2.000000</td>\n",
              "      <td>3.000000</td>\n",
              "      <td>6.000000</td>\n",
              "      <td>5.000000</td>\n",
              "      <td>2.000000</td>\n",
              "      <td>2.000000</td>\n",
              "      <td>2.000000</td>\n",
              "      <td>2.000000</td>\n",
              "      <td>2.000000</td>\n",
              "      <td>1.000000</td>\n",
              "      <td>1.000000</td>\n",
              "      <td>0.000000</td>\n",
              "      <td>41401.000000</td>\n",
              "      <td>4.000000</td>\n",
              "      <td>11200.750000</td>\n",
              "    </tr>\n",
              "    <tr>\n",
              "      <th>max</th>\n",
              "      <td>2.000000</td>\n",
              "      <td>255.000000</td>\n",
              "      <td>307.000000</td>\n",
              "      <td>307.000000</td>\n",
              "      <td>3.000000</td>\n",
              "      <td>7.000000</td>\n",
              "      <td>7.000000</td>\n",
              "      <td>7.000000</td>\n",
              "      <td>4.000000</td>\n",
              "      <td>3.000000</td>\n",
              "      <td>3.000000</td>\n",
              "      <td>3.000000</td>\n",
              "      <td>3.000000</td>\n",
              "      <td>3.000000</td>\n",
              "      <td>20.000000</td>\n",
              "      <td>3000.000000</td>\n",
              "      <td>41415.000000</td>\n",
              "      <td>4.000000</td>\n",
              "      <td>14992.000000</td>\n",
              "    </tr>\n",
              "  </tbody>\n",
              "</table>\n",
              "</div>"
            ],
            "text/plain": [
              "               Type           Age  ...  AdoptionSpeed           PID\n",
              "count  10582.000000  10582.000000  ...   10582.000000  10582.000000\n",
              "mean       1.454734     10.520412  ...       2.518900   7477.025799\n",
              "std        0.497970     18.374027  ...       1.176018   4310.921553\n",
              "min        1.000000      0.000000  ...       0.000000      0.000000\n",
              "25%        1.000000      2.000000  ...       2.000000   3768.250000\n",
              "50%        1.000000      3.000000  ...       2.000000   7473.500000\n",
              "75%        2.000000     12.000000  ...       4.000000  11200.750000\n",
              "max        2.000000    255.000000  ...       4.000000  14992.000000\n",
              "\n",
              "[8 rows x 19 columns]"
            ]
          },
          "metadata": {
            "tags": []
          },
          "execution_count": 12
        }
      ]
    },
    {
      "cell_type": "code",
      "metadata": {
        "id": "QWnMRqOvsUf9",
        "colab_type": "code",
        "colab": {
          "base_uri": "https://localhost:8080/",
          "height": 194
        },
        "outputId": "17f6c869-3a37-4cba-8c73-5cfcda3495e3"
      },
      "source": [
        "test_dataset=pd.read_csv(\"/content/drive/My Drive/test.csv\")\n",
        "test_dataset.head()"
      ],
      "execution_count": 13,
      "outputs": [
        {
          "output_type": "execute_result",
          "data": {
            "text/html": [
              "<div>\n",
              "<style scoped>\n",
              "    .dataframe tbody tr th:only-of-type {\n",
              "        vertical-align: middle;\n",
              "    }\n",
              "\n",
              "    .dataframe tbody tr th {\n",
              "        vertical-align: top;\n",
              "    }\n",
              "\n",
              "    .dataframe thead th {\n",
              "        text-align: right;\n",
              "    }\n",
              "</style>\n",
              "<table border=\"1\" class=\"dataframe\">\n",
              "  <thead>\n",
              "    <tr style=\"text-align: right;\">\n",
              "      <th></th>\n",
              "      <th>Type</th>\n",
              "      <th>Age</th>\n",
              "      <th>Breed1</th>\n",
              "      <th>Breed2</th>\n",
              "      <th>Gender</th>\n",
              "      <th>Color1</th>\n",
              "      <th>Color2</th>\n",
              "      <th>Color3</th>\n",
              "      <th>MaturitySize</th>\n",
              "      <th>FurLength</th>\n",
              "      <th>Vaccinated</th>\n",
              "      <th>Dewormed</th>\n",
              "      <th>Sterilized</th>\n",
              "      <th>Health</th>\n",
              "      <th>Quantity</th>\n",
              "      <th>Fee</th>\n",
              "      <th>State</th>\n",
              "      <th>Description</th>\n",
              "      <th>PID</th>\n",
              "    </tr>\n",
              "  </thead>\n",
              "  <tbody>\n",
              "    <tr>\n",
              "      <th>0</th>\n",
              "      <td>2</td>\n",
              "      <td>1</td>\n",
              "      <td>265</td>\n",
              "      <td>0</td>\n",
              "      <td>1</td>\n",
              "      <td>1</td>\n",
              "      <td>2</td>\n",
              "      <td>0</td>\n",
              "      <td>2</td>\n",
              "      <td>2</td>\n",
              "      <td>3</td>\n",
              "      <td>3</td>\n",
              "      <td>3</td>\n",
              "      <td>1</td>\n",
              "      <td>1</td>\n",
              "      <td>0</td>\n",
              "      <td>41401</td>\n",
              "      <td>I just found it alone yesterday near my apartm...</td>\n",
              "      <td>1</td>\n",
              "    </tr>\n",
              "    <tr>\n",
              "      <th>1</th>\n",
              "      <td>1</td>\n",
              "      <td>1</td>\n",
              "      <td>307</td>\n",
              "      <td>0</td>\n",
              "      <td>1</td>\n",
              "      <td>2</td>\n",
              "      <td>7</td>\n",
              "      <td>0</td>\n",
              "      <td>2</td>\n",
              "      <td>2</td>\n",
              "      <td>1</td>\n",
              "      <td>1</td>\n",
              "      <td>2</td>\n",
              "      <td>1</td>\n",
              "      <td>1</td>\n",
              "      <td>0</td>\n",
              "      <td>41326</td>\n",
              "      <td>Their pregnant mother was dumped by her irresp...</td>\n",
              "      <td>2</td>\n",
              "    </tr>\n",
              "    <tr>\n",
              "      <th>2</th>\n",
              "      <td>1</td>\n",
              "      <td>0</td>\n",
              "      <td>307</td>\n",
              "      <td>0</td>\n",
              "      <td>2</td>\n",
              "      <td>1</td>\n",
              "      <td>2</td>\n",
              "      <td>7</td>\n",
              "      <td>2</td>\n",
              "      <td>1</td>\n",
              "      <td>2</td>\n",
              "      <td>2</td>\n",
              "      <td>2</td>\n",
              "      <td>1</td>\n",
              "      <td>6</td>\n",
              "      <td>0</td>\n",
              "      <td>41326</td>\n",
              "      <td>Siu Pak just give birth on 13/6/10 to 6puppies...</td>\n",
              "      <td>7</td>\n",
              "    </tr>\n",
              "    <tr>\n",
              "      <th>3</th>\n",
              "      <td>2</td>\n",
              "      <td>12</td>\n",
              "      <td>265</td>\n",
              "      <td>0</td>\n",
              "      <td>2</td>\n",
              "      <td>1</td>\n",
              "      <td>7</td>\n",
              "      <td>0</td>\n",
              "      <td>2</td>\n",
              "      <td>2</td>\n",
              "      <td>3</td>\n",
              "      <td>3</td>\n",
              "      <td>3</td>\n",
              "      <td>1</td>\n",
              "      <td>1</td>\n",
              "      <td>0</td>\n",
              "      <td>41326</td>\n",
              "      <td>Very manja and gentle stray cat found, we woul...</td>\n",
              "      <td>9</td>\n",
              "    </tr>\n",
              "    <tr>\n",
              "      <th>4</th>\n",
              "      <td>2</td>\n",
              "      <td>3</td>\n",
              "      <td>264</td>\n",
              "      <td>0</td>\n",
              "      <td>2</td>\n",
              "      <td>1</td>\n",
              "      <td>2</td>\n",
              "      <td>5</td>\n",
              "      <td>3</td>\n",
              "      <td>3</td>\n",
              "      <td>1</td>\n",
              "      <td>1</td>\n",
              "      <td>2</td>\n",
              "      <td>1</td>\n",
              "      <td>1</td>\n",
              "      <td>50</td>\n",
              "      <td>41326</td>\n",
              "      <td>Kali is a super playful kitten who is on the g...</td>\n",
              "      <td>11</td>\n",
              "    </tr>\n",
              "  </tbody>\n",
              "</table>\n",
              "</div>"
            ],
            "text/plain": [
              "   Type  Age  ...                                        Description  PID\n",
              "0     2    1  ...  I just found it alone yesterday near my apartm...    1\n",
              "1     1    1  ...  Their pregnant mother was dumped by her irresp...    2\n",
              "2     1    0  ...  Siu Pak just give birth on 13/6/10 to 6puppies...    7\n",
              "3     2   12  ...  Very manja and gentle stray cat found, we woul...    9\n",
              "4     2    3  ...  Kali is a super playful kitten who is on the g...   11\n",
              "\n",
              "[5 rows x 19 columns]"
            ]
          },
          "metadata": {
            "tags": []
          },
          "execution_count": 13
        }
      ]
    },
    {
      "cell_type": "code",
      "metadata": {
        "id": "R-DMKpeuBz5L",
        "colab_type": "code",
        "colab": {
          "base_uri": "https://localhost:8080/",
          "height": 390
        },
        "outputId": "f0291fa7-23aa-4683-ca5b-16e05ed83a8a"
      },
      "source": [
        "dataset.dtypes"
      ],
      "execution_count": 14,
      "outputs": [
        {
          "output_type": "execute_result",
          "data": {
            "text/plain": [
              "Type              int64\n",
              "Age               int64\n",
              "Breed1            int64\n",
              "Breed2            int64\n",
              "Gender            int64\n",
              "Color1            int64\n",
              "Color2            int64\n",
              "Color3            int64\n",
              "MaturitySize      int64\n",
              "FurLength         int64\n",
              "Vaccinated        int64\n",
              "Dewormed          int64\n",
              "Sterilized        int64\n",
              "Health            int64\n",
              "Quantity          int64\n",
              "Fee               int64\n",
              "State             int64\n",
              "Description      object\n",
              "AdoptionSpeed     int64\n",
              "PID               int64\n",
              "dtype: object"
            ]
          },
          "metadata": {
            "tags": []
          },
          "execution_count": 14
        }
      ]
    },
    {
      "cell_type": "markdown",
      "metadata": {
        "id": "Ju84FhPbcejA",
        "colab_type": "text"
      },
      "source": [
        "Comenzamos con un modelo que utilice algunas columnas."
      ]
    },
    {
      "cell_type": "code",
      "metadata": {
        "id": "tFdn7eMKATjY",
        "colab_type": "code",
        "colab": {}
      },
      "source": [
        "# It's important to always use the same one-hot length\n",
        "one_hot_columns = {\n",
        "    one_hot_col: dataset[one_hot_col].max()\n",
        "    for one_hot_col in ['Gender', 'Color1']\n",
        "}\n",
        "embedded_columns = {\n",
        "    embedded_col: dataset[embedded_col].max() + 1\n",
        "    for embedded_col in ['Breed1']\n",
        "}\n",
        "numeric_columns = ['Age', 'Fee']"
      ],
      "execution_count": 0,
      "outputs": []
    },
    {
      "cell_type": "markdown",
      "metadata": {
        "id": "hl13XuzyYy71",
        "colab_type": "text"
      },
      "source": [
        "Visualizamos las diferentes velocidades de adopción en un histograma:"
      ]
    },
    {
      "cell_type": "code",
      "metadata": {
        "id": "-zUIvc9N5bIG",
        "colab_type": "code",
        "colab": {
          "base_uri": "https://localhost:8080/",
          "height": 279
        },
        "outputId": "a5de803c-061b-4c24-c443-a4633bca6a22"
      },
      "source": [
        "seaborn.countplot(dataset.AdoptionSpeed, color='blue')\n",
        "seaborn.despine()"
      ],
      "execution_count": 16,
      "outputs": [
        {
          "output_type": "display_data",
          "data": {
            "image/png": "[encoded data removed]",
            "text/plain": [
              "<Figure size 432x288 with 1 Axes>"
            ]
          },
          "metadata": {
            "tags": []
          }
        }
      ]
    },
    {
      "cell_type": "markdown",
      "metadata": {
        "id": "qaiKM8r0Y_no",
        "colab_type": "text"
      },
      "source": [
        "---------------------------\n"
      ]
    },
    {
      "cell_type": "code",
      "metadata": {
        "id": "CercgDi8-pw0",
        "colab_type": "code",
        "colab": {
          "base_uri": "https://localhost:8080/",
          "height": 35
        },
        "outputId": "f541ccbc-8c53-4476-d1c1-c1a91362a07f"
      },
      "source": [
        "try:\n",
        "    # %tensorflow_version only exists in Colab.\n",
        "    %tensorflow_version 2.x\n",
        "except Exception:\n",
        "    pass\n",
        "import tensorflow as tf\n",
        "\n",
        "from tensorflow.keras import layers, models"
      ],
      "execution_count": 17,
      "outputs": [
        {
          "output_type": "stream",
          "text": [
            "TensorFlow is already loaded. Please restart the runtime to change versions.\n"
          ],
          "name": "stdout"
        }
      ]
    },
    {
      "cell_type": "code",
      "metadata": {
        "id": "qnlHoTJMB2FF",
        "colab_type": "code",
        "colab": {
          "base_uri": "https://localhost:8080/",
          "height": 35
        },
        "outputId": "119a32e5-68e2-414d-c16c-91b5bde1373a"
      },
      "source": [
        "tf.__version__"
      ],
      "execution_count": 18,
      "outputs": [
        {
          "output_type": "execute_result",
          "data": {
            "text/plain": [
              "'2.0.0'"
            ]
          },
          "metadata": {
            "tags": []
          },
          "execution_count": 18
        }
      ]
    },
    {
      "cell_type": "code",
      "metadata": {
        "id": "oHmzZLAR9qtz",
        "colab_type": "code",
        "colab": {}
      },
      "source": [
        "import mlflow"
      ],
      "execution_count": 0,
      "outputs": []
    },
    {
      "cell_type": "code",
      "metadata": {
        "id": "-Aav9Lkf9qWP",
        "colab_type": "code",
        "colab": {}
      },
      "source": [
        "#mlflow ui -p PORT"
      ],
      "execution_count": 0,
      "outputs": []
    },
    {
      "cell_type": "code",
      "metadata": {
        "id": "q2oljLklefId",
        "colab_type": "code",
        "colab": {}
      },
      "source": [
        "#perceptron multicapa\n",
        "\n",
        "#definimos el modelo de la red neuronal\n",
        "#model = Sequential([\n",
        "#    Dense(64, input_shape=(784,), activation='relu'),\n",
        "#    BatchNormalization(momentum=0),\n",
        "#    Dropout(0.5),\n",
        "#    Dense(32, activation='relu',kernel_regularizer=regularizers.l2(0.01)),\n",
        "#    Dense(10, activation='softmax')\n",
        "#])"
      ],
      "execution_count": 0,
      "outputs": []
    },
    {
      "cell_type": "code",
      "metadata": {
        "id": "Mi_t3h_rZ4Wp",
        "colab_type": "code",
        "colab": {
          "base_uri": "https://localhost:8080/",
          "height": 266
        },
        "outputId": "b7eb0f1e-8aea-4437-d230-13f769c8e3ef"
      },
      "source": [
        "print (dataset[\"Gender\"],\"\\n\")\n",
        "\n",
        "print(dataset[\"Gender\"].max())"
      ],
      "execution_count": 22,
      "outputs": [
        {
          "output_type": "stream",
          "text": [
            "0        1\n",
            "1        2\n",
            "2        1\n",
            "3        2\n",
            "4        1\n",
            "        ..\n",
            "10577    1\n",
            "10578    1\n",
            "10579    3\n",
            "10580    2\n",
            "10581    1\n",
            "Name: Gender, Length: 10582, dtype: int64 \n",
            "\n",
            "3\n"
          ],
          "name": "stdout"
        }
      ]
    },
    {
      "cell_type": "code",
      "metadata": {
        "id": "eHy25F_5ZXAy",
        "colab_type": "code",
        "colab": {
          "base_uri": "https://localhost:8080/",
          "height": 52
        },
        "outputId": "4a3d10e7-553c-49bd-e57b-6836052261f9"
      },
      "source": [
        "print (one_hot_columns)\n",
        "print (embedded_columns)"
      ],
      "execution_count": 23,
      "outputs": [
        {
          "output_type": "stream",
          "text": [
            "{'Gender': 3, 'Color1': 7}\n",
            "{'Breed1': 308}\n"
          ],
          "name": "stdout"
        }
      ]
    },
    {
      "cell_type": "code",
      "metadata": {
        "id": "gphR0dkDeO3E",
        "colab_type": "code",
        "colab": {
          "base_uri": "https://localhost:8080/",
          "height": 35
        },
        "outputId": "daf73eda-e9c1-423c-d4ba-f371549541f4"
      },
      "source": [
        "one_hot_columns.items()"
      ],
      "execution_count": 24,
      "outputs": [
        {
          "output_type": "execute_result",
          "data": {
            "text/plain": [
              "dict_items([('Gender', 3), ('Color1', 7)])"
            ]
          },
          "metadata": {
            "tags": []
          },
          "execution_count": 24
        }
      ]
    },
    {
      "cell_type": "code",
      "metadata": {
        "id": "lDfvzjbEeRts",
        "colab_type": "code",
        "colab": {
          "base_uri": "https://localhost:8080/",
          "height": 248
        },
        "outputId": "8188aa51-4277-48c5-876e-ff01d736161e"
      },
      "source": [
        "# Create one hot encodings\n",
        "direct_features = []\n",
        "for one_hot_col, max_value in one_hot_columns.items():\n",
        "      direct_features.append(tf.keras.utils.to_categorical(dataset[one_hot_col] - 1, max_value))\n",
        "\n",
        "direct_features      "
      ],
      "execution_count": 25,
      "outputs": [
        {
          "output_type": "execute_result",
          "data": {
            "text/plain": [
              "[array([[1., 0., 0.],\n",
              "        [0., 1., 0.],\n",
              "        [1., 0., 0.],\n",
              "        ...,\n",
              "        [0., 0., 1.],\n",
              "        [0., 1., 0.],\n",
              "        [1., 0., 0.]], dtype=float32), array([[1., 0., 0., ..., 0., 0., 0.],\n",
              "        [1., 0., 0., ..., 0., 0., 0.],\n",
              "        [1., 0., 0., ..., 0., 0., 0.],\n",
              "        ...,\n",
              "        [1., 0., 0., ..., 0., 0., 0.],\n",
              "        [0., 0., 0., ..., 0., 0., 0.],\n",
              "        [0., 1., 0., ..., 0., 0., 0.]], dtype=float32)]"
            ]
          },
          "metadata": {
            "tags": []
          },
          "execution_count": 25
        }
      ]
    },
    {
      "cell_type": "code",
      "metadata": {
        "id": "JCbs4YIxeXjD",
        "colab_type": "code",
        "colab": {
          "base_uri": "https://localhost:8080/",
          "height": 461
        },
        "outputId": "1daee3ef-e33f-46f1-e35e-1b77513ad19f"
      },
      "source": [
        "print (dataset[\"Gender\"],\"\\n\")\n",
        "print( dataset[\"Color1\"])"
      ],
      "execution_count": 26,
      "outputs": [
        {
          "output_type": "stream",
          "text": [
            "0        1\n",
            "1        2\n",
            "2        1\n",
            "3        2\n",
            "4        1\n",
            "        ..\n",
            "10577    1\n",
            "10578    1\n",
            "10579    3\n",
            "10580    2\n",
            "10581    1\n",
            "Name: Gender, Length: 10582, dtype: int64 \n",
            "\n",
            "0        1\n",
            "1        1\n",
            "2        1\n",
            "3        5\n",
            "4        1\n",
            "        ..\n",
            "10577    1\n",
            "10578    2\n",
            "10579    1\n",
            "10580    4\n",
            "10581    2\n",
            "Name: Color1, Length: 10582, dtype: int64\n"
          ],
          "name": "stdout"
        }
      ]
    },
    {
      "cell_type": "code",
      "metadata": {
        "id": "GWyCF77FUwz9",
        "colab_type": "code",
        "colab": {}
      },
      "source": [
        "import numpy as np"
      ],
      "execution_count": 0,
      "outputs": []
    },
    {
      "cell_type": "code",
      "metadata": {
        "id": "_WURRFz0FPU2",
        "colab_type": "code",
        "colab": {}
      },
      "source": [
        "TARGET_COL=\"AdoptionSpeed\"\n",
        "target_col=\"AdoptionSpeed\""
      ],
      "execution_count": 0,
      "outputs": []
    },
    {
      "cell_type": "code",
      "metadata": {
        "id": "3Xxrz-GZIyHf",
        "colab_type": "code",
        "colab": {}
      },
      "source": [
        "X_train, y_train=process_features(dataset, one_hot_columns, numeric_columns, embedded_columns, test=False) #X_train, y_train=features,targets"
      ],
      "execution_count": 0,
      "outputs": []
    },
    {
      "cell_type": "code",
      "metadata": {
        "id": "YcsQspm_atVi",
        "colab_type": "code",
        "colab": {
          "base_uri": "https://localhost:8080/",
          "height": 159
        },
        "outputId": "21da530c-02f3-4f98-91ce-8df78157d287"
      },
      "source": [
        "X_train"
      ],
      "execution_count": 30,
      "outputs": [
        {
          "output_type": "execute_result",
          "data": {
            "text/plain": [
              "{'Breed1': array([299, 307, 307, ..., 266, 266, 307]),\n",
              " 'direct_features': array([[1., 0., 0., ..., 0., 0., 0.],\n",
              "        [0., 1., 0., ..., 0., 0., 0.],\n",
              "        [1., 0., 0., ..., 0., 0., 0.],\n",
              "        ...,\n",
              "        [0., 0., 1., ..., 0., 0., 0.],\n",
              "        [0., 1., 0., ..., 0., 0., 0.],\n",
              "        [1., 0., 0., ..., 0., 0., 0.]], dtype=float32)}"
            ]
          },
          "metadata": {
            "tags": []
          },
          "execution_count": 30
        }
      ]
    },
    {
      "cell_type": "code",
      "metadata": {
        "id": "78yJhvLkc9nm",
        "colab_type": "code",
        "colab": {}
      },
      "source": [
        "test_dataset=process_features(test_dataset, one_hot_columns, numeric_columns, embedded_columns, test=True)\n",
        "\n",
        "#test_dataset = tf.data.Dataset.from_tensor_slices(\n",
        "#    process_features(test_dataset, one_hot_columns, numeric_columns, embedded_columns, test=True)).batch(batch_size)"
      ],
      "execution_count": 0,
      "outputs": []
    },
    {
      "cell_type": "code",
      "metadata": {
        "id": "dZtqYuN0d0Qm",
        "colab_type": "code",
        "colab": {
          "base_uri": "https://localhost:8080/",
          "height": 35
        },
        "outputId": "017ad729-c409-4bd2-bb4e-78b0260a0687"
      },
      "source": [
        "type(test_dataset)"
      ],
      "execution_count": 32,
      "outputs": [
        {
          "output_type": "execute_result",
          "data": {
            "text/plain": [
              "tuple"
            ]
          },
          "metadata": {
            "tags": []
          },
          "execution_count": 32
        }
      ]
    },
    {
      "cell_type": "code",
      "metadata": {
        "id": "eatt_EpyeILY",
        "colab_type": "code",
        "colab": {
          "base_uri": "https://localhost:8080/",
          "height": 177
        },
        "outputId": "146c65f7-5a96-411d-a7d6-b8ad35de9d51"
      },
      "source": [
        "test_dataset"
      ],
      "execution_count": 33,
      "outputs": [
        {
          "output_type": "execute_result",
          "data": {
            "text/plain": [
              "({'Breed1': array([265, 307, 307, ..., 195, 265, 265]),\n",
              "  'direct_features': array([[1., 0., 0., ..., 0., 0., 0.],\n",
              "         [1., 0., 0., ..., 0., 0., 0.],\n",
              "         [0., 1., 0., ..., 0., 0., 0.],\n",
              "         ...,\n",
              "         [0., 1., 0., ..., 0., 0., 0.],\n",
              "         [0., 0., 1., ..., 0., 0., 0.],\n",
              "         [0., 0., 1., ..., 1., 0., 0.]], dtype=float32)},\n",
              " None)"
            ]
          },
          "metadata": {
            "tags": []
          },
          "execution_count": 33
        }
      ]
    },
    {
      "cell_type": "code",
      "metadata": {
        "id": "uMUfLjE7wth7",
        "colab_type": "code",
        "colab": {
          "base_uri": "https://localhost:8080/",
          "height": 35
        },
        "outputId": "71a86e92-9d26-4e41-be00-299801e72fe6"
      },
      "source": [
        "X_train['direct_features'].shape"
      ],
      "execution_count": 36,
      "outputs": [
        {
          "output_type": "execute_result",
          "data": {
            "text/plain": [
              "(10582, 10)"
            ]
          },
          "metadata": {
            "tags": []
          },
          "execution_count": 36
        }
      ]
    },
    {
      "cell_type": "code",
      "metadata": {
        "id": "F7LuwtrlH0qi",
        "colab_type": "code",
        "colab": {
          "base_uri": "https://localhost:8080/",
          "height": 35
        },
        "outputId": "c51e2a7c-1700-40b1-c8b3-23dfe8c1875d"
      },
      "source": [
        "direct_features_input_shape = (X_train['direct_features'].shape[1],)\n",
        "direct_features_input_shape"
      ],
      "execution_count": 37,
      "outputs": [
        {
          "output_type": "execute_result",
          "data": {
            "text/plain": [
              "(10,)"
            ]
          },
          "metadata": {
            "tags": []
          },
          "execution_count": 37
        }
      ]
    },
    {
      "cell_type": "code",
      "metadata": {
        "id": "AKuYgkE4CStU",
        "colab_type": "code",
        "colab": {}
      },
      "source": [
        "from sklearn.model_selection import train_test_split"
      ],
      "execution_count": 0,
      "outputs": []
    },
    {
      "cell_type": "code",
      "metadata": {
        "id": "eHfWHKdEBVA3",
        "colab_type": "code",
        "colab": {}
      },
      "source": [
        "# Take a sample of data\n",
        "dataset, dev_dataset = train_test_split(dataset, test_size=0.2)"
      ],
      "execution_count": 0,
      "outputs": []
    },
    {
      "cell_type": "code",
      "metadata": {
        "id": "qjXoHtSnel7u",
        "colab_type": "code",
        "colab": {
          "base_uri": "https://localhost:8080/",
          "height": 35
        },
        "outputId": "15949530-dc82-49ca-e38b-019ecbba4052"
      },
      "source": [
        "dataset.shape"
      ],
      "execution_count": 40,
      "outputs": [
        {
          "output_type": "execute_result",
          "data": {
            "text/plain": [
              "(8465, 20)"
            ]
          },
          "metadata": {
            "tags": []
          },
          "execution_count": 40
        }
      ]
    },
    {
      "cell_type": "code",
      "metadata": {
        "id": "s4IDx1zqefEO",
        "colab_type": "code",
        "colab": {
          "base_uri": "https://localhost:8080/",
          "height": 35
        },
        "outputId": "b12b4a0c-7eea-4b7b-851f-db4d300b3413"
      },
      "source": [
        "dev_dataset.shape"
      ],
      "execution_count": 41,
      "outputs": [
        {
          "output_type": "execute_result",
          "data": {
            "text/plain": [
              "(2117, 20)"
            ]
          },
          "metadata": {
            "tags": []
          },
          "execution_count": 41
        }
      ]
    },
    {
      "cell_type": "code",
      "metadata": {
        "id": "l4GI7P7P5VNu",
        "colab_type": "code",
        "colab": {
          "base_uri": "https://localhost:8080/",
          "height": 159
        },
        "outputId": "5190ed19-0ed9-4a1a-82a3-2aeeabdd417a"
      },
      "source": [
        "X_train"
      ],
      "execution_count": 43,
      "outputs": [
        {
          "output_type": "execute_result",
          "data": {
            "text/plain": [
              "{'Breed1': array([299, 307, 307, ..., 266, 266, 307]),\n",
              " 'direct_features': array([[1., 0., 0., ..., 0., 0., 0.],\n",
              "        [0., 1., 0., ..., 0., 0., 0.],\n",
              "        [1., 0., 0., ..., 0., 0., 0.],\n",
              "        ...,\n",
              "        [0., 0., 1., ..., 0., 0., 0.],\n",
              "        [0., 1., 0., ..., 0., 0., 0.],\n",
              "        [1., 0., 0., ..., 0., 0., 0.]], dtype=float32)}"
            ]
          },
          "metadata": {
            "tags": []
          },
          "execution_count": 43
        }
      ]
    },
    {
      "cell_type": "code",
      "metadata": {
        "id": "AucbnQXgA7IE",
        "colab_type": "code",
        "colab": {}
      },
      "source": [
        "batch_size = 32\n",
        "\n",
        "train_ds = tf.data.Dataset.from_tensor_slices((X_train, y_train)).batch(batch_size)\n",
        "test_ds = tf.data.Dataset.from_tensor_slices(\n",
        "    process_features(dev_dataset, one_hot_columns, numeric_columns, embedded_columns, test=False)).batch(batch_size)"
      ],
      "execution_count": 0,
      "outputs": []
    },
    {
      "cell_type": "code",
      "metadata": {
        "id": "HmONO3grDVVl",
        "colab_type": "code",
        "colab": {
          "base_uri": "https://localhost:8080/",
          "height": 1000
        },
        "outputId": "645a018d-52f1-4d57-98d7-d4367e636b04"
      },
      "source": [
        "x_batch, y_batch = next(iter(train_ds))\n",
        "x_batch, y_batch"
      ],
      "execution_count": 45,
      "outputs": [
        {
          "output_type": "execute_result",
          "data": {
            "text/plain": [
              "({'Breed1': <tf.Tensor: id=20, shape=(32,), dtype=int64, numpy=\n",
              "  array([299, 307, 307, 266, 264, 265, 307, 265, 307, 218, 266, 307, 307,\n",
              "         266, 307, 307, 114, 307, 266, 285, 266, 189, 266, 205, 266, 307,\n",
              "         265, 265, 307, 307, 265, 266])>,\n",
              "  'direct_features': <tf.Tensor: id=21, shape=(32, 10), dtype=float32, numpy=\n",
              "  array([[1., 0., 0., 1., 0., 0., 0., 0., 0., 0.],\n",
              "         [0., 1., 0., 1., 0., 0., 0., 0., 0., 0.],\n",
              "         [1., 0., 0., 1., 0., 0., 0., 0., 0., 0.],\n",
              "         [0., 1., 0., 0., 0., 0., 0., 1., 0., 0.],\n",
              "         [1., 0., 0., 1., 0., 0., 0., 0., 0., 0.],\n",
              "         [0., 1., 0., 0., 0., 0., 0., 0., 1., 0.],\n",
              "         [1., 0., 0., 1., 0., 0., 0., 0., 0., 0.],\n",
              "         [0., 0., 1., 1., 0., 0., 0., 0., 0., 0.],\n",
              "         [0., 1., 0., 0., 1., 0., 0., 0., 0., 0.],\n",
              "         [1., 0., 0., 1., 0., 0., 0., 0., 0., 0.],\n",
              "         [0., 1., 0., 0., 1., 0., 0., 0., 0., 0.],\n",
              "         [0., 1., 0., 0., 1., 0., 0., 0., 0., 0.],\n",
              "         [0., 1., 0., 1., 0., 0., 0., 0., 0., 0.],\n",
              "         [0., 0., 1., 1., 0., 0., 0., 0., 0., 0.],\n",
              "         [0., 1., 0., 0., 1., 0., 0., 0., 0., 0.],\n",
              "         [0., 1., 0., 0., 0., 0., 0., 0., 1., 0.],\n",
              "         [0., 0., 1., 0., 0., 1., 0., 0., 0., 0.],\n",
              "         [0., 1., 0., 1., 0., 0., 0., 0., 0., 0.],\n",
              "         [1., 0., 0., 0., 1., 0., 0., 0., 0., 0.],\n",
              "         [1., 0., 0., 0., 0., 1., 0., 0., 0., 0.],\n",
              "         [0., 1., 0., 1., 0., 0., 0., 0., 0., 0.],\n",
              "         [1., 0., 0., 1., 0., 0., 0., 0., 0., 0.],\n",
              "         [0., 1., 0., 0., 1., 0., 0., 0., 0., 0.],\n",
              "         [0., 0., 1., 0., 1., 0., 0., 0., 0., 0.],\n",
              "         [1., 0., 0., 1., 0., 0., 0., 0., 0., 0.],\n",
              "         [1., 0., 0., 0., 0., 0., 0., 1., 0., 0.],\n",
              "         [0., 1., 0., 1., 0., 0., 0., 0., 0., 0.],\n",
              "         [0., 1., 0., 0., 1., 0., 0., 0., 0., 0.],\n",
              "         [1., 0., 0., 1., 0., 0., 0., 0., 0., 0.],\n",
              "         [1., 0., 0., 0., 0., 0., 0., 1., 0., 0.],\n",
              "         [0., 1., 0., 0., 0., 0., 0., 0., 0., 1.],\n",
              "         [0., 0., 1., 1., 0., 0., 0., 0., 0., 0.]], dtype=float32)>},\n",
              " <tf.Tensor: id=22, shape=(32, 5), dtype=float32, numpy=\n",
              " array([[0., 0., 1., 0., 0.],\n",
              "        [0., 0., 1., 0., 0.],\n",
              "        [0., 0., 1., 0., 0.],\n",
              "        [0., 0., 1., 0., 0.],\n",
              "        [0., 1., 0., 0., 0.],\n",
              "        [0., 1., 0., 0., 0.],\n",
              "        [0., 1., 0., 0., 0.],\n",
              "        [0., 1., 0., 0., 0.],\n",
              "        [0., 0., 1., 0., 0.],\n",
              "        [0., 0., 0., 0., 1.],\n",
              "        [0., 0., 0., 1., 0.],\n",
              "        [0., 0., 0., 0., 1.],\n",
              "        [0., 0., 1., 0., 0.],\n",
              "        [0., 0., 0., 0., 1.],\n",
              "        [0., 0., 1., 0., 0.],\n",
              "        [0., 0., 0., 0., 1.],\n",
              "        [0., 0., 0., 0., 1.],\n",
              "        [0., 0., 0., 0., 1.],\n",
              "        [0., 1., 0., 0., 0.],\n",
              "        [0., 1., 0., 0., 0.],\n",
              "        [0., 0., 1., 0., 0.],\n",
              "        [0., 0., 0., 1., 0.],\n",
              "        [0., 0., 1., 0., 0.],\n",
              "        [0., 0., 0., 1., 0.],\n",
              "        [0., 1., 0., 0., 0.],\n",
              "        [0., 0., 0., 0., 1.],\n",
              "        [0., 0., 0., 0., 1.],\n",
              "        [0., 1., 0., 0., 0.],\n",
              "        [0., 1., 0., 0., 0.],\n",
              "        [0., 0., 0., 1., 0.],\n",
              "        [0., 0., 0., 1., 0.],\n",
              "        [0., 0., 1., 0., 0.]], dtype=float32)>)"
            ]
          },
          "metadata": {
            "tags": []
          },
          "execution_count": 45
        }
      ]
    },
    {
      "cell_type": "code",
      "metadata": {
        "id": "VWdop2CLB56u",
        "colab_type": "code",
        "colab": {
          "base_uri": "https://localhost:8080/",
          "height": 35
        },
        "outputId": "be6ccc8b-a66f-4e01-9d63-f113799d903a"
      },
      "source": [
        "nlabels = dataset[target_col].unique().shape[0]\n",
        "nlabels"
      ],
      "execution_count": 46,
      "outputs": [
        {
          "output_type": "execute_result",
          "data": {
            "text/plain": [
              "5"
            ]
          },
          "metadata": {
            "tags": []
          },
          "execution_count": 46
        }
      ]
    },
    {
      "cell_type": "markdown",
      "metadata": {
        "id": "bnyz35enrQHn",
        "colab_type": "text"
      },
      "source": [
        "Probamos con hidden_layer_size = 64 y agregamos layers para ver que tan bien aprende la red neuronal."
      ]
    },
    {
      "cell_type": "code",
      "metadata": {
        "id": "-KfyFcW3G4CU",
        "colab_type": "code",
        "colab": {
          "base_uri": "https://localhost:8080/",
          "height": 35
        },
        "outputId": "033fd675-728d-414e-a8ed-4b740f4de2a1"
      },
      "source": [
        "tf.keras.backend.clear_session()\n",
        "\n",
        "hidden_layer_size = 64\n",
        "\n",
        "# Add one input and one embedding for each embedded column\n",
        "embedding_layers = []\n",
        "inputs = []\n",
        "for embedded_col, max_value in embedded_columns.items():\n",
        "    input_layer = layers.Input(shape=(1,), name=embedded_col)\n",
        "    inputs.append(input_layer)\n",
        "    # Define the embedding layer\n",
        "    embedding_size = int(max_value / 4)\n",
        "    embedding_layers.append(\n",
        "        tf.squeeze(layers.Embedding(input_dim=max_value, output_dim=embedding_size)(input_layer), axis=-2))\n",
        "    print('Adding embedding of size {} for layer {}'.format(embedding_size, embedded_col))\n",
        "\n",
        "# Add the direct features already calculated\n",
        "direct_features_input = layers.Input(shape=direct_features_input_shape, name='direct_features')\n",
        "inputs.append(direct_features_input)\n",
        "    \n",
        "# Concatenate everything together\n",
        "features = layers.concatenate(embedding_layers + [direct_features_input])\n",
        "\n",
        "dense1 = layers.Dense(hidden_layer_size, activation='relu')(features)\n",
        "\n",
        "#dense1 = Dropout(0.2)(dense1)\n",
        "\n",
        "dense2 = layers.Dense(hidden_layer_size, activation='relu')(dense1)\n",
        "\n",
        "############\n",
        "#si queremos agregar varias capas:\n",
        "#capas=4\n",
        "#for a in range(capas):\n",
        "#  dense3=layers.Dense(hidden_layer_size, activation='relu')(dense2)\n",
        "#  dense2=dense3\n",
        "############\n",
        "\n",
        "output_layer = layers.Dense(nlabels, activation='relu')(dense2)\n",
        "\n",
        "model = models.Model(inputs=inputs, outputs=output_layer)"
      ],
      "execution_count": 47,
      "outputs": [
        {
          "output_type": "stream",
          "text": [
            "Adding embedding of size 77 for layer Breed1\n"
          ],
          "name": "stdout"
        }
      ]
    },
    {
      "cell_type": "code",
      "metadata": {
        "id": "ACWzsgBfzlwh",
        "colab_type": "code",
        "colab": {}
      },
      "source": [
        "model.compile(loss='categorical_crossentropy',\n",
        "              optimizer=optimizers.Adam(learning_rate=1e-4),#versi esta bien este adam\n",
        "                  # También podría ser el string \"Adagrad\" con los parámetros por defecto\n",
        "              metrics=['accuracy'])"
      ],
      "execution_count": 0,
      "outputs": []
    },
    {
      "cell_type": "code",
      "metadata": {
        "id": "vMgAEnVd2zVv",
        "colab_type": "code",
        "colab": {
          "base_uri": "https://localhost:8080/",
          "height": 1000
        },
        "outputId": "36bdab8e-1dd0-4e56-f65d-c4483c511379"
      },
      "source": [
        "mlflow.set_experiment('very_base_approach')\n",
        "\n",
        "with mlflow.start_run(nested=True):\n",
        "    # Log model hiperparameters first\n",
        "    mlflow.log_param('hidden_layer_size', 64)\n",
        "    mlflow.log_param('embedded_columns', embedded_columns)\n",
        "    mlflow.log_param('one_hot_columns', one_hot_columns)\n",
        "    # mlflow.log_param('numerical_columns', numerical_columns)  # Not using these yet\n",
        "    \n",
        "    # Train\n",
        "    epochs = 100 #500\n",
        "    historya = model.fit(train_ds, epochs=epochs,validation_data=test_ds)\n",
        "    \n",
        "    # Evaluate\n",
        "    loss, accuracy = model.evaluate(test_ds)\n",
        "    print(\"*** Test loss: {} - accuracy: {}\".format(loss, accuracy))\n",
        "    mlflow.log_metric('epochs', epochs)\n",
        "    mlflow.log_metric('loss', loss)\n",
        "    mlflow.log_metric('accuracy', accuracy)"
      ],
      "execution_count": 49,
      "outputs": [
        {
          "output_type": "stream",
          "text": [
            "Epoch 1/100\n",
            "331/331 [==============================] - 3s 9ms/step - loss: nan - accuracy: 0.0275 - val_loss: nan - val_accuracy: 0.0000e+00\n",
            "Epoch 2/100\n",
            "331/331 [==============================] - 1s 3ms/step - loss: nan - accuracy: 0.0269 - val_loss: nan - val_accuracy: 0.0222\n",
            "Epoch 3/100\n",
            "331/331 [==============================] - 1s 3ms/step - loss: nan - accuracy: 0.0269 - val_loss: nan - val_accuracy: 0.0222\n",
            "Epoch 4/100\n",
            "331/331 [==============================] - 1s 3ms/step - loss: nan - accuracy: 0.0269 - val_loss: nan - val_accuracy: 0.0222\n",
            "Epoch 5/100\n",
            "331/331 [==============================] - 1s 3ms/step - loss: nan - accuracy: 0.0269 - val_loss: nan - val_accuracy: 0.0222\n",
            "Epoch 6/100\n",
            "331/331 [==============================] - 1s 3ms/step - loss: nan - accuracy: 0.0269 - val_loss: nan - val_accuracy: 0.0222\n",
            "Epoch 7/100\n",
            "331/331 [==============================] - 1s 3ms/step - loss: nan - accuracy: 0.0269 - val_loss: nan - val_accuracy: 0.0222\n",
            "Epoch 8/100\n",
            "331/331 [==============================] - 1s 3ms/step - loss: nan - accuracy: 0.0269 - val_loss: nan - val_accuracy: 0.0222\n",
            "Epoch 9/100\n",
            "331/331 [==============================] - 1s 3ms/step - loss: nan - accuracy: 0.0269 - val_loss: nan - val_accuracy: 0.0222\n",
            "Epoch 10/100\n",
            "331/331 [==============================] - 1s 3ms/step - loss: nan - accuracy: 0.0269 - val_loss: nan - val_accuracy: 0.0222\n",
            "Epoch 11/100\n",
            "331/331 [==============================] - 1s 3ms/step - loss: nan - accuracy: 0.0269 - val_loss: nan - val_accuracy: 0.0222\n",
            "Epoch 12/100\n",
            "331/331 [==============================] - 1s 3ms/step - loss: nan - accuracy: 0.0269 - val_loss: nan - val_accuracy: 0.0222\n",
            "Epoch 13/100\n",
            "331/331 [==============================] - 1s 3ms/step - loss: nan - accuracy: 0.0269 - val_loss: nan - val_accuracy: 0.0222\n",
            "Epoch 14/100\n",
            "331/331 [==============================] - 1s 3ms/step - loss: nan - accuracy: 0.0269 - val_loss: nan - val_accuracy: 0.0222\n",
            "Epoch 15/100\n",
            "331/331 [==============================] - 1s 3ms/step - loss: nan - accuracy: 0.0269 - val_loss: nan - val_accuracy: 0.0222\n",
            "Epoch 16/100\n",
            "331/331 [==============================] - 1s 3ms/step - loss: nan - accuracy: 0.0269 - val_loss: nan - val_accuracy: 0.0222\n",
            "Epoch 17/100\n",
            "331/331 [==============================] - 1s 3ms/step - loss: nan - accuracy: 0.0269 - val_loss: nan - val_accuracy: 0.0222\n",
            "Epoch 18/100\n",
            "331/331 [==============================] - 1s 3ms/step - loss: nan - accuracy: 0.0269 - val_loss: nan - val_accuracy: 0.0222\n",
            "Epoch 19/100\n",
            "331/331 [==============================] - 1s 3ms/step - loss: nan - accuracy: 0.0269 - val_loss: nan - val_accuracy: 0.0222\n",
            "Epoch 20/100\n",
            "331/331 [==============================] - 1s 3ms/step - loss: nan - accuracy: 0.0269 - val_loss: nan - val_accuracy: 0.0222\n",
            "Epoch 21/100\n",
            "331/331 [==============================] - 1s 3ms/step - loss: nan - accuracy: 0.0269 - val_loss: nan - val_accuracy: 0.0222\n",
            "Epoch 22/100\n",
            "331/331 [==============================] - 1s 3ms/step - loss: nan - accuracy: 0.0269 - val_loss: nan - val_accuracy: 0.0222\n",
            "Epoch 23/100\n",
            "331/331 [==============================] - 1s 3ms/step - loss: nan - accuracy: 0.0269 - val_loss: nan - val_accuracy: 0.0222\n",
            "Epoch 24/100\n",
            "331/331 [==============================] - 1s 3ms/step - loss: nan - accuracy: 0.0269 - val_loss: nan - val_accuracy: 0.0222\n",
            "Epoch 25/100\n",
            "331/331 [==============================] - 1s 3ms/step - loss: nan - accuracy: 0.0269 - val_loss: nan - val_accuracy: 0.0222\n",
            "Epoch 26/100\n",
            "331/331 [==============================] - 1s 3ms/step - loss: nan - accuracy: 0.0269 - val_loss: nan - val_accuracy: 0.0222\n",
            "Epoch 27/100\n",
            "331/331 [==============================] - 1s 3ms/step - loss: nan - accuracy: 0.0269 - val_loss: nan - val_accuracy: 0.0222\n",
            "Epoch 28/100\n",
            "331/331 [==============================] - 1s 3ms/step - loss: nan - accuracy: 0.0269 - val_loss: nan - val_accuracy: 0.0222\n",
            "Epoch 29/100\n",
            "331/331 [==============================] - 1s 3ms/step - loss: nan - accuracy: 0.0269 - val_loss: nan - val_accuracy: 0.0222\n",
            "Epoch 30/100\n",
            "331/331 [==============================] - 1s 3ms/step - loss: nan - accuracy: 0.0269 - val_loss: nan - val_accuracy: 0.0222\n",
            "Epoch 31/100\n",
            "331/331 [==============================] - 1s 3ms/step - loss: nan - accuracy: 0.0269 - val_loss: nan - val_accuracy: 0.0222\n",
            "Epoch 32/100\n",
            "331/331 [==============================] - 1s 3ms/step - loss: nan - accuracy: 0.0269 - val_loss: nan - val_accuracy: 0.0222\n",
            "Epoch 33/100\n",
            "331/331 [==============================] - 1s 3ms/step - loss: nan - accuracy: 0.0269 - val_loss: nan - val_accuracy: 0.0222\n",
            "Epoch 34/100\n",
            "331/331 [==============================] - 1s 3ms/step - loss: nan - accuracy: 0.0269 - val_loss: nan - val_accuracy: 0.0222\n",
            "Epoch 35/100\n",
            "331/331 [==============================] - 1s 3ms/step - loss: nan - accuracy: 0.0269 - val_loss: nan - val_accuracy: 0.0222\n",
            "Epoch 36/100\n",
            "331/331 [==============================] - 1s 3ms/step - loss: nan - accuracy: 0.0269 - val_loss: nan - val_accuracy: 0.0222\n",
            "Epoch 37/100\n",
            "331/331 [==============================] - 1s 3ms/step - loss: nan - accuracy: 0.0269 - val_loss: nan - val_accuracy: 0.0222\n",
            "Epoch 38/100\n",
            "331/331 [==============================] - 1s 3ms/step - loss: nan - accuracy: 0.0269 - val_loss: nan - val_accuracy: 0.0222\n",
            "Epoch 39/100\n",
            "331/331 [==============================] - 1s 3ms/step - loss: nan - accuracy: 0.0269 - val_loss: nan - val_accuracy: 0.0222\n",
            "Epoch 40/100\n",
            "331/331 [==============================] - 1s 3ms/step - loss: nan - accuracy: 0.0269 - val_loss: nan - val_accuracy: 0.0222\n",
            "Epoch 41/100\n",
            "331/331 [==============================] - 1s 3ms/step - loss: nan - accuracy: 0.0269 - val_loss: nan - val_accuracy: 0.0222\n",
            "Epoch 42/100\n",
            "331/331 [==============================] - 1s 3ms/step - loss: nan - accuracy: 0.0269 - val_loss: nan - val_accuracy: 0.0222\n",
            "Epoch 43/100\n",
            "331/331 [==============================] - 1s 3ms/step - loss: nan - accuracy: 0.0269 - val_loss: nan - val_accuracy: 0.0222\n",
            "Epoch 44/100\n",
            "331/331 [==============================] - 1s 3ms/step - loss: nan - accuracy: 0.0269 - val_loss: nan - val_accuracy: 0.0222\n",
            "Epoch 45/100\n",
            "331/331 [==============================] - 1s 3ms/step - loss: nan - accuracy: 0.0269 - val_loss: nan - val_accuracy: 0.0222\n",
            "Epoch 46/100\n",
            "331/331 [==============================] - 1s 3ms/step - loss: nan - accuracy: 0.0269 - val_loss: nan - val_accuracy: 0.0222\n",
            "Epoch 47/100\n",
            "331/331 [==============================] - 1s 3ms/step - loss: nan - accuracy: 0.0269 - val_loss: nan - val_accuracy: 0.0222\n",
            "Epoch 48/100\n",
            "331/331 [==============================] - 1s 3ms/step - loss: nan - accuracy: 0.0269 - val_loss: nan - val_accuracy: 0.0222\n",
            "Epoch 49/100\n",
            "331/331 [==============================] - 1s 3ms/step - loss: nan - accuracy: 0.0269 - val_loss: nan - val_accuracy: 0.0222\n",
            "Epoch 50/100\n",
            "331/331 [==============================] - 1s 3ms/step - loss: nan - accuracy: 0.0269 - val_loss: nan - val_accuracy: 0.0222\n",
            "Epoch 51/100\n",
            "331/331 [==============================] - 1s 3ms/step - loss: nan - accuracy: 0.0269 - val_loss: nan - val_accuracy: 0.0222\n",
            "Epoch 52/100\n",
            "331/331 [==============================] - 1s 3ms/step - loss: nan - accuracy: 0.0269 - val_loss: nan - val_accuracy: 0.0222\n",
            "Epoch 53/100\n",
            "331/331 [==============================] - 1s 3ms/step - loss: nan - accuracy: 0.0269 - val_loss: nan - val_accuracy: 0.0222\n",
            "Epoch 54/100\n",
            "331/331 [==============================] - 1s 3ms/step - loss: nan - accuracy: 0.0269 - val_loss: nan - val_accuracy: 0.0222\n",
            "Epoch 55/100\n",
            "331/331 [==============================] - 1s 3ms/step - loss: nan - accuracy: 0.0269 - val_loss: nan - val_accuracy: 0.0222\n",
            "Epoch 56/100\n",
            "331/331 [==============================] - 1s 3ms/step - loss: nan - accuracy: 0.0269 - val_loss: nan - val_accuracy: 0.0222\n",
            "Epoch 57/100\n",
            "331/331 [==============================] - 1s 3ms/step - loss: nan - accuracy: 0.0269 - val_loss: nan - val_accuracy: 0.0222\n",
            "Epoch 58/100\n",
            "331/331 [==============================] - 1s 3ms/step - loss: nan - accuracy: 0.0269 - val_loss: nan - val_accuracy: 0.0222\n",
            "Epoch 59/100\n",
            "331/331 [==============================] - 1s 3ms/step - loss: nan - accuracy: 0.0269 - val_loss: nan - val_accuracy: 0.0222\n",
            "Epoch 60/100\n",
            "331/331 [==============================] - 1s 3ms/step - loss: nan - accuracy: 0.0269 - val_loss: nan - val_accuracy: 0.0222\n",
            "Epoch 61/100\n",
            "331/331 [==============================] - 1s 3ms/step - loss: nan - accuracy: 0.0269 - val_loss: nan - val_accuracy: 0.0222\n",
            "Epoch 62/100\n",
            "331/331 [==============================] - 1s 3ms/step - loss: nan - accuracy: 0.0269 - val_loss: nan - val_accuracy: 0.0222\n",
            "Epoch 63/100\n",
            "331/331 [==============================] - 1s 3ms/step - loss: nan - accuracy: 0.0269 - val_loss: nan - val_accuracy: 0.0222\n",
            "Epoch 64/100\n",
            "331/331 [==============================] - 1s 3ms/step - loss: nan - accuracy: 0.0269 - val_loss: nan - val_accuracy: 0.0222\n",
            "Epoch 65/100\n",
            "331/331 [==============================] - 1s 3ms/step - loss: nan - accuracy: 0.0269 - val_loss: nan - val_accuracy: 0.0222\n",
            "Epoch 66/100\n",
            "331/331 [==============================] - 1s 3ms/step - loss: nan - accuracy: 0.0269 - val_loss: nan - val_accuracy: 0.0222\n",
            "Epoch 67/100\n",
            "331/331 [==============================] - 1s 3ms/step - loss: nan - accuracy: 0.0269 - val_loss: nan - val_accuracy: 0.0222\n",
            "Epoch 68/100\n",
            "331/331 [==============================] - 1s 3ms/step - loss: nan - accuracy: 0.0269 - val_loss: nan - val_accuracy: 0.0222\n",
            "Epoch 69/100\n",
            "331/331 [==============================] - 1s 3ms/step - loss: nan - accuracy: 0.0269 - val_loss: nan - val_accuracy: 0.0222\n",
            "Epoch 70/100\n",
            "331/331 [==============================] - 1s 3ms/step - loss: nan - accuracy: 0.0269 - val_loss: nan - val_accuracy: 0.0222\n",
            "Epoch 71/100\n",
            "331/331 [==============================] - 1s 3ms/step - loss: nan - accuracy: 0.0269 - val_loss: nan - val_accuracy: 0.0222\n",
            "Epoch 72/100\n",
            "331/331 [==============================] - 1s 3ms/step - loss: nan - accuracy: 0.0269 - val_loss: nan - val_accuracy: 0.0222\n",
            "Epoch 73/100\n",
            "331/331 [==============================] - 1s 3ms/step - loss: nan - accuracy: 0.0269 - val_loss: nan - val_accuracy: 0.0222\n",
            "Epoch 74/100\n",
            "331/331 [==============================] - 1s 3ms/step - loss: nan - accuracy: 0.0269 - val_loss: nan - val_accuracy: 0.0222\n",
            "Epoch 75/100\n",
            "331/331 [==============================] - 1s 3ms/step - loss: nan - accuracy: 0.0269 - val_loss: nan - val_accuracy: 0.0222\n",
            "Epoch 76/100\n",
            "331/331 [==============================] - 1s 3ms/step - loss: nan - accuracy: 0.0269 - val_loss: nan - val_accuracy: 0.0222\n",
            "Epoch 77/100\n",
            "331/331 [==============================] - 1s 3ms/step - loss: nan - accuracy: 0.0269 - val_loss: nan - val_accuracy: 0.0222\n",
            "Epoch 78/100\n",
            "331/331 [==============================] - 1s 3ms/step - loss: nan - accuracy: 0.0269 - val_loss: nan - val_accuracy: 0.0222\n",
            "Epoch 79/100\n",
            "331/331 [==============================] - 1s 3ms/step - loss: nan - accuracy: 0.0269 - val_loss: nan - val_accuracy: 0.0222\n",
            "Epoch 80/100\n",
            "331/331 [==============================] - 1s 3ms/step - loss: nan - accuracy: 0.0269 - val_loss: nan - val_accuracy: 0.0222\n",
            "Epoch 81/100\n",
            "331/331 [==============================] - 1s 3ms/step - loss: nan - accuracy: 0.0269 - val_loss: nan - val_accuracy: 0.0222\n",
            "Epoch 82/100\n",
            "331/331 [==============================] - 1s 3ms/step - loss: nan - accuracy: 0.0269 - val_loss: nan - val_accuracy: 0.0222\n",
            "Epoch 83/100\n",
            "331/331 [==============================] - 1s 3ms/step - loss: nan - accuracy: 0.0269 - val_loss: nan - val_accuracy: 0.0222\n",
            "Epoch 84/100\n",
            "331/331 [==============================] - 1s 3ms/step - loss: nan - accuracy: 0.0269 - val_loss: nan - val_accuracy: 0.0222\n",
            "Epoch 85/100\n",
            "331/331 [==============================] - 1s 3ms/step - loss: nan - accuracy: 0.0269 - val_loss: nan - val_accuracy: 0.0222\n",
            "Epoch 86/100\n",
            "331/331 [==============================] - 1s 3ms/step - loss: nan - accuracy: 0.0269 - val_loss: nan - val_accuracy: 0.0222\n",
            "Epoch 87/100\n",
            "331/331 [==============================] - 1s 3ms/step - loss: nan - accuracy: 0.0269 - val_loss: nan - val_accuracy: 0.0222\n",
            "Epoch 88/100\n",
            "331/331 [==============================] - 1s 3ms/step - loss: nan - accuracy: 0.0269 - val_loss: nan - val_accuracy: 0.0222\n",
            "Epoch 89/100\n",
            "331/331 [==============================] - 1s 3ms/step - loss: nan - accuracy: 0.0269 - val_loss: nan - val_accuracy: 0.0222\n",
            "Epoch 90/100\n",
            "331/331 [==============================] - 1s 3ms/step - loss: nan - accuracy: 0.0269 - val_loss: nan - val_accuracy: 0.0222\n",
            "Epoch 91/100\n",
            "331/331 [==============================] - 1s 3ms/step - loss: nan - accuracy: 0.0269 - val_loss: nan - val_accuracy: 0.0222\n",
            "Epoch 92/100\n",
            "331/331 [==============================] - 1s 3ms/step - loss: nan - accuracy: 0.0269 - val_loss: nan - val_accuracy: 0.0222\n",
            "Epoch 93/100\n",
            "331/331 [==============================] - 1s 3ms/step - loss: nan - accuracy: 0.0269 - val_loss: nan - val_accuracy: 0.0222\n",
            "Epoch 94/100\n",
            "331/331 [==============================] - 1s 3ms/step - loss: nan - accuracy: 0.0269 - val_loss: nan - val_accuracy: 0.0222\n",
            "Epoch 95/100\n",
            "331/331 [==============================] - 1s 3ms/step - loss: nan - accuracy: 0.0269 - val_loss: nan - val_accuracy: 0.0222\n",
            "Epoch 96/100\n",
            "331/331 [==============================] - 1s 3ms/step - loss: nan - accuracy: 0.0269 - val_loss: nan - val_accuracy: 0.0222\n",
            "Epoch 97/100\n",
            "331/331 [==============================] - 1s 3ms/step - loss: nan - accuracy: 0.0269 - val_loss: nan - val_accuracy: 0.0222\n",
            "Epoch 98/100\n",
            "331/331 [==============================] - 1s 3ms/step - loss: nan - accuracy: 0.0269 - val_loss: nan - val_accuracy: 0.0222\n",
            "Epoch 99/100\n",
            "331/331 [==============================] - 1s 3ms/step - loss: nan - accuracy: 0.0269 - val_loss: nan - val_accuracy: 0.0222\n",
            "Epoch 100/100\n",
            "331/331 [==============================] - 1s 3ms/step - loss: nan - accuracy: 0.0269 - val_loss: nan - val_accuracy: 0.0222\n",
            "67/67 [==============================] - 0s 1ms/step - loss: nan - accuracy: 0.0222\n",
            "*** Test loss: nan - accuracy: 0.022201228886842728\n"
          ],
          "name": "stdout"
        }
      ]
    },
    {
      "cell_type": "markdown",
      "metadata": {
        "id": "SxVap8KRblhB",
        "colab_type": "text"
      },
      "source": [
        "Visualizamos el modelo utilizado:"
      ]
    },
    {
      "cell_type": "code",
      "metadata": {
        "id": "_JdJzm7k2vrF",
        "colab_type": "code",
        "colab": {
          "base_uri": "https://localhost:8080/",
          "height": 665
        },
        "outputId": "cc31a079-12b6-4817-a24f-a891c0ffbea7"
      },
      "source": [
        "SVG(model_to_dot(model, dpi=72).create(prog='dot', format='svg'))"
      ],
      "execution_count": 50,
      "outputs": [
        {
          "output_type": "execute_result",
          "data": {
            "text/plain": [
              "<IPython.core.display.SVG object>"
            ],
            "image/svg+xml": "<svg height=\"483pt\" viewBox=\"0.00 0.00 461.50 483.00\" width=\"462pt\" xmlns=\"http://www.w3.org/2000/svg\" xmlns:xlink=\"http://www.w3.org/1999/xlink\">\n<g class=\"graph\" id=\"graph0\" transform=\"scale(1 1) rotate(0) translate(4 479)\">\n<title>G</title>\n<polygon fill=\"#ffffff\" points=\"-4,4 -4,-479 457.5,-479 457.5,4 -4,4\" stroke=\"transparent\"/>\n<!-- 140080664815880 -->\n<g class=\"node\" id=\"node1\">\n<title>140080664815880</title>\n<polygon fill=\"none\" points=\"68,-438.5 68,-474.5 197,-474.5 197,-438.5 68,-438.5\" stroke=\"#000000\"/>\n<text fill=\"#000000\" font-family=\"Times,serif\" font-size=\"14.00\" text-anchor=\"middle\" x=\"132.5\" y=\"-452.8\">Breed1: InputLayer</text>\n</g>\n<!-- 140080664817448 -->\n<g class=\"node\" id=\"node2\">\n<title>140080664817448</title>\n<polygon fill=\"none\" points=\"54.5,-365.5 54.5,-401.5 210.5,-401.5 210.5,-365.5 54.5,-365.5\" stroke=\"#000000\"/>\n<text fill=\"#000000\" font-family=\"Times,serif\" font-size=\"14.00\" text-anchor=\"middle\" x=\"132.5\" y=\"-379.8\">embedding: Embedding</text>\n</g>\n<!-- 140080664815880&#45;&gt;140080664817448 -->\n<g class=\"edge\" id=\"edge1\">\n<title>140080664815880-&gt;140080664817448</title>\n<path d=\"M132.5,-438.4551C132.5,-430.3828 132.5,-420.6764 132.5,-411.6817\" fill=\"none\" stroke=\"#000000\"/>\n<polygon fill=\"#000000\" points=\"136.0001,-411.5903 132.5,-401.5904 129.0001,-411.5904 136.0001,-411.5903\" stroke=\"#000000\"/>\n</g>\n<!-- 140080647742968 -->\n<g class=\"node\" id=\"node3\">\n<title>140080647742968</title>\n<polygon fill=\"none\" points=\"0,-292.5 0,-328.5 265,-328.5 265,-292.5 0,-292.5\" stroke=\"#000000\"/>\n<text fill=\"#000000\" font-family=\"Times,serif\" font-size=\"14.00\" text-anchor=\"middle\" x=\"132.5\" y=\"-306.8\">tf_op_layer_Squeeze: TensorFlowOpLayer</text>\n</g>\n<!-- 140080664817448&#45;&gt;140080647742968 -->\n<g class=\"edge\" id=\"edge2\">\n<title>140080664817448-&gt;140080647742968</title>\n<path d=\"M132.5,-365.4551C132.5,-357.3828 132.5,-347.6764 132.5,-338.6817\" fill=\"none\" stroke=\"#000000\"/>\n<polygon fill=\"#000000\" points=\"136.0001,-338.5903 132.5,-328.5904 129.0001,-338.5904 136.0001,-338.5903\" stroke=\"#000000\"/>\n</g>\n<!-- 140080664811112 -->\n<g class=\"node\" id=\"node5\">\n<title>140080664811112</title>\n<polygon fill=\"none\" points=\"170.5,-219.5 170.5,-255.5 330.5,-255.5 330.5,-219.5 170.5,-219.5\" stroke=\"#000000\"/>\n<text fill=\"#000000\" font-family=\"Times,serif\" font-size=\"14.00\" text-anchor=\"middle\" x=\"250.5\" y=\"-233.8\">concatenate: Concatenate</text>\n</g>\n<!-- 140080647742968&#45;&gt;140080664811112 -->\n<g class=\"edge\" id=\"edge3\">\n<title>140080647742968-&gt;140080664811112</title>\n<path d=\"M161.6685,-292.4551C176.986,-282.979 195.9439,-271.2508 212.4073,-261.0658\" fill=\"none\" stroke=\"#000000\"/>\n<polygon fill=\"#000000\" points=\"214.5952,-263.8279 221.258,-255.5904 210.9125,-257.875 214.5952,-263.8279\" stroke=\"#000000\"/>\n</g>\n<!-- 140081158916024 -->\n<g class=\"node\" id=\"node4\">\n<title>140081158916024</title>\n<polygon fill=\"none\" points=\"283.5,-292.5 283.5,-328.5 453.5,-328.5 453.5,-292.5 283.5,-292.5\" stroke=\"#000000\"/>\n<text fill=\"#000000\" font-family=\"Times,serif\" font-size=\"14.00\" text-anchor=\"middle\" x=\"368.5\" y=\"-306.8\">direct_features: InputLayer</text>\n</g>\n<!-- 140081158916024&#45;&gt;140080664811112 -->\n<g class=\"edge\" id=\"edge4\">\n<title>140081158916024-&gt;140080664811112</title>\n<path d=\"M339.3315,-292.4551C324.014,-282.979 305.0561,-271.2508 288.5927,-261.0658\" fill=\"none\" stroke=\"#000000\"/>\n<polygon fill=\"#000000\" points=\"290.0875,-257.875 279.742,-255.5904 286.4048,-263.8279 290.0875,-257.875\" stroke=\"#000000\"/>\n</g>\n<!-- 140080664811168 -->\n<g class=\"node\" id=\"node6\">\n<title>140080664811168</title>\n<polygon fill=\"none\" points=\"204.5,-146.5 204.5,-182.5 296.5,-182.5 296.5,-146.5 204.5,-146.5\" stroke=\"#000000\"/>\n<text fill=\"#000000\" font-family=\"Times,serif\" font-size=\"14.00\" text-anchor=\"middle\" x=\"250.5\" y=\"-160.8\">dense: Dense</text>\n</g>\n<!-- 140080664811112&#45;&gt;140080664811168 -->\n<g class=\"edge\" id=\"edge5\">\n<title>140080664811112-&gt;140080664811168</title>\n<path d=\"M250.5,-219.4551C250.5,-211.3828 250.5,-201.6764 250.5,-192.6817\" fill=\"none\" stroke=\"#000000\"/>\n<polygon fill=\"#000000\" points=\"254.0001,-192.5903 250.5,-182.5904 247.0001,-192.5904 254.0001,-192.5903\" stroke=\"#000000\"/>\n</g>\n<!-- 140080647743976 -->\n<g class=\"node\" id=\"node7\">\n<title>140080647743976</title>\n<polygon fill=\"none\" points=\"197,-73.5 197,-109.5 304,-109.5 304,-73.5 197,-73.5\" stroke=\"#000000\"/>\n<text fill=\"#000000\" font-family=\"Times,serif\" font-size=\"14.00\" text-anchor=\"middle\" x=\"250.5\" y=\"-87.8\">dense_1: Dense</text>\n</g>\n<!-- 140080664811168&#45;&gt;140080647743976 -->\n<g class=\"edge\" id=\"edge6\">\n<title>140080664811168-&gt;140080647743976</title>\n<path d=\"M250.5,-146.4551C250.5,-138.3828 250.5,-128.6764 250.5,-119.6817\" fill=\"none\" stroke=\"#000000\"/>\n<polygon fill=\"#000000\" points=\"254.0001,-119.5903 250.5,-109.5904 247.0001,-119.5904 254.0001,-119.5903\" stroke=\"#000000\"/>\n</g>\n<!-- 140080647745320 -->\n<g class=\"node\" id=\"node8\">\n<title>140080647745320</title>\n<polygon fill=\"none\" points=\"197,-.5 197,-36.5 304,-36.5 304,-.5 197,-.5\" stroke=\"#000000\"/>\n<text fill=\"#000000\" font-family=\"Times,serif\" font-size=\"14.00\" text-anchor=\"middle\" x=\"250.5\" y=\"-14.8\">dense_2: Dense</text>\n</g>\n<!-- 140080647743976&#45;&gt;140080647745320 -->\n<g class=\"edge\" id=\"edge7\">\n<title>140080647743976-&gt;140080647745320</title>\n<path d=\"M250.5,-73.4551C250.5,-65.3828 250.5,-55.6764 250.5,-46.6817\" fill=\"none\" stroke=\"#000000\"/>\n<polygon fill=\"#000000\" points=\"254.0001,-46.5903 250.5,-36.5904 247.0001,-46.5904 254.0001,-46.5903\" stroke=\"#000000\"/>\n</g>\n</g>\n</svg>"
          },
          "metadata": {
            "tags": []
          },
          "execution_count": 50
        }
      ]
    },
    {
      "cell_type": "code",
      "metadata": {
        "id": "WcP3Zr5wSeN1",
        "colab_type": "code",
        "colab": {
          "base_uri": "https://localhost:8080/",
          "height": 461
        },
        "outputId": "43fa7ecd-7c6b-497d-cbd3-13952a107be6"
      },
      "source": [
        "model.summary()"
      ],
      "execution_count": 51,
      "outputs": [
        {
          "output_type": "stream",
          "text": [
            "Model: \"model\"\n",
            "__________________________________________________________________________________________________\n",
            "Layer (type)                    Output Shape         Param #     Connected to                     \n",
            "==================================================================================================\n",
            "Breed1 (InputLayer)             [(None, 1)]          0                                            \n",
            "__________________________________________________________________________________________________\n",
            "embedding (Embedding)           (None, 1, 77)        23716       Breed1[0][0]                     \n",
            "__________________________________________________________________________________________________\n",
            "tf_op_layer_Squeeze (TensorFlow [(None, 77)]         0           embedding[0][0]                  \n",
            "__________________________________________________________________________________________________\n",
            "direct_features (InputLayer)    [(None, 10)]         0                                            \n",
            "__________________________________________________________________________________________________\n",
            "concatenate (Concatenate)       (None, 87)           0           tf_op_layer_Squeeze[0][0]        \n",
            "                                                                 direct_features[0][0]            \n",
            "__________________________________________________________________________________________________\n",
            "dense (Dense)                   (None, 64)           5632        concatenate[0][0]                \n",
            "__________________________________________________________________________________________________\n",
            "dense_1 (Dense)                 (None, 64)           4160        dense[0][0]                      \n",
            "__________________________________________________________________________________________________\n",
            "dense_2 (Dense)                 (None, 5)            325         dense_1[0][0]                    \n",
            "==================================================================================================\n",
            "Total params: 33,833\n",
            "Trainable params: 33,833\n",
            "Non-trainable params: 0\n",
            "__________________________________________________________________________________________________\n"
          ],
          "name": "stdout"
        }
      ]
    },
    {
      "cell_type": "markdown",
      "metadata": {
        "id": "ZPlbl4wRKAQ-",
        "colab_type": "text"
      },
      "source": [
        "Veamos los resultados obtenidos:"
      ]
    },
    {
      "cell_type": "code",
      "metadata": {
        "id": "giz2OmicmLqy",
        "colab_type": "code",
        "colab": {
          "base_uri": "https://localhost:8080/",
          "height": 35
        },
        "outputId": "2535b3e1-2c07-4092-b2ce-aaeb36c6bce9"
      },
      "source": [
        "type(test_ds)"
      ],
      "execution_count": 52,
      "outputs": [
        {
          "output_type": "execute_result",
          "data": {
            "text/plain": [
              "tensorflow.python.data.ops.dataset_ops.BatchDataset"
            ]
          },
          "metadata": {
            "tags": []
          },
          "execution_count": 52
        }
      ]
    },
    {
      "cell_type": "code",
      "metadata": {
        "id": "zbH0AnF4mb4W",
        "colab_type": "code",
        "colab": {
          "base_uri": "https://localhost:8080/",
          "height": 35
        },
        "outputId": "7449e12f-9c5b-43c5-c704-e295a06c2c18"
      },
      "source": [
        "type(test_dataset)"
      ],
      "execution_count": 53,
      "outputs": [
        {
          "output_type": "execute_result",
          "data": {
            "text/plain": [
              "tuple"
            ]
          },
          "metadata": {
            "tags": []
          },
          "execution_count": 53
        }
      ]
    },
    {
      "cell_type": "code",
      "metadata": {
        "id": "xZqna1HIUAVZ",
        "colab_type": "code",
        "colab": {
          "base_uri": "https://localhost:8080/",
          "height": 265
        },
        "outputId": "7d1302bc-7cc5-4628-8905-ec538439770e"
      },
      "source": [
        "predictions = numpy.argmax(model.predict(test_ds), axis=1)\n",
        "seaborn.countplot(predictions);"
      ],
      "execution_count": 54,
      "outputs": [
        {
          "output_type": "display_data",
          "data": {
            "image/png": "[encoded data removed]",
            "text/plain": [
              "<Figure size 432x288 with 1 Axes>"
            ]
          },
          "metadata": {
            "tags": []
          }
        }
      ]
    },
    {
      "cell_type": "code",
      "metadata": {
        "id": "WkS3hzNmsX5Z",
        "colab_type": "code",
        "colab": {
          "base_uri": "https://localhost:8080/",
          "height": 35
        },
        "outputId": "5f69c00b-42e0-4fe8-ce0f-c261b79ee6ce"
      },
      "source": [
        "# list all data in history\n",
        "print(historya.history.keys())"
      ],
      "execution_count": 55,
      "outputs": [
        {
          "output_type": "stream",
          "text": [
            "dict_keys(['loss', 'accuracy', 'val_loss', 'val_accuracy'])\n"
          ],
          "name": "stdout"
        }
      ]
    },
    {
      "cell_type": "code",
      "metadata": {
        "id": "EM5mQsYcumJn",
        "colab_type": "code",
        "colab": {
          "base_uri": "https://localhost:8080/",
          "height": 35
        },
        "outputId": "aa5e7aa7-540e-4b6b-8744-cc846b9edd34"
      },
      "source": [
        "#history.history\n",
        "np.shape(list(historya.history.values())[1])"
      ],
      "execution_count": 56,
      "outputs": [
        {
          "output_type": "execute_result",
          "data": {
            "text/plain": [
              "(100,)"
            ]
          },
          "metadata": {
            "tags": []
          },
          "execution_count": 56
        }
      ]
    },
    {
      "cell_type": "markdown",
      "metadata": {
        "id": "zTp1g0MD1kL5",
        "colab_type": "text"
      },
      "source": [
        "Comparamos las accuracy de conjunto de entrenamiento y de test, si difieren  entre si  de forma notable, se tiene un indicio de overfitting. "
      ]
    },
    {
      "cell_type": "code",
      "metadata": {
        "id": "i5i0pFw3xwKb",
        "colab_type": "code",
        "colab": {
          "base_uri": "https://localhost:8080/",
          "height": 295
        },
        "outputId": "5e516c26-e8c5-49fa-e75c-67c6eee54ba1"
      },
      "source": [
        "# summarize history for accuracy\n",
        "plt.plot(historya.history['accuracy'])\n",
        "plt.plot(historya.history['val_accuracy'])\n",
        "plt.title('model accuracy')\n",
        "plt.ylabel('accuracy')\n",
        "plt.xlabel('epoch')\n",
        "plt.legend(['train', 'test']);\n"
      ],
      "execution_count": 57,
      "outputs": [
        {
          "output_type": "display_data",
          "data": {
            "image/png": "[encoded data removed]",
            "text/plain": [
              "<Figure size 432x288 with 1 Axes>"
            ]
          },
          "metadata": {
            "tags": []
          }
        }
      ]
    },
    {
      "cell_type": "markdown",
      "metadata": {
        "id": "mht18ARY9RfJ",
        "colab_type": "text"
      },
      "source": [
        "Pareciera no haber overfitting, ya que los accuracy son similares. Para el modelo utilizado no obtuvimos gran efectividad en las predicciones."
      ]
    },
    {
      "cell_type": "markdown",
      "metadata": {
        "id": "LbGNJ04FbW_e",
        "colab_type": "text"
      },
      "source": [
        "-----------------------------------------------\n",
        "\n"
      ]
    },
    {
      "cell_type": "markdown",
      "metadata": {
        "id": "nCwH7gqJKK7u",
        "colab_type": "text"
      },
      "source": [
        "Probamos con otro modelo, con diferentes layers. Entre ellos, utilizamos un dropout. Queremos ver como afecta la arquitectura de la red en el resultado."
      ]
    },
    {
      "cell_type": "code",
      "metadata": {
        "id": "CK1slAreD1LE",
        "colab_type": "code",
        "colab": {
          "base_uri": "https://localhost:8080/",
          "height": 35
        },
        "outputId": "2c6d4b80-cd7b-4e60-8277-dba117e1e6d9"
      },
      "source": [
        "tf.keras.backend.clear_session()\n",
        "\n",
        "hidden_layer_size = 64\n",
        "\n",
        "# Add one input and one embedding for each embedded column\n",
        "embedding_layers = []\n",
        "inputs = []\n",
        "for embedded_col, max_value in embedded_columns.items():\n",
        "    input_layer = layers.Input(shape=(1,), name=embedded_col)\n",
        "    inputs.append(input_layer)\n",
        "    # Define the embedding layer\n",
        "    embedding_size = int(max_value / 4)\n",
        "    embedding_layers.append(\n",
        "        tf.squeeze(layers.Embedding(input_dim=max_value, output_dim=embedding_size)(input_layer), axis=-2))\n",
        "    print('Adding embedding of size {} for layer {}'.format(embedding_size, embedded_col))\n",
        "\n",
        "# Add the direct features already calculated\n",
        "direct_features_input = layers.Input(shape=direct_features_input_shape, name='direct_features')\n",
        "inputs.append(direct_features_input)\n",
        "\n",
        "# Concatenate everything together\n",
        "# es lo que va a ir a la primer capa Dense\n",
        "features = layers.concatenate(embedding_layers + [direct_features_input])\n",
        "\n",
        "dense1 = layers.Dense(hidden_layer_size, activation='relu')(features)\n",
        "\n",
        "#agregamos un dropout\n",
        "dense1 = Dropout(0.2)(dense1)\n",
        "\n",
        "output_layer = layers.Dense(nlabels, activation='softmax')(dense1)\n",
        "\n",
        "model = models.Model(inputs=inputs, outputs=output_layer)"
      ],
      "execution_count": 60,
      "outputs": [
        {
          "output_type": "stream",
          "text": [
            "Adding embedding of size 77 for layer Breed1\n"
          ],
          "name": "stdout"
        }
      ]
    },
    {
      "cell_type": "code",
      "metadata": {
        "id": "rGl2Ag5dD10G",
        "colab_type": "code",
        "colab": {
          "base_uri": "https://localhost:8080/",
          "height": 461
        },
        "outputId": "675727e1-b4bc-481b-f412-b86e2120e1bd"
      },
      "source": [
        "model.compile(loss='categorical_crossentropy', optimizer='adam',\n",
        "              metrics=['accuracy'])\n",
        "model.summary()"
      ],
      "execution_count": 62,
      "outputs": [
        {
          "output_type": "stream",
          "text": [
            "Model: \"model\"\n",
            "__________________________________________________________________________________________________\n",
            "Layer (type)                    Output Shape         Param #     Connected to                     \n",
            "==================================================================================================\n",
            "Breed1 (InputLayer)             [(None, 1)]          0                                            \n",
            "__________________________________________________________________________________________________\n",
            "embedding (Embedding)           (None, 1, 77)        23716       Breed1[0][0]                     \n",
            "__________________________________________________________________________________________________\n",
            "tf_op_layer_Squeeze (TensorFlow [(None, 77)]         0           embedding[0][0]                  \n",
            "__________________________________________________________________________________________________\n",
            "direct_features (InputLayer)    [(None, 10)]         0                                            \n",
            "__________________________________________________________________________________________________\n",
            "concatenate (Concatenate)       (None, 87)           0           tf_op_layer_Squeeze[0][0]        \n",
            "                                                                 direct_features[0][0]            \n",
            "__________________________________________________________________________________________________\n",
            "dense (Dense)                   (None, 64)           5632        concatenate[0][0]                \n",
            "__________________________________________________________________________________________________\n",
            "dropout (Dropout)               (None, 64)           0           dense[0][0]                      \n",
            "__________________________________________________________________________________________________\n",
            "dense_1 (Dense)                 (None, 5)            325         dropout[0][0]                    \n",
            "==================================================================================================\n",
            "Total params: 29,673\n",
            "Trainable params: 29,673\n",
            "Non-trainable params: 0\n",
            "__________________________________________________________________________________________________\n"
          ],
          "name": "stdout"
        }
      ]
    },
    {
      "cell_type": "markdown",
      "metadata": {
        "id": "9G7l73h0Y3bR",
        "colab_type": "text"
      },
      "source": [
        "Vemos gráficamente como quedó el modelo"
      ]
    },
    {
      "cell_type": "code",
      "metadata": {
        "id": "0Q_PQBer0IV7",
        "colab_type": "code",
        "colab": {
          "base_uri": "https://localhost:8080/",
          "height": 665
        },
        "outputId": "38f03e96-eeaf-4b39-cea8-a786f1ca51f8"
      },
      "source": [
        "SVG(model_to_dot(model, dpi=72).create(prog='dot', format='svg'))\n"
      ],
      "execution_count": 61,
      "outputs": [
        {
          "output_type": "execute_result",
          "data": {
            "text/plain": [
              "<IPython.core.display.SVG object>"
            ],
            "image/svg+xml": "<svg height=\"483pt\" viewBox=\"0.00 0.00 461.50 483.00\" width=\"462pt\" xmlns=\"http://www.w3.org/2000/svg\" xmlns:xlink=\"http://www.w3.org/1999/xlink\">\n<g class=\"graph\" id=\"graph0\" transform=\"scale(1 1) rotate(0) translate(4 479)\">\n<title>G</title>\n<polygon fill=\"#ffffff\" points=\"-4,4 -4,-479 457.5,-479 457.5,4 -4,4\" stroke=\"transparent\"/>\n<!-- 140080611614448 -->\n<g class=\"node\" id=\"node1\">\n<title>140080611614448</title>\n<polygon fill=\"none\" points=\"68,-438.5 68,-474.5 197,-474.5 197,-438.5 68,-438.5\" stroke=\"#000000\"/>\n<text fill=\"#000000\" font-family=\"Times,serif\" font-size=\"14.00\" text-anchor=\"middle\" x=\"132.5\" y=\"-452.8\">Breed1: InputLayer</text>\n</g>\n<!-- 140080611614168 -->\n<g class=\"node\" id=\"node2\">\n<title>140080611614168</title>\n<polygon fill=\"none\" points=\"54.5,-365.5 54.5,-401.5 210.5,-401.5 210.5,-365.5 54.5,-365.5\" stroke=\"#000000\"/>\n<text fill=\"#000000\" font-family=\"Times,serif\" font-size=\"14.00\" text-anchor=\"middle\" x=\"132.5\" y=\"-379.8\">embedding: Embedding</text>\n</g>\n<!-- 140080611614448&#45;&gt;140080611614168 -->\n<g class=\"edge\" id=\"edge1\">\n<title>140080611614448-&gt;140080611614168</title>\n<path d=\"M132.5,-438.4551C132.5,-430.3828 132.5,-420.6764 132.5,-411.6817\" fill=\"none\" stroke=\"#000000\"/>\n<polygon fill=\"#000000\" points=\"136.0001,-411.5903 132.5,-401.5904 129.0001,-411.5904 136.0001,-411.5903\" stroke=\"#000000\"/>\n</g>\n<!-- 140080613042104 -->\n<g class=\"node\" id=\"node3\">\n<title>140080613042104</title>\n<polygon fill=\"none\" points=\"0,-292.5 0,-328.5 265,-328.5 265,-292.5 0,-292.5\" stroke=\"#000000\"/>\n<text fill=\"#000000\" font-family=\"Times,serif\" font-size=\"14.00\" text-anchor=\"middle\" x=\"132.5\" y=\"-306.8\">tf_op_layer_Squeeze: TensorFlowOpLayer</text>\n</g>\n<!-- 140080611614168&#45;&gt;140080613042104 -->\n<g class=\"edge\" id=\"edge2\">\n<title>140080611614168-&gt;140080613042104</title>\n<path d=\"M132.5,-365.4551C132.5,-357.3828 132.5,-347.6764 132.5,-338.6817\" fill=\"none\" stroke=\"#000000\"/>\n<polygon fill=\"#000000\" points=\"136.0001,-338.5903 132.5,-328.5904 129.0001,-338.5904 136.0001,-338.5903\" stroke=\"#000000\"/>\n</g>\n<!-- 140080611611928 -->\n<g class=\"node\" id=\"node5\">\n<title>140080611611928</title>\n<polygon fill=\"none\" points=\"170.5,-219.5 170.5,-255.5 330.5,-255.5 330.5,-219.5 170.5,-219.5\" stroke=\"#000000\"/>\n<text fill=\"#000000\" font-family=\"Times,serif\" font-size=\"14.00\" text-anchor=\"middle\" x=\"250.5\" y=\"-233.8\">concatenate: Concatenate</text>\n</g>\n<!-- 140080613042104&#45;&gt;140080611611928 -->\n<g class=\"edge\" id=\"edge3\">\n<title>140080613042104-&gt;140080611611928</title>\n<path d=\"M161.6685,-292.4551C176.986,-282.979 195.9439,-271.2508 212.4073,-261.0658\" fill=\"none\" stroke=\"#000000\"/>\n<polygon fill=\"#000000\" points=\"214.5952,-263.8279 221.258,-255.5904 210.9125,-257.875 214.5952,-263.8279\" stroke=\"#000000\"/>\n</g>\n<!-- 140080612103784 -->\n<g class=\"node\" id=\"node4\">\n<title>140080612103784</title>\n<polygon fill=\"none\" points=\"283.5,-292.5 283.5,-328.5 453.5,-328.5 453.5,-292.5 283.5,-292.5\" stroke=\"#000000\"/>\n<text fill=\"#000000\" font-family=\"Times,serif\" font-size=\"14.00\" text-anchor=\"middle\" x=\"368.5\" y=\"-306.8\">direct_features: InputLayer</text>\n</g>\n<!-- 140080612103784&#45;&gt;140080611611928 -->\n<g class=\"edge\" id=\"edge4\">\n<title>140080612103784-&gt;140080611611928</title>\n<path d=\"M339.3315,-292.4551C324.014,-282.979 305.0561,-271.2508 288.5927,-261.0658\" fill=\"none\" stroke=\"#000000\"/>\n<polygon fill=\"#000000\" points=\"290.0875,-257.875 279.742,-255.5904 286.4048,-263.8279 290.0875,-257.875\" stroke=\"#000000\"/>\n</g>\n<!-- 140080611613944 -->\n<g class=\"node\" id=\"node6\">\n<title>140080611613944</title>\n<polygon fill=\"none\" points=\"204.5,-146.5 204.5,-182.5 296.5,-182.5 296.5,-146.5 204.5,-146.5\" stroke=\"#000000\"/>\n<text fill=\"#000000\" font-family=\"Times,serif\" font-size=\"14.00\" text-anchor=\"middle\" x=\"250.5\" y=\"-160.8\">dense: Dense</text>\n</g>\n<!-- 140080611611928&#45;&gt;140080611613944 -->\n<g class=\"edge\" id=\"edge5\">\n<title>140080611611928-&gt;140080611613944</title>\n<path d=\"M250.5,-219.4551C250.5,-211.3828 250.5,-201.6764 250.5,-192.6817\" fill=\"none\" stroke=\"#000000\"/>\n<polygon fill=\"#000000\" points=\"254.0001,-192.5903 250.5,-182.5904 247.0001,-192.5904 254.0001,-192.5903\" stroke=\"#000000\"/>\n</g>\n<!-- 140080611151152 -->\n<g class=\"node\" id=\"node7\">\n<title>140080611151152</title>\n<polygon fill=\"none\" points=\"191,-73.5 191,-109.5 310,-109.5 310,-73.5 191,-73.5\" stroke=\"#000000\"/>\n<text fill=\"#000000\" font-family=\"Times,serif\" font-size=\"14.00\" text-anchor=\"middle\" x=\"250.5\" y=\"-87.8\">dropout: Dropout</text>\n</g>\n<!-- 140080611613944&#45;&gt;140080611151152 -->\n<g class=\"edge\" id=\"edge6\">\n<title>140080611613944-&gt;140080611151152</title>\n<path d=\"M250.5,-146.4551C250.5,-138.3828 250.5,-128.6764 250.5,-119.6817\" fill=\"none\" stroke=\"#000000\"/>\n<polygon fill=\"#000000\" points=\"254.0001,-119.5903 250.5,-109.5904 247.0001,-119.5904 254.0001,-119.5903\" stroke=\"#000000\"/>\n</g>\n<!-- 140080611151600 -->\n<g class=\"node\" id=\"node8\">\n<title>140080611151600</title>\n<polygon fill=\"none\" points=\"197,-.5 197,-36.5 304,-36.5 304,-.5 197,-.5\" stroke=\"#000000\"/>\n<text fill=\"#000000\" font-family=\"Times,serif\" font-size=\"14.00\" text-anchor=\"middle\" x=\"250.5\" y=\"-14.8\">dense_1: Dense</text>\n</g>\n<!-- 140080611151152&#45;&gt;140080611151600 -->\n<g class=\"edge\" id=\"edge7\">\n<title>140080611151152-&gt;140080611151600</title>\n<path d=\"M250.5,-73.4551C250.5,-65.3828 250.5,-55.6764 250.5,-46.6817\" fill=\"none\" stroke=\"#000000\"/>\n<polygon fill=\"#000000\" points=\"254.0001,-46.5903 250.5,-36.5904 247.0001,-46.5904 254.0001,-46.5903\" stroke=\"#000000\"/>\n</g>\n</g>\n</svg>"
          },
          "metadata": {
            "tags": []
          },
          "execution_count": 61
        }
      ]
    },
    {
      "cell_type": "code",
      "metadata": {
        "id": "2TkBZ59xEGbB",
        "colab_type": "code",
        "colab": {
          "base_uri": "https://localhost:8080/",
          "height": 1000
        },
        "outputId": "bb032351-60a8-4893-bf10-e6663ee4bdb6"
      },
      "source": [
        "mlflow.set_experiment('very_base_approach')\n",
        "\n",
        "with mlflow.start_run(nested=True):\n",
        "    # Log model hiperparameters first\n",
        "    mlflow.log_param('hidden_layer_size', hidden_layer_size)\n",
        "    mlflow.log_param('embedded_columns', embedded_columns)\n",
        "    mlflow.log_param('one_hot_columns', one_hot_columns)\n",
        "    #mlflow.log_param('numerical_columns', numeric_columns)  # Not using these yet\n",
        "    \n",
        "    # Train\n",
        "    epochs = 100\n",
        "    history = model.fit(train_ds, epochs=epochs,validation_data=test_ds)\n",
        "    \n",
        "    # Evaluate\n",
        "    loss, accuracy = model.evaluate(test_ds)\n",
        "    print(\"*** Test loss: {} - accuracy: {}\".format(loss, accuracy))\n",
        "    mlflow.log_metric('epochs', epochs)\n",
        "    mlflow.log_metric('loss', loss)\n",
        "    mlflow.log_metric('accuracy', accuracy)"
      ],
      "execution_count": 63,
      "outputs": [
        {
          "output_type": "stream",
          "text": [
            "Epoch 1/100\n",
            "331/331 [==============================] - 3s 8ms/step - loss: 1.4724 - accuracy: 0.2960 - val_loss: 0.0000e+00 - val_accuracy: 0.0000e+00\n",
            "Epoch 2/100\n",
            "331/331 [==============================] - 1s 3ms/step - loss: 1.4417 - accuracy: 0.3236 - val_loss: 1.4208 - val_accuracy: 0.3429\n",
            "Epoch 3/100\n",
            "331/331 [==============================] - 1s 3ms/step - loss: 1.4350 - accuracy: 0.3285 - val_loss: 1.4127 - val_accuracy: 0.3382\n",
            "Epoch 4/100\n",
            "331/331 [==============================] - 1s 2ms/step - loss: 1.4286 - accuracy: 0.3333 - val_loss: 1.4057 - val_accuracy: 0.3524\n",
            "Epoch 5/100\n",
            "331/331 [==============================] - 1s 3ms/step - loss: 1.4218 - accuracy: 0.3371 - val_loss: 1.3996 - val_accuracy: 0.3481\n",
            "Epoch 6/100\n",
            "331/331 [==============================] - 1s 3ms/step - loss: 1.4177 - accuracy: 0.3388 - val_loss: 1.3946 - val_accuracy: 0.3500\n",
            "Epoch 7/100\n",
            "331/331 [==============================] - 1s 3ms/step - loss: 1.4164 - accuracy: 0.3390 - val_loss: 1.3901 - val_accuracy: 0.3566\n",
            "Epoch 8/100\n",
            "331/331 [==============================] - 1s 2ms/step - loss: 1.4106 - accuracy: 0.3418 - val_loss: 1.3859 - val_accuracy: 0.3524\n",
            "Epoch 9/100\n",
            "331/331 [==============================] - 1s 3ms/step - loss: 1.4099 - accuracy: 0.3404 - val_loss: 1.3845 - val_accuracy: 0.3486\n",
            "Epoch 10/100\n",
            "331/331 [==============================] - 1s 3ms/step - loss: 1.4077 - accuracy: 0.3412 - val_loss: 1.3818 - val_accuracy: 0.3439\n",
            "Epoch 11/100\n",
            "331/331 [==============================] - 1s 3ms/step - loss: 1.4057 - accuracy: 0.3427 - val_loss: 1.3800 - val_accuracy: 0.3529\n",
            "Epoch 12/100\n",
            "331/331 [==============================] - 1s 3ms/step - loss: 1.4033 - accuracy: 0.3448 - val_loss: 1.3762 - val_accuracy: 0.3519\n",
            "Epoch 13/100\n",
            "331/331 [==============================] - 1s 3ms/step - loss: 1.4010 - accuracy: 0.3420 - val_loss: 1.3740 - val_accuracy: 0.3562\n",
            "Epoch 14/100\n",
            "331/331 [==============================] - 1s 3ms/step - loss: 1.4001 - accuracy: 0.3448 - val_loss: 1.3725 - val_accuracy: 0.3604\n",
            "Epoch 15/100\n",
            "331/331 [==============================] - 1s 3ms/step - loss: 1.3981 - accuracy: 0.3443 - val_loss: 1.3710 - val_accuracy: 0.3590\n",
            "Epoch 16/100\n",
            "331/331 [==============================] - 1s 3ms/step - loss: 1.3945 - accuracy: 0.3450 - val_loss: 1.3692 - val_accuracy: 0.3614\n",
            "Epoch 17/100\n",
            "331/331 [==============================] - 1s 3ms/step - loss: 1.3961 - accuracy: 0.3448 - val_loss: 1.3668 - val_accuracy: 0.3637\n",
            "Epoch 18/100\n",
            "331/331 [==============================] - 1s 3ms/step - loss: 1.3952 - accuracy: 0.3489 - val_loss: 1.3665 - val_accuracy: 0.3623\n",
            "Epoch 19/100\n",
            "331/331 [==============================] - 1s 3ms/step - loss: 1.3929 - accuracy: 0.3464 - val_loss: 1.3643 - val_accuracy: 0.3632\n",
            "Epoch 20/100\n",
            "331/331 [==============================] - 1s 3ms/step - loss: 1.3942 - accuracy: 0.3497 - val_loss: 1.3628 - val_accuracy: 0.3670\n",
            "Epoch 21/100\n",
            "331/331 [==============================] - 1s 3ms/step - loss: 1.3896 - accuracy: 0.3546 - val_loss: 1.3621 - val_accuracy: 0.3628\n",
            "Epoch 22/100\n",
            "331/331 [==============================] - 1s 3ms/step - loss: 1.3906 - accuracy: 0.3517 - val_loss: 1.3603 - val_accuracy: 0.3680\n",
            "Epoch 23/100\n",
            "331/331 [==============================] - 1s 3ms/step - loss: 1.3871 - accuracy: 0.3539 - val_loss: 1.3596 - val_accuracy: 0.3666\n",
            "Epoch 24/100\n",
            "331/331 [==============================] - 1s 3ms/step - loss: 1.3880 - accuracy: 0.3498 - val_loss: 1.3580 - val_accuracy: 0.3647\n",
            "Epoch 25/100\n",
            "331/331 [==============================] - 1s 3ms/step - loss: 1.3882 - accuracy: 0.3489 - val_loss: 1.3575 - val_accuracy: 0.3628\n",
            "Epoch 26/100\n",
            "331/331 [==============================] - 1s 3ms/step - loss: 1.3883 - accuracy: 0.3508 - val_loss: 1.3570 - val_accuracy: 0.3656\n",
            "Epoch 27/100\n",
            "331/331 [==============================] - 1s 3ms/step - loss: 1.3877 - accuracy: 0.3523 - val_loss: 1.3568 - val_accuracy: 0.3656\n",
            "Epoch 28/100\n",
            "331/331 [==============================] - 1s 3ms/step - loss: 1.3842 - accuracy: 0.3545 - val_loss: 1.3556 - val_accuracy: 0.3689\n",
            "Epoch 29/100\n",
            "331/331 [==============================] - 1s 3ms/step - loss: 1.3848 - accuracy: 0.3528 - val_loss: 1.3555 - val_accuracy: 0.3647\n",
            "Epoch 30/100\n",
            "331/331 [==============================] - 1s 3ms/step - loss: 1.3826 - accuracy: 0.3531 - val_loss: 1.3539 - val_accuracy: 0.3647\n",
            "Epoch 31/100\n",
            "331/331 [==============================] - 1s 3ms/step - loss: 1.3828 - accuracy: 0.3542 - val_loss: 1.3534 - val_accuracy: 0.3651\n",
            "Epoch 32/100\n",
            "331/331 [==============================] - 1s 3ms/step - loss: 1.3838 - accuracy: 0.3571 - val_loss: 1.3523 - val_accuracy: 0.3661\n",
            "Epoch 33/100\n",
            "331/331 [==============================] - 1s 3ms/step - loss: 1.3838 - accuracy: 0.3529 - val_loss: 1.3523 - val_accuracy: 0.3689\n",
            "Epoch 34/100\n",
            "331/331 [==============================] - 1s 3ms/step - loss: 1.3822 - accuracy: 0.3552 - val_loss: 1.3520 - val_accuracy: 0.3666\n",
            "Epoch 35/100\n",
            "331/331 [==============================] - 1s 3ms/step - loss: 1.3822 - accuracy: 0.3552 - val_loss: 1.3521 - val_accuracy: 0.3661\n",
            "Epoch 36/100\n",
            "331/331 [==============================] - 1s 3ms/step - loss: 1.3797 - accuracy: 0.3551 - val_loss: 1.3500 - val_accuracy: 0.3666\n",
            "Epoch 37/100\n",
            "331/331 [==============================] - 1s 3ms/step - loss: 1.3816 - accuracy: 0.3558 - val_loss: 1.3500 - val_accuracy: 0.3703\n",
            "Epoch 38/100\n",
            "331/331 [==============================] - 1s 3ms/step - loss: 1.3786 - accuracy: 0.3565 - val_loss: 1.3498 - val_accuracy: 0.3694\n",
            "Epoch 39/100\n",
            "331/331 [==============================] - 1s 3ms/step - loss: 1.3781 - accuracy: 0.3571 - val_loss: 1.3488 - val_accuracy: 0.3699\n",
            "Epoch 40/100\n",
            "331/331 [==============================] - 1s 3ms/step - loss: 1.3761 - accuracy: 0.3572 - val_loss: 1.3476 - val_accuracy: 0.3675\n",
            "Epoch 41/100\n",
            "331/331 [==============================] - 1s 3ms/step - loss: 1.3782 - accuracy: 0.3552 - val_loss: 1.3473 - val_accuracy: 0.3670\n",
            "Epoch 42/100\n",
            "331/331 [==============================] - 1s 3ms/step - loss: 1.3792 - accuracy: 0.3536 - val_loss: 1.3472 - val_accuracy: 0.3680\n",
            "Epoch 43/100\n",
            "331/331 [==============================] - 1s 3ms/step - loss: 1.3780 - accuracy: 0.3563 - val_loss: 1.3472 - val_accuracy: 0.3694\n",
            "Epoch 44/100\n",
            "331/331 [==============================] - 1s 3ms/step - loss: 1.3760 - accuracy: 0.3568 - val_loss: 1.3446 - val_accuracy: 0.3699\n",
            "Epoch 45/100\n",
            "331/331 [==============================] - 1s 3ms/step - loss: 1.3766 - accuracy: 0.3569 - val_loss: 1.3436 - val_accuracy: 0.3694\n",
            "Epoch 46/100\n",
            "331/331 [==============================] - 1s 3ms/step - loss: 1.3769 - accuracy: 0.3578 - val_loss: 1.3440 - val_accuracy: 0.3732\n",
            "Epoch 47/100\n",
            "331/331 [==============================] - 1s 2ms/step - loss: 1.3742 - accuracy: 0.3579 - val_loss: 1.3449 - val_accuracy: 0.3661\n",
            "Epoch 48/100\n",
            "331/331 [==============================] - 1s 3ms/step - loss: 1.3753 - accuracy: 0.3565 - val_loss: 1.3435 - val_accuracy: 0.3675\n",
            "Epoch 49/100\n",
            "331/331 [==============================] - 1s 3ms/step - loss: 1.3752 - accuracy: 0.3564 - val_loss: 1.3429 - val_accuracy: 0.3722\n",
            "Epoch 50/100\n",
            "331/331 [==============================] - 1s 3ms/step - loss: 1.3752 - accuracy: 0.3553 - val_loss: 1.3428 - val_accuracy: 0.3722\n",
            "Epoch 51/100\n",
            "331/331 [==============================] - 1s 3ms/step - loss: 1.3742 - accuracy: 0.3552 - val_loss: 1.3416 - val_accuracy: 0.3684\n",
            "Epoch 52/100\n",
            "331/331 [==============================] - 1s 3ms/step - loss: 1.3745 - accuracy: 0.3592 - val_loss: 1.3412 - val_accuracy: 0.3741\n",
            "Epoch 53/100\n",
            "331/331 [==============================] - 1s 3ms/step - loss: 1.3758 - accuracy: 0.3592 - val_loss: 1.3420 - val_accuracy: 0.3718\n",
            "Epoch 54/100\n",
            "331/331 [==============================] - 1s 3ms/step - loss: 1.3717 - accuracy: 0.3592 - val_loss: 1.3404 - val_accuracy: 0.3732\n",
            "Epoch 55/100\n",
            "331/331 [==============================] - 1s 3ms/step - loss: 1.3713 - accuracy: 0.3609 - val_loss: 1.3400 - val_accuracy: 0.3684\n",
            "Epoch 56/100\n",
            "331/331 [==============================] - 1s 3ms/step - loss: 1.3725 - accuracy: 0.3579 - val_loss: 1.3398 - val_accuracy: 0.3793\n",
            "Epoch 57/100\n",
            "331/331 [==============================] - 1s 3ms/step - loss: 1.3704 - accuracy: 0.3575 - val_loss: 1.3387 - val_accuracy: 0.3774\n",
            "Epoch 58/100\n",
            "331/331 [==============================] - 1s 3ms/step - loss: 1.3685 - accuracy: 0.3596 - val_loss: 1.3376 - val_accuracy: 0.3784\n",
            "Epoch 59/100\n",
            "331/331 [==============================] - 1s 3ms/step - loss: 1.3719 - accuracy: 0.3565 - val_loss: 1.3382 - val_accuracy: 0.3812\n",
            "Epoch 60/100\n",
            "331/331 [==============================] - 1s 3ms/step - loss: 1.3718 - accuracy: 0.3569 - val_loss: 1.3376 - val_accuracy: 0.3788\n",
            "Epoch 61/100\n",
            "331/331 [==============================] - 1s 3ms/step - loss: 1.3693 - accuracy: 0.3592 - val_loss: 1.3375 - val_accuracy: 0.3784\n",
            "Epoch 62/100\n",
            "331/331 [==============================] - 1s 3ms/step - loss: 1.3707 - accuracy: 0.3600 - val_loss: 1.3373 - val_accuracy: 0.3732\n",
            "Epoch 63/100\n",
            "331/331 [==============================] - 1s 3ms/step - loss: 1.3693 - accuracy: 0.3598 - val_loss: 1.3374 - val_accuracy: 0.3727\n",
            "Epoch 64/100\n",
            "331/331 [==============================] - 1s 3ms/step - loss: 1.3672 - accuracy: 0.3579 - val_loss: 1.3374 - val_accuracy: 0.3689\n",
            "Epoch 65/100\n",
            "331/331 [==============================] - 1s 3ms/step - loss: 1.3699 - accuracy: 0.3600 - val_loss: 1.3360 - val_accuracy: 0.3760\n",
            "Epoch 66/100\n",
            "331/331 [==============================] - 1s 3ms/step - loss: 1.3696 - accuracy: 0.3558 - val_loss: 1.3364 - val_accuracy: 0.3689\n",
            "Epoch 67/100\n",
            "331/331 [==============================] - 1s 3ms/step - loss: 1.3672 - accuracy: 0.3600 - val_loss: 1.3362 - val_accuracy: 0.3666\n",
            "Epoch 68/100\n",
            "331/331 [==============================] - 1s 3ms/step - loss: 1.3700 - accuracy: 0.3595 - val_loss: 1.3370 - val_accuracy: 0.3699\n",
            "Epoch 69/100\n",
            "331/331 [==============================] - 1s 3ms/step - loss: 1.3679 - accuracy: 0.3599 - val_loss: 1.3352 - val_accuracy: 0.3807\n",
            "Epoch 70/100\n",
            "331/331 [==============================] - 1s 3ms/step - loss: 1.3693 - accuracy: 0.3601 - val_loss: 1.3344 - val_accuracy: 0.3760\n",
            "Epoch 71/100\n",
            "331/331 [==============================] - 1s 3ms/step - loss: 1.3673 - accuracy: 0.3592 - val_loss: 1.3336 - val_accuracy: 0.3798\n",
            "Epoch 72/100\n",
            "331/331 [==============================] - 1s 3ms/step - loss: 1.3687 - accuracy: 0.3602 - val_loss: 1.3337 - val_accuracy: 0.3845\n",
            "Epoch 73/100\n",
            "331/331 [==============================] - 1s 3ms/step - loss: 1.3674 - accuracy: 0.3614 - val_loss: 1.3347 - val_accuracy: 0.3727\n",
            "Epoch 74/100\n",
            "331/331 [==============================] - 1s 3ms/step - loss: 1.3658 - accuracy: 0.3618 - val_loss: 1.3333 - val_accuracy: 0.3831\n",
            "Epoch 75/100\n",
            "331/331 [==============================] - 1s 3ms/step - loss: 1.3662 - accuracy: 0.3613 - val_loss: 1.3337 - val_accuracy: 0.3779\n",
            "Epoch 76/100\n",
            "331/331 [==============================] - 1s 3ms/step - loss: 1.3654 - accuracy: 0.3581 - val_loss: 1.3338 - val_accuracy: 0.3803\n",
            "Epoch 77/100\n",
            "331/331 [==============================] - 1s 3ms/step - loss: 1.3669 - accuracy: 0.3596 - val_loss: 1.3331 - val_accuracy: 0.3765\n",
            "Epoch 78/100\n",
            "331/331 [==============================] - 1s 3ms/step - loss: 1.3681 - accuracy: 0.3572 - val_loss: 1.3323 - val_accuracy: 0.3708\n",
            "Epoch 79/100\n",
            "331/331 [==============================] - 1s 3ms/step - loss: 1.3655 - accuracy: 0.3562 - val_loss: 1.3317 - val_accuracy: 0.3751\n",
            "Epoch 80/100\n",
            "331/331 [==============================] - 1s 3ms/step - loss: 1.3666 - accuracy: 0.3635 - val_loss: 1.3321 - val_accuracy: 0.3765\n",
            "Epoch 81/100\n",
            "331/331 [==============================] - 1s 3ms/step - loss: 1.3656 - accuracy: 0.3573 - val_loss: 1.3326 - val_accuracy: 0.3699\n",
            "Epoch 82/100\n",
            "331/331 [==============================] - 1s 3ms/step - loss: 1.3644 - accuracy: 0.3600 - val_loss: 1.3323 - val_accuracy: 0.3727\n",
            "Epoch 83/100\n",
            "331/331 [==============================] - 1s 3ms/step - loss: 1.3655 - accuracy: 0.3634 - val_loss: 1.3307 - val_accuracy: 0.3784\n",
            "Epoch 84/100\n",
            "331/331 [==============================] - 1s 3ms/step - loss: 1.3631 - accuracy: 0.3618 - val_loss: 1.3306 - val_accuracy: 0.3718\n",
            "Epoch 85/100\n",
            "331/331 [==============================] - 1s 3ms/step - loss: 1.3656 - accuracy: 0.3597 - val_loss: 1.3320 - val_accuracy: 0.3718\n",
            "Epoch 86/100\n",
            "331/331 [==============================] - 1s 3ms/step - loss: 1.3604 - accuracy: 0.3607 - val_loss: 1.3315 - val_accuracy: 0.3793\n",
            "Epoch 87/100\n",
            "331/331 [==============================] - 1s 3ms/step - loss: 1.3636 - accuracy: 0.3585 - val_loss: 1.3302 - val_accuracy: 0.3774\n",
            "Epoch 88/100\n",
            "331/331 [==============================] - 1s 3ms/step - loss: 1.3665 - accuracy: 0.3560 - val_loss: 1.3300 - val_accuracy: 0.3779\n",
            "Epoch 89/100\n",
            "331/331 [==============================] - 1s 3ms/step - loss: 1.3650 - accuracy: 0.3615 - val_loss: 1.3313 - val_accuracy: 0.3793\n",
            "Epoch 90/100\n",
            "331/331 [==============================] - 1s 3ms/step - loss: 1.3640 - accuracy: 0.3638 - val_loss: 1.3300 - val_accuracy: 0.3793\n",
            "Epoch 91/100\n",
            "331/331 [==============================] - 1s 3ms/step - loss: 1.3628 - accuracy: 0.3601 - val_loss: 1.3307 - val_accuracy: 0.3718\n",
            "Epoch 92/100\n",
            "331/331 [==============================] - 1s 3ms/step - loss: 1.3642 - accuracy: 0.3590 - val_loss: 1.3288 - val_accuracy: 0.3703\n",
            "Epoch 93/100\n",
            "331/331 [==============================] - 1s 3ms/step - loss: 1.3630 - accuracy: 0.3619 - val_loss: 1.3281 - val_accuracy: 0.3741\n",
            "Epoch 94/100\n",
            "331/331 [==============================] - 1s 3ms/step - loss: 1.3629 - accuracy: 0.3613 - val_loss: 1.3279 - val_accuracy: 0.3718\n",
            "Epoch 95/100\n",
            "331/331 [==============================] - 1s 3ms/step - loss: 1.3630 - accuracy: 0.3557 - val_loss: 1.3291 - val_accuracy: 0.3718\n",
            "Epoch 96/100\n",
            "331/331 [==============================] - 1s 3ms/step - loss: 1.3618 - accuracy: 0.3614 - val_loss: 1.3273 - val_accuracy: 0.3741\n",
            "Epoch 97/100\n",
            "331/331 [==============================] - 1s 3ms/step - loss: 1.3639 - accuracy: 0.3617 - val_loss: 1.3276 - val_accuracy: 0.3779\n",
            "Epoch 98/100\n",
            "331/331 [==============================] - 1s 3ms/step - loss: 1.3626 - accuracy: 0.3637 - val_loss: 1.3277 - val_accuracy: 0.3760\n",
            "Epoch 99/100\n",
            "331/331 [==============================] - 1s 3ms/step - loss: 1.3619 - accuracy: 0.3626 - val_loss: 1.3275 - val_accuracy: 0.3741\n",
            "Epoch 100/100\n",
            "331/331 [==============================] - 1s 3ms/step - loss: 1.3601 - accuracy: 0.3561 - val_loss: 1.3267 - val_accuracy: 0.3727\n",
            "67/67 [==============================] - 0s 1ms/step - loss: 1.3267 - accuracy: 0.3727\n",
            "*** Test loss: 1.3267166703494626 - accuracy: 0.37269720435142517\n"
          ],
          "name": "stdout"
        }
      ]
    },
    {
      "cell_type": "code",
      "metadata": {
        "id": "SB0bLWHaFYlc",
        "colab_type": "code",
        "colab": {
          "base_uri": "https://localhost:8080/",
          "height": 265
        },
        "outputId": "7a883322-c28d-4564-adfb-67b308c9d1c8"
      },
      "source": [
        "predictions = numpy.argmax(model.predict(test_ds), axis=1)\n",
        "seaborn.countplot(predictions);"
      ],
      "execution_count": 64,
      "outputs": [
        {
          "output_type": "display_data",
          "data": {
            "image/png": "[encoded data removed]",
            "text/plain": [
              "<Figure size 432x288 with 1 Axes>"
            ]
          },
          "metadata": {
            "tags": []
          }
        }
      ]
    },
    {
      "cell_type": "code",
      "metadata": {
        "id": "z9Igt6g0EKCE",
        "colab_type": "code",
        "colab": {
          "base_uri": "https://localhost:8080/",
          "height": 295
        },
        "outputId": "29d38633-553e-4a12-d98f-5f482a904dba"
      },
      "source": [
        "# summarize history for accuracy\n",
        "plt.plot(history.history['accuracy'])\n",
        "plt.plot(history.history['val_accuracy'])\n",
        "plt.title('model accuracy')\n",
        "plt.ylabel('accuracy')\n",
        "plt.xlabel('epoch')\n",
        "plt.legend(['train', 'test']);"
      ],
      "execution_count": 65,
      "outputs": [
        {
          "output_type": "display_data",
          "data": {
            "image/png": "[encoded data removed]",
            "text/plain": [
              "<Figure size 432x288 with 1 Axes>"
            ]
          },
          "metadata": {
            "tags": []
          }
        }
      ]
    },
    {
      "cell_type": "markdown",
      "metadata": {
        "id": "R1IVRjIgekvX",
        "colab_type": "text"
      },
      "source": [
        "Al menos hasta el epoch 100, no se ve que se produzca overfitting a epochs grandes. En caso de producirse, se tendria que entrenar la red con menos epochs."
      ]
    },
    {
      "cell_type": "code",
      "metadata": {
        "id": "Ok08lGaXFPY0",
        "colab_type": "code",
        "colab": {
          "base_uri": "https://localhost:8080/",
          "height": 295
        },
        "outputId": "1745fd2f-4e21-46b4-9b34-d16065442cd6"
      },
      "source": [
        "plt.plot(history.history['loss'])\n",
        "plt.plot(history.history['val_loss'])\n",
        "plt.title('model loss')\n",
        "plt.ylabel('loss')\n",
        "plt.xlabel('epoch')\n",
        "plt.legend(['train', 'test']);"
      ],
      "execution_count": 66,
      "outputs": [
        {
          "output_type": "display_data",
          "data": {
            "image/png": "[encoded data removed]",
            "text/plain": [
              "<Figure size 432x288 with 1 Axes>"
            ]
          },
          "metadata": {
            "tags": []
          }
        }
      ]
    },
    {
      "cell_type": "markdown",
      "metadata": {
        "id": "6Td9DIg0etb2",
        "colab_type": "text"
      },
      "source": [
        "El cambio de red produjo mejores resultados, esto se puede visualizar en valores mayores de accuracy."
      ]
    },
    {
      "cell_type": "markdown",
      "metadata": {
        "id": "akrr1z0oHWxY",
        "colab_type": "text"
      },
      "source": [
        "En cuanto al parámetro loss, este último modelo también funcionó mejor."
      ]
    },
    {
      "cell_type": "markdown",
      "metadata": {
        "id": "vmcpWSUQKcqw",
        "colab_type": "text"
      },
      "source": [
        "---------------"
      ]
    },
    {
      "cell_type": "markdown",
      "metadata": {
        "id": "EV29r9bqfCy9",
        "colab_type": "text"
      },
      "source": [
        "Vemos que resultados obtenemos con otro modelo. Utilizamos varios layers con softmax como funcion de activacion."
      ]
    },
    {
      "cell_type": "code",
      "metadata": {
        "id": "7L6WIqtGKd7H",
        "colab_type": "code",
        "colab": {
          "base_uri": "https://localhost:8080/",
          "height": 35
        },
        "outputId": "75df4f21-871a-4e15-da31-e09b61f78cc9"
      },
      "source": [
        "tf.keras.backend.clear_session()\n",
        "\n",
        "hidden_layer_size = 64\n",
        "\n",
        "# Add one input and one embedding for each embedded column\n",
        "embedding_layers = []\n",
        "inputs = []\n",
        "for embedded_col, max_value in embedded_columns.items():\n",
        "    input_layer = layers.Input(shape=(1,), name=embedded_col)\n",
        "    inputs.append(input_layer)\n",
        "    # Define the embedding layer\n",
        "    embedding_size = int(max_value / 4)\n",
        "    embedding_layers.append(\n",
        "        tf.squeeze(layers.Embedding(input_dim=max_value, output_dim=embedding_size)(input_layer), axis=-2))\n",
        "    print('Adding embedding of size {} for layer {}'.format(embedding_size, embedded_col))\n",
        "\n",
        "# Add the direct features already calculated\n",
        "direct_features_input = layers.Input(shape=direct_features_input_shape, name='direct_features')\n",
        "inputs.append(direct_features_input)\n",
        "    \n",
        "# Concatenate everything together\n",
        "features = layers.concatenate(embedding_layers + [direct_features_input])\n",
        "\n",
        "dense1 = layers.Dense(hidden_layer_size, activation='softmax')(features)\n",
        "\n",
        "dense2 = layers.Dense(hidden_layer_size, activation='softmax')(dense1)\n",
        "\n",
        "output_layer = layers.Dense(nlabels, activation='softmax')(dense2)\n",
        "\n",
        "model = models.Model(inputs=inputs, outputs=output_layer)"
      ],
      "execution_count": 67,
      "outputs": [
        {
          "output_type": "stream",
          "text": [
            "Adding embedding of size 77 for layer Breed1\n"
          ],
          "name": "stdout"
        }
      ]
    },
    {
      "cell_type": "code",
      "metadata": {
        "id": "Yhj-ImJ0Krcd",
        "colab_type": "code",
        "colab": {
          "base_uri": "https://localhost:8080/",
          "height": 461
        },
        "outputId": "b7d92460-f814-4de6-9848-5a273fcff285"
      },
      "source": [
        "model.compile(loss='mean_squared_error', optimizer='sgd',\n",
        "              metrics=['accuracy'])\n",
        "model.summary()"
      ],
      "execution_count": 68,
      "outputs": [
        {
          "output_type": "stream",
          "text": [
            "Model: \"model\"\n",
            "__________________________________________________________________________________________________\n",
            "Layer (type)                    Output Shape         Param #     Connected to                     \n",
            "==================================================================================================\n",
            "Breed1 (InputLayer)             [(None, 1)]          0                                            \n",
            "__________________________________________________________________________________________________\n",
            "embedding (Embedding)           (None, 1, 77)        23716       Breed1[0][0]                     \n",
            "__________________________________________________________________________________________________\n",
            "tf_op_layer_Squeeze (TensorFlow [(None, 77)]         0           embedding[0][0]                  \n",
            "__________________________________________________________________________________________________\n",
            "direct_features (InputLayer)    [(None, 10)]         0                                            \n",
            "__________________________________________________________________________________________________\n",
            "concatenate (Concatenate)       (None, 87)           0           tf_op_layer_Squeeze[0][0]        \n",
            "                                                                 direct_features[0][0]            \n",
            "__________________________________________________________________________________________________\n",
            "dense (Dense)                   (None, 64)           5632        concatenate[0][0]                \n",
            "__________________________________________________________________________________________________\n",
            "dense_1 (Dense)                 (None, 64)           4160        dense[0][0]                      \n",
            "__________________________________________________________________________________________________\n",
            "dense_2 (Dense)                 (None, 5)            325         dense_1[0][0]                    \n",
            "==================================================================================================\n",
            "Total params: 33,833\n",
            "Trainable params: 33,833\n",
            "Non-trainable params: 0\n",
            "__________________________________________________________________________________________________\n"
          ],
          "name": "stdout"
        }
      ]
    },
    {
      "cell_type": "code",
      "metadata": {
        "id": "Y-RByNdlLV2p",
        "colab_type": "code",
        "colab": {
          "base_uri": "https://localhost:8080/",
          "height": 665
        },
        "outputId": "f564a0b9-5856-4fa8-e62e-2192bb213c79"
      },
      "source": [
        "SVG(model_to_dot(model, dpi=72).create(prog='dot', format='svg'))"
      ],
      "execution_count": 69,
      "outputs": [
        {
          "output_type": "execute_result",
          "data": {
            "text/plain": [
              "<IPython.core.display.SVG object>"
            ],
            "image/svg+xml": "<svg height=\"483pt\" viewBox=\"0.00 0.00 461.50 483.00\" width=\"462pt\" xmlns=\"http://www.w3.org/2000/svg\" xmlns:xlink=\"http://www.w3.org/1999/xlink\">\n<g class=\"graph\" id=\"graph0\" transform=\"scale(1 1) rotate(0) translate(4 479)\">\n<title>G</title>\n<polygon fill=\"#ffffff\" points=\"-4,4 -4,-479 457.5,-479 457.5,4 -4,4\" stroke=\"transparent\"/>\n<!-- 140080577652328 -->\n<g class=\"node\" id=\"node1\">\n<title>140080577652328</title>\n<polygon fill=\"none\" points=\"68,-438.5 68,-474.5 197,-474.5 197,-438.5 68,-438.5\" stroke=\"#000000\"/>\n<text fill=\"#000000\" font-family=\"Times,serif\" font-size=\"14.00\" text-anchor=\"middle\" x=\"132.5\" y=\"-452.8\">Breed1: InputLayer</text>\n</g>\n<!-- 140080577725496 -->\n<g class=\"node\" id=\"node2\">\n<title>140080577725496</title>\n<polygon fill=\"none\" points=\"54.5,-365.5 54.5,-401.5 210.5,-401.5 210.5,-365.5 54.5,-365.5\" stroke=\"#000000\"/>\n<text fill=\"#000000\" font-family=\"Times,serif\" font-size=\"14.00\" text-anchor=\"middle\" x=\"132.5\" y=\"-379.8\">embedding: Embedding</text>\n</g>\n<!-- 140080577652328&#45;&gt;140080577725496 -->\n<g class=\"edge\" id=\"edge1\">\n<title>140080577652328-&gt;140080577725496</title>\n<path d=\"M132.5,-438.4551C132.5,-430.3828 132.5,-420.6764 132.5,-411.6817\" fill=\"none\" stroke=\"#000000\"/>\n<polygon fill=\"#000000\" points=\"136.0001,-411.5903 132.5,-401.5904 129.0001,-411.5904 136.0001,-411.5903\" stroke=\"#000000\"/>\n</g>\n<!-- 140080577699064 -->\n<g class=\"node\" id=\"node3\">\n<title>140080577699064</title>\n<polygon fill=\"none\" points=\"0,-292.5 0,-328.5 265,-328.5 265,-292.5 0,-292.5\" stroke=\"#000000\"/>\n<text fill=\"#000000\" font-family=\"Times,serif\" font-size=\"14.00\" text-anchor=\"middle\" x=\"132.5\" y=\"-306.8\">tf_op_layer_Squeeze: TensorFlowOpLayer</text>\n</g>\n<!-- 140080577725496&#45;&gt;140080577699064 -->\n<g class=\"edge\" id=\"edge2\">\n<title>140080577725496-&gt;140080577699064</title>\n<path d=\"M132.5,-365.4551C132.5,-357.3828 132.5,-347.6764 132.5,-338.6817\" fill=\"none\" stroke=\"#000000\"/>\n<polygon fill=\"#000000\" points=\"136.0001,-338.5903 132.5,-328.5904 129.0001,-338.5904 136.0001,-338.5903\" stroke=\"#000000\"/>\n</g>\n<!-- 140080577724544 -->\n<g class=\"node\" id=\"node5\">\n<title>140080577724544</title>\n<polygon fill=\"none\" points=\"170.5,-219.5 170.5,-255.5 330.5,-255.5 330.5,-219.5 170.5,-219.5\" stroke=\"#000000\"/>\n<text fill=\"#000000\" font-family=\"Times,serif\" font-size=\"14.00\" text-anchor=\"middle\" x=\"250.5\" y=\"-233.8\">concatenate: Concatenate</text>\n</g>\n<!-- 140080577699064&#45;&gt;140080577724544 -->\n<g class=\"edge\" id=\"edge3\">\n<title>140080577699064-&gt;140080577724544</title>\n<path d=\"M161.6685,-292.4551C176.986,-282.979 195.9439,-271.2508 212.4073,-261.0658\" fill=\"none\" stroke=\"#000000\"/>\n<polygon fill=\"#000000\" points=\"214.5952,-263.8279 221.258,-255.5904 210.9125,-257.875 214.5952,-263.8279\" stroke=\"#000000\"/>\n</g>\n<!-- 140080577652440 -->\n<g class=\"node\" id=\"node4\">\n<title>140080577652440</title>\n<polygon fill=\"none\" points=\"283.5,-292.5 283.5,-328.5 453.5,-328.5 453.5,-292.5 283.5,-292.5\" stroke=\"#000000\"/>\n<text fill=\"#000000\" font-family=\"Times,serif\" font-size=\"14.00\" text-anchor=\"middle\" x=\"368.5\" y=\"-306.8\">direct_features: InputLayer</text>\n</g>\n<!-- 140080577652440&#45;&gt;140080577724544 -->\n<g class=\"edge\" id=\"edge4\">\n<title>140080577652440-&gt;140080577724544</title>\n<path d=\"M339.3315,-292.4551C324.014,-282.979 305.0561,-271.2508 288.5927,-261.0658\" fill=\"none\" stroke=\"#000000\"/>\n<polygon fill=\"#000000\" points=\"290.0875,-257.875 279.742,-255.5904 286.4048,-263.8279 290.0875,-257.875\" stroke=\"#000000\"/>\n</g>\n<!-- 140080577727288 -->\n<g class=\"node\" id=\"node6\">\n<title>140080577727288</title>\n<polygon fill=\"none\" points=\"204.5,-146.5 204.5,-182.5 296.5,-182.5 296.5,-146.5 204.5,-146.5\" stroke=\"#000000\"/>\n<text fill=\"#000000\" font-family=\"Times,serif\" font-size=\"14.00\" text-anchor=\"middle\" x=\"250.5\" y=\"-160.8\">dense: Dense</text>\n</g>\n<!-- 140080577724544&#45;&gt;140080577727288 -->\n<g class=\"edge\" id=\"edge5\">\n<title>140080577724544-&gt;140080577727288</title>\n<path d=\"M250.5,-219.4551C250.5,-211.3828 250.5,-201.6764 250.5,-192.6817\" fill=\"none\" stroke=\"#000000\"/>\n<polygon fill=\"#000000\" points=\"254.0001,-192.5903 250.5,-182.5904 247.0001,-192.5904 254.0001,-192.5903\" stroke=\"#000000\"/>\n</g>\n<!-- 140080577696936 -->\n<g class=\"node\" id=\"node7\">\n<title>140080577696936</title>\n<polygon fill=\"none\" points=\"197,-73.5 197,-109.5 304,-109.5 304,-73.5 197,-73.5\" stroke=\"#000000\"/>\n<text fill=\"#000000\" font-family=\"Times,serif\" font-size=\"14.00\" text-anchor=\"middle\" x=\"250.5\" y=\"-87.8\">dense_1: Dense</text>\n</g>\n<!-- 140080577727288&#45;&gt;140080577696936 -->\n<g class=\"edge\" id=\"edge6\">\n<title>140080577727288-&gt;140080577696936</title>\n<path d=\"M250.5,-146.4551C250.5,-138.3828 250.5,-128.6764 250.5,-119.6817\" fill=\"none\" stroke=\"#000000\"/>\n<polygon fill=\"#000000\" points=\"254.0001,-119.5903 250.5,-109.5904 247.0001,-119.5904 254.0001,-119.5903\" stroke=\"#000000\"/>\n</g>\n<!-- 140080577696824 -->\n<g class=\"node\" id=\"node8\">\n<title>140080577696824</title>\n<polygon fill=\"none\" points=\"197,-.5 197,-36.5 304,-36.5 304,-.5 197,-.5\" stroke=\"#000000\"/>\n<text fill=\"#000000\" font-family=\"Times,serif\" font-size=\"14.00\" text-anchor=\"middle\" x=\"250.5\" y=\"-14.8\">dense_2: Dense</text>\n</g>\n<!-- 140080577696936&#45;&gt;140080577696824 -->\n<g class=\"edge\" id=\"edge7\">\n<title>140080577696936-&gt;140080577696824</title>\n<path d=\"M250.5,-73.4551C250.5,-65.3828 250.5,-55.6764 250.5,-46.6817\" fill=\"none\" stroke=\"#000000\"/>\n<polygon fill=\"#000000\" points=\"254.0001,-46.5903 250.5,-36.5904 247.0001,-46.5904 254.0001,-46.5903\" stroke=\"#000000\"/>\n</g>\n</g>\n</svg>"
          },
          "metadata": {
            "tags": []
          },
          "execution_count": 69
        }
      ]
    },
    {
      "cell_type": "code",
      "metadata": {
        "id": "HgO8BbmjLdd4",
        "colab_type": "code",
        "colab": {
          "base_uri": "https://localhost:8080/",
          "height": 1000
        },
        "outputId": "96b3b43f-b161-4672-c810-6aedf3ce3035"
      },
      "source": [
        "mlflow.set_experiment('very_base_approach')\n",
        "\n",
        "with mlflow.start_run(nested=True):\n",
        "    # Log model hiperparameters first\n",
        "    mlflow.log_param('hidden_layer_size', hidden_layer_size)\n",
        "    mlflow.log_param('embedded_columns', embedded_columns)\n",
        "    mlflow.log_param('one_hot_columns', one_hot_columns)\n",
        "    # mlflow.log_param('numerical_columns', numerical_columns)  # Not using these yet\n",
        "    \n",
        "    # Train\n",
        "    epochs = 100\n",
        "    history = model.fit(train_ds, epochs=epochs,validation_data=test_ds)\n",
        "    \n",
        "    # Evaluate\n",
        "    loss, accuracy = model.evaluate(test_ds)\n",
        "    print(\"*** Test loss: {} - accuracy: {}\".format(loss, accuracy))\n",
        "    mlflow.log_metric('epochs', epochs)\n",
        "    mlflow.log_metric('loss', loss)\n",
        "    mlflow.log_metric('accuracy', accuracy)"
      ],
      "execution_count": 70,
      "outputs": [
        {
          "output_type": "stream",
          "text": [
            "Epoch 1/100\n",
            "331/331 [==============================] - 2s 7ms/step - loss: 0.1600 - accuracy: 0.2035 - val_loss: 0.0000e+00 - val_accuracy: 0.0000e+00\n",
            "Epoch 2/100\n",
            "331/331 [==============================] - 1s 2ms/step - loss: 0.1592 - accuracy: 0.2801 - val_loss: 0.1589 - val_accuracy: 0.2631\n",
            "Epoch 3/100\n",
            "331/331 [==============================] - 1s 2ms/step - loss: 0.1585 - accuracy: 0.2801 - val_loss: 0.1582 - val_accuracy: 0.2631\n",
            "Epoch 4/100\n",
            "331/331 [==============================] - 1s 2ms/step - loss: 0.1579 - accuracy: 0.2801 - val_loss: 0.1576 - val_accuracy: 0.2631\n",
            "Epoch 5/100\n",
            "331/331 [==============================] - 1s 2ms/step - loss: 0.1573 - accuracy: 0.2801 - val_loss: 0.1571 - val_accuracy: 0.2631\n",
            "Epoch 6/100\n",
            "331/331 [==============================] - 1s 2ms/step - loss: 0.1569 - accuracy: 0.2801 - val_loss: 0.1567 - val_accuracy: 0.2631\n",
            "Epoch 7/100\n",
            "331/331 [==============================] - 1s 2ms/step - loss: 0.1564 - accuracy: 0.2801 - val_loss: 0.1563 - val_accuracy: 0.2631\n",
            "Epoch 8/100\n",
            "331/331 [==============================] - 1s 2ms/step - loss: 0.1561 - accuracy: 0.2801 - val_loss: 0.1560 - val_accuracy: 0.2631\n",
            "Epoch 9/100\n",
            "331/331 [==============================] - 1s 2ms/step - loss: 0.1558 - accuracy: 0.2801 - val_loss: 0.1557 - val_accuracy: 0.2631\n",
            "Epoch 10/100\n",
            "331/331 [==============================] - 1s 2ms/step - loss: 0.1555 - accuracy: 0.2801 - val_loss: 0.1554 - val_accuracy: 0.2631\n",
            "Epoch 11/100\n",
            "331/331 [==============================] - 1s 2ms/step - loss: 0.1552 - accuracy: 0.2801 - val_loss: 0.1552 - val_accuracy: 0.2631\n",
            "Epoch 12/100\n",
            "331/331 [==============================] - 1s 2ms/step - loss: 0.1550 - accuracy: 0.2801 - val_loss: 0.1550 - val_accuracy: 0.2631\n",
            "Epoch 13/100\n",
            "331/331 [==============================] - 1s 2ms/step - loss: 0.1548 - accuracy: 0.2801 - val_loss: 0.1548 - val_accuracy: 0.2631\n",
            "Epoch 14/100\n",
            "331/331 [==============================] - 1s 2ms/step - loss: 0.1546 - accuracy: 0.2801 - val_loss: 0.1546 - val_accuracy: 0.2631\n",
            "Epoch 15/100\n",
            "331/331 [==============================] - 1s 2ms/step - loss: 0.1544 - accuracy: 0.2801 - val_loss: 0.1545 - val_accuracy: 0.2631\n",
            "Epoch 16/100\n",
            "331/331 [==============================] - 1s 2ms/step - loss: 0.1543 - accuracy: 0.2801 - val_loss: 0.1543 - val_accuracy: 0.2631\n",
            "Epoch 17/100\n",
            "331/331 [==============================] - 1s 2ms/step - loss: 0.1542 - accuracy: 0.2801 - val_loss: 0.1542 - val_accuracy: 0.2631\n",
            "Epoch 18/100\n",
            "331/331 [==============================] - 1s 2ms/step - loss: 0.1540 - accuracy: 0.2801 - val_loss: 0.1541 - val_accuracy: 0.2631\n",
            "Epoch 19/100\n",
            "331/331 [==============================] - 1s 2ms/step - loss: 0.1539 - accuracy: 0.2801 - val_loss: 0.1540 - val_accuracy: 0.2631\n",
            "Epoch 20/100\n",
            "331/331 [==============================] - 1s 2ms/step - loss: 0.1538 - accuracy: 0.2801 - val_loss: 0.1539 - val_accuracy: 0.2631\n",
            "Epoch 21/100\n",
            "331/331 [==============================] - 1s 2ms/step - loss: 0.1537 - accuracy: 0.2801 - val_loss: 0.1538 - val_accuracy: 0.2631\n",
            "Epoch 22/100\n",
            "331/331 [==============================] - 1s 2ms/step - loss: 0.1536 - accuracy: 0.2801 - val_loss: 0.1537 - val_accuracy: 0.2631\n",
            "Epoch 23/100\n",
            "331/331 [==============================] - 1s 2ms/step - loss: 0.1535 - accuracy: 0.2801 - val_loss: 0.1536 - val_accuracy: 0.2631\n",
            "Epoch 24/100\n",
            "331/331 [==============================] - 1s 2ms/step - loss: 0.1535 - accuracy: 0.2801 - val_loss: 0.1535 - val_accuracy: 0.2631\n",
            "Epoch 25/100\n",
            "331/331 [==============================] - 1s 2ms/step - loss: 0.1534 - accuracy: 0.2801 - val_loss: 0.1535 - val_accuracy: 0.2631\n",
            "Epoch 26/100\n",
            "331/331 [==============================] - 1s 2ms/step - loss: 0.1533 - accuracy: 0.2801 - val_loss: 0.1534 - val_accuracy: 0.2631\n",
            "Epoch 27/100\n",
            "331/331 [==============================] - 1s 2ms/step - loss: 0.1533 - accuracy: 0.2801 - val_loss: 0.1533 - val_accuracy: 0.2631\n",
            "Epoch 28/100\n",
            "331/331 [==============================] - 1s 2ms/step - loss: 0.1532 - accuracy: 0.2801 - val_loss: 0.1533 - val_accuracy: 0.2631\n",
            "Epoch 29/100\n",
            "331/331 [==============================] - 1s 2ms/step - loss: 0.1531 - accuracy: 0.2801 - val_loss: 0.1532 - val_accuracy: 0.2631\n",
            "Epoch 30/100\n",
            "331/331 [==============================] - 1s 2ms/step - loss: 0.1531 - accuracy: 0.2801 - val_loss: 0.1532 - val_accuracy: 0.2631\n",
            "Epoch 31/100\n",
            "331/331 [==============================] - 1s 2ms/step - loss: 0.1530 - accuracy: 0.2801 - val_loss: 0.1531 - val_accuracy: 0.2631\n",
            "Epoch 32/100\n",
            "331/331 [==============================] - 1s 2ms/step - loss: 0.1530 - accuracy: 0.2801 - val_loss: 0.1531 - val_accuracy: 0.2631\n",
            "Epoch 33/100\n",
            "331/331 [==============================] - 1s 2ms/step - loss: 0.1530 - accuracy: 0.2801 - val_loss: 0.1530 - val_accuracy: 0.2631\n",
            "Epoch 34/100\n",
            "331/331 [==============================] - 1s 2ms/step - loss: 0.1529 - accuracy: 0.2801 - val_loss: 0.1530 - val_accuracy: 0.2631\n",
            "Epoch 35/100\n",
            "331/331 [==============================] - 1s 2ms/step - loss: 0.1529 - accuracy: 0.2801 - val_loss: 0.1530 - val_accuracy: 0.2631\n",
            "Epoch 36/100\n",
            "331/331 [==============================] - 1s 2ms/step - loss: 0.1528 - accuracy: 0.2801 - val_loss: 0.1529 - val_accuracy: 0.2631\n",
            "Epoch 37/100\n",
            "331/331 [==============================] - 1s 2ms/step - loss: 0.1528 - accuracy: 0.2801 - val_loss: 0.1529 - val_accuracy: 0.2631\n",
            "Epoch 38/100\n",
            "331/331 [==============================] - 1s 2ms/step - loss: 0.1528 - accuracy: 0.2801 - val_loss: 0.1529 - val_accuracy: 0.2631\n",
            "Epoch 39/100\n",
            "331/331 [==============================] - 1s 2ms/step - loss: 0.1527 - accuracy: 0.2801 - val_loss: 0.1528 - val_accuracy: 0.2631\n",
            "Epoch 40/100\n",
            "331/331 [==============================] - 1s 2ms/step - loss: 0.1527 - accuracy: 0.2801 - val_loss: 0.1528 - val_accuracy: 0.2631\n",
            "Epoch 41/100\n",
            "331/331 [==============================] - 1s 2ms/step - loss: 0.1527 - accuracy: 0.2801 - val_loss: 0.1528 - val_accuracy: 0.2631\n",
            "Epoch 42/100\n",
            "331/331 [==============================] - 1s 2ms/step - loss: 0.1527 - accuracy: 0.2801 - val_loss: 0.1527 - val_accuracy: 0.2631\n",
            "Epoch 43/100\n",
            "331/331 [==============================] - 1s 2ms/step - loss: 0.1526 - accuracy: 0.2801 - val_loss: 0.1527 - val_accuracy: 0.2631\n",
            "Epoch 44/100\n",
            "331/331 [==============================] - 1s 2ms/step - loss: 0.1526 - accuracy: 0.2801 - val_loss: 0.1527 - val_accuracy: 0.2631\n",
            "Epoch 45/100\n",
            "331/331 [==============================] - 1s 2ms/step - loss: 0.1526 - accuracy: 0.2801 - val_loss: 0.1527 - val_accuracy: 0.2631\n",
            "Epoch 46/100\n",
            "331/331 [==============================] - 1s 2ms/step - loss: 0.1526 - accuracy: 0.2801 - val_loss: 0.1526 - val_accuracy: 0.2631\n",
            "Epoch 47/100\n",
            "331/331 [==============================] - 1s 2ms/step - loss: 0.1525 - accuracy: 0.2801 - val_loss: 0.1526 - val_accuracy: 0.2631\n",
            "Epoch 48/100\n",
            "331/331 [==============================] - 1s 2ms/step - loss: 0.1525 - accuracy: 0.2801 - val_loss: 0.1526 - val_accuracy: 0.2631\n",
            "Epoch 49/100\n",
            "331/331 [==============================] - 1s 2ms/step - loss: 0.1525 - accuracy: 0.2801 - val_loss: 0.1526 - val_accuracy: 0.2631\n",
            "Epoch 50/100\n",
            "331/331 [==============================] - 1s 2ms/step - loss: 0.1525 - accuracy: 0.2801 - val_loss: 0.1526 - val_accuracy: 0.2631\n",
            "Epoch 51/100\n",
            "331/331 [==============================] - 1s 2ms/step - loss: 0.1525 - accuracy: 0.2801 - val_loss: 0.1525 - val_accuracy: 0.2631\n",
            "Epoch 52/100\n",
            "331/331 [==============================] - 1s 2ms/step - loss: 0.1524 - accuracy: 0.2801 - val_loss: 0.1525 - val_accuracy: 0.2631\n",
            "Epoch 53/100\n",
            "331/331 [==============================] - 1s 2ms/step - loss: 0.1524 - accuracy: 0.2801 - val_loss: 0.1525 - val_accuracy: 0.2631\n",
            "Epoch 54/100\n",
            "331/331 [==============================] - 1s 2ms/step - loss: 0.1524 - accuracy: 0.2801 - val_loss: 0.1525 - val_accuracy: 0.2631\n",
            "Epoch 55/100\n",
            "331/331 [==============================] - 1s 2ms/step - loss: 0.1524 - accuracy: 0.2801 - val_loss: 0.1525 - val_accuracy: 0.2631\n",
            "Epoch 56/100\n",
            "331/331 [==============================] - 1s 2ms/step - loss: 0.1524 - accuracy: 0.2801 - val_loss: 0.1525 - val_accuracy: 0.2631\n",
            "Epoch 57/100\n",
            "331/331 [==============================] - 1s 2ms/step - loss: 0.1524 - accuracy: 0.2801 - val_loss: 0.1524 - val_accuracy: 0.2631\n",
            "Epoch 58/100\n",
            "331/331 [==============================] - 1s 2ms/step - loss: 0.1524 - accuracy: 0.2801 - val_loss: 0.1524 - val_accuracy: 0.2631\n",
            "Epoch 59/100\n",
            "331/331 [==============================] - 1s 2ms/step - loss: 0.1523 - accuracy: 0.2801 - val_loss: 0.1524 - val_accuracy: 0.2631\n",
            "Epoch 60/100\n",
            "331/331 [==============================] - 1s 2ms/step - loss: 0.1523 - accuracy: 0.2801 - val_loss: 0.1524 - val_accuracy: 0.2631\n",
            "Epoch 61/100\n",
            "331/331 [==============================] - 1s 2ms/step - loss: 0.1523 - accuracy: 0.2801 - val_loss: 0.1524 - val_accuracy: 0.2631\n",
            "Epoch 62/100\n",
            "331/331 [==============================] - 1s 2ms/step - loss: 0.1523 - accuracy: 0.2801 - val_loss: 0.1524 - val_accuracy: 0.2631\n",
            "Epoch 63/100\n",
            "331/331 [==============================] - 1s 2ms/step - loss: 0.1523 - accuracy: 0.2801 - val_loss: 0.1524 - val_accuracy: 0.2631\n",
            "Epoch 64/100\n",
            "331/331 [==============================] - 1s 2ms/step - loss: 0.1523 - accuracy: 0.2801 - val_loss: 0.1523 - val_accuracy: 0.2631\n",
            "Epoch 65/100\n",
            "331/331 [==============================] - 1s 2ms/step - loss: 0.1523 - accuracy: 0.2801 - val_loss: 0.1523 - val_accuracy: 0.2631\n",
            "Epoch 66/100\n",
            "331/331 [==============================] - 1s 2ms/step - loss: 0.1523 - accuracy: 0.2801 - val_loss: 0.1523 - val_accuracy: 0.2631\n",
            "Epoch 67/100\n",
            "331/331 [==============================] - 1s 2ms/step - loss: 0.1522 - accuracy: 0.2801 - val_loss: 0.1523 - val_accuracy: 0.2631\n",
            "Epoch 68/100\n",
            "331/331 [==============================] - 1s 2ms/step - loss: 0.1522 - accuracy: 0.2801 - val_loss: 0.1523 - val_accuracy: 0.2631\n",
            "Epoch 69/100\n",
            "331/331 [==============================] - 1s 2ms/step - loss: 0.1522 - accuracy: 0.2801 - val_loss: 0.1523 - val_accuracy: 0.2631\n",
            "Epoch 70/100\n",
            "331/331 [==============================] - 1s 2ms/step - loss: 0.1522 - accuracy: 0.2801 - val_loss: 0.1523 - val_accuracy: 0.2631\n",
            "Epoch 71/100\n",
            "331/331 [==============================] - 1s 2ms/step - loss: 0.1522 - accuracy: 0.2801 - val_loss: 0.1523 - val_accuracy: 0.2631\n",
            "Epoch 72/100\n",
            "331/331 [==============================] - 1s 2ms/step - loss: 0.1522 - accuracy: 0.2801 - val_loss: 0.1523 - val_accuracy: 0.2631\n",
            "Epoch 73/100\n",
            "331/331 [==============================] - 1s 2ms/step - loss: 0.1522 - accuracy: 0.2801 - val_loss: 0.1523 - val_accuracy: 0.2631\n",
            "Epoch 74/100\n",
            "331/331 [==============================] - 1s 2ms/step - loss: 0.1522 - accuracy: 0.2801 - val_loss: 0.1522 - val_accuracy: 0.2631\n",
            "Epoch 75/100\n",
            "331/331 [==============================] - 1s 2ms/step - loss: 0.1522 - accuracy: 0.2801 - val_loss: 0.1522 - val_accuracy: 0.2631\n",
            "Epoch 76/100\n",
            "331/331 [==============================] - 1s 2ms/step - loss: 0.1522 - accuracy: 0.2801 - val_loss: 0.1522 - val_accuracy: 0.2631\n",
            "Epoch 77/100\n",
            "331/331 [==============================] - 1s 2ms/step - loss: 0.1522 - accuracy: 0.2801 - val_loss: 0.1522 - val_accuracy: 0.2631\n",
            "Epoch 78/100\n",
            "331/331 [==============================] - 1s 2ms/step - loss: 0.1522 - accuracy: 0.2801 - val_loss: 0.1522 - val_accuracy: 0.2631\n",
            "Epoch 79/100\n",
            "331/331 [==============================] - 1s 2ms/step - loss: 0.1521 - accuracy: 0.2801 - val_loss: 0.1522 - val_accuracy: 0.2631\n",
            "Epoch 80/100\n",
            "331/331 [==============================] - 1s 2ms/step - loss: 0.1521 - accuracy: 0.2801 - val_loss: 0.1522 - val_accuracy: 0.2631\n",
            "Epoch 81/100\n",
            "331/331 [==============================] - 1s 2ms/step - loss: 0.1521 - accuracy: 0.2801 - val_loss: 0.1522 - val_accuracy: 0.2631\n",
            "Epoch 82/100\n",
            "331/331 [==============================] - 1s 2ms/step - loss: 0.1521 - accuracy: 0.2801 - val_loss: 0.1522 - val_accuracy: 0.2631\n",
            "Epoch 83/100\n",
            "331/331 [==============================] - 1s 2ms/step - loss: 0.1521 - accuracy: 0.2801 - val_loss: 0.1522 - val_accuracy: 0.2631\n",
            "Epoch 84/100\n",
            "331/331 [==============================] - 1s 2ms/step - loss: 0.1521 - accuracy: 0.2801 - val_loss: 0.1522 - val_accuracy: 0.2631\n",
            "Epoch 85/100\n",
            "331/331 [==============================] - 1s 2ms/step - loss: 0.1521 - accuracy: 0.2801 - val_loss: 0.1522 - val_accuracy: 0.2631\n",
            "Epoch 86/100\n",
            "331/331 [==============================] - 1s 2ms/step - loss: 0.1521 - accuracy: 0.2801 - val_loss: 0.1521 - val_accuracy: 0.2631\n",
            "Epoch 87/100\n",
            "331/331 [==============================] - 1s 2ms/step - loss: 0.1521 - accuracy: 0.2801 - val_loss: 0.1521 - val_accuracy: 0.2631\n",
            "Epoch 88/100\n",
            "331/331 [==============================] - 1s 2ms/step - loss: 0.1521 - accuracy: 0.2801 - val_loss: 0.1521 - val_accuracy: 0.2631\n",
            "Epoch 89/100\n",
            "331/331 [==============================] - 1s 2ms/step - loss: 0.1521 - accuracy: 0.2801 - val_loss: 0.1521 - val_accuracy: 0.2631\n",
            "Epoch 90/100\n",
            "331/331 [==============================] - 1s 2ms/step - loss: 0.1521 - accuracy: 0.2801 - val_loss: 0.1521 - val_accuracy: 0.2631\n",
            "Epoch 91/100\n",
            "331/331 [==============================] - 1s 2ms/step - loss: 0.1521 - accuracy: 0.2801 - val_loss: 0.1521 - val_accuracy: 0.2631\n",
            "Epoch 92/100\n",
            "331/331 [==============================] - 1s 2ms/step - loss: 0.1521 - accuracy: 0.2801 - val_loss: 0.1521 - val_accuracy: 0.2631\n",
            "Epoch 93/100\n",
            "331/331 [==============================] - 1s 2ms/step - loss: 0.1521 - accuracy: 0.2801 - val_loss: 0.1521 - val_accuracy: 0.2631\n",
            "Epoch 94/100\n",
            "331/331 [==============================] - 1s 2ms/step - loss: 0.1521 - accuracy: 0.2801 - val_loss: 0.1521 - val_accuracy: 0.2631\n",
            "Epoch 95/100\n",
            "331/331 [==============================] - 1s 2ms/step - loss: 0.1520 - accuracy: 0.2801 - val_loss: 0.1521 - val_accuracy: 0.2631\n",
            "Epoch 96/100\n",
            "331/331 [==============================] - 1s 2ms/step - loss: 0.1520 - accuracy: 0.2801 - val_loss: 0.1521 - val_accuracy: 0.2631\n",
            "Epoch 97/100\n",
            "331/331 [==============================] - 1s 2ms/step - loss: 0.1520 - accuracy: 0.2801 - val_loss: 0.1521 - val_accuracy: 0.2631\n",
            "Epoch 98/100\n",
            "331/331 [==============================] - 1s 2ms/step - loss: 0.1520 - accuracy: 0.2801 - val_loss: 0.1521 - val_accuracy: 0.2631\n",
            "Epoch 99/100\n",
            "331/331 [==============================] - 1s 2ms/step - loss: 0.1520 - accuracy: 0.2801 - val_loss: 0.1521 - val_accuracy: 0.2631\n",
            "Epoch 100/100\n",
            "331/331 [==============================] - 1s 2ms/step - loss: 0.1520 - accuracy: 0.2801 - val_loss: 0.1521 - val_accuracy: 0.2631\n",
            "67/67 [==============================] - 0s 1ms/step - loss: 0.1521 - accuracy: 0.2631\n",
            "*** Test loss: 0.15206458274997883 - accuracy: 0.26310816407203674\n"
          ],
          "name": "stdout"
        }
      ]
    },
    {
      "cell_type": "code",
      "metadata": {
        "id": "EQhVU6asLjKB",
        "colab_type": "code",
        "colab": {
          "base_uri": "https://localhost:8080/",
          "height": 265
        },
        "outputId": "30c27b5f-8ae0-4553-f0fd-50185a80963d"
      },
      "source": [
        "predictions = numpy.argmax(model.predict(test_ds), axis=1)\n",
        "seaborn.countplot(predictions);"
      ],
      "execution_count": 71,
      "outputs": [
        {
          "output_type": "display_data",
          "data": {
            "image/png": "[encoded data removed]",
            "text/plain": [
              "<Figure size 432x288 with 1 Axes>"
            ]
          },
          "metadata": {
            "tags": []
          }
        }
      ]
    },
    {
      "cell_type": "code",
      "metadata": {
        "id": "McuVc8IHLqX8",
        "colab_type": "code",
        "colab": {
          "base_uri": "https://localhost:8080/",
          "height": 295
        },
        "outputId": "12f14a68-94df-4e65-d9ed-1ac1794dc4c0"
      },
      "source": [
        "# summarize history for accuracy\n",
        "plt.plot(history.history['accuracy'])\n",
        "plt.plot(history.history['val_accuracy'])\n",
        "plt.title('model accuracy')\n",
        "plt.ylabel('accuracy')\n",
        "plt.xlabel('epoch')\n",
        "plt.legend(['train', 'test']);\n"
      ],
      "execution_count": 72,
      "outputs": [
        {
          "output_type": "display_data",
          "data": {
            "image/png": "[encoded data removed]",
            "text/plain": [
              "<Figure size 432x288 with 1 Axes>"
            ]
          },
          "metadata": {
            "tags": []
          }
        }
      ]
    },
    {
      "cell_type": "code",
      "metadata": {
        "id": "IV_1wDUULvGK",
        "colab_type": "code",
        "colab": {
          "base_uri": "https://localhost:8080/",
          "height": 295
        },
        "outputId": "c265cfa4-5c28-4f1a-f969-8f35885f1326"
      },
      "source": [
        "plt.plot(history.history['loss'])\n",
        "plt.plot(history.history['val_loss'])\n",
        "plt.title('model loss')\n",
        "plt.ylabel('loss')\n",
        "plt.xlabel('epoch')\n",
        "plt.legend(['train', 'test']);"
      ],
      "execution_count": 73,
      "outputs": [
        {
          "output_type": "display_data",
          "data": {
            "image/png": "[encoded data removed]",
            "text/plain": [
              "<Figure size 432x288 with 1 Axes>"
            ]
          },
          "metadata": {
            "tags": []
          }
        }
      ]
    },
    {
      "cell_type": "markdown",
      "metadata": {
        "id": "C_jD4PTLgJFg",
        "colab_type": "text"
      },
      "source": [
        "Loss decrece a mayor epoch."
      ]
    },
    {
      "cell_type": "markdown",
      "metadata": {
        "id": "v2PG4ZRvgRSD",
        "colab_type": "text"
      },
      "source": [
        "La arquitectura de este modelo genera resultados menos convincentes que el anterior."
      ]
    },
    {
      "cell_type": "markdown",
      "metadata": {
        "id": "oqqW75aUfmAo",
        "colab_type": "text"
      },
      "source": [
        "En los modelos utilizados no parece gererar problemas utilizar un numero de epoch grande, no genera una tendencia a tener overfitting."
      ]
    },
    {
      "cell_type": "markdown",
      "metadata": {
        "id": "v3sAH6vEIvvu",
        "colab_type": "text"
      },
      "source": [
        "---------------------------"
      ]
    },
    {
      "cell_type": "markdown",
      "metadata": {
        "id": "cckpDaqBJcD9",
        "colab_type": "text"
      },
      "source": [
        "About batch size:"
      ]
    },
    {
      "cell_type": "markdown",
      "metadata": {
        "id": "w5s3xRZYJeEF",
        "colab_type": "text"
      },
      "source": [
        "From Nitish Shirish Keskar, Dheevatsa Mudigere, Jorge Nocedal, Mikhail Smelyanskiy, Ping Tak Peter Tang. On Large-Batch Training for Deep Learning: Generalization Gap and Sharp Minima. https://arxiv.org/abs/1609.04836 :\n",
        "\n",
        "The stochastic gradient descent method and its variants are algorithms of choice for many Deep Learning tasks. These methods operate in a small-batch regime wherein a fraction of the training data, usually 32--512 data points, is sampled to compute an approximation to the gradient. It has been observed in practice that when using a larger batch there is a significant degradation in the quality of the model, as measured by its ability to generalize. "
      ]
    },
    {
      "cell_type": "markdown",
      "metadata": {
        "id": "fY6A1u-dKagI",
        "colab_type": "text"
      },
      "source": [
        "Vamos a probar el modelo anterior con batch sizes diferentes (solo cambiamos este parámetro) y compararemos los resultados."
      ]
    },
    {
      "cell_type": "code",
      "metadata": {
        "id": "Qm31DjoYLo05",
        "colab_type": "code",
        "colab": {}
      },
      "source": [
        "batch_size = 32*2\n",
        "# TODO shuffle the train dataset!\n",
        "train_ds = tf.data.Dataset.from_tensor_slices((X_train, y_train)).batch(batch_size)\n",
        "test_ds = tf.data.Dataset.from_tensor_slices(\n",
        "    process_features(dev_dataset, one_hot_columns, numeric_columns, embedded_columns, test=False)).batch(batch_size)"
      ],
      "execution_count": 0,
      "outputs": []
    },
    {
      "cell_type": "code",
      "metadata": {
        "id": "-Jo6G6FTMByv",
        "colab_type": "code",
        "colab": {}
      },
      "source": [
        "x_batch, y_batch = next(iter(train_ds))\n",
        "#x_batch, y_batch"
      ],
      "execution_count": 0,
      "outputs": []
    },
    {
      "cell_type": "code",
      "metadata": {
        "id": "GL7JKVNYKk20",
        "colab_type": "code",
        "colab": {
          "base_uri": "https://localhost:8080/",
          "height": 35
        },
        "outputId": "3d7606d0-ffdf-4f6b-d579-afbefda67885"
      },
      "source": [
        "tf.keras.backend.clear_session()\n",
        "\n",
        "hidden_layer_size = 64\n",
        "\n",
        "# Add one input and one embedding for each embedded column\n",
        "embedding_layers = []\n",
        "inputs = []\n",
        "for embedded_col, max_value in embedded_columns.items():\n",
        "    input_layer = layers.Input(shape=(1,), name=embedded_col)\n",
        "    inputs.append(input_layer)\n",
        "    # Define the embedding layer\n",
        "    embedding_size = int(max_value / 4)\n",
        "    embedding_layers.append(\n",
        "        tf.squeeze(layers.Embedding(input_dim=max_value, output_dim=embedding_size)(input_layer), axis=-2))\n",
        "    print('Adding embedding of size {} for layer {}'.format(embedding_size, embedded_col))\n",
        "\n",
        "# Add the direct features already calculated\n",
        "direct_features_input = layers.Input(shape=direct_features_input_shape, name='direct_features')\n",
        "inputs.append(direct_features_input)\n",
        "    \n",
        "# Concatenate everything together\n",
        "features = layers.concatenate(embedding_layers + [direct_features_input])\n",
        "\n",
        "dense1 = layers.Dense(hidden_layer_size, activation='softmax')(features)\n",
        "\n",
        "#dense1 = Dropout(0.2)(dense1)\n",
        "\n",
        "dense2 = layers.Dense(hidden_layer_size, activation='softmax')(dense1)\n",
        "\n",
        "output_layer = layers.Dense(nlabels, activation='softmax')(dense2)\n",
        "\n",
        "model = models.Model(inputs=inputs, outputs=output_layer)"
      ],
      "execution_count": 76,
      "outputs": [
        {
          "output_type": "stream",
          "text": [
            "Adding embedding of size 77 for layer Breed1\n"
          ],
          "name": "stdout"
        }
      ]
    },
    {
      "cell_type": "code",
      "metadata": {
        "id": "CdxfxjYrK_C1",
        "colab_type": "code",
        "colab": {
          "base_uri": "https://localhost:8080/",
          "height": 461
        },
        "outputId": "ece8b943-8567-4387-e4b3-72f39cfda28e"
      },
      "source": [
        "model.compile(loss='mean_squared_error', optimizer='sgd',\n",
        "              metrics=['accuracy'])\n",
        "model.summary()"
      ],
      "execution_count": 77,
      "outputs": [
        {
          "output_type": "stream",
          "text": [
            "Model: \"model\"\n",
            "__________________________________________________________________________________________________\n",
            "Layer (type)                    Output Shape         Param #     Connected to                     \n",
            "==================================================================================================\n",
            "Breed1 (InputLayer)             [(None, 1)]          0                                            \n",
            "__________________________________________________________________________________________________\n",
            "embedding (Embedding)           (None, 1, 77)        23716       Breed1[0][0]                     \n",
            "__________________________________________________________________________________________________\n",
            "tf_op_layer_Squeeze (TensorFlow [(None, 77)]         0           embedding[0][0]                  \n",
            "__________________________________________________________________________________________________\n",
            "direct_features (InputLayer)    [(None, 10)]         0                                            \n",
            "__________________________________________________________________________________________________\n",
            "concatenate (Concatenate)       (None, 87)           0           tf_op_layer_Squeeze[0][0]        \n",
            "                                                                 direct_features[0][0]            \n",
            "__________________________________________________________________________________________________\n",
            "dense (Dense)                   (None, 64)           5632        concatenate[0][0]                \n",
            "__________________________________________________________________________________________________\n",
            "dense_1 (Dense)                 (None, 64)           4160        dense[0][0]                      \n",
            "__________________________________________________________________________________________________\n",
            "dense_2 (Dense)                 (None, 5)            325         dense_1[0][0]                    \n",
            "==================================================================================================\n",
            "Total params: 33,833\n",
            "Trainable params: 33,833\n",
            "Non-trainable params: 0\n",
            "__________________________________________________________________________________________________\n"
          ],
          "name": "stdout"
        }
      ]
    },
    {
      "cell_type": "code",
      "metadata": {
        "id": "-5A7oDDJLHxL",
        "colab_type": "code",
        "colab": {
          "base_uri": "https://localhost:8080/",
          "height": 1000
        },
        "outputId": "2a6657ce-7239-4f1b-c8f6-00388ecc5bf7"
      },
      "source": [
        "mlflow.set_experiment('very_base_approach')\n",
        "\n",
        "with mlflow.start_run(nested=True):\n",
        "    # Log model hiperparameters first\n",
        "    mlflow.log_param('hidden_layer_size', hidden_layer_size)\n",
        "    mlflow.log_param('embedded_columns', embedded_columns)\n",
        "    mlflow.log_param('one_hot_columns', one_hot_columns)\n",
        "    # mlflow.log_param('numerical_columns', numerical_columns)  # Not using these yet\n",
        "    \n",
        "    # Train\n",
        "    epochs = 100\n",
        "    history64 = model.fit(train_ds, epochs=epochs,validation_data=test_ds)\n",
        "    \n",
        "    # Evaluate\n",
        "    loss, accuracy = model.evaluate(test_ds)\n",
        "    print(\"*** Test loss: {} - accuracy: {}\".format(loss, accuracy))\n",
        "    mlflow.log_metric('epochs', epochs)\n",
        "    mlflow.log_metric('loss', loss)\n",
        "    mlflow.log_metric('accuracy', accuracy)"
      ],
      "execution_count": 78,
      "outputs": [
        {
          "output_type": "stream",
          "text": [
            "Epoch 1/100\n",
            "166/166 [==============================] - 2s 10ms/step - loss: 0.1597 - accuracy: 0.2183 - val_loss: 0.0000e+00 - val_accuracy: 0.0000e+00\n",
            "Epoch 2/100\n",
            "166/166 [==============================] - 0s 3ms/step - loss: 0.1593 - accuracy: 0.2436 - val_loss: 0.1591 - val_accuracy: 0.2825\n",
            "Epoch 3/100\n",
            "166/166 [==============================] - 0s 3ms/step - loss: 0.1589 - accuracy: 0.2689 - val_loss: 0.1587 - val_accuracy: 0.2825\n",
            "Epoch 4/100\n",
            "166/166 [==============================] - 0s 3ms/step - loss: 0.1586 - accuracy: 0.2689 - val_loss: 0.1584 - val_accuracy: 0.2825\n",
            "Epoch 5/100\n",
            "166/166 [==============================] - 0s 3ms/step - loss: 0.1583 - accuracy: 0.2689 - val_loss: 0.1581 - val_accuracy: 0.2825\n",
            "Epoch 6/100\n",
            "166/166 [==============================] - 0s 3ms/step - loss: 0.1580 - accuracy: 0.2689 - val_loss: 0.1578 - val_accuracy: 0.2825\n",
            "Epoch 7/100\n",
            "166/166 [==============================] - 0s 3ms/step - loss: 0.1577 - accuracy: 0.2689 - val_loss: 0.1575 - val_accuracy: 0.2825\n",
            "Epoch 8/100\n",
            "166/166 [==============================] - 0s 3ms/step - loss: 0.1574 - accuracy: 0.2689 - val_loss: 0.1573 - val_accuracy: 0.2825\n",
            "Epoch 9/100\n",
            "166/166 [==============================] - 0s 3ms/step - loss: 0.1572 - accuracy: 0.2689 - val_loss: 0.1571 - val_accuracy: 0.2825\n",
            "Epoch 10/100\n",
            "166/166 [==============================] - 0s 3ms/step - loss: 0.1569 - accuracy: 0.2689 - val_loss: 0.1569 - val_accuracy: 0.2825\n",
            "Epoch 11/100\n",
            "166/166 [==============================] - 0s 3ms/step - loss: 0.1567 - accuracy: 0.2745 - val_loss: 0.1567 - val_accuracy: 0.2631\n",
            "Epoch 12/100\n",
            "166/166 [==============================] - 0s 3ms/step - loss: 0.1565 - accuracy: 0.2801 - val_loss: 0.1565 - val_accuracy: 0.2631\n",
            "Epoch 13/100\n",
            "166/166 [==============================] - 0s 3ms/step - loss: 0.1563 - accuracy: 0.2801 - val_loss: 0.1563 - val_accuracy: 0.2631\n",
            "Epoch 14/100\n",
            "166/166 [==============================] - 0s 3ms/step - loss: 0.1562 - accuracy: 0.2801 - val_loss: 0.1561 - val_accuracy: 0.2631\n",
            "Epoch 15/100\n",
            "166/166 [==============================] - 0s 3ms/step - loss: 0.1560 - accuracy: 0.2801 - val_loss: 0.1560 - val_accuracy: 0.2631\n",
            "Epoch 16/100\n",
            "166/166 [==============================] - 0s 3ms/step - loss: 0.1558 - accuracy: 0.2801 - val_loss: 0.1558 - val_accuracy: 0.2631\n",
            "Epoch 17/100\n",
            "166/166 [==============================] - 0s 3ms/step - loss: 0.1557 - accuracy: 0.2801 - val_loss: 0.1557 - val_accuracy: 0.2631\n",
            "Epoch 18/100\n",
            "166/166 [==============================] - 0s 3ms/step - loss: 0.1555 - accuracy: 0.2801 - val_loss: 0.1555 - val_accuracy: 0.2631\n",
            "Epoch 19/100\n",
            "166/166 [==============================] - 0s 3ms/step - loss: 0.1554 - accuracy: 0.2801 - val_loss: 0.1554 - val_accuracy: 0.2631\n",
            "Epoch 20/100\n",
            "166/166 [==============================] - 0s 3ms/step - loss: 0.1553 - accuracy: 0.2801 - val_loss: 0.1553 - val_accuracy: 0.2631\n",
            "Epoch 21/100\n",
            "166/166 [==============================] - 0s 3ms/step - loss: 0.1552 - accuracy: 0.2801 - val_loss: 0.1552 - val_accuracy: 0.2631\n",
            "Epoch 22/100\n",
            "166/166 [==============================] - 0s 3ms/step - loss: 0.1550 - accuracy: 0.2801 - val_loss: 0.1551 - val_accuracy: 0.2631\n",
            "Epoch 23/100\n",
            "166/166 [==============================] - 0s 3ms/step - loss: 0.1549 - accuracy: 0.2801 - val_loss: 0.1550 - val_accuracy: 0.2631\n",
            "Epoch 24/100\n",
            "166/166 [==============================] - 0s 3ms/step - loss: 0.1548 - accuracy: 0.2801 - val_loss: 0.1549 - val_accuracy: 0.2631\n",
            "Epoch 25/100\n",
            "166/166 [==============================] - 0s 3ms/step - loss: 0.1547 - accuracy: 0.2801 - val_loss: 0.1548 - val_accuracy: 0.2631\n",
            "Epoch 26/100\n",
            "166/166 [==============================] - 0s 3ms/step - loss: 0.1546 - accuracy: 0.2801 - val_loss: 0.1547 - val_accuracy: 0.2631\n",
            "Epoch 27/100\n",
            "166/166 [==============================] - 0s 3ms/step - loss: 0.1546 - accuracy: 0.2801 - val_loss: 0.1546 - val_accuracy: 0.2631\n",
            "Epoch 28/100\n",
            "166/166 [==============================] - 0s 3ms/step - loss: 0.1545 - accuracy: 0.2801 - val_loss: 0.1546 - val_accuracy: 0.2631\n",
            "Epoch 29/100\n",
            "166/166 [==============================] - 0s 3ms/step - loss: 0.1544 - accuracy: 0.2801 - val_loss: 0.1545 - val_accuracy: 0.2631\n",
            "Epoch 30/100\n",
            "166/166 [==============================] - 0s 3ms/step - loss: 0.1543 - accuracy: 0.2801 - val_loss: 0.1544 - val_accuracy: 0.2631\n",
            "Epoch 31/100\n",
            "166/166 [==============================] - 0s 3ms/step - loss: 0.1542 - accuracy: 0.2801 - val_loss: 0.1544 - val_accuracy: 0.2631\n",
            "Epoch 32/100\n",
            "166/166 [==============================] - 0s 3ms/step - loss: 0.1542 - accuracy: 0.2801 - val_loss: 0.1543 - val_accuracy: 0.2631\n",
            "Epoch 33/100\n",
            "166/166 [==============================] - 0s 3ms/step - loss: 0.1541 - accuracy: 0.2801 - val_loss: 0.1542 - val_accuracy: 0.2631\n",
            "Epoch 34/100\n",
            "166/166 [==============================] - 0s 3ms/step - loss: 0.1540 - accuracy: 0.2801 - val_loss: 0.1542 - val_accuracy: 0.2631\n",
            "Epoch 35/100\n",
            "166/166 [==============================] - 0s 2ms/step - loss: 0.1540 - accuracy: 0.2801 - val_loss: 0.1541 - val_accuracy: 0.2631\n",
            "Epoch 36/100\n",
            "166/166 [==============================] - 0s 3ms/step - loss: 0.1539 - accuracy: 0.2801 - val_loss: 0.1541 - val_accuracy: 0.2631\n",
            "Epoch 37/100\n",
            "166/166 [==============================] - 0s 2ms/step - loss: 0.1539 - accuracy: 0.2801 - val_loss: 0.1540 - val_accuracy: 0.2631\n",
            "Epoch 38/100\n",
            "166/166 [==============================] - 0s 3ms/step - loss: 0.1538 - accuracy: 0.2801 - val_loss: 0.1540 - val_accuracy: 0.2631\n",
            "Epoch 39/100\n",
            "166/166 [==============================] - 0s 3ms/step - loss: 0.1538 - accuracy: 0.2801 - val_loss: 0.1539 - val_accuracy: 0.2631\n",
            "Epoch 40/100\n",
            "166/166 [==============================] - 0s 3ms/step - loss: 0.1537 - accuracy: 0.2801 - val_loss: 0.1539 - val_accuracy: 0.2631\n",
            "Epoch 41/100\n",
            "166/166 [==============================] - 0s 3ms/step - loss: 0.1537 - accuracy: 0.2801 - val_loss: 0.1539 - val_accuracy: 0.2631\n",
            "Epoch 42/100\n",
            "166/166 [==============================] - 0s 2ms/step - loss: 0.1536 - accuracy: 0.2801 - val_loss: 0.1538 - val_accuracy: 0.2631\n",
            "Epoch 43/100\n",
            "166/166 [==============================] - 0s 3ms/step - loss: 0.1536 - accuracy: 0.2801 - val_loss: 0.1538 - val_accuracy: 0.2631\n",
            "Epoch 44/100\n",
            "166/166 [==============================] - 0s 3ms/step - loss: 0.1535 - accuracy: 0.2801 - val_loss: 0.1537 - val_accuracy: 0.2631\n",
            "Epoch 45/100\n",
            "166/166 [==============================] - 0s 3ms/step - loss: 0.1535 - accuracy: 0.2801 - val_loss: 0.1537 - val_accuracy: 0.2631\n",
            "Epoch 46/100\n",
            "166/166 [==============================] - 0s 2ms/step - loss: 0.1535 - accuracy: 0.2801 - val_loss: 0.1537 - val_accuracy: 0.2631\n",
            "Epoch 47/100\n",
            "166/166 [==============================] - 0s 3ms/step - loss: 0.1534 - accuracy: 0.2801 - val_loss: 0.1536 - val_accuracy: 0.2631\n",
            "Epoch 48/100\n",
            "166/166 [==============================] - 0s 3ms/step - loss: 0.1534 - accuracy: 0.2801 - val_loss: 0.1536 - val_accuracy: 0.2631\n",
            "Epoch 49/100\n",
            "166/166 [==============================] - 0s 3ms/step - loss: 0.1533 - accuracy: 0.2801 - val_loss: 0.1536 - val_accuracy: 0.2631\n",
            "Epoch 50/100\n",
            "166/166 [==============================] - 0s 3ms/step - loss: 0.1533 - accuracy: 0.2801 - val_loss: 0.1535 - val_accuracy: 0.2631\n",
            "Epoch 51/100\n",
            "166/166 [==============================] - 0s 3ms/step - loss: 0.1533 - accuracy: 0.2801 - val_loss: 0.1535 - val_accuracy: 0.2631\n",
            "Epoch 52/100\n",
            "166/166 [==============================] - 0s 3ms/step - loss: 0.1532 - accuracy: 0.2801 - val_loss: 0.1535 - val_accuracy: 0.2631\n",
            "Epoch 53/100\n",
            "166/166 [==============================] - 0s 2ms/step - loss: 0.1532 - accuracy: 0.2801 - val_loss: 0.1535 - val_accuracy: 0.2631\n",
            "Epoch 54/100\n",
            "166/166 [==============================] - 0s 3ms/step - loss: 0.1532 - accuracy: 0.2801 - val_loss: 0.1534 - val_accuracy: 0.2631\n",
            "Epoch 55/100\n",
            "166/166 [==============================] - 0s 2ms/step - loss: 0.1532 - accuracy: 0.2801 - val_loss: 0.1534 - val_accuracy: 0.2631\n",
            "Epoch 56/100\n",
            "166/166 [==============================] - 0s 3ms/step - loss: 0.1531 - accuracy: 0.2801 - val_loss: 0.1534 - val_accuracy: 0.2631\n",
            "Epoch 57/100\n",
            "166/166 [==============================] - 0s 3ms/step - loss: 0.1531 - accuracy: 0.2801 - val_loss: 0.1534 - val_accuracy: 0.2631\n",
            "Epoch 58/100\n",
            "166/166 [==============================] - 0s 3ms/step - loss: 0.1531 - accuracy: 0.2801 - val_loss: 0.1533 - val_accuracy: 0.2631\n",
            "Epoch 59/100\n",
            "166/166 [==============================] - 0s 3ms/step - loss: 0.1531 - accuracy: 0.2801 - val_loss: 0.1533 - val_accuracy: 0.2631\n",
            "Epoch 60/100\n",
            "166/166 [==============================] - 0s 3ms/step - loss: 0.1530 - accuracy: 0.2801 - val_loss: 0.1533 - val_accuracy: 0.2631\n",
            "Epoch 61/100\n",
            "166/166 [==============================] - 0s 3ms/step - loss: 0.1530 - accuracy: 0.2801 - val_loss: 0.1533 - val_accuracy: 0.2631\n",
            "Epoch 62/100\n",
            "166/166 [==============================] - 0s 3ms/step - loss: 0.1530 - accuracy: 0.2801 - val_loss: 0.1532 - val_accuracy: 0.2631\n",
            "Epoch 63/100\n",
            "166/166 [==============================] - 0s 3ms/step - loss: 0.1530 - accuracy: 0.2801 - val_loss: 0.1532 - val_accuracy: 0.2631\n",
            "Epoch 64/100\n",
            "166/166 [==============================] - 0s 3ms/step - loss: 0.1529 - accuracy: 0.2801 - val_loss: 0.1532 - val_accuracy: 0.2631\n",
            "Epoch 65/100\n",
            "166/166 [==============================] - 0s 3ms/step - loss: 0.1529 - accuracy: 0.2801 - val_loss: 0.1532 - val_accuracy: 0.2631\n",
            "Epoch 66/100\n",
            "166/166 [==============================] - 0s 3ms/step - loss: 0.1529 - accuracy: 0.2801 - val_loss: 0.1532 - val_accuracy: 0.2631\n",
            "Epoch 67/100\n",
            "166/166 [==============================] - 0s 2ms/step - loss: 0.1529 - accuracy: 0.2801 - val_loss: 0.1531 - val_accuracy: 0.2631\n",
            "Epoch 68/100\n",
            "166/166 [==============================] - 0s 3ms/step - loss: 0.1529 - accuracy: 0.2801 - val_loss: 0.1531 - val_accuracy: 0.2631\n",
            "Epoch 69/100\n",
            "166/166 [==============================] - 0s 3ms/step - loss: 0.1528 - accuracy: 0.2801 - val_loss: 0.1531 - val_accuracy: 0.2631\n",
            "Epoch 70/100\n",
            "166/166 [==============================] - 0s 3ms/step - loss: 0.1528 - accuracy: 0.2801 - val_loss: 0.1531 - val_accuracy: 0.2631\n",
            "Epoch 71/100\n",
            "166/166 [==============================] - 0s 3ms/step - loss: 0.1528 - accuracy: 0.2801 - val_loss: 0.1531 - val_accuracy: 0.2631\n",
            "Epoch 72/100\n",
            "166/166 [==============================] - 0s 3ms/step - loss: 0.1528 - accuracy: 0.2801 - val_loss: 0.1531 - val_accuracy: 0.2631\n",
            "Epoch 73/100\n",
            "166/166 [==============================] - 0s 3ms/step - loss: 0.1528 - accuracy: 0.2801 - val_loss: 0.1531 - val_accuracy: 0.2631\n",
            "Epoch 74/100\n",
            "166/166 [==============================] - 0s 3ms/step - loss: 0.1528 - accuracy: 0.2801 - val_loss: 0.1530 - val_accuracy: 0.2631\n",
            "Epoch 75/100\n",
            "166/166 [==============================] - 0s 3ms/step - loss: 0.1527 - accuracy: 0.2801 - val_loss: 0.1530 - val_accuracy: 0.2631\n",
            "Epoch 76/100\n",
            "166/166 [==============================] - 0s 3ms/step - loss: 0.1527 - accuracy: 0.2801 - val_loss: 0.1530 - val_accuracy: 0.2631\n",
            "Epoch 77/100\n",
            "166/166 [==============================] - 0s 3ms/step - loss: 0.1527 - accuracy: 0.2801 - val_loss: 0.1530 - val_accuracy: 0.2631\n",
            "Epoch 78/100\n",
            "166/166 [==============================] - 0s 3ms/step - loss: 0.1527 - accuracy: 0.2801 - val_loss: 0.1530 - val_accuracy: 0.2631\n",
            "Epoch 79/100\n",
            "166/166 [==============================] - 0s 2ms/step - loss: 0.1527 - accuracy: 0.2801 - val_loss: 0.1530 - val_accuracy: 0.2631\n",
            "Epoch 80/100\n",
            "166/166 [==============================] - 0s 2ms/step - loss: 0.1527 - accuracy: 0.2801 - val_loss: 0.1530 - val_accuracy: 0.2631\n",
            "Epoch 81/100\n",
            "166/166 [==============================] - 0s 3ms/step - loss: 0.1527 - accuracy: 0.2801 - val_loss: 0.1529 - val_accuracy: 0.2631\n",
            "Epoch 82/100\n",
            "166/166 [==============================] - 0s 3ms/step - loss: 0.1526 - accuracy: 0.2801 - val_loss: 0.1529 - val_accuracy: 0.2631\n",
            "Epoch 83/100\n",
            "166/166 [==============================] - 0s 3ms/step - loss: 0.1526 - accuracy: 0.2801 - val_loss: 0.1529 - val_accuracy: 0.2631\n",
            "Epoch 84/100\n",
            "166/166 [==============================] - 0s 3ms/step - loss: 0.1526 - accuracy: 0.2801 - val_loss: 0.1529 - val_accuracy: 0.2631\n",
            "Epoch 85/100\n",
            "166/166 [==============================] - 0s 3ms/step - loss: 0.1526 - accuracy: 0.2801 - val_loss: 0.1529 - val_accuracy: 0.2631\n",
            "Epoch 86/100\n",
            "166/166 [==============================] - 0s 3ms/step - loss: 0.1526 - accuracy: 0.2801 - val_loss: 0.1529 - val_accuracy: 0.2631\n",
            "Epoch 87/100\n",
            "166/166 [==============================] - 0s 3ms/step - loss: 0.1526 - accuracy: 0.2801 - val_loss: 0.1529 - val_accuracy: 0.2631\n",
            "Epoch 88/100\n",
            "166/166 [==============================] - 0s 3ms/step - loss: 0.1526 - accuracy: 0.2801 - val_loss: 0.1529 - val_accuracy: 0.2631\n",
            "Epoch 89/100\n",
            "166/166 [==============================] - 0s 3ms/step - loss: 0.1526 - accuracy: 0.2801 - val_loss: 0.1528 - val_accuracy: 0.2631\n",
            "Epoch 90/100\n",
            "166/166 [==============================] - 0s 3ms/step - loss: 0.1526 - accuracy: 0.2801 - val_loss: 0.1528 - val_accuracy: 0.2631\n",
            "Epoch 91/100\n",
            "166/166 [==============================] - 0s 3ms/step - loss: 0.1525 - accuracy: 0.2801 - val_loss: 0.1528 - val_accuracy: 0.2631\n",
            "Epoch 92/100\n",
            "166/166 [==============================] - 0s 3ms/step - loss: 0.1525 - accuracy: 0.2801 - val_loss: 0.1528 - val_accuracy: 0.2631\n",
            "Epoch 93/100\n",
            "166/166 [==============================] - 0s 3ms/step - loss: 0.1525 - accuracy: 0.2801 - val_loss: 0.1528 - val_accuracy: 0.2631\n",
            "Epoch 94/100\n",
            "166/166 [==============================] - 0s 3ms/step - loss: 0.1525 - accuracy: 0.2801 - val_loss: 0.1528 - val_accuracy: 0.2631\n",
            "Epoch 95/100\n",
            "166/166 [==============================] - 0s 3ms/step - loss: 0.1525 - accuracy: 0.2801 - val_loss: 0.1528 - val_accuracy: 0.2631\n",
            "Epoch 96/100\n",
            "166/166 [==============================] - 0s 3ms/step - loss: 0.1525 - accuracy: 0.2801 - val_loss: 0.1528 - val_accuracy: 0.2631\n",
            "Epoch 97/100\n",
            "166/166 [==============================] - 0s 3ms/step - loss: 0.1525 - accuracy: 0.2801 - val_loss: 0.1528 - val_accuracy: 0.2631\n",
            "Epoch 98/100\n",
            "166/166 [==============================] - 0s 3ms/step - loss: 0.1525 - accuracy: 0.2801 - val_loss: 0.1528 - val_accuracy: 0.2631\n",
            "Epoch 99/100\n",
            "166/166 [==============================] - 0s 3ms/step - loss: 0.1525 - accuracy: 0.2801 - val_loss: 0.1527 - val_accuracy: 0.2631\n",
            "Epoch 100/100\n",
            "166/166 [==============================] - 0s 3ms/step - loss: 0.1525 - accuracy: 0.2801 - val_loss: 0.1527 - val_accuracy: 0.2631\n",
            "34/34 [==============================] - 0s 2ms/step - loss: 0.1527 - accuracy: 0.2631\n",
            "*** Test loss: 0.15273568165652893 - accuracy: 0.26310816407203674\n"
          ],
          "name": "stdout"
        }
      ]
    },
    {
      "cell_type": "code",
      "metadata": {
        "id": "yhuTaDKXLMwo",
        "colab_type": "code",
        "colab": {}
      },
      "source": [
        "batch_size = 32*3\n",
        "\n",
        "train_ds = tf.data.Dataset.from_tensor_slices((X_train, y_train)).batch(batch_size)\n",
        "test_ds = tf.data.Dataset.from_tensor_slices(\n",
        "    process_features(dev_dataset, one_hot_columns, numeric_columns, embedded_columns, test=False)).batch(batch_size)"
      ],
      "execution_count": 0,
      "outputs": []
    },
    {
      "cell_type": "code",
      "metadata": {
        "id": "-3H-pZVLM9m2",
        "colab_type": "code",
        "colab": {
          "base_uri": "https://localhost:8080/",
          "height": 35
        },
        "outputId": "4a55522d-69f4-4465-a0a8-e34f29d26ad9"
      },
      "source": [
        "tf.keras.backend.clear_session()\n",
        "\n",
        "hidden_layer_size = 64\n",
        "\n",
        "# Add one input and one embedding for each embedded column\n",
        "embedding_layers = []\n",
        "inputs = []\n",
        "for embedded_col, max_value in embedded_columns.items():\n",
        "    input_layer = layers.Input(shape=(1,), name=embedded_col)\n",
        "    inputs.append(input_layer)\n",
        "    # Define the embedding layer\n",
        "    embedding_size = int(max_value / 4)\n",
        "    embedding_layers.append(\n",
        "        tf.squeeze(layers.Embedding(input_dim=max_value, output_dim=embedding_size)(input_layer), axis=-2))\n",
        "    print('Adding embedding of size {} for layer {}'.format(embedding_size, embedded_col))\n",
        "\n",
        "# Add the direct features already calculated\n",
        "direct_features_input = layers.Input(shape=direct_features_input_shape, name='direct_features')\n",
        "inputs.append(direct_features_input)\n",
        "    \n",
        "# Concatenate everything together\n",
        "features = layers.concatenate(embedding_layers + [direct_features_input])\n",
        "\n",
        "dense1 = layers.Dense(hidden_layer_size, activation='softmax')(features)\n",
        "\n",
        "#dense1 = Dropout(0.2)(dense1)\n",
        "\n",
        "dense2 = layers.Dense(hidden_layer_size, activation='softmax')(dense1)\n",
        "\n",
        "output_layer = layers.Dense(nlabels, activation='softmax')(dense2)\n",
        "\n",
        "model = models.Model(inputs=inputs, outputs=output_layer)"
      ],
      "execution_count": 80,
      "outputs": [
        {
          "output_type": "stream",
          "text": [
            "Adding embedding of size 77 for layer Breed1\n"
          ],
          "name": "stdout"
        }
      ]
    },
    {
      "cell_type": "code",
      "metadata": {
        "id": "K_V7QP6RNGBV",
        "colab_type": "code",
        "colab": {}
      },
      "source": [
        "model.compile(loss='mean_squared_error', optimizer='sgd',\n",
        "              metrics=['accuracy'])"
      ],
      "execution_count": 0,
      "outputs": []
    },
    {
      "cell_type": "code",
      "metadata": {
        "id": "QcGP-w1KNJVl",
        "colab_type": "code",
        "colab": {
          "base_uri": "https://localhost:8080/",
          "height": 1000
        },
        "outputId": "09066416-d2b2-49d9-d9b6-ae1a64057b6a"
      },
      "source": [
        "mlflow.set_experiment('very_base_approach')\n",
        "\n",
        "with mlflow.start_run(nested=True):\n",
        "    # Log model hiperparameters first\n",
        "    mlflow.log_param('hidden_layer_size', hidden_layer_size)\n",
        "    mlflow.log_param('embedded_columns', embedded_columns)\n",
        "    mlflow.log_param('one_hot_columns', one_hot_columns)\n",
        "    # mlflow.log_param('numerical_columns', numerical_columns)  # Not using these yet\n",
        "    \n",
        "    # Train\n",
        "    epochs = 100\n",
        "    history128 = model.fit(train_ds, epochs=epochs,validation_data=test_ds)\n",
        "    \n",
        "    # Evaluate\n",
        "    loss, accuracy = model.evaluate(test_ds)\n",
        "    print(\"*** Test loss: {} - accuracy: {}\".format(loss, accuracy))\n",
        "    mlflow.log_metric('epochs', epochs)\n",
        "    mlflow.log_metric('loss', loss)\n",
        "    mlflow.log_metric('accuracy', accuracy)"
      ],
      "execution_count": 82,
      "outputs": [
        {
          "output_type": "stream",
          "text": [
            "Epoch 1/100\n",
            "111/111 [==============================] - 1s 11ms/step - loss: 0.1608 - accuracy: 0.0269 - val_loss: 0.0000e+00 - val_accuracy: 0.0000e+00\n",
            "Epoch 2/100\n",
            "111/111 [==============================] - 0s 3ms/step - loss: 0.1605 - accuracy: 0.0269 - val_loss: 0.1603 - val_accuracy: 0.0222\n",
            "Epoch 3/100\n",
            "111/111 [==============================] - 0s 3ms/step - loss: 0.1601 - accuracy: 0.1906 - val_loss: 0.1600 - val_accuracy: 0.2631\n",
            "Epoch 4/100\n",
            "111/111 [==============================] - 0s 3ms/step - loss: 0.1598 - accuracy: 0.2801 - val_loss: 0.1598 - val_accuracy: 0.2631\n",
            "Epoch 5/100\n",
            "111/111 [==============================] - 0s 3ms/step - loss: 0.1596 - accuracy: 0.2801 - val_loss: 0.1595 - val_accuracy: 0.2631\n",
            "Epoch 6/100\n",
            "111/111 [==============================] - 0s 3ms/step - loss: 0.1593 - accuracy: 0.2801 - val_loss: 0.1592 - val_accuracy: 0.2631\n",
            "Epoch 7/100\n",
            "111/111 [==============================] - 0s 3ms/step - loss: 0.1590 - accuracy: 0.2801 - val_loss: 0.1590 - val_accuracy: 0.2631\n",
            "Epoch 8/100\n",
            "111/111 [==============================] - 0s 3ms/step - loss: 0.1588 - accuracy: 0.2801 - val_loss: 0.1587 - val_accuracy: 0.2631\n",
            "Epoch 9/100\n",
            "111/111 [==============================] - 0s 3ms/step - loss: 0.1586 - accuracy: 0.2801 - val_loss: 0.1585 - val_accuracy: 0.2631\n",
            "Epoch 10/100\n",
            "111/111 [==============================] - 0s 3ms/step - loss: 0.1583 - accuracy: 0.2801 - val_loss: 0.1583 - val_accuracy: 0.2631\n",
            "Epoch 11/100\n",
            "111/111 [==============================] - 0s 3ms/step - loss: 0.1581 - accuracy: 0.2801 - val_loss: 0.1581 - val_accuracy: 0.2631\n",
            "Epoch 12/100\n",
            "111/111 [==============================] - 0s 3ms/step - loss: 0.1579 - accuracy: 0.2801 - val_loss: 0.1579 - val_accuracy: 0.2631\n",
            "Epoch 13/100\n",
            "111/111 [==============================] - 0s 3ms/step - loss: 0.1577 - accuracy: 0.2801 - val_loss: 0.1578 - val_accuracy: 0.2631\n",
            "Epoch 14/100\n",
            "111/111 [==============================] - 0s 3ms/step - loss: 0.1576 - accuracy: 0.2801 - val_loss: 0.1576 - val_accuracy: 0.2631\n",
            "Epoch 15/100\n",
            "111/111 [==============================] - 0s 3ms/step - loss: 0.1574 - accuracy: 0.2801 - val_loss: 0.1574 - val_accuracy: 0.2631\n",
            "Epoch 16/100\n",
            "111/111 [==============================] - 0s 3ms/step - loss: 0.1572 - accuracy: 0.2801 - val_loss: 0.1573 - val_accuracy: 0.2631\n",
            "Epoch 17/100\n",
            "111/111 [==============================] - 0s 3ms/step - loss: 0.1571 - accuracy: 0.2801 - val_loss: 0.1571 - val_accuracy: 0.2631\n",
            "Epoch 18/100\n",
            "111/111 [==============================] - 0s 3ms/step - loss: 0.1569 - accuracy: 0.2801 - val_loss: 0.1570 - val_accuracy: 0.2631\n",
            "Epoch 19/100\n",
            "111/111 [==============================] - 0s 3ms/step - loss: 0.1568 - accuracy: 0.2801 - val_loss: 0.1568 - val_accuracy: 0.2631\n",
            "Epoch 20/100\n",
            "111/111 [==============================] - 0s 3ms/step - loss: 0.1566 - accuracy: 0.2801 - val_loss: 0.1567 - val_accuracy: 0.2631\n",
            "Epoch 21/100\n",
            "111/111 [==============================] - 0s 3ms/step - loss: 0.1565 - accuracy: 0.2801 - val_loss: 0.1566 - val_accuracy: 0.2631\n",
            "Epoch 22/100\n",
            "111/111 [==============================] - 0s 3ms/step - loss: 0.1564 - accuracy: 0.2801 - val_loss: 0.1565 - val_accuracy: 0.2631\n",
            "Epoch 23/100\n",
            "111/111 [==============================] - 0s 3ms/step - loss: 0.1562 - accuracy: 0.2801 - val_loss: 0.1564 - val_accuracy: 0.2631\n",
            "Epoch 24/100\n",
            "111/111 [==============================] - 0s 3ms/step - loss: 0.1561 - accuracy: 0.2801 - val_loss: 0.1563 - val_accuracy: 0.2631\n",
            "Epoch 25/100\n",
            "111/111 [==============================] - 0s 3ms/step - loss: 0.1560 - accuracy: 0.2801 - val_loss: 0.1562 - val_accuracy: 0.2631\n",
            "Epoch 26/100\n",
            "111/111 [==============================] - 0s 3ms/step - loss: 0.1559 - accuracy: 0.2801 - val_loss: 0.1561 - val_accuracy: 0.2631\n",
            "Epoch 27/100\n",
            "111/111 [==============================] - 0s 3ms/step - loss: 0.1558 - accuracy: 0.2801 - val_loss: 0.1560 - val_accuracy: 0.2631\n",
            "Epoch 28/100\n",
            "111/111 [==============================] - 0s 3ms/step - loss: 0.1557 - accuracy: 0.2801 - val_loss: 0.1559 - val_accuracy: 0.2631\n",
            "Epoch 29/100\n",
            "111/111 [==============================] - 0s 3ms/step - loss: 0.1556 - accuracy: 0.2801 - val_loss: 0.1558 - val_accuracy: 0.2631\n",
            "Epoch 30/100\n",
            "111/111 [==============================] - 0s 3ms/step - loss: 0.1555 - accuracy: 0.2801 - val_loss: 0.1557 - val_accuracy: 0.2631\n",
            "Epoch 31/100\n",
            "111/111 [==============================] - 0s 3ms/step - loss: 0.1554 - accuracy: 0.2801 - val_loss: 0.1556 - val_accuracy: 0.2631\n",
            "Epoch 32/100\n",
            "111/111 [==============================] - 0s 3ms/step - loss: 0.1553 - accuracy: 0.2801 - val_loss: 0.1555 - val_accuracy: 0.2631\n",
            "Epoch 33/100\n",
            "111/111 [==============================] - 0s 3ms/step - loss: 0.1552 - accuracy: 0.2801 - val_loss: 0.1555 - val_accuracy: 0.2631\n",
            "Epoch 34/100\n",
            "111/111 [==============================] - 0s 3ms/step - loss: 0.1552 - accuracy: 0.2801 - val_loss: 0.1554 - val_accuracy: 0.2631\n",
            "Epoch 35/100\n",
            "111/111 [==============================] - 0s 3ms/step - loss: 0.1551 - accuracy: 0.2801 - val_loss: 0.1553 - val_accuracy: 0.2631\n",
            "Epoch 36/100\n",
            "111/111 [==============================] - 0s 3ms/step - loss: 0.1550 - accuracy: 0.2801 - val_loss: 0.1552 - val_accuracy: 0.2631\n",
            "Epoch 37/100\n",
            "111/111 [==============================] - 0s 3ms/step - loss: 0.1549 - accuracy: 0.2801 - val_loss: 0.1552 - val_accuracy: 0.2631\n",
            "Epoch 38/100\n",
            "111/111 [==============================] - 0s 3ms/step - loss: 0.1549 - accuracy: 0.2801 - val_loss: 0.1551 - val_accuracy: 0.2631\n",
            "Epoch 39/100\n",
            "111/111 [==============================] - 0s 3ms/step - loss: 0.1548 - accuracy: 0.2801 - val_loss: 0.1551 - val_accuracy: 0.2631\n",
            "Epoch 40/100\n",
            "111/111 [==============================] - 0s 3ms/step - loss: 0.1547 - accuracy: 0.2801 - val_loss: 0.1550 - val_accuracy: 0.2631\n",
            "Epoch 41/100\n",
            "111/111 [==============================] - 0s 3ms/step - loss: 0.1547 - accuracy: 0.2801 - val_loss: 0.1549 - val_accuracy: 0.2631\n",
            "Epoch 42/100\n",
            "111/111 [==============================] - 0s 3ms/step - loss: 0.1546 - accuracy: 0.2801 - val_loss: 0.1549 - val_accuracy: 0.2631\n",
            "Epoch 43/100\n",
            "111/111 [==============================] - 0s 3ms/step - loss: 0.1546 - accuracy: 0.2801 - val_loss: 0.1548 - val_accuracy: 0.2631\n",
            "Epoch 44/100\n",
            "111/111 [==============================] - 0s 3ms/step - loss: 0.1545 - accuracy: 0.2801 - val_loss: 0.1548 - val_accuracy: 0.2631\n",
            "Epoch 45/100\n",
            "111/111 [==============================] - 0s 3ms/step - loss: 0.1544 - accuracy: 0.2801 - val_loss: 0.1547 - val_accuracy: 0.2631\n",
            "Epoch 46/100\n",
            "111/111 [==============================] - 0s 3ms/step - loss: 0.1544 - accuracy: 0.2801 - val_loss: 0.1547 - val_accuracy: 0.2631\n",
            "Epoch 47/100\n",
            "111/111 [==============================] - 0s 3ms/step - loss: 0.1543 - accuracy: 0.2801 - val_loss: 0.1546 - val_accuracy: 0.2631\n",
            "Epoch 48/100\n",
            "111/111 [==============================] - 0s 3ms/step - loss: 0.1543 - accuracy: 0.2801 - val_loss: 0.1546 - val_accuracy: 0.2631\n",
            "Epoch 49/100\n",
            "111/111 [==============================] - 0s 3ms/step - loss: 0.1542 - accuracy: 0.2801 - val_loss: 0.1546 - val_accuracy: 0.2631\n",
            "Epoch 50/100\n",
            "111/111 [==============================] - 0s 3ms/step - loss: 0.1542 - accuracy: 0.2801 - val_loss: 0.1545 - val_accuracy: 0.2631\n",
            "Epoch 51/100\n",
            "111/111 [==============================] - 0s 3ms/step - loss: 0.1542 - accuracy: 0.2801 - val_loss: 0.1545 - val_accuracy: 0.2631\n",
            "Epoch 52/100\n",
            "111/111 [==============================] - 0s 3ms/step - loss: 0.1541 - accuracy: 0.2801 - val_loss: 0.1544 - val_accuracy: 0.2631\n",
            "Epoch 53/100\n",
            "111/111 [==============================] - 0s 3ms/step - loss: 0.1541 - accuracy: 0.2801 - val_loss: 0.1544 - val_accuracy: 0.2631\n",
            "Epoch 54/100\n",
            "111/111 [==============================] - 0s 3ms/step - loss: 0.1540 - accuracy: 0.2801 - val_loss: 0.1544 - val_accuracy: 0.2631\n",
            "Epoch 55/100\n",
            "111/111 [==============================] - 0s 3ms/step - loss: 0.1540 - accuracy: 0.2801 - val_loss: 0.1543 - val_accuracy: 0.2631\n",
            "Epoch 56/100\n",
            "111/111 [==============================] - 0s 3ms/step - loss: 0.1539 - accuracy: 0.2801 - val_loss: 0.1543 - val_accuracy: 0.2631\n",
            "Epoch 57/100\n",
            "111/111 [==============================] - 0s 3ms/step - loss: 0.1539 - accuracy: 0.2801 - val_loss: 0.1543 - val_accuracy: 0.2631\n",
            "Epoch 58/100\n",
            "111/111 [==============================] - 0s 3ms/step - loss: 0.1539 - accuracy: 0.2801 - val_loss: 0.1542 - val_accuracy: 0.2631\n",
            "Epoch 59/100\n",
            "111/111 [==============================] - 0s 3ms/step - loss: 0.1538 - accuracy: 0.2801 - val_loss: 0.1542 - val_accuracy: 0.2631\n",
            "Epoch 60/100\n",
            "111/111 [==============================] - 0s 3ms/step - loss: 0.1538 - accuracy: 0.2801 - val_loss: 0.1542 - val_accuracy: 0.2631\n",
            "Epoch 61/100\n",
            "111/111 [==============================] - 0s 3ms/step - loss: 0.1538 - accuracy: 0.2801 - val_loss: 0.1541 - val_accuracy: 0.2631\n",
            "Epoch 62/100\n",
            "111/111 [==============================] - 0s 3ms/step - loss: 0.1537 - accuracy: 0.2801 - val_loss: 0.1541 - val_accuracy: 0.2631\n",
            "Epoch 63/100\n",
            "111/111 [==============================] - 0s 3ms/step - loss: 0.1537 - accuracy: 0.2801 - val_loss: 0.1541 - val_accuracy: 0.2631\n",
            "Epoch 64/100\n",
            "111/111 [==============================] - 0s 3ms/step - loss: 0.1537 - accuracy: 0.2801 - val_loss: 0.1541 - val_accuracy: 0.2631\n",
            "Epoch 65/100\n",
            "111/111 [==============================] - 0s 3ms/step - loss: 0.1536 - accuracy: 0.2801 - val_loss: 0.1540 - val_accuracy: 0.2631\n",
            "Epoch 66/100\n",
            "111/111 [==============================] - 0s 3ms/step - loss: 0.1536 - accuracy: 0.2801 - val_loss: 0.1540 - val_accuracy: 0.2631\n",
            "Epoch 67/100\n",
            "111/111 [==============================] - 0s 3ms/step - loss: 0.1536 - accuracy: 0.2801 - val_loss: 0.1540 - val_accuracy: 0.2631\n",
            "Epoch 68/100\n",
            "111/111 [==============================] - 0s 3ms/step - loss: 0.1536 - accuracy: 0.2801 - val_loss: 0.1539 - val_accuracy: 0.2631\n",
            "Epoch 69/100\n",
            "111/111 [==============================] - 0s 3ms/step - loss: 0.1535 - accuracy: 0.2801 - val_loss: 0.1539 - val_accuracy: 0.2631\n",
            "Epoch 70/100\n",
            "111/111 [==============================] - 0s 3ms/step - loss: 0.1535 - accuracy: 0.2801 - val_loss: 0.1539 - val_accuracy: 0.2631\n",
            "Epoch 71/100\n",
            "111/111 [==============================] - 0s 3ms/step - loss: 0.1535 - accuracy: 0.2801 - val_loss: 0.1539 - val_accuracy: 0.2631\n",
            "Epoch 72/100\n",
            "111/111 [==============================] - 0s 3ms/step - loss: 0.1534 - accuracy: 0.2801 - val_loss: 0.1539 - val_accuracy: 0.2631\n",
            "Epoch 73/100\n",
            "111/111 [==============================] - 0s 3ms/step - loss: 0.1534 - accuracy: 0.2801 - val_loss: 0.1538 - val_accuracy: 0.2631\n",
            "Epoch 74/100\n",
            "111/111 [==============================] - 0s 3ms/step - loss: 0.1534 - accuracy: 0.2801 - val_loss: 0.1538 - val_accuracy: 0.2631\n",
            "Epoch 75/100\n",
            "111/111 [==============================] - 0s 3ms/step - loss: 0.1534 - accuracy: 0.2801 - val_loss: 0.1538 - val_accuracy: 0.2631\n",
            "Epoch 76/100\n",
            "111/111 [==============================] - 0s 3ms/step - loss: 0.1534 - accuracy: 0.2801 - val_loss: 0.1538 - val_accuracy: 0.2631\n",
            "Epoch 77/100\n",
            "111/111 [==============================] - 0s 3ms/step - loss: 0.1533 - accuracy: 0.2801 - val_loss: 0.1537 - val_accuracy: 0.2631\n",
            "Epoch 78/100\n",
            "111/111 [==============================] - 0s 3ms/step - loss: 0.1533 - accuracy: 0.2801 - val_loss: 0.1537 - val_accuracy: 0.2631\n",
            "Epoch 79/100\n",
            "111/111 [==============================] - 0s 3ms/step - loss: 0.1533 - accuracy: 0.2801 - val_loss: 0.1537 - val_accuracy: 0.2631\n",
            "Epoch 80/100\n",
            "111/111 [==============================] - 0s 3ms/step - loss: 0.1533 - accuracy: 0.2801 - val_loss: 0.1537 - val_accuracy: 0.2631\n",
            "Epoch 81/100\n",
            "111/111 [==============================] - 0s 3ms/step - loss: 0.1532 - accuracy: 0.2801 - val_loss: 0.1537 - val_accuracy: 0.2631\n",
            "Epoch 82/100\n",
            "111/111 [==============================] - 0s 3ms/step - loss: 0.1532 - accuracy: 0.2801 - val_loss: 0.1537 - val_accuracy: 0.2631\n",
            "Epoch 83/100\n",
            "111/111 [==============================] - 0s 3ms/step - loss: 0.1532 - accuracy: 0.2801 - val_loss: 0.1536 - val_accuracy: 0.2631\n",
            "Epoch 84/100\n",
            "111/111 [==============================] - 0s 3ms/step - loss: 0.1532 - accuracy: 0.2801 - val_loss: 0.1536 - val_accuracy: 0.2631\n",
            "Epoch 85/100\n",
            "111/111 [==============================] - 0s 3ms/step - loss: 0.1532 - accuracy: 0.2801 - val_loss: 0.1536 - val_accuracy: 0.2631\n",
            "Epoch 86/100\n",
            "111/111 [==============================] - 0s 3ms/step - loss: 0.1531 - accuracy: 0.2801 - val_loss: 0.1536 - val_accuracy: 0.2631\n",
            "Epoch 87/100\n",
            "111/111 [==============================] - 0s 3ms/step - loss: 0.1531 - accuracy: 0.2801 - val_loss: 0.1536 - val_accuracy: 0.2631\n",
            "Epoch 88/100\n",
            "111/111 [==============================] - 0s 3ms/step - loss: 0.1531 - accuracy: 0.2801 - val_loss: 0.1536 - val_accuracy: 0.2631\n",
            "Epoch 89/100\n",
            "111/111 [==============================] - 0s 3ms/step - loss: 0.1531 - accuracy: 0.2801 - val_loss: 0.1535 - val_accuracy: 0.2631\n",
            "Epoch 90/100\n",
            "111/111 [==============================] - 0s 3ms/step - loss: 0.1531 - accuracy: 0.2801 - val_loss: 0.1535 - val_accuracy: 0.2631\n",
            "Epoch 91/100\n",
            "111/111 [==============================] - 0s 3ms/step - loss: 0.1531 - accuracy: 0.2801 - val_loss: 0.1535 - val_accuracy: 0.2631\n",
            "Epoch 92/100\n",
            "111/111 [==============================] - 0s 3ms/step - loss: 0.1530 - accuracy: 0.2801 - val_loss: 0.1535 - val_accuracy: 0.2631\n",
            "Epoch 93/100\n",
            "111/111 [==============================] - 0s 3ms/step - loss: 0.1530 - accuracy: 0.2801 - val_loss: 0.1535 - val_accuracy: 0.2631\n",
            "Epoch 94/100\n",
            "111/111 [==============================] - 0s 3ms/step - loss: 0.1530 - accuracy: 0.2801 - val_loss: 0.1535 - val_accuracy: 0.2631\n",
            "Epoch 95/100\n",
            "111/111 [==============================] - 0s 3ms/step - loss: 0.1530 - accuracy: 0.2801 - val_loss: 0.1535 - val_accuracy: 0.2631\n",
            "Epoch 96/100\n",
            "111/111 [==============================] - 0s 3ms/step - loss: 0.1530 - accuracy: 0.2801 - val_loss: 0.1534 - val_accuracy: 0.2631\n",
            "Epoch 97/100\n",
            "111/111 [==============================] - 0s 3ms/step - loss: 0.1530 - accuracy: 0.2801 - val_loss: 0.1534 - val_accuracy: 0.2631\n",
            "Epoch 98/100\n",
            "111/111 [==============================] - 0s 3ms/step - loss: 0.1530 - accuracy: 0.2801 - val_loss: 0.1534 - val_accuracy: 0.2631\n",
            "Epoch 99/100\n",
            "111/111 [==============================] - 0s 3ms/step - loss: 0.1529 - accuracy: 0.2801 - val_loss: 0.1534 - val_accuracy: 0.2631\n",
            "Epoch 100/100\n",
            "111/111 [==============================] - 0s 3ms/step - loss: 0.1529 - accuracy: 0.2801 - val_loss: 0.1534 - val_accuracy: 0.2631\n",
            "23/23 [==============================] - 0s 2ms/step - loss: 0.1534 - accuracy: 0.2631\n",
            "*** Test loss: 0.15338989833126898 - accuracy: 0.26310816407203674\n"
          ],
          "name": "stdout"
        }
      ]
    },
    {
      "cell_type": "code",
      "metadata": {
        "id": "hALLAL9bNT-L",
        "colab_type": "code",
        "colab": {
          "base_uri": "https://localhost:8080/",
          "height": 565
        },
        "outputId": "713408bb-4550-432b-a7aa-bed7041cc328"
      },
      "source": [
        "from matplotlib.pyplot import figure\n",
        "figure(num=None, figsize=(10,8), dpi=80, facecolor='w', edgecolor='k')\n",
        "\n",
        "plt.plot(history.history['loss'],label=\"batch=32.   Train\")\n",
        "plt.plot(history.history['val_loss'],label=\"batch=32.   Test\")\n",
        "\n",
        "plt.plot(history64.history['loss'],label=\"batch=64.   Train\")\n",
        "plt.plot(history64.history['val_loss'],label=\"batch=64.   Test\")\n",
        "\n",
        "plt.plot(history128.history['loss'],label=\"batch=128. Train\")\n",
        "plt.plot(history128.history['val_loss'],label=\"batch=128. Test\")\n",
        "\n",
        "\n",
        "plt.title('model loss')\n",
        "plt.ylabel('loss')\n",
        "plt.xlabel('epoch')\n",
        "plt.legend(loc='best')\n",
        "plt.show()"
      ],
      "execution_count": 83,
      "outputs": [
        {
          "output_type": "display_data",
          "data": {
            "image/png": "[encoded data removed]",
            "text/plain": [
              "<Figure size 800x640 with 1 Axes>"
            ]
          },
          "metadata": {
            "tags": []
          }
        }
      ]
    },
    {
      "cell_type": "markdown",
      "metadata": {
        "id": "_ml2AuNSN6-8",
        "colab_type": "text"
      },
      "source": [
        "Podemos ver que los resultados obtenidos muestran mejores resultados a menor batch size, de acuerdo con lo observado en el paper mencionado.\n",
        "\n",
        "Podriamos utilizar mas epochs para mejorar la efectividad del modelo, debido a la tendencia que muestran las curvas."
      ]
    },
    {
      "cell_type": "code",
      "metadata": {
        "id": "XkxFQUnl5l4O",
        "colab_type": "code",
        "colab": {
          "base_uri": "https://localhost:8080/",
          "height": 444
        },
        "outputId": "67ba463f-c963-4463-b3a9-2c93afc5e7e9"
      },
      "source": [
        "from matplotlib.pyplot import figure\n",
        "figure(num=None, figsize=(8,6), dpi=80, facecolor='w', edgecolor='k')\n",
        "\n",
        "plt.plot(history.history['accuracy'],label=\"batch=32.   Train\")\n",
        "plt.plot(history.history['val_accuracy'],label=\"batch=32.   Test\")\n",
        "\n",
        "plt.plot(history64.history['accuracy'],label=\"batch=64.   Train\")\n",
        "plt.plot(history64.history['val_accuracy'],label=\"batch=64.   Test\")\n",
        "\n",
        "plt.plot(history128.history['accuracy'],label=\"batch=128. Train\")\n",
        "plt.plot(history128.history['val_accuracy'],label=\"batch=128. Test\")\n",
        "\n",
        "\n",
        "plt.title('model accuracy')\n",
        "plt.ylabel('accuracy')\n",
        "plt.xlabel('epoch')\n",
        "plt.legend(loc='best')\n",
        "plt.show()"
      ],
      "execution_count": 84,
      "outputs": [
        {
          "output_type": "display_data",
          "data": {
            "image/png": "[encoded data removed]",
            "text/plain": [
              "<Figure size 640x480 with 1 Axes>"
            ]
          },
          "metadata": {
            "tags": []
          }
        }
      ]
    },
    {
      "cell_type": "markdown",
      "metadata": {
        "id": "Z0zesfiX6k7X",
        "colab_type": "text"
      },
      "source": [
        "Con ningun batch size logramos superar 0,30 de accuracy. Necesitamos encarar el problema por otro lado si queremos obtener una eficiencia significativamente mejor."
      ]
    },
    {
      "cell_type": "markdown",
      "metadata": {
        "id": "P9yO2a-l-4q6",
        "colab_type": "text"
      },
      "source": [
        "-------------------------------------------"
      ]
    },
    {
      "cell_type": "markdown",
      "metadata": {
        "id": "ojQhW6hMwjZA",
        "colab_type": "text"
      },
      "source": [
        "Ahora agregamos columnas numéricas:"
      ]
    },
    {
      "cell_type": "code",
      "metadata": {
        "id": "9O-42evUsQ2Z",
        "colab_type": "code",
        "colab": {}
      },
      "source": [
        "def process_features(df, one_hot_columns, numeric_columns, embedded_columns, test=False):#test=False->valor default para test si no esta definido\n",
        "    direct_features = []\n",
        "\n",
        "    # Create one hot encodings\n",
        "    for one_hot_col, max_value in one_hot_columns.items():\n",
        "        direct_features.append(tf.keras.utils.to_categorical(df[one_hot_col] - 1, max_value))\n",
        "\n",
        "    # Concatenate all features that don't need further embedding into a single matrix.\n",
        "    features = {'direct_features': numpy.hstack(direct_features)}#\"num_columns\":num_columns}\n",
        "\n",
        "    for numeric_col in ['Age', 'Fee']:\n",
        "      features[numeric_col] = numpy.hstack(tf.keras.utils.normalize(df[numeric_col].values)) \n",
        "\n",
        "    # Create embedding columns - nothing to do here. We will use the zero embedding for OOV\n",
        "    for embedded_col in embedded_columns.keys():\n",
        "        features[embedded_col] = df[embedded_col].values\n",
        "\n",
        "    if not test:\n",
        "        nlabels = df[TARGET_COL].unique().shape[0]\n",
        "        # Convert labels to one-hot encodings\n",
        "        targets = tf.keras.utils.to_categorical(df[TARGET_COL], nlabels)\n",
        "    else:\n",
        "        targets = None\n",
        "    \n",
        "    return features, targets"
      ],
      "execution_count": 0,
      "outputs": []
    },
    {
      "cell_type": "code",
      "metadata": {
        "id": "d8F5Fv7hsoJg",
        "colab_type": "code",
        "colab": {}
      },
      "source": [
        "X_train, y_train = process_features(dataset, one_hot_columns, numeric_columns, embedded_columns, test=False)#test=False->valor default para test si no esta definido"
      ],
      "execution_count": 0,
      "outputs": []
    },
    {
      "cell_type": "code",
      "metadata": {
        "id": "26Ei0R6utbda",
        "colab_type": "code",
        "colab": {
          "base_uri": "https://localhost:8080/",
          "height": 35
        },
        "outputId": "f8a4c2ce-0e2b-4ec4-fe88-7ad70a2dabdd"
      },
      "source": [
        "direct_features_input_shape = (X_train['direct_features'].shape[1])\n",
        "direct_features_input_shape"
      ],
      "execution_count": 91,
      "outputs": [
        {
          "output_type": "execute_result",
          "data": {
            "text/plain": [
              "10"
            ]
          },
          "metadata": {
            "tags": []
          },
          "execution_count": 91
        }
      ]
    },
    {
      "cell_type": "code",
      "metadata": {
        "id": "mM7YTa6YtpwR",
        "colab_type": "code",
        "colab": {}
      },
      "source": [
        "train_ds = tf.data.Dataset.from_tensor_slices((X_train, y_train)).batch(batch_size)"
      ],
      "execution_count": 0,
      "outputs": []
    },
    {
      "cell_type": "code",
      "metadata": {
        "id": "CnpfWp6vvaYA",
        "colab_type": "code",
        "colab": {}
      },
      "source": [
        "test_ds = tf.data.Dataset.from_tensor_slices(\n",
        "    process_features(dev_dataset, one_hot_columns, numeric_columns, embedded_columns, test=False)).batch(batch_size)"
      ],
      "execution_count": 0,
      "outputs": []
    },
    {
      "cell_type": "code",
      "metadata": {
        "id": "f0HeEkrxhcD2",
        "colab_type": "code",
        "colab": {
          "base_uri": "https://localhost:8080/",
          "height": 35
        },
        "outputId": "b6e4fb25-41b4-44f5-9860-c3618c91a184"
      },
      "source": [
        "tf.keras.backend.clear_session()\n",
        "\n",
        "hidden_layer_size = 64\n",
        "\n",
        "# Add one input and one embedding for each embedded column\n",
        "embedding_layers = []\n",
        "inputs = []\n",
        "for embedded_col, max_value in embedded_columns.items():\n",
        "    input_layer = layers.Input(shape=(1,), name=embedded_col)\n",
        "    inputs.append(input_layer)\n",
        "    # Define the embedding layer\n",
        "    embedding_size = int(max_value / 4)\n",
        "    embedding_layers.append(\n",
        "        tf.squeeze(layers.Embedding(input_dim=max_value, output_dim=embedding_size)(input_layer), axis=-2))\n",
        "    print('Adding embedding of size {} for layer {}'.format(embedding_size, embedded_col))\n",
        "\n",
        "# Add the direct features already calculated\n",
        "direct_features_input = layers.Input(shape=direct_features_input_shape, name='direct_features')\n",
        "inputs.append(direct_features_input)\n",
        "\n",
        "# Add the numeric features \n",
        "#numeric_columns = ['Age', 'Fee']\n",
        "\n",
        "numeric_layers=[]\n",
        "for elem in numeric_columns:\n",
        "  input_layer = layers.Input(shape=(1,), name=elem)\n",
        "  inputs.append(input_layer)\n",
        "  \n",
        "  numeric_layers.append(input_layer)\n",
        "\n",
        "# Concatenate everything together\n",
        "# es lo que va a ir a la primer capa Dense\n",
        "features = layers.concatenate(embedding_layers + [direct_features_input]+numeric_layers)\n",
        "\n",
        "dense1 = layers.Dense(hidden_layer_size, activation='relu')(features)\n",
        "\n",
        "#agregamos un dropout\n",
        "dense1 = Dropout(0.2)(dense1)\n",
        "\n",
        "output_layer = layers.Dense(nlabels, activation='softmax')(dense1)\n",
        "\n",
        "model = models.Model(inputs=inputs, outputs=output_layer)"
      ],
      "execution_count": 97,
      "outputs": [
        {
          "output_type": "stream",
          "text": [
            "Adding embedding of size 77 for layer Breed1\n"
          ],
          "name": "stdout"
        }
      ]
    },
    {
      "cell_type": "code",
      "metadata": {
        "id": "Icv-anfXvnqB",
        "colab_type": "code",
        "colab": {}
      },
      "source": [
        "model.compile(loss='mean_squared_error', optimizer='sgd',\n",
        "              metrics=['accuracy'])"
      ],
      "execution_count": 0,
      "outputs": []
    },
    {
      "cell_type": "code",
      "metadata": {
        "id": "JxsJRv2OwQPq",
        "colab_type": "code",
        "colab": {
          "base_uri": "https://localhost:8080/",
          "height": 665
        },
        "outputId": "02295648-495f-4864-9093-56096966a631"
      },
      "source": [
        "SVG(model_to_dot(model, dpi=72).create(prog='dot', format='svg'))"
      ],
      "execution_count": 99,
      "outputs": [
        {
          "output_type": "execute_result",
          "data": {
            "text/plain": [
              "<IPython.core.display.SVG object>"
            ],
            "image/svg+xml": "<svg height=\"483pt\" viewBox=\"0.00 0.00 717.50 483.00\" width=\"718pt\" xmlns=\"http://www.w3.org/2000/svg\" xmlns:xlink=\"http://www.w3.org/1999/xlink\">\n<g class=\"graph\" id=\"graph0\" transform=\"scale(1 1) rotate(0) translate(4 479)\">\n<title>G</title>\n<polygon fill=\"#ffffff\" points=\"-4,4 -4,-479 713.5,-479 713.5,4 -4,4\" stroke=\"transparent\"/>\n<!-- 140080515710144 -->\n<g class=\"node\" id=\"node1\">\n<title>140080515710144</title>\n<polygon fill=\"none\" points=\"68,-438.5 68,-474.5 197,-474.5 197,-438.5 68,-438.5\" stroke=\"#000000\"/>\n<text fill=\"#000000\" font-family=\"Times,serif\" font-size=\"14.00\" text-anchor=\"middle\" x=\"132.5\" y=\"-452.8\">Breed1: InputLayer</text>\n</g>\n<!-- 140080515708912 -->\n<g class=\"node\" id=\"node2\">\n<title>140080515708912</title>\n<polygon fill=\"none\" points=\"54.5,-365.5 54.5,-401.5 210.5,-401.5 210.5,-365.5 54.5,-365.5\" stroke=\"#000000\"/>\n<text fill=\"#000000\" font-family=\"Times,serif\" font-size=\"14.00\" text-anchor=\"middle\" x=\"132.5\" y=\"-379.8\">embedding: Embedding</text>\n</g>\n<!-- 140080515710144&#45;&gt;140080515708912 -->\n<g class=\"edge\" id=\"edge1\">\n<title>140080515710144-&gt;140080515708912</title>\n<path d=\"M132.5,-438.4551C132.5,-430.3828 132.5,-420.6764 132.5,-411.6817\" fill=\"none\" stroke=\"#000000\"/>\n<polygon fill=\"#000000\" points=\"136.0001,-411.5903 132.5,-401.5904 129.0001,-411.5904 136.0001,-411.5903\" stroke=\"#000000\"/>\n</g>\n<!-- 140080524534280 -->\n<g class=\"node\" id=\"node3\">\n<title>140080524534280</title>\n<polygon fill=\"none\" points=\"0,-292.5 0,-328.5 265,-328.5 265,-292.5 0,-292.5\" stroke=\"#000000\"/>\n<text fill=\"#000000\" font-family=\"Times,serif\" font-size=\"14.00\" text-anchor=\"middle\" x=\"132.5\" y=\"-306.8\">tf_op_layer_Squeeze: TensorFlowOpLayer</text>\n</g>\n<!-- 140080515708912&#45;&gt;140080524534280 -->\n<g class=\"edge\" id=\"edge2\">\n<title>140080515708912-&gt;140080524534280</title>\n<path d=\"M132.5,-365.4551C132.5,-357.3828 132.5,-347.6764 132.5,-338.6817\" fill=\"none\" stroke=\"#000000\"/>\n<polygon fill=\"#000000\" points=\"136.0001,-338.5903 132.5,-328.5904 129.0001,-338.5904 136.0001,-338.5903\" stroke=\"#000000\"/>\n</g>\n<!-- 140080515708240 -->\n<g class=\"node\" id=\"node7\">\n<title>140080515708240</title>\n<polygon fill=\"none\" points=\"367.5,-219.5 367.5,-255.5 527.5,-255.5 527.5,-219.5 367.5,-219.5\" stroke=\"#000000\"/>\n<text fill=\"#000000\" font-family=\"Times,serif\" font-size=\"14.00\" text-anchor=\"middle\" x=\"447.5\" y=\"-233.8\">concatenate: Concatenate</text>\n</g>\n<!-- 140080524534280&#45;&gt;140080515708240 -->\n<g class=\"edge\" id=\"edge3\">\n<title>140080524534280-&gt;140080515708240</title>\n<path d=\"M210.3652,-292.4551C255.6942,-281.9502 312.9657,-268.6778 359.869,-257.8081\" fill=\"none\" stroke=\"#000000\"/>\n<polygon fill=\"#000000\" points=\"360.7606,-261.1944 369.7122,-255.527 359.1802,-254.3751 360.7606,-261.1944\" stroke=\"#000000\"/>\n</g>\n<!-- 140080578212976 -->\n<g class=\"node\" id=\"node4\">\n<title>140080578212976</title>\n<polygon fill=\"none\" points=\"283.5,-292.5 283.5,-328.5 453.5,-328.5 453.5,-292.5 283.5,-292.5\" stroke=\"#000000\"/>\n<text fill=\"#000000\" font-family=\"Times,serif\" font-size=\"14.00\" text-anchor=\"middle\" x=\"368.5\" y=\"-306.8\">direct_features: InputLayer</text>\n</g>\n<!-- 140080578212976&#45;&gt;140080515708240 -->\n<g class=\"edge\" id=\"edge4\">\n<title>140080578212976-&gt;140080515708240</title>\n<path d=\"M388.0281,-292.4551C397.8083,-283.4177 409.8052,-272.3319 420.4561,-262.4899\" fill=\"none\" stroke=\"#000000\"/>\n<polygon fill=\"#000000\" points=\"422.9536,-264.9476 427.9228,-255.5904 418.2029,-259.8065 422.9536,-264.9476\" stroke=\"#000000\"/>\n</g>\n<!-- 140080524494832 -->\n<g class=\"node\" id=\"node5\">\n<title>140080524494832</title>\n<polygon fill=\"none\" points=\"471.5,-292.5 471.5,-328.5 583.5,-328.5 583.5,-292.5 471.5,-292.5\" stroke=\"#000000\"/>\n<text fill=\"#000000\" font-family=\"Times,serif\" font-size=\"14.00\" text-anchor=\"middle\" x=\"527.5\" y=\"-306.8\">Age: InputLayer</text>\n</g>\n<!-- 140080524494832&#45;&gt;140080515708240 -->\n<g class=\"edge\" id=\"edge5\">\n<title>140080524494832-&gt;140080515708240</title>\n<path d=\"M507.7247,-292.4551C497.8207,-283.4177 485.6719,-272.3319 474.8862,-262.4899\" fill=\"none\" stroke=\"#000000\"/>\n<polygon fill=\"#000000\" points=\"477.0711,-259.7455 467.3251,-255.5904 472.3527,-264.9163 477.0711,-259.7455\" stroke=\"#000000\"/>\n</g>\n<!-- 140080524533832 -->\n<g class=\"node\" id=\"node6\">\n<title>140080524533832</title>\n<polygon fill=\"none\" points=\"601.5,-292.5 601.5,-328.5 709.5,-328.5 709.5,-292.5 601.5,-292.5\" stroke=\"#000000\"/>\n<text fill=\"#000000\" font-family=\"Times,serif\" font-size=\"14.00\" text-anchor=\"middle\" x=\"655.5\" y=\"-306.8\">Fee: InputLayer</text>\n</g>\n<!-- 140080524533832&#45;&gt;140080515708240 -->\n<g class=\"edge\" id=\"edge6\">\n<title>140080524533832-&gt;140080515708240</title>\n<path d=\"M604.0843,-292.4551C575.2089,-282.3209 538.9944,-269.611 508.6678,-258.9675\" fill=\"none\" stroke=\"#000000\"/>\n<polygon fill=\"#000000\" points=\"509.64,-255.5995 499.0451,-255.5904 507.3218,-262.2045 509.64,-255.5995\" stroke=\"#000000\"/>\n</g>\n<!-- 140080515708464 -->\n<g class=\"node\" id=\"node8\">\n<title>140080515708464</title>\n<polygon fill=\"none\" points=\"401.5,-146.5 401.5,-182.5 493.5,-182.5 493.5,-146.5 401.5,-146.5\" stroke=\"#000000\"/>\n<text fill=\"#000000\" font-family=\"Times,serif\" font-size=\"14.00\" text-anchor=\"middle\" x=\"447.5\" y=\"-160.8\">dense: Dense</text>\n</g>\n<!-- 140080515708240&#45;&gt;140080515708464 -->\n<g class=\"edge\" id=\"edge7\">\n<title>140080515708240-&gt;140080515708464</title>\n<path d=\"M447.5,-219.4551C447.5,-211.3828 447.5,-201.6764 447.5,-192.6817\" fill=\"none\" stroke=\"#000000\"/>\n<polygon fill=\"#000000\" points=\"451.0001,-192.5903 447.5,-182.5904 444.0001,-192.5904 451.0001,-192.5903\" stroke=\"#000000\"/>\n</g>\n<!-- 140080524536576 -->\n<g class=\"node\" id=\"node9\">\n<title>140080524536576</title>\n<polygon fill=\"none\" points=\"388,-73.5 388,-109.5 507,-109.5 507,-73.5 388,-73.5\" stroke=\"#000000\"/>\n<text fill=\"#000000\" font-family=\"Times,serif\" font-size=\"14.00\" text-anchor=\"middle\" x=\"447.5\" y=\"-87.8\">dropout: Dropout</text>\n</g>\n<!-- 140080515708464&#45;&gt;140080524536576 -->\n<g class=\"edge\" id=\"edge8\">\n<title>140080515708464-&gt;140080524536576</title>\n<path d=\"M447.5,-146.4551C447.5,-138.3828 447.5,-128.6764 447.5,-119.6817\" fill=\"none\" stroke=\"#000000\"/>\n<polygon fill=\"#000000\" points=\"451.0001,-119.5903 447.5,-109.5904 444.0001,-119.5904 451.0001,-119.5903\" stroke=\"#000000\"/>\n</g>\n<!-- 140080515760424 -->\n<g class=\"node\" id=\"node10\">\n<title>140080515760424</title>\n<polygon fill=\"none\" points=\"394,-.5 394,-36.5 501,-36.5 501,-.5 394,-.5\" stroke=\"#000000\"/>\n<text fill=\"#000000\" font-family=\"Times,serif\" font-size=\"14.00\" text-anchor=\"middle\" x=\"447.5\" y=\"-14.8\">dense_1: Dense</text>\n</g>\n<!-- 140080524536576&#45;&gt;140080515760424 -->\n<g class=\"edge\" id=\"edge9\">\n<title>140080524536576-&gt;140080515760424</title>\n<path d=\"M447.5,-73.4551C447.5,-65.3828 447.5,-55.6764 447.5,-46.6817\" fill=\"none\" stroke=\"#000000\"/>\n<polygon fill=\"#000000\" points=\"451.0001,-46.5903 447.5,-36.5904 444.0001,-46.5904 451.0001,-46.5903\" stroke=\"#000000\"/>\n</g>\n</g>\n</svg>"
          },
          "metadata": {
            "tags": []
          },
          "execution_count": 99
        }
      ]
    },
    {
      "cell_type": "code",
      "metadata": {
        "id": "wHDrTVL0vwdK",
        "colab_type": "code",
        "colab": {
          "base_uri": "https://localhost:8080/",
          "height": 1000
        },
        "outputId": "12d5ccc6-cb20-4a3d-f870-d85765f0fb79"
      },
      "source": [
        "mlflow.set_experiment('very_base_approach')\n",
        "\n",
        "with mlflow.start_run(nested=True):\n",
        "    # Log model hiperparameters first\n",
        "    mlflow.log_param('hidden_layer_size', hidden_layer_size)\n",
        "    mlflow.log_param('embedded_columns', embedded_columns)\n",
        "    mlflow.log_param('one_hot_columns', one_hot_columns)\n",
        "    mlflow.log_param('numerical_columns', numeric_columns)  # Not using these yet\n",
        "    \n",
        "    # Train\n",
        "    epochs = 100\n",
        "    history = model.fit(train_ds, epochs=epochs,validation_data=test_ds)\n",
        "    \n",
        "    # Evaluate\n",
        "    loss, accuracy = model.evaluate(test_ds)\n",
        "    print(\"*** Test loss: {} - accuracy: {}\".format(loss, accuracy))\n",
        "    mlflow.log_metric('epochs', epochs)\n",
        "    mlflow.log_metric('loss', loss)\n",
        "    mlflow.log_metric('accuracy', accuracy)"
      ],
      "execution_count": 100,
      "outputs": [
        {
          "output_type": "stream",
          "text": [
            "Epoch 1/100\n",
            "89/89 [==============================] - 1s 12ms/step - loss: 0.1584 - accuracy: 0.2450 - val_loss: 0.0000e+00 - val_accuracy: 0.0000e+00\n",
            "Epoch 2/100\n",
            "89/89 [==============================] - 0s 3ms/step - loss: 0.1582 - accuracy: 0.2451 - val_loss: 0.1579 - val_accuracy: 0.2489\n",
            "Epoch 3/100\n",
            "89/89 [==============================] - 0s 3ms/step - loss: 0.1578 - accuracy: 0.2494 - val_loss: 0.1576 - val_accuracy: 0.2475\n",
            "Epoch 4/100\n",
            "89/89 [==============================] - 0s 3ms/step - loss: 0.1575 - accuracy: 0.2575 - val_loss: 0.1573 - val_accuracy: 0.2470\n",
            "Epoch 5/100\n",
            "89/89 [==============================] - 0s 3ms/step - loss: 0.1573 - accuracy: 0.2533 - val_loss: 0.1571 - val_accuracy: 0.2537\n",
            "Epoch 6/100\n",
            "89/89 [==============================] - 0s 3ms/step - loss: 0.1570 - accuracy: 0.2620 - val_loss: 0.1568 - val_accuracy: 0.2617\n",
            "Epoch 7/100\n",
            "89/89 [==============================] - 0s 3ms/step - loss: 0.1567 - accuracy: 0.2699 - val_loss: 0.1566 - val_accuracy: 0.2674\n",
            "Epoch 8/100\n",
            "89/89 [==============================] - 0s 3ms/step - loss: 0.1565 - accuracy: 0.2657 - val_loss: 0.1564 - val_accuracy: 0.2674\n",
            "Epoch 9/100\n",
            "89/89 [==============================] - 0s 3ms/step - loss: 0.1563 - accuracy: 0.2714 - val_loss: 0.1562 - val_accuracy: 0.2669\n",
            "Epoch 10/100\n",
            "89/89 [==============================] - 0s 3ms/step - loss: 0.1561 - accuracy: 0.2749 - val_loss: 0.1561 - val_accuracy: 0.2659\n",
            "Epoch 11/100\n",
            "89/89 [==============================] - 0s 3ms/step - loss: 0.1559 - accuracy: 0.2710 - val_loss: 0.1559 - val_accuracy: 0.2641\n",
            "Epoch 12/100\n",
            "89/89 [==============================] - 0s 3ms/step - loss: 0.1556 - accuracy: 0.2770 - val_loss: 0.1557 - val_accuracy: 0.2626\n",
            "Epoch 13/100\n",
            "89/89 [==============================] - 0s 3ms/step - loss: 0.1554 - accuracy: 0.2788 - val_loss: 0.1556 - val_accuracy: 0.2641\n",
            "Epoch 14/100\n",
            "89/89 [==============================] - 0s 3ms/step - loss: 0.1554 - accuracy: 0.2748 - val_loss: 0.1554 - val_accuracy: 0.2641\n",
            "Epoch 15/100\n",
            "89/89 [==============================] - 0s 3ms/step - loss: 0.1550 - accuracy: 0.2825 - val_loss: 0.1553 - val_accuracy: 0.2650\n",
            "Epoch 16/100\n",
            "89/89 [==============================] - 0s 3ms/step - loss: 0.1550 - accuracy: 0.2828 - val_loss: 0.1552 - val_accuracy: 0.2669\n",
            "Epoch 17/100\n",
            "89/89 [==============================] - 0s 3ms/step - loss: 0.1549 - accuracy: 0.2796 - val_loss: 0.1551 - val_accuracy: 0.2669\n",
            "Epoch 18/100\n",
            "89/89 [==============================] - 0s 3ms/step - loss: 0.1548 - accuracy: 0.2773 - val_loss: 0.1549 - val_accuracy: 0.2669\n",
            "Epoch 19/100\n",
            "89/89 [==============================] - 0s 3ms/step - loss: 0.1546 - accuracy: 0.2825 - val_loss: 0.1548 - val_accuracy: 0.2674\n",
            "Epoch 20/100\n",
            "89/89 [==============================] - 0s 3ms/step - loss: 0.1544 - accuracy: 0.2836 - val_loss: 0.1547 - val_accuracy: 0.2674\n",
            "Epoch 21/100\n",
            "89/89 [==============================] - 0s 3ms/step - loss: 0.1545 - accuracy: 0.2795 - val_loss: 0.1546 - val_accuracy: 0.2669\n",
            "Epoch 22/100\n",
            "89/89 [==============================] - 0s 3ms/step - loss: 0.1544 - accuracy: 0.2832 - val_loss: 0.1546 - val_accuracy: 0.2678\n",
            "Epoch 23/100\n",
            "89/89 [==============================] - 0s 3ms/step - loss: 0.1542 - accuracy: 0.2855 - val_loss: 0.1545 - val_accuracy: 0.2674\n",
            "Epoch 24/100\n",
            "89/89 [==============================] - 0s 3ms/step - loss: 0.1541 - accuracy: 0.2843 - val_loss: 0.1544 - val_accuracy: 0.2674\n",
            "Epoch 25/100\n",
            "89/89 [==============================] - 0s 3ms/step - loss: 0.1541 - accuracy: 0.2859 - val_loss: 0.1543 - val_accuracy: 0.2674\n",
            "Epoch 26/100\n",
            "89/89 [==============================] - 0s 3ms/step - loss: 0.1540 - accuracy: 0.2843 - val_loss: 0.1542 - val_accuracy: 0.2674\n",
            "Epoch 27/100\n",
            "89/89 [==============================] - 0s 3ms/step - loss: 0.1539 - accuracy: 0.2836 - val_loss: 0.1542 - val_accuracy: 0.2669\n",
            "Epoch 28/100\n",
            "89/89 [==============================] - 0s 3ms/step - loss: 0.1537 - accuracy: 0.2859 - val_loss: 0.1541 - val_accuracy: 0.2669\n",
            "Epoch 29/100\n",
            "89/89 [==============================] - 0s 3ms/step - loss: 0.1537 - accuracy: 0.2853 - val_loss: 0.1540 - val_accuracy: 0.2669\n",
            "Epoch 30/100\n",
            "89/89 [==============================] - 0s 3ms/step - loss: 0.1537 - accuracy: 0.2800 - val_loss: 0.1540 - val_accuracy: 0.2674\n",
            "Epoch 31/100\n",
            "89/89 [==============================] - 0s 3ms/step - loss: 0.1536 - accuracy: 0.2841 - val_loss: 0.1539 - val_accuracy: 0.2674\n",
            "Epoch 32/100\n",
            "89/89 [==============================] - 0s 3ms/step - loss: 0.1535 - accuracy: 0.2874 - val_loss: 0.1538 - val_accuracy: 0.2674\n",
            "Epoch 33/100\n",
            "89/89 [==============================] - 0s 3ms/step - loss: 0.1536 - accuracy: 0.2812 - val_loss: 0.1538 - val_accuracy: 0.2674\n",
            "Epoch 34/100\n",
            "89/89 [==============================] - 0s 3ms/step - loss: 0.1534 - accuracy: 0.2861 - val_loss: 0.1537 - val_accuracy: 0.2678\n",
            "Epoch 35/100\n",
            "89/89 [==============================] - 0s 3ms/step - loss: 0.1533 - accuracy: 0.2899 - val_loss: 0.1537 - val_accuracy: 0.2683\n",
            "Epoch 36/100\n",
            "89/89 [==============================] - 0s 3ms/step - loss: 0.1533 - accuracy: 0.2873 - val_loss: 0.1536 - val_accuracy: 0.2683\n",
            "Epoch 37/100\n",
            "89/89 [==============================] - 0s 3ms/step - loss: 0.1533 - accuracy: 0.2816 - val_loss: 0.1536 - val_accuracy: 0.2683\n",
            "Epoch 38/100\n",
            "89/89 [==============================] - 0s 3ms/step - loss: 0.1531 - accuracy: 0.2846 - val_loss: 0.1535 - val_accuracy: 0.2692\n",
            "Epoch 39/100\n",
            "89/89 [==============================] - 0s 3ms/step - loss: 0.1530 - accuracy: 0.2875 - val_loss: 0.1535 - val_accuracy: 0.2688\n",
            "Epoch 40/100\n",
            "89/89 [==============================] - 0s 3ms/step - loss: 0.1531 - accuracy: 0.2884 - val_loss: 0.1534 - val_accuracy: 0.2692\n",
            "Epoch 41/100\n",
            "89/89 [==============================] - 0s 3ms/step - loss: 0.1530 - accuracy: 0.2897 - val_loss: 0.1534 - val_accuracy: 0.2692\n",
            "Epoch 42/100\n",
            "89/89 [==============================] - 0s 3ms/step - loss: 0.1530 - accuracy: 0.2855 - val_loss: 0.1533 - val_accuracy: 0.2688\n",
            "Epoch 43/100\n",
            "89/89 [==============================] - 0s 3ms/step - loss: 0.1530 - accuracy: 0.2847 - val_loss: 0.1533 - val_accuracy: 0.2683\n",
            "Epoch 44/100\n",
            "89/89 [==============================] - 0s 3ms/step - loss: 0.1529 - accuracy: 0.2874 - val_loss: 0.1533 - val_accuracy: 0.2692\n",
            "Epoch 45/100\n",
            "89/89 [==============================] - 0s 3ms/step - loss: 0.1528 - accuracy: 0.2864 - val_loss: 0.1532 - val_accuracy: 0.2697\n",
            "Epoch 46/100\n",
            "89/89 [==============================] - 0s 3ms/step - loss: 0.1528 - accuracy: 0.2871 - val_loss: 0.1532 - val_accuracy: 0.2707\n",
            "Epoch 47/100\n",
            "89/89 [==============================] - 0s 3ms/step - loss: 0.1528 - accuracy: 0.2897 - val_loss: 0.1531 - val_accuracy: 0.2716\n",
            "Epoch 48/100\n",
            "89/89 [==============================] - 0s 3ms/step - loss: 0.1527 - accuracy: 0.2898 - val_loss: 0.1531 - val_accuracy: 0.2707\n",
            "Epoch 49/100\n",
            "89/89 [==============================] - 0s 3ms/step - loss: 0.1527 - accuracy: 0.2892 - val_loss: 0.1531 - val_accuracy: 0.2711\n",
            "Epoch 50/100\n",
            "89/89 [==============================] - 0s 3ms/step - loss: 0.1527 - accuracy: 0.2925 - val_loss: 0.1530 - val_accuracy: 0.2716\n",
            "Epoch 51/100\n",
            "89/89 [==============================] - 0s 3ms/step - loss: 0.1527 - accuracy: 0.2866 - val_loss: 0.1530 - val_accuracy: 0.2711\n",
            "Epoch 52/100\n",
            "89/89 [==============================] - 0s 3ms/step - loss: 0.1526 - accuracy: 0.2861 - val_loss: 0.1530 - val_accuracy: 0.2721\n",
            "Epoch 53/100\n",
            "89/89 [==============================] - 0s 3ms/step - loss: 0.1526 - accuracy: 0.2916 - val_loss: 0.1529 - val_accuracy: 0.2726\n",
            "Epoch 54/100\n",
            "89/89 [==============================] - 0s 3ms/step - loss: 0.1526 - accuracy: 0.2898 - val_loss: 0.1529 - val_accuracy: 0.2726\n",
            "Epoch 55/100\n",
            "89/89 [==============================] - 0s 3ms/step - loss: 0.1525 - accuracy: 0.2873 - val_loss: 0.1529 - val_accuracy: 0.2726\n",
            "Epoch 56/100\n",
            "89/89 [==============================] - 0s 3ms/step - loss: 0.1524 - accuracy: 0.2931 - val_loss: 0.1529 - val_accuracy: 0.2716\n",
            "Epoch 57/100\n",
            "89/89 [==============================] - 0s 3ms/step - loss: 0.1525 - accuracy: 0.2887 - val_loss: 0.1528 - val_accuracy: 0.2716\n",
            "Epoch 58/100\n",
            "89/89 [==============================] - 0s 3ms/step - loss: 0.1524 - accuracy: 0.2877 - val_loss: 0.1528 - val_accuracy: 0.2707\n",
            "Epoch 59/100\n",
            "89/89 [==============================] - 0s 3ms/step - loss: 0.1524 - accuracy: 0.2926 - val_loss: 0.1528 - val_accuracy: 0.2716\n",
            "Epoch 60/100\n",
            "89/89 [==============================] - 0s 3ms/step - loss: 0.1524 - accuracy: 0.2910 - val_loss: 0.1527 - val_accuracy: 0.2721\n",
            "Epoch 61/100\n",
            "89/89 [==============================] - 0s 3ms/step - loss: 0.1524 - accuracy: 0.2897 - val_loss: 0.1527 - val_accuracy: 0.2721\n",
            "Epoch 62/100\n",
            "89/89 [==============================] - 0s 3ms/step - loss: 0.1523 - accuracy: 0.2930 - val_loss: 0.1527 - val_accuracy: 0.2740\n",
            "Epoch 63/100\n",
            "89/89 [==============================] - 0s 3ms/step - loss: 0.1523 - accuracy: 0.2956 - val_loss: 0.1527 - val_accuracy: 0.2735\n",
            "Epoch 64/100\n",
            "89/89 [==============================] - 0s 3ms/step - loss: 0.1523 - accuracy: 0.2917 - val_loss: 0.1526 - val_accuracy: 0.2735\n",
            "Epoch 65/100\n",
            "89/89 [==============================] - 0s 3ms/step - loss: 0.1524 - accuracy: 0.2921 - val_loss: 0.1526 - val_accuracy: 0.2740\n",
            "Epoch 66/100\n",
            "89/89 [==============================] - 0s 3ms/step - loss: 0.1523 - accuracy: 0.2895 - val_loss: 0.1526 - val_accuracy: 0.2740\n",
            "Epoch 67/100\n",
            "89/89 [==============================] - 0s 3ms/step - loss: 0.1521 - accuracy: 0.2938 - val_loss: 0.1526 - val_accuracy: 0.2740\n",
            "Epoch 68/100\n",
            "89/89 [==============================] - 0s 3ms/step - loss: 0.1522 - accuracy: 0.2947 - val_loss: 0.1525 - val_accuracy: 0.2730\n",
            "Epoch 69/100\n",
            "89/89 [==============================] - 0s 3ms/step - loss: 0.1522 - accuracy: 0.2950 - val_loss: 0.1525 - val_accuracy: 0.2730\n",
            "Epoch 70/100\n",
            "89/89 [==============================] - 0s 3ms/step - loss: 0.1521 - accuracy: 0.2956 - val_loss: 0.1525 - val_accuracy: 0.2721\n",
            "Epoch 71/100\n",
            "89/89 [==============================] - 0s 3ms/step - loss: 0.1521 - accuracy: 0.2945 - val_loss: 0.1525 - val_accuracy: 0.2726\n",
            "Epoch 72/100\n",
            "89/89 [==============================] - 0s 3ms/step - loss: 0.1521 - accuracy: 0.2956 - val_loss: 0.1524 - val_accuracy: 0.2726\n",
            "Epoch 73/100\n",
            "89/89 [==============================] - 0s 3ms/step - loss: 0.1521 - accuracy: 0.2963 - val_loss: 0.1524 - val_accuracy: 0.2730\n",
            "Epoch 74/100\n",
            "89/89 [==============================] - 0s 3ms/step - loss: 0.1520 - accuracy: 0.2936 - val_loss: 0.1524 - val_accuracy: 0.2730\n",
            "Epoch 75/100\n",
            "89/89 [==============================] - 0s 3ms/step - loss: 0.1520 - accuracy: 0.2955 - val_loss: 0.1524 - val_accuracy: 0.2730\n",
            "Epoch 76/100\n",
            "89/89 [==============================] - 0s 3ms/step - loss: 0.1520 - accuracy: 0.2943 - val_loss: 0.1524 - val_accuracy: 0.2735\n",
            "Epoch 77/100\n",
            "89/89 [==============================] - 0s 3ms/step - loss: 0.1519 - accuracy: 0.2913 - val_loss: 0.1523 - val_accuracy: 0.2735\n",
            "Epoch 78/100\n",
            "89/89 [==============================] - 0s 3ms/step - loss: 0.1519 - accuracy: 0.2997 - val_loss: 0.1523 - val_accuracy: 0.2730\n",
            "Epoch 79/100\n",
            "89/89 [==============================] - 0s 3ms/step - loss: 0.1520 - accuracy: 0.2946 - val_loss: 0.1523 - val_accuracy: 0.2735\n",
            "Epoch 80/100\n",
            "89/89 [==============================] - 0s 3ms/step - loss: 0.1519 - accuracy: 0.2952 - val_loss: 0.1523 - val_accuracy: 0.2749\n",
            "Epoch 81/100\n",
            "89/89 [==============================] - 0s 3ms/step - loss: 0.1519 - accuracy: 0.2917 - val_loss: 0.1523 - val_accuracy: 0.2749\n",
            "Epoch 82/100\n",
            "89/89 [==============================] - 0s 3ms/step - loss: 0.1519 - accuracy: 0.2950 - val_loss: 0.1522 - val_accuracy: 0.2749\n",
            "Epoch 83/100\n",
            "89/89 [==============================] - 0s 3ms/step - loss: 0.1518 - accuracy: 0.2957 - val_loss: 0.1522 - val_accuracy: 0.2749\n",
            "Epoch 84/100\n",
            "89/89 [==============================] - 0s 3ms/step - loss: 0.1519 - accuracy: 0.2918 - val_loss: 0.1522 - val_accuracy: 0.2754\n",
            "Epoch 85/100\n",
            "89/89 [==============================] - 0s 3ms/step - loss: 0.1519 - accuracy: 0.2962 - val_loss: 0.1522 - val_accuracy: 0.2754\n",
            "Epoch 86/100\n",
            "89/89 [==============================] - 0s 3ms/step - loss: 0.1518 - accuracy: 0.2984 - val_loss: 0.1522 - val_accuracy: 0.2759\n",
            "Epoch 87/100\n",
            "89/89 [==============================] - 0s 3ms/step - loss: 0.1519 - accuracy: 0.2979 - val_loss: 0.1522 - val_accuracy: 0.2759\n",
            "Epoch 88/100\n",
            "89/89 [==============================] - 0s 3ms/step - loss: 0.1518 - accuracy: 0.2971 - val_loss: 0.1521 - val_accuracy: 0.2763\n",
            "Epoch 89/100\n",
            "89/89 [==============================] - 0s 3ms/step - loss: 0.1518 - accuracy: 0.2997 - val_loss: 0.1521 - val_accuracy: 0.2768\n",
            "Epoch 90/100\n",
            "89/89 [==============================] - 0s 3ms/step - loss: 0.1517 - accuracy: 0.2978 - val_loss: 0.1521 - val_accuracy: 0.2768\n",
            "Epoch 91/100\n",
            "89/89 [==============================] - 0s 3ms/step - loss: 0.1516 - accuracy: 0.3018 - val_loss: 0.1521 - val_accuracy: 0.2773\n",
            "Epoch 92/100\n",
            "89/89 [==============================] - 0s 3ms/step - loss: 0.1518 - accuracy: 0.3022 - val_loss: 0.1521 - val_accuracy: 0.2773\n",
            "Epoch 93/100\n",
            "89/89 [==============================] - 0s 3ms/step - loss: 0.1517 - accuracy: 0.2997 - val_loss: 0.1521 - val_accuracy: 0.2773\n",
            "Epoch 94/100\n",
            "89/89 [==============================] - 0s 3ms/step - loss: 0.1517 - accuracy: 0.2988 - val_loss: 0.1521 - val_accuracy: 0.2782\n",
            "Epoch 95/100\n",
            "89/89 [==============================] - 0s 3ms/step - loss: 0.1518 - accuracy: 0.2899 - val_loss: 0.1520 - val_accuracy: 0.2844\n",
            "Epoch 96/100\n",
            "89/89 [==============================] - 0s 3ms/step - loss: 0.1517 - accuracy: 0.2934 - val_loss: 0.1520 - val_accuracy: 0.2863\n",
            "Epoch 97/100\n",
            "89/89 [==============================] - 0s 3ms/step - loss: 0.1516 - accuracy: 0.2965 - val_loss: 0.1520 - val_accuracy: 0.2858\n",
            "Epoch 98/100\n",
            "89/89 [==============================] - 0s 3ms/step - loss: 0.1515 - accuracy: 0.3003 - val_loss: 0.1520 - val_accuracy: 0.2858\n",
            "Epoch 99/100\n",
            "89/89 [==============================] - 0s 3ms/step - loss: 0.1517 - accuracy: 0.2977 - val_loss: 0.1520 - val_accuracy: 0.2848\n",
            "Epoch 100/100\n",
            "89/89 [==============================] - 0s 3ms/step - loss: 0.1516 - accuracy: 0.3001 - val_loss: 0.1520 - val_accuracy: 0.2839\n",
            "23/23 [==============================] - 0s 2ms/step - loss: 0.1520 - accuracy: 0.2839\n",
            "*** Test loss: 0.15197035670280457 - accuracy: 0.28389230370521545\n"
          ],
          "name": "stdout"
        }
      ]
    },
    {
      "cell_type": "code",
      "metadata": {
        "id": "fRVAnrXev499",
        "colab_type": "code",
        "colab": {
          "base_uri": "https://localhost:8080/",
          "height": 295
        },
        "outputId": "f495ccdb-c7da-4bd2-9c11-a6a03f454d6d"
      },
      "source": [
        "plt.plot(history.history['loss'])\n",
        "plt.plot(history.history['val_loss'])\n",
        "plt.title('model loss')\n",
        "plt.ylabel('loss')\n",
        "plt.xlabel('epoch')\n",
        "plt.legend(['train', 'test']);"
      ],
      "execution_count": 101,
      "outputs": [
        {
          "output_type": "display_data",
          "data": {
            "image/png": "[encoded data removed]",
            "text/plain": [
              "<Figure size 432x288 with 1 Axes>"
            ]
          },
          "metadata": {
            "tags": []
          }
        }
      ]
    },
    {
      "cell_type": "code",
      "metadata": {
        "id": "HXV3hwc9wfFU",
        "colab_type": "code",
        "colab": {
          "base_uri": "https://localhost:8080/",
          "height": 295
        },
        "outputId": "bd06129f-9a43-434c-f1a4-2db346490cc3"
      },
      "source": [
        "plt.plot(history.history['accuracy'])\n",
        "plt.plot(history.history['val_accuracy'])\n",
        "plt.title('model accuracy')\n",
        "plt.ylabel('accuracy')\n",
        "plt.xlabel('epoch')\n",
        "plt.legend(['train', 'test']);"
      ],
      "execution_count": 102,
      "outputs": [
        {
          "output_type": "display_data",
          "data": {
            "image/png": "[encoded data removed]",
            "text/plain": [
              "<Figure size 432x288 with 1 Axes>"
            ]
          },
          "metadata": {
            "tags": []
          }
        }
      ]
    },
    {
      "cell_type": "markdown",
      "metadata": {
        "id": "y0gEKEIj5gWc",
        "colab_type": "text"
      },
      "source": [
        "---------------------------------------------"
      ]
    },
    {
      "cell_type": "markdown",
      "metadata": {
        "id": "egFswr8ebU3f",
        "colab_type": "text"
      },
      "source": [
        "Probamos con más columnas:"
      ]
    },
    {
      "cell_type": "code",
      "metadata": {
        "id": "GTD2qxX02l-W",
        "colab_type": "code",
        "colab": {}
      },
      "source": [
        "# It's important to always use the same one-hot length\n",
        "one_hot_columns = {\n",
        "    one_hot_col: dataset[one_hot_col].max()\n",
        "    for one_hot_col in ['Gender', 'Color1','Color2','Color3',\"Type\",\"Vaccinated\",\"Dewormed\",\t\"Sterilized\"]\n",
        "}\n",
        "embedded_columns = {\n",
        "    embedded_col: dataset[embedded_col].max() + 1\n",
        "    for embedded_col in ['Breed1']\n",
        "}\n",
        "numeric_columns = ['Age', 'Fee','Quantity',\"MaturitySize\",\"FurLength\"]"
      ],
      "execution_count": 0,
      "outputs": []
    },
    {
      "cell_type": "code",
      "metadata": {
        "id": "BFcGrE8pF35m",
        "colab_type": "code",
        "colab": {}
      },
      "source": [
        "def process_features(df, one_hot_columns, numeric_columns, embedded_columns, test=False):#test=False->valor default para test si no esta definido\n",
        "    direct_features = []\n",
        "\n",
        "    # Create one hot encodings\n",
        "    for one_hot_col, max_value in one_hot_columns.items():\n",
        "        direct_features.append(tf.keras.utils.to_categorical(df[one_hot_col] - 1, max_value))\n",
        "\n",
        "    # Concatenate all features that don't need further embedding into a single matrix.\n",
        "    features = {'direct_features': numpy.hstack(direct_features)}#\"num_columns\":num_columns}\n",
        "\n",
        "    for numeric_col in ['Age', 'Fee','Quantity',\"MaturitySize\",\"FurLength\"]:\n",
        "      features[numeric_col] = numpy.hstack(tf.keras.utils.normalize(df[numeric_col].values)) \n",
        "\n",
        "    # Create embedding columns - nothing to do here. We will use the zero embedding for OOV\n",
        "    for embedded_col in embedded_columns.keys():\n",
        "        features[embedded_col] = df[embedded_col].values\n",
        "\n",
        "    if not test:\n",
        "        nlabels = df[TARGET_COL].unique().shape[0]\n",
        "        # Convert labels to one-hot encodings\n",
        "        targets = tf.keras.utils.to_categorical(df[TARGET_COL], nlabels)\n",
        "    else:\n",
        "        targets = None\n",
        "    \n",
        "    return features, targets"
      ],
      "execution_count": 0,
      "outputs": []
    },
    {
      "cell_type": "code",
      "metadata": {
        "id": "qYlp0o4IDlV9",
        "colab_type": "code",
        "colab": {}
      },
      "source": [
        "dataset=pd.read_csv(\"/content/drive/My Drive/train.csv\")"
      ],
      "execution_count": 0,
      "outputs": []
    },
    {
      "cell_type": "code",
      "metadata": {
        "id": "v2cHNNxdDcLp",
        "colab_type": "code",
        "colab": {}
      },
      "source": [
        "# Take a sample of data\n",
        "dataset, dev_dataset = train_test_split(dataset, test_size=0.2)"
      ],
      "execution_count": 0,
      "outputs": []
    },
    {
      "cell_type": "code",
      "metadata": {
        "id": "VJs7ZPU7D0rh",
        "colab_type": "code",
        "colab": {}
      },
      "source": [
        "nlabels = dataset[TARGET_COL].unique().shape[0]"
      ],
      "execution_count": 0,
      "outputs": []
    },
    {
      "cell_type": "code",
      "metadata": {
        "id": "bOsjN07m5fCM",
        "colab_type": "code",
        "colab": {}
      },
      "source": [
        "X_train, y_train = process_features(dataset, one_hot_columns, numeric_columns, embedded_columns, test=False)#test=False->valor default para test si no esta definido"
      ],
      "execution_count": 0,
      "outputs": []
    },
    {
      "cell_type": "code",
      "metadata": {
        "id": "DlgT9q5u5p3Y",
        "colab_type": "code",
        "colab": {
          "base_uri": "https://localhost:8080/",
          "height": 35
        },
        "outputId": "f05f4193-92d4-4c44-c3fd-a9e10fc45232"
      },
      "source": [
        "direct_features_input_shape = (X_train['direct_features'].shape[1])\n",
        "direct_features_input_shape"
      ],
      "execution_count": 109,
      "outputs": [
        {
          "output_type": "execute_result",
          "data": {
            "text/plain": [
              "35"
            ]
          },
          "metadata": {
            "tags": []
          },
          "execution_count": 109
        }
      ]
    },
    {
      "cell_type": "code",
      "metadata": {
        "id": "WFaeYJzj5vPx",
        "colab_type": "code",
        "colab": {}
      },
      "source": [
        "batch_size=32\n",
        "train_ds = tf.data.Dataset.from_tensor_slices((X_train, y_train)).batch(batch_size)"
      ],
      "execution_count": 0,
      "outputs": []
    },
    {
      "cell_type": "code",
      "metadata": {
        "id": "niKv48MI50bm",
        "colab_type": "code",
        "colab": {}
      },
      "source": [
        "test_ds = tf.data.Dataset.from_tensor_slices(\n",
        "    process_features(dev_dataset, one_hot_columns, numeric_columns, embedded_columns, test=False)).batch(batch_size)"
      ],
      "execution_count": 0,
      "outputs": []
    },
    {
      "cell_type": "code",
      "metadata": {
        "id": "mnGY0M7n54nv",
        "colab_type": "code",
        "colab": {
          "base_uri": "https://localhost:8080/",
          "height": 35
        },
        "outputId": "182e2028-3f14-414d-dd86-65c57ce90c1f"
      },
      "source": [
        "tf.keras.backend.clear_session()\n",
        "\n",
        "hidden_layer_size = 64\n",
        "\n",
        "# Add one input and one embedding for each embedded column\n",
        "embedding_layers = []\n",
        "inputs = []\n",
        "for embedded_col, max_value in embedded_columns.items():\n",
        "    input_layer = layers.Input(shape=(1,), name=embedded_col)\n",
        "    inputs.append(input_layer)\n",
        "    # Define the embedding layer\n",
        "    embedding_size = int(max_value / 4)\n",
        "    embedding_layers.append(\n",
        "        tf.squeeze(layers.Embedding(input_dim=max_value, output_dim=embedding_size)(input_layer), axis=-2))\n",
        "    print('Adding embedding of size {} for layer {}'.format(embedding_size, embedded_col))\n",
        "\n",
        "# Add the direct features already calculated\n",
        "direct_features_input = layers.Input(shape=direct_features_input_shape, name='direct_features')\n",
        "inputs.append(direct_features_input)\n",
        "\n",
        "# Add the numeric features \n",
        "#numeric_columns = ['Age', 'Fee']\n",
        "\n",
        "numeric_layers=[]\n",
        "for elem in numeric_columns:\n",
        "  input_layer = layers.Input(shape=(1,), name=elem)\n",
        "  inputs.append(input_layer)\n",
        "  \n",
        "  numeric_layers.append(input_layer)\n",
        "\n",
        "#numeric_layers_input=layers.Input(shape=(1,),name=\"numeric_features\")\n",
        "#inputs.append(numeric_layers_input)\n",
        "\n",
        "# Concatenate everything together\n",
        "# es lo que va a ir a la primer capa Dense\n",
        "features = layers.concatenate(embedding_layers + [direct_features_input]+numeric_layers)\n",
        "\n",
        "dense1 = layers.Dense(hidden_layer_size, activation='relu')(features)\n",
        "\n",
        "#agregamos un dropout\n",
        "dense1 = Dropout(0.2)(dense1)\n",
        "\n",
        "output_layer = layers.Dense(nlabels, activation='softmax')(dense1)\n",
        "\n",
        "model = models.Model(inputs=inputs, outputs=output_layer)"
      ],
      "execution_count": 112,
      "outputs": [
        {
          "output_type": "stream",
          "text": [
            "Adding embedding of size 77 for layer Breed1\n"
          ],
          "name": "stdout"
        }
      ]
    },
    {
      "cell_type": "code",
      "metadata": {
        "id": "YRd1jvyq6DPN",
        "colab_type": "code",
        "colab": {
          "base_uri": "https://localhost:8080/",
          "height": 685
        },
        "outputId": "3d7eb1be-923e-4051-faee-ca404993dd38"
      },
      "source": [
        "SVG(model_to_dot(model, dpi=72).create(prog='dot', format='svg'))"
      ],
      "execution_count": 113,
      "outputs": [
        {
          "output_type": "execute_result",
          "data": {
            "text/plain": [
              "<IPython.core.display.SVG object>"
            ],
            "image/svg+xml": "<svg height=\"483pt\" viewBox=\"0.00 0.00 1220.00 483.00\" width=\"1220pt\" xmlns=\"http://www.w3.org/2000/svg\" xmlns:xlink=\"http://www.w3.org/1999/xlink\">\n<g class=\"graph\" id=\"graph0\" transform=\"scale(1 1) rotate(0) translate(4 479)\">\n<title>G</title>\n<polygon fill=\"#ffffff\" points=\"-4,4 -4,-479 1216,-479 1216,4 -4,4\" stroke=\"transparent\"/>\n<!-- 140080462977288 -->\n<g class=\"node\" id=\"node1\">\n<title>140080462977288</title>\n<polygon fill=\"none\" points=\"68,-438.5 68,-474.5 197,-474.5 197,-438.5 68,-438.5\" stroke=\"#000000\"/>\n<text fill=\"#000000\" font-family=\"Times,serif\" font-size=\"14.00\" text-anchor=\"middle\" x=\"132.5\" y=\"-452.8\">Breed1: InputLayer</text>\n</g>\n<!-- 140080462978520 -->\n<g class=\"node\" id=\"node2\">\n<title>140080462978520</title>\n<polygon fill=\"none\" points=\"54.5,-365.5 54.5,-401.5 210.5,-401.5 210.5,-365.5 54.5,-365.5\" stroke=\"#000000\"/>\n<text fill=\"#000000\" font-family=\"Times,serif\" font-size=\"14.00\" text-anchor=\"middle\" x=\"132.5\" y=\"-379.8\">embedding: Embedding</text>\n</g>\n<!-- 140080462977288&#45;&gt;140080462978520 -->\n<g class=\"edge\" id=\"edge1\">\n<title>140080462977288-&gt;140080462978520</title>\n<path d=\"M132.5,-438.4551C132.5,-430.3828 132.5,-420.6764 132.5,-411.6817\" fill=\"none\" stroke=\"#000000\"/>\n<polygon fill=\"#000000\" points=\"136.0001,-411.5903 132.5,-401.5904 129.0001,-411.5904 136.0001,-411.5903\" stroke=\"#000000\"/>\n</g>\n<!-- 140080463139672 -->\n<g class=\"node\" id=\"node3\">\n<title>140080463139672</title>\n<polygon fill=\"none\" points=\"0,-292.5 0,-328.5 265,-328.5 265,-292.5 0,-292.5\" stroke=\"#000000\"/>\n<text fill=\"#000000\" font-family=\"Times,serif\" font-size=\"14.00\" text-anchor=\"middle\" x=\"132.5\" y=\"-306.8\">tf_op_layer_Squeeze: TensorFlowOpLayer</text>\n</g>\n<!-- 140080462978520&#45;&gt;140080463139672 -->\n<g class=\"edge\" id=\"edge2\">\n<title>140080462978520-&gt;140080463139672</title>\n<path d=\"M132.5,-365.4551C132.5,-357.3828 132.5,-347.6764 132.5,-338.6817\" fill=\"none\" stroke=\"#000000\"/>\n<polygon fill=\"#000000\" points=\"136.0001,-338.5903 132.5,-328.5904 129.0001,-338.5904 136.0001,-338.5903\" stroke=\"#000000\"/>\n</g>\n<!-- 140080463077272 -->\n<g class=\"node\" id=\"node10\">\n<title>140080463077272</title>\n<polygon fill=\"none\" points=\"575.5,-219.5 575.5,-255.5 735.5,-255.5 735.5,-219.5 575.5,-219.5\" stroke=\"#000000\"/>\n<text fill=\"#000000\" font-family=\"Times,serif\" font-size=\"14.00\" text-anchor=\"middle\" x=\"655.5\" y=\"-233.8\">concatenate: Concatenate</text>\n</g>\n<!-- 140080463139672&#45;&gt;140080463077272 -->\n<g class=\"edge\" id=\"edge3\">\n<title>140080463139672-&gt;140080463077272</title>\n<path d=\"M261.7809,-292.4551C356.1049,-279.2894 481.5744,-261.7764 565.2656,-250.0949\" fill=\"none\" stroke=\"#000000\"/>\n<polygon fill=\"#000000\" points=\"565.8397,-253.5487 575.2598,-248.6999 564.872,-246.616 565.8397,-253.5487\" stroke=\"#000000\"/>\n</g>\n<!-- 140080462978352 -->\n<g class=\"node\" id=\"node4\">\n<title>140080462978352</title>\n<polygon fill=\"none\" points=\"283.5,-292.5 283.5,-328.5 453.5,-328.5 453.5,-292.5 283.5,-292.5\" stroke=\"#000000\"/>\n<text fill=\"#000000\" font-family=\"Times,serif\" font-size=\"14.00\" text-anchor=\"middle\" x=\"368.5\" y=\"-306.8\">direct_features: InputLayer</text>\n</g>\n<!-- 140080462978352&#45;&gt;140080463077272 -->\n<g class=\"edge\" id=\"edge4\">\n<title>140080462978352-&gt;140080463077272</title>\n<path d=\"M439.4438,-292.4551C480.4074,-282.0358 532.0755,-268.8937 574.6129,-258.0741\" fill=\"none\" stroke=\"#000000\"/>\n<polygon fill=\"#000000\" points=\"575.549,-261.4475 584.3776,-255.5904 573.8234,-254.6635 575.549,-261.4475\" stroke=\"#000000\"/>\n</g>\n<!-- 140080463005232 -->\n<g class=\"node\" id=\"node5\">\n<title>140080463005232</title>\n<polygon fill=\"none\" points=\"471.5,-292.5 471.5,-328.5 583.5,-328.5 583.5,-292.5 471.5,-292.5\" stroke=\"#000000\"/>\n<text fill=\"#000000\" font-family=\"Times,serif\" font-size=\"14.00\" text-anchor=\"middle\" x=\"527.5\" y=\"-306.8\">Age: InputLayer</text>\n</g>\n<!-- 140080463005232&#45;&gt;140080463077272 -->\n<g class=\"edge\" id=\"edge5\">\n<title>140080463005232-&gt;140080463077272</title>\n<path d=\"M559.1405,-292.4551C575.9099,-282.8912 596.7017,-271.0334 614.6745,-260.7833\" fill=\"none\" stroke=\"#000000\"/>\n<polygon fill=\"#000000\" points=\"616.8272,-263.5848 623.7799,-255.5904 613.3594,-257.5042 616.8272,-263.5848\" stroke=\"#000000\"/>\n</g>\n<!-- 140080463073968 -->\n<g class=\"node\" id=\"node6\">\n<title>140080463073968</title>\n<polygon fill=\"none\" points=\"601.5,-292.5 601.5,-328.5 709.5,-328.5 709.5,-292.5 601.5,-292.5\" stroke=\"#000000\"/>\n<text fill=\"#000000\" font-family=\"Times,serif\" font-size=\"14.00\" text-anchor=\"middle\" x=\"655.5\" y=\"-306.8\">Fee: InputLayer</text>\n</g>\n<!-- 140080463073968&#45;&gt;140080463077272 -->\n<g class=\"edge\" id=\"edge6\">\n<title>140080463073968-&gt;140080463077272</title>\n<path d=\"M655.5,-292.4551C655.5,-284.3828 655.5,-274.6764 655.5,-265.6817\" fill=\"none\" stroke=\"#000000\"/>\n<polygon fill=\"#000000\" points=\"659.0001,-265.5903 655.5,-255.5904 652.0001,-265.5904 659.0001,-265.5903\" stroke=\"#000000\"/>\n</g>\n<!-- 140080463074640 -->\n<g class=\"node\" id=\"node7\">\n<title>140080463074640</title>\n<polygon fill=\"none\" points=\"727.5,-292.5 727.5,-328.5 865.5,-328.5 865.5,-292.5 727.5,-292.5\" stroke=\"#000000\"/>\n<text fill=\"#000000\" font-family=\"Times,serif\" font-size=\"14.00\" text-anchor=\"middle\" x=\"796.5\" y=\"-306.8\">Quantity: InputLayer</text>\n</g>\n<!-- 140080463074640&#45;&gt;140080463077272 -->\n<g class=\"edge\" id=\"edge7\">\n<title>140080463074640-&gt;140080463077272</title>\n<path d=\"M761.6461,-292.4551C742.8345,-282.7157 719.428,-270.5975 699.3852,-260.2207\" fill=\"none\" stroke=\"#000000\"/>\n<polygon fill=\"#000000\" points=\"700.9313,-257.0799 690.4417,-255.5904 697.7129,-263.2962 700.9313,-257.0799\" stroke=\"#000000\"/>\n</g>\n<!-- 140080463075592 -->\n<g class=\"node\" id=\"node8\">\n<title>140080463075592</title>\n<polygon fill=\"none\" points=\"884,-292.5 884,-328.5 1045,-328.5 1045,-292.5 884,-292.5\" stroke=\"#000000\"/>\n<text fill=\"#000000\" font-family=\"Times,serif\" font-size=\"14.00\" text-anchor=\"middle\" x=\"964.5\" y=\"-306.8\">MaturitySize: InputLayer</text>\n</g>\n<!-- 140080463075592&#45;&gt;140080463077272 -->\n<g class=\"edge\" id=\"edge8\">\n<title>140080463075592-&gt;140080463077272</title>\n<path d=\"M888.118,-292.4551C843.7454,-281.9722 787.7068,-268.7333 741.7508,-257.8764\" fill=\"none\" stroke=\"#000000\"/>\n<polygon fill=\"#000000\" points=\"742.343,-254.42 731.8061,-255.527 740.7335,-261.2325 742.343,-254.42\" stroke=\"#000000\"/>\n</g>\n<!-- 140080463076040 -->\n<g class=\"node\" id=\"node9\">\n<title>140080463076040</title>\n<polygon fill=\"none\" points=\"1063,-292.5 1063,-328.5 1212,-328.5 1212,-292.5 1063,-292.5\" stroke=\"#000000\"/>\n<text fill=\"#000000\" font-family=\"Times,serif\" font-size=\"14.00\" text-anchor=\"middle\" x=\"1137.5\" y=\"-306.8\">FurLength: InputLayer</text>\n</g>\n<!-- 140080463076040&#45;&gt;140080463077272 -->\n<g class=\"edge\" id=\"edge9\">\n<title>140080463076040-&gt;140080463077272</title>\n<path d=\"M1062.9027,-293.5643C1060.0693,-293.0191 1057.2609,-292.4954 1054.5,-292 949.0766,-273.0852 826.9414,-257.2913 745.8498,-247.6568\" fill=\"none\" stroke=\"#000000\"/>\n<polygon fill=\"#000000\" points=\"746.0164,-244.1522 735.6748,-246.4546 745.195,-251.1039 746.0164,-244.1522\" stroke=\"#000000\"/>\n</g>\n<!-- 140080463006912 -->\n<g class=\"node\" id=\"node11\">\n<title>140080463006912</title>\n<polygon fill=\"none\" points=\"609.5,-146.5 609.5,-182.5 701.5,-182.5 701.5,-146.5 609.5,-146.5\" stroke=\"#000000\"/>\n<text fill=\"#000000\" font-family=\"Times,serif\" font-size=\"14.00\" text-anchor=\"middle\" x=\"655.5\" y=\"-160.8\">dense: Dense</text>\n</g>\n<!-- 140080463077272&#45;&gt;140080463006912 -->\n<g class=\"edge\" id=\"edge10\">\n<title>140080463077272-&gt;140080463006912</title>\n<path d=\"M655.5,-219.4551C655.5,-211.3828 655.5,-201.6764 655.5,-192.6817\" fill=\"none\" stroke=\"#000000\"/>\n<polygon fill=\"#000000\" points=\"659.0001,-192.5903 655.5,-182.5904 652.0001,-192.5904 659.0001,-192.5903\" stroke=\"#000000\"/>\n</g>\n<!-- 140080463140792 -->\n<g class=\"node\" id=\"node12\">\n<title>140080463140792</title>\n<polygon fill=\"none\" points=\"596,-73.5 596,-109.5 715,-109.5 715,-73.5 596,-73.5\" stroke=\"#000000\"/>\n<text fill=\"#000000\" font-family=\"Times,serif\" font-size=\"14.00\" text-anchor=\"middle\" x=\"655.5\" y=\"-87.8\">dropout: Dropout</text>\n</g>\n<!-- 140080463006912&#45;&gt;140080463140792 -->\n<g class=\"edge\" id=\"edge11\">\n<title>140080463006912-&gt;140080463140792</title>\n<path d=\"M655.5,-146.4551C655.5,-138.3828 655.5,-128.6764 655.5,-119.6817\" fill=\"none\" stroke=\"#000000\"/>\n<polygon fill=\"#000000\" points=\"659.0001,-119.5903 655.5,-109.5904 652.0001,-119.5904 659.0001,-119.5903\" stroke=\"#000000\"/>\n</g>\n<!-- 140080463142584 -->\n<g class=\"node\" id=\"node13\">\n<title>140080463142584</title>\n<polygon fill=\"none\" points=\"602,-.5 602,-36.5 709,-36.5 709,-.5 602,-.5\" stroke=\"#000000\"/>\n<text fill=\"#000000\" font-family=\"Times,serif\" font-size=\"14.00\" text-anchor=\"middle\" x=\"655.5\" y=\"-14.8\">dense_1: Dense</text>\n</g>\n<!-- 140080463140792&#45;&gt;140080463142584 -->\n<g class=\"edge\" id=\"edge12\">\n<title>140080463140792-&gt;140080463142584</title>\n<path d=\"M655.5,-73.4551C655.5,-65.3828 655.5,-55.6764 655.5,-46.6817\" fill=\"none\" stroke=\"#000000\"/>\n<polygon fill=\"#000000\" points=\"659.0001,-46.5903 655.5,-36.5904 652.0001,-46.5904 659.0001,-46.5903\" stroke=\"#000000\"/>\n</g>\n</g>\n</svg>"
          },
          "metadata": {
            "tags": []
          },
          "execution_count": 113
        }
      ]
    },
    {
      "cell_type": "code",
      "metadata": {
        "id": "JEiC57oK6RY7",
        "colab_type": "code",
        "colab": {}
      },
      "source": [
        "model.compile(loss='mean_squared_error', optimizer='sgd',\n",
        "              metrics=['accuracy'])"
      ],
      "execution_count": 0,
      "outputs": []
    },
    {
      "cell_type": "code",
      "metadata": {
        "id": "jjfKXvGV6G3S",
        "colab_type": "code",
        "colab": {
          "base_uri": "https://localhost:8080/",
          "height": 1000
        },
        "outputId": "cf89cf93-0467-4635-be3b-8f236d55811b"
      },
      "source": [
        "mlflow.set_experiment('very_base_approach')\n",
        "\n",
        "with mlflow.start_run(nested=True):\n",
        "    # Log model hiperparameters first\n",
        "    mlflow.log_param('hidden_layer_size', hidden_layer_size)\n",
        "    mlflow.log_param('embedded_columns', embedded_columns)\n",
        "    mlflow.log_param('one_hot_columns', one_hot_columns)\n",
        "    mlflow.log_param('numerical_columns', numeric_columns)  # Not using these yet\n",
        "    \n",
        "    # Train\n",
        "    epochs = 100\n",
        "    history = model.fit(train_ds, epochs=epochs,validation_data=test_ds)\n",
        "    \n",
        "    # Evaluate\n",
        "    loss, accuracy = model.evaluate(test_ds)\n",
        "    print(\"*** Test loss: {} - accuracy: {}\".format(loss, accuracy))\n",
        "    mlflow.log_metric('epochs', epochs)\n",
        "    mlflow.log_metric('loss', loss)\n",
        "    mlflow.log_metric('accuracy', accuracy)"
      ],
      "execution_count": 115,
      "outputs": [
        {
          "output_type": "stream",
          "text": [
            "Epoch 1/100\n",
            "265/265 [==============================] - 2s 8ms/step - loss: 0.1598 - accuracy: 0.2415 - val_loss: 0.0000e+00 - val_accuracy: 0.0000e+00\n",
            "Epoch 2/100\n",
            "265/265 [==============================] - 1s 3ms/step - loss: 0.1577 - accuracy: 0.2605 - val_loss: 0.1555 - val_accuracy: 0.2801\n",
            "Epoch 3/100\n",
            "265/265 [==============================] - 1s 3ms/step - loss: 0.1562 - accuracy: 0.2637 - val_loss: 0.1545 - val_accuracy: 0.2976\n",
            "Epoch 4/100\n",
            "265/265 [==============================] - 1s 3ms/step - loss: 0.1552 - accuracy: 0.2725 - val_loss: 0.1537 - val_accuracy: 0.3037\n",
            "Epoch 5/100\n",
            "265/265 [==============================] - 1s 3ms/step - loss: 0.1546 - accuracy: 0.2763 - val_loss: 0.1531 - val_accuracy: 0.3099\n",
            "Epoch 6/100\n",
            "265/265 [==============================] - 1s 3ms/step - loss: 0.1540 - accuracy: 0.2806 - val_loss: 0.1526 - val_accuracy: 0.3075\n",
            "Epoch 7/100\n",
            "265/265 [==============================] - 1s 3ms/step - loss: 0.1535 - accuracy: 0.2849 - val_loss: 0.1522 - val_accuracy: 0.3094\n",
            "Epoch 8/100\n",
            "265/265 [==============================] - 1s 3ms/step - loss: 0.1531 - accuracy: 0.2880 - val_loss: 0.1518 - val_accuracy: 0.3103\n",
            "Epoch 9/100\n",
            "265/265 [==============================] - 1s 3ms/step - loss: 0.1530 - accuracy: 0.2882 - val_loss: 0.1515 - val_accuracy: 0.3174\n",
            "Epoch 10/100\n",
            "265/265 [==============================] - 1s 3ms/step - loss: 0.1523 - accuracy: 0.2929 - val_loss: 0.1513 - val_accuracy: 0.3193\n",
            "Epoch 11/100\n",
            "265/265 [==============================] - 1s 3ms/step - loss: 0.1524 - accuracy: 0.2907 - val_loss: 0.1510 - val_accuracy: 0.3193\n",
            "Epoch 12/100\n",
            "265/265 [==============================] - 1s 3ms/step - loss: 0.1518 - accuracy: 0.2932 - val_loss: 0.1508 - val_accuracy: 0.3193\n",
            "Epoch 13/100\n",
            "265/265 [==============================] - 1s 3ms/step - loss: 0.1515 - accuracy: 0.3003 - val_loss: 0.1506 - val_accuracy: 0.3198\n",
            "Epoch 14/100\n",
            "265/265 [==============================] - 1s 3ms/step - loss: 0.1514 - accuracy: 0.3029 - val_loss: 0.1504 - val_accuracy: 0.3207\n",
            "Epoch 15/100\n",
            "265/265 [==============================] - 1s 3ms/step - loss: 0.1512 - accuracy: 0.3057 - val_loss: 0.1503 - val_accuracy: 0.3207\n",
            "Epoch 16/100\n",
            "265/265 [==============================] - 1s 3ms/step - loss: 0.1514 - accuracy: 0.3045 - val_loss: 0.1501 - val_accuracy: 0.3240\n",
            "Epoch 17/100\n",
            "265/265 [==============================] - 1s 3ms/step - loss: 0.1511 - accuracy: 0.3090 - val_loss: 0.1500 - val_accuracy: 0.3240\n",
            "Epoch 18/100\n",
            "265/265 [==============================] - 1s 3ms/step - loss: 0.1509 - accuracy: 0.2986 - val_loss: 0.1499 - val_accuracy: 0.3245\n",
            "Epoch 19/100\n",
            "265/265 [==============================] - 1s 3ms/step - loss: 0.1506 - accuracy: 0.3126 - val_loss: 0.1498 - val_accuracy: 0.3264\n",
            "Epoch 20/100\n",
            "265/265 [==============================] - 1s 3ms/step - loss: 0.1505 - accuracy: 0.3112 - val_loss: 0.1497 - val_accuracy: 0.3288\n",
            "Epoch 21/100\n",
            "265/265 [==============================] - 1s 3ms/step - loss: 0.1503 - accuracy: 0.3147 - val_loss: 0.1496 - val_accuracy: 0.3325\n",
            "Epoch 22/100\n",
            "265/265 [==============================] - 1s 3ms/step - loss: 0.1504 - accuracy: 0.3041 - val_loss: 0.1495 - val_accuracy: 0.3321\n",
            "Epoch 23/100\n",
            "265/265 [==============================] - 1s 3ms/step - loss: 0.1501 - accuracy: 0.3158 - val_loss: 0.1494 - val_accuracy: 0.3311\n",
            "Epoch 24/100\n",
            "265/265 [==============================] - 1s 3ms/step - loss: 0.1501 - accuracy: 0.3177 - val_loss: 0.1493 - val_accuracy: 0.3316\n",
            "Epoch 25/100\n",
            "265/265 [==============================] - 1s 3ms/step - loss: 0.1499 - accuracy: 0.3115 - val_loss: 0.1492 - val_accuracy: 0.3330\n",
            "Epoch 26/100\n",
            "265/265 [==============================] - 1s 3ms/step - loss: 0.1497 - accuracy: 0.3205 - val_loss: 0.1491 - val_accuracy: 0.3359\n",
            "Epoch 27/100\n",
            "265/265 [==============================] - 1s 3ms/step - loss: 0.1498 - accuracy: 0.3115 - val_loss: 0.1491 - val_accuracy: 0.3363\n",
            "Epoch 28/100\n",
            "265/265 [==============================] - 1s 3ms/step - loss: 0.1497 - accuracy: 0.3166 - val_loss: 0.1490 - val_accuracy: 0.3392\n",
            "Epoch 29/100\n",
            "265/265 [==============================] - 1s 3ms/step - loss: 0.1494 - accuracy: 0.3160 - val_loss: 0.1489 - val_accuracy: 0.3396\n",
            "Epoch 30/100\n",
            "265/265 [==============================] - 1s 3ms/step - loss: 0.1495 - accuracy: 0.3194 - val_loss: 0.1489 - val_accuracy: 0.3392\n",
            "Epoch 31/100\n",
            "265/265 [==============================] - 1s 3ms/step - loss: 0.1497 - accuracy: 0.3167 - val_loss: 0.1488 - val_accuracy: 0.3410\n",
            "Epoch 32/100\n",
            "265/265 [==============================] - 1s 3ms/step - loss: 0.1495 - accuracy: 0.3175 - val_loss: 0.1488 - val_accuracy: 0.3410\n",
            "Epoch 33/100\n",
            "265/265 [==============================] - 1s 3ms/step - loss: 0.1494 - accuracy: 0.3198 - val_loss: 0.1487 - val_accuracy: 0.3420\n",
            "Epoch 34/100\n",
            "265/265 [==============================] - 1s 3ms/step - loss: 0.1492 - accuracy: 0.3219 - val_loss: 0.1487 - val_accuracy: 0.3434\n",
            "Epoch 35/100\n",
            "265/265 [==============================] - 1s 3ms/step - loss: 0.1493 - accuracy: 0.3159 - val_loss: 0.1486 - val_accuracy: 0.3420\n",
            "Epoch 36/100\n",
            "265/265 [==============================] - 1s 3ms/step - loss: 0.1490 - accuracy: 0.3257 - val_loss: 0.1486 - val_accuracy: 0.3420\n",
            "Epoch 37/100\n",
            "265/265 [==============================] - 1s 3ms/step - loss: 0.1489 - accuracy: 0.3214 - val_loss: 0.1485 - val_accuracy: 0.3429\n",
            "Epoch 38/100\n",
            "265/265 [==============================] - 1s 3ms/step - loss: 0.1488 - accuracy: 0.3268 - val_loss: 0.1485 - val_accuracy: 0.3429\n",
            "Epoch 39/100\n",
            "265/265 [==============================] - 1s 3ms/step - loss: 0.1487 - accuracy: 0.3213 - val_loss: 0.1484 - val_accuracy: 0.3444\n",
            "Epoch 40/100\n",
            "265/265 [==============================] - 1s 3ms/step - loss: 0.1488 - accuracy: 0.3260 - val_loss: 0.1484 - val_accuracy: 0.3439\n",
            "Epoch 41/100\n",
            "265/265 [==============================] - 1s 3ms/step - loss: 0.1489 - accuracy: 0.3268 - val_loss: 0.1483 - val_accuracy: 0.3444\n",
            "Epoch 42/100\n",
            "265/265 [==============================] - 1s 3ms/step - loss: 0.1488 - accuracy: 0.3336 - val_loss: 0.1483 - val_accuracy: 0.3462\n",
            "Epoch 43/100\n",
            "265/265 [==============================] - 1s 3ms/step - loss: 0.1488 - accuracy: 0.3250 - val_loss: 0.1483 - val_accuracy: 0.3481\n",
            "Epoch 44/100\n",
            "265/265 [==============================] - 1s 3ms/step - loss: 0.1486 - accuracy: 0.3316 - val_loss: 0.1482 - val_accuracy: 0.3481\n",
            "Epoch 45/100\n",
            "265/265 [==============================] - 1s 3ms/step - loss: 0.1488 - accuracy: 0.3237 - val_loss: 0.1482 - val_accuracy: 0.3496\n",
            "Epoch 46/100\n",
            "265/265 [==============================] - 1s 3ms/step - loss: 0.1487 - accuracy: 0.3310 - val_loss: 0.1482 - val_accuracy: 0.3481\n",
            "Epoch 47/100\n",
            "265/265 [==============================] - 1s 3ms/step - loss: 0.1486 - accuracy: 0.3265 - val_loss: 0.1481 - val_accuracy: 0.3477\n",
            "Epoch 48/100\n",
            "265/265 [==============================] - 1s 3ms/step - loss: 0.1486 - accuracy: 0.3260 - val_loss: 0.1481 - val_accuracy: 0.3481\n",
            "Epoch 49/100\n",
            "265/265 [==============================] - 1s 3ms/step - loss: 0.1483 - accuracy: 0.3330 - val_loss: 0.1481 - val_accuracy: 0.3481\n",
            "Epoch 50/100\n",
            "265/265 [==============================] - 1s 3ms/step - loss: 0.1485 - accuracy: 0.3301 - val_loss: 0.1480 - val_accuracy: 0.3472\n",
            "Epoch 51/100\n",
            "265/265 [==============================] - 1s 3ms/step - loss: 0.1482 - accuracy: 0.3268 - val_loss: 0.1480 - val_accuracy: 0.3472\n",
            "Epoch 52/100\n",
            "265/265 [==============================] - 1s 3ms/step - loss: 0.1484 - accuracy: 0.3288 - val_loss: 0.1480 - val_accuracy: 0.3462\n",
            "Epoch 53/100\n",
            "265/265 [==============================] - 1s 3ms/step - loss: 0.1483 - accuracy: 0.3338 - val_loss: 0.1479 - val_accuracy: 0.3458\n",
            "Epoch 54/100\n",
            "265/265 [==============================] - 1s 3ms/step - loss: 0.1484 - accuracy: 0.3307 - val_loss: 0.1479 - val_accuracy: 0.3453\n",
            "Epoch 55/100\n",
            "265/265 [==============================] - 1s 3ms/step - loss: 0.1485 - accuracy: 0.3262 - val_loss: 0.1479 - val_accuracy: 0.3458\n",
            "Epoch 56/100\n",
            "265/265 [==============================] - 1s 3ms/step - loss: 0.1485 - accuracy: 0.3258 - val_loss: 0.1478 - val_accuracy: 0.3458\n",
            "Epoch 57/100\n",
            "265/265 [==============================] - 1s 3ms/step - loss: 0.1485 - accuracy: 0.3251 - val_loss: 0.1478 - val_accuracy: 0.3458\n",
            "Epoch 58/100\n",
            "265/265 [==============================] - 1s 3ms/step - loss: 0.1481 - accuracy: 0.3327 - val_loss: 0.1478 - val_accuracy: 0.3462\n",
            "Epoch 59/100\n",
            "265/265 [==============================] - 1s 3ms/step - loss: 0.1481 - accuracy: 0.3364 - val_loss: 0.1478 - val_accuracy: 0.3481\n",
            "Epoch 60/100\n",
            "265/265 [==============================] - 1s 3ms/step - loss: 0.1480 - accuracy: 0.3353 - val_loss: 0.1477 - val_accuracy: 0.3477\n",
            "Epoch 61/100\n",
            "265/265 [==============================] - 1s 3ms/step - loss: 0.1483 - accuracy: 0.3255 - val_loss: 0.1477 - val_accuracy: 0.3467\n",
            "Epoch 62/100\n",
            "265/265 [==============================] - 1s 3ms/step - loss: 0.1482 - accuracy: 0.3292 - val_loss: 0.1477 - val_accuracy: 0.3462\n",
            "Epoch 63/100\n",
            "265/265 [==============================] - 1s 3ms/step - loss: 0.1483 - accuracy: 0.3288 - val_loss: 0.1477 - val_accuracy: 0.3472\n",
            "Epoch 64/100\n",
            "265/265 [==============================] - 1s 3ms/step - loss: 0.1481 - accuracy: 0.3278 - val_loss: 0.1476 - val_accuracy: 0.3481\n",
            "Epoch 65/100\n",
            "265/265 [==============================] - 1s 3ms/step - loss: 0.1479 - accuracy: 0.3414 - val_loss: 0.1476 - val_accuracy: 0.3491\n",
            "Epoch 66/100\n",
            "265/265 [==============================] - 1s 3ms/step - loss: 0.1479 - accuracy: 0.3321 - val_loss: 0.1476 - val_accuracy: 0.3486\n",
            "Epoch 67/100\n",
            "265/265 [==============================] - 1s 3ms/step - loss: 0.1482 - accuracy: 0.3354 - val_loss: 0.1476 - val_accuracy: 0.3500\n",
            "Epoch 68/100\n",
            "265/265 [==============================] - 1s 3ms/step - loss: 0.1476 - accuracy: 0.3376 - val_loss: 0.1475 - val_accuracy: 0.3500\n",
            "Epoch 69/100\n",
            "265/265 [==============================] - 1s 3ms/step - loss: 0.1480 - accuracy: 0.3328 - val_loss: 0.1475 - val_accuracy: 0.3500\n",
            "Epoch 70/100\n",
            "265/265 [==============================] - 1s 3ms/step - loss: 0.1478 - accuracy: 0.3346 - val_loss: 0.1475 - val_accuracy: 0.3500\n",
            "Epoch 71/100\n",
            "265/265 [==============================] - 1s 3ms/step - loss: 0.1478 - accuracy: 0.3342 - val_loss: 0.1475 - val_accuracy: 0.3505\n",
            "Epoch 72/100\n",
            "265/265 [==============================] - 1s 3ms/step - loss: 0.1480 - accuracy: 0.3322 - val_loss: 0.1475 - val_accuracy: 0.3500\n",
            "Epoch 73/100\n",
            "265/265 [==============================] - 1s 3ms/step - loss: 0.1477 - accuracy: 0.3299 - val_loss: 0.1474 - val_accuracy: 0.3500\n",
            "Epoch 74/100\n",
            "265/265 [==============================] - 1s 3ms/step - loss: 0.1476 - accuracy: 0.3342 - val_loss: 0.1474 - val_accuracy: 0.3505\n",
            "Epoch 75/100\n",
            "265/265 [==============================] - 1s 3ms/step - loss: 0.1477 - accuracy: 0.3400 - val_loss: 0.1474 - val_accuracy: 0.3491\n",
            "Epoch 76/100\n",
            "265/265 [==============================] - 1s 3ms/step - loss: 0.1477 - accuracy: 0.3344 - val_loss: 0.1474 - val_accuracy: 0.3486\n",
            "Epoch 77/100\n",
            "265/265 [==============================] - 1s 4ms/step - loss: 0.1476 - accuracy: 0.3372 - val_loss: 0.1474 - val_accuracy: 0.3500\n",
            "Epoch 78/100\n",
            "265/265 [==============================] - 1s 3ms/step - loss: 0.1475 - accuracy: 0.3321 - val_loss: 0.1473 - val_accuracy: 0.3500\n",
            "Epoch 79/100\n",
            "265/265 [==============================] - 1s 3ms/step - loss: 0.1477 - accuracy: 0.3308 - val_loss: 0.1473 - val_accuracy: 0.3500\n",
            "Epoch 80/100\n",
            "265/265 [==============================] - 1s 3ms/step - loss: 0.1477 - accuracy: 0.3327 - val_loss: 0.1473 - val_accuracy: 0.3496\n",
            "Epoch 81/100\n",
            "265/265 [==============================] - 1s 3ms/step - loss: 0.1476 - accuracy: 0.3341 - val_loss: 0.1473 - val_accuracy: 0.3477\n",
            "Epoch 82/100\n",
            "265/265 [==============================] - 1s 3ms/step - loss: 0.1476 - accuracy: 0.3330 - val_loss: 0.1473 - val_accuracy: 0.3472\n",
            "Epoch 83/100\n",
            "265/265 [==============================] - 1s 3ms/step - loss: 0.1478 - accuracy: 0.3363 - val_loss: 0.1473 - val_accuracy: 0.3481\n",
            "Epoch 84/100\n",
            "265/265 [==============================] - 1s 3ms/step - loss: 0.1477 - accuracy: 0.3370 - val_loss: 0.1472 - val_accuracy: 0.3472\n",
            "Epoch 85/100\n",
            "265/265 [==============================] - 1s 3ms/step - loss: 0.1474 - accuracy: 0.3364 - val_loss: 0.1472 - val_accuracy: 0.3462\n",
            "Epoch 86/100\n",
            "265/265 [==============================] - 1s 3ms/step - loss: 0.1475 - accuracy: 0.3328 - val_loss: 0.1472 - val_accuracy: 0.3472\n",
            "Epoch 87/100\n",
            "265/265 [==============================] - 1s 3ms/step - loss: 0.1474 - accuracy: 0.3449 - val_loss: 0.1472 - val_accuracy: 0.3481\n",
            "Epoch 88/100\n",
            "265/265 [==============================] - 1s 3ms/step - loss: 0.1474 - accuracy: 0.3380 - val_loss: 0.1472 - val_accuracy: 0.3477\n",
            "Epoch 89/100\n",
            "265/265 [==============================] - 1s 3ms/step - loss: 0.1472 - accuracy: 0.3379 - val_loss: 0.1471 - val_accuracy: 0.3481\n",
            "Epoch 90/100\n",
            "265/265 [==============================] - 1s 3ms/step - loss: 0.1475 - accuracy: 0.3388 - val_loss: 0.1471 - val_accuracy: 0.3467\n",
            "Epoch 91/100\n",
            "265/265 [==============================] - 1s 3ms/step - loss: 0.1475 - accuracy: 0.3388 - val_loss: 0.1471 - val_accuracy: 0.3481\n",
            "Epoch 92/100\n",
            "265/265 [==============================] - 1s 3ms/step - loss: 0.1471 - accuracy: 0.3399 - val_loss: 0.1471 - val_accuracy: 0.3481\n",
            "Epoch 93/100\n",
            "265/265 [==============================] - 1s 3ms/step - loss: 0.1474 - accuracy: 0.3340 - val_loss: 0.1471 - val_accuracy: 0.3477\n",
            "Epoch 94/100\n",
            "265/265 [==============================] - 1s 3ms/step - loss: 0.1473 - accuracy: 0.3429 - val_loss: 0.1471 - val_accuracy: 0.3477\n",
            "Epoch 95/100\n",
            "265/265 [==============================] - 1s 3ms/step - loss: 0.1471 - accuracy: 0.3409 - val_loss: 0.1471 - val_accuracy: 0.3481\n",
            "Epoch 96/100\n",
            "265/265 [==============================] - 1s 3ms/step - loss: 0.1471 - accuracy: 0.3387 - val_loss: 0.1470 - val_accuracy: 0.3477\n",
            "Epoch 97/100\n",
            "265/265 [==============================] - 1s 3ms/step - loss: 0.1474 - accuracy: 0.3355 - val_loss: 0.1470 - val_accuracy: 0.3491\n",
            "Epoch 98/100\n",
            "265/265 [==============================] - 1s 3ms/step - loss: 0.1474 - accuracy: 0.3346 - val_loss: 0.1470 - val_accuracy: 0.3486\n",
            "Epoch 99/100\n",
            "265/265 [==============================] - 1s 3ms/step - loss: 0.1475 - accuracy: 0.3372 - val_loss: 0.1470 - val_accuracy: 0.3486\n",
            "Epoch 100/100\n",
            "265/265 [==============================] - 1s 3ms/step - loss: 0.1470 - accuracy: 0.3413 - val_loss: 0.1470 - val_accuracy: 0.3481\n",
            "67/67 [==============================] - 0s 2ms/step - loss: 0.1470 - accuracy: 0.3481\n",
            "*** Test loss: 0.14698866298839228 - accuracy: 0.3481341600418091\n"
          ],
          "name": "stdout"
        }
      ]
    },
    {
      "cell_type": "code",
      "metadata": {
        "id": "j74SN7dB6Ml9",
        "colab_type": "code",
        "colab": {
          "base_uri": "https://localhost:8080/",
          "height": 295
        },
        "outputId": "4dbfe1e2-e3db-4381-c494-8b6edf4a0c33"
      },
      "source": [
        "plt.plot(history.history['accuracy'])\n",
        "plt.plot(history.history['val_accuracy'])\n",
        "plt.title('model accuracy')\n",
        "plt.ylabel('accuracy')\n",
        "plt.xlabel('epoch')\n",
        "plt.legend(['train', 'test']);"
      ],
      "execution_count": 116,
      "outputs": [
        {
          "output_type": "display_data",
          "data": {
            "image/png": "[encoded data removed]",
            "text/plain": [
              "<Figure size 432x288 with 1 Axes>"
            ]
          },
          "metadata": {
            "tags": []
          }
        }
      ]
    },
    {
      "cell_type": "markdown",
      "metadata": {
        "id": "s5yfFdDhHBq8",
        "colab_type": "text"
      },
      "source": [
        "Al agregar más columnas el modelo ha mostrado una accuracy mayor. Ha podido entrenarse de mejor forma con más datos."
      ]
    },
    {
      "cell_type": "code",
      "metadata": {
        "id": "gwZWQaodGaHG",
        "colab_type": "code",
        "colab": {
          "base_uri": "https://localhost:8080/",
          "height": 295
        },
        "outputId": "42a62574-8da3-4982-df86-914efb56e87e"
      },
      "source": [
        "plt.plot(history.history['loss'])\n",
        "plt.plot(history.history['val_loss'])\n",
        "plt.title('model loss')\n",
        "plt.ylabel('loss')\n",
        "plt.xlabel('epoch')\n",
        "plt.legend(['train', 'test']);"
      ],
      "execution_count": 117,
      "outputs": [
        {
          "output_type": "display_data",
          "data": {
            "image/png": "[encoded data removed]",
            "text/plain": [
              "<Figure size 432x288 with 1 Axes>"
            ]
          },
          "metadata": {
            "tags": []
          }
        }
      ]
    },
    {
      "cell_type": "markdown",
      "metadata": {
        "id": "BDlDwe6-NV3t",
        "colab_type": "text"
      },
      "source": [
        "-------------------------------"
      ]
    },
    {
      "cell_type": "markdown",
      "metadata": {
        "id": "lKnIliTZNb6m",
        "colab_type": "text"
      },
      "source": [
        "Veamos como va si al parámetro de dropout le asignamos un valor alto. Apagaremos gran parte de las neuronas."
      ]
    },
    {
      "cell_type": "code",
      "metadata": {
        "id": "HTcq_KWzGc89",
        "colab_type": "code",
        "colab": {
          "base_uri": "https://localhost:8080/",
          "height": 52
        },
        "outputId": "2a718ca0-df9c-48dc-8df8-86693b00283f"
      },
      "source": [
        "tf.keras.backend.clear_session()\n",
        "\n",
        "hidden_layer_size = 64\n",
        "\n",
        "# Add one input and one embedding for each embedded column\n",
        "embedding_layers = []\n",
        "inputs = []\n",
        "for embedded_col, max_value in embedded_columns.items():\n",
        "    input_layer = layers.Input(shape=(1,), name=embedded_col)\n",
        "    inputs.append(input_layer)\n",
        "    # Define the embedding layer\n",
        "    embedding_size = int(max_value / 4)\n",
        "    embedding_layers.append(\n",
        "        tf.squeeze(layers.Embedding(input_dim=max_value, output_dim=embedding_size)(input_layer), axis=-2))\n",
        "    print('Adding embedding of size {} for layer {}'.format(embedding_size, embedded_col))\n",
        "\n",
        "# Add the direct features already calculated\n",
        "direct_features_input = layers.Input(shape=direct_features_input_shape, name='direct_features')\n",
        "inputs.append(direct_features_input)\n",
        "\n",
        "\n",
        "numeric_layers=[]\n",
        "for elem in numeric_columns:\n",
        "  input_layer = layers.Input(shape=(1,), name=elem)\n",
        "  inputs.append(input_layer)\n",
        "  \n",
        "  numeric_layers.append(input_layer)\n",
        "\n",
        "\n",
        "# Concatenate everything together\n",
        "# es lo que va a ir a la primer capa Dense\n",
        "features = layers.concatenate(embedding_layers + [direct_features_input]+numeric_layers)\n",
        "\n",
        "dense1 = layers.Dense(hidden_layer_size, activation='relu')(features)\n",
        "\n",
        "#agregamos un dropout\n",
        "dense1 = Dropout(0.9)(dense1)\n",
        "\n",
        "output_layer = layers.Dense(nlabels, activation='softmax')(dense1)\n",
        "\n",
        "model = models.Model(inputs=inputs, outputs=output_layer)"
      ],
      "execution_count": 118,
      "outputs": [
        {
          "output_type": "stream",
          "text": [
            "Adding embedding of size 77 for layer Breed1\n",
            "WARNING:tensorflow:Large dropout rate: 0.9 (>0.5). In TensorFlow 2.x, dropout() uses dropout rate instead of keep_prob. Please ensure that this is intended.\n"
          ],
          "name": "stdout"
        }
      ]
    },
    {
      "cell_type": "code",
      "metadata": {
        "id": "hup5bei304gE",
        "colab_type": "code",
        "colab": {
          "base_uri": "https://localhost:8080/",
          "height": 685
        },
        "outputId": "5f429f51-16a1-4cc5-de89-c72e3e5d8e04"
      },
      "source": [
        "SVG(model_to_dot(model, dpi=72).create(prog='dot', format='svg'))"
      ],
      "execution_count": 119,
      "outputs": [
        {
          "output_type": "execute_result",
          "data": {
            "text/plain": [
              "<IPython.core.display.SVG object>"
            ],
            "image/svg+xml": "<svg height=\"483pt\" viewBox=\"0.00 0.00 1220.00 483.00\" width=\"1220pt\" xmlns=\"http://www.w3.org/2000/svg\" xmlns:xlink=\"http://www.w3.org/1999/xlink\">\n<g class=\"graph\" id=\"graph0\" transform=\"scale(1 1) rotate(0) translate(4 479)\">\n<title>G</title>\n<polygon fill=\"#ffffff\" points=\"-4,4 -4,-479 1216,-479 1216,4 -4,4\" stroke=\"transparent\"/>\n<!-- 140080465366152 -->\n<g class=\"node\" id=\"node1\">\n<title>140080465366152</title>\n<polygon fill=\"none\" points=\"68,-438.5 68,-474.5 197,-474.5 197,-438.5 68,-438.5\" stroke=\"#000000\"/>\n<text fill=\"#000000\" font-family=\"Times,serif\" font-size=\"14.00\" text-anchor=\"middle\" x=\"132.5\" y=\"-452.8\">Breed1: InputLayer</text>\n</g>\n<!-- 140080437936760 -->\n<g class=\"node\" id=\"node2\">\n<title>140080437936760</title>\n<polygon fill=\"none\" points=\"54.5,-365.5 54.5,-401.5 210.5,-401.5 210.5,-365.5 54.5,-365.5\" stroke=\"#000000\"/>\n<text fill=\"#000000\" font-family=\"Times,serif\" font-size=\"14.00\" text-anchor=\"middle\" x=\"132.5\" y=\"-379.8\">embedding: Embedding</text>\n</g>\n<!-- 140080465366152&#45;&gt;140080437936760 -->\n<g class=\"edge\" id=\"edge1\">\n<title>140080465366152-&gt;140080437936760</title>\n<path d=\"M132.5,-438.4551C132.5,-430.3828 132.5,-420.6764 132.5,-411.6817\" fill=\"none\" stroke=\"#000000\"/>\n<polygon fill=\"#000000\" points=\"136.0001,-411.5903 132.5,-401.5904 129.0001,-411.5904 136.0001,-411.5903\" stroke=\"#000000\"/>\n</g>\n<!-- 140080437541744 -->\n<g class=\"node\" id=\"node3\">\n<title>140080437541744</title>\n<polygon fill=\"none\" points=\"0,-292.5 0,-328.5 265,-328.5 265,-292.5 0,-292.5\" stroke=\"#000000\"/>\n<text fill=\"#000000\" font-family=\"Times,serif\" font-size=\"14.00\" text-anchor=\"middle\" x=\"132.5\" y=\"-306.8\">tf_op_layer_Squeeze: TensorFlowOpLayer</text>\n</g>\n<!-- 140080437936760&#45;&gt;140080437541744 -->\n<g class=\"edge\" id=\"edge2\">\n<title>140080437936760-&gt;140080437541744</title>\n<path d=\"M132.5,-365.4551C132.5,-357.3828 132.5,-347.6764 132.5,-338.6817\" fill=\"none\" stroke=\"#000000\"/>\n<polygon fill=\"#000000\" points=\"136.0001,-338.5903 132.5,-328.5904 129.0001,-338.5904 136.0001,-338.5903\" stroke=\"#000000\"/>\n</g>\n<!-- 140080437540736 -->\n<g class=\"node\" id=\"node10\">\n<title>140080437540736</title>\n<polygon fill=\"none\" points=\"575.5,-219.5 575.5,-255.5 735.5,-255.5 735.5,-219.5 575.5,-219.5\" stroke=\"#000000\"/>\n<text fill=\"#000000\" font-family=\"Times,serif\" font-size=\"14.00\" text-anchor=\"middle\" x=\"655.5\" y=\"-233.8\">concatenate: Concatenate</text>\n</g>\n<!-- 140080437541744&#45;&gt;140080437540736 -->\n<g class=\"edge\" id=\"edge3\">\n<title>140080437541744-&gt;140080437540736</title>\n<path d=\"M261.7809,-292.4551C356.1049,-279.2894 481.5744,-261.7764 565.2656,-250.0949\" fill=\"none\" stroke=\"#000000\"/>\n<polygon fill=\"#000000\" points=\"565.8397,-253.5487 575.2598,-248.6999 564.872,-246.616 565.8397,-253.5487\" stroke=\"#000000\"/>\n</g>\n<!-- 140080462054568 -->\n<g class=\"node\" id=\"node4\">\n<title>140080462054568</title>\n<polygon fill=\"none\" points=\"283.5,-292.5 283.5,-328.5 453.5,-328.5 453.5,-292.5 283.5,-292.5\" stroke=\"#000000\"/>\n<text fill=\"#000000\" font-family=\"Times,serif\" font-size=\"14.00\" text-anchor=\"middle\" x=\"368.5\" y=\"-306.8\">direct_features: InputLayer</text>\n</g>\n<!-- 140080462054568&#45;&gt;140080437540736 -->\n<g class=\"edge\" id=\"edge4\">\n<title>140080462054568-&gt;140080437540736</title>\n<path d=\"M439.4438,-292.4551C480.4074,-282.0358 532.0755,-268.8937 574.6129,-258.0741\" fill=\"none\" stroke=\"#000000\"/>\n<polygon fill=\"#000000\" points=\"575.549,-261.4475 584.3776,-255.5904 573.8234,-254.6635 575.549,-261.4475\" stroke=\"#000000\"/>\n</g>\n<!-- 140080437936536 -->\n<g class=\"node\" id=\"node5\">\n<title>140080437936536</title>\n<polygon fill=\"none\" points=\"471.5,-292.5 471.5,-328.5 583.5,-328.5 583.5,-292.5 471.5,-292.5\" stroke=\"#000000\"/>\n<text fill=\"#000000\" font-family=\"Times,serif\" font-size=\"14.00\" text-anchor=\"middle\" x=\"527.5\" y=\"-306.8\">Age: InputLayer</text>\n</g>\n<!-- 140080437936536&#45;&gt;140080437540736 -->\n<g class=\"edge\" id=\"edge5\">\n<title>140080437936536-&gt;140080437540736</title>\n<path d=\"M559.1405,-292.4551C575.9099,-282.8912 596.7017,-271.0334 614.6745,-260.7833\" fill=\"none\" stroke=\"#000000\"/>\n<polygon fill=\"#000000\" points=\"616.8272,-263.5848 623.7799,-255.5904 613.3594,-257.5042 616.8272,-263.5848\" stroke=\"#000000\"/>\n</g>\n<!-- 140080437978112 -->\n<g class=\"node\" id=\"node6\">\n<title>140080437978112</title>\n<polygon fill=\"none\" points=\"601.5,-292.5 601.5,-328.5 709.5,-328.5 709.5,-292.5 601.5,-292.5\" stroke=\"#000000\"/>\n<text fill=\"#000000\" font-family=\"Times,serif\" font-size=\"14.00\" text-anchor=\"middle\" x=\"655.5\" y=\"-306.8\">Fee: InputLayer</text>\n</g>\n<!-- 140080437978112&#45;&gt;140080437540736 -->\n<g class=\"edge\" id=\"edge6\">\n<title>140080437978112-&gt;140080437540736</title>\n<path d=\"M655.5,-292.4551C655.5,-284.3828 655.5,-274.6764 655.5,-265.6817\" fill=\"none\" stroke=\"#000000\"/>\n<polygon fill=\"#000000\" points=\"659.0001,-265.5903 655.5,-255.5904 652.0001,-265.5904 659.0001,-265.5903\" stroke=\"#000000\"/>\n</g>\n<!-- 140080437980464 -->\n<g class=\"node\" id=\"node7\">\n<title>140080437980464</title>\n<polygon fill=\"none\" points=\"727.5,-292.5 727.5,-328.5 865.5,-328.5 865.5,-292.5 727.5,-292.5\" stroke=\"#000000\"/>\n<text fill=\"#000000\" font-family=\"Times,serif\" font-size=\"14.00\" text-anchor=\"middle\" x=\"796.5\" y=\"-306.8\">Quantity: InputLayer</text>\n</g>\n<!-- 140080437980464&#45;&gt;140080437540736 -->\n<g class=\"edge\" id=\"edge7\">\n<title>140080437980464-&gt;140080437540736</title>\n<path d=\"M761.6461,-292.4551C742.8345,-282.7157 719.428,-270.5975 699.3852,-260.2207\" fill=\"none\" stroke=\"#000000\"/>\n<polygon fill=\"#000000\" points=\"700.9313,-257.0799 690.4417,-255.5904 697.7129,-263.2962 700.9313,-257.0799\" stroke=\"#000000\"/>\n</g>\n<!-- 140080437539560 -->\n<g class=\"node\" id=\"node8\">\n<title>140080437539560</title>\n<polygon fill=\"none\" points=\"884,-292.5 884,-328.5 1045,-328.5 1045,-292.5 884,-292.5\" stroke=\"#000000\"/>\n<text fill=\"#000000\" font-family=\"Times,serif\" font-size=\"14.00\" text-anchor=\"middle\" x=\"964.5\" y=\"-306.8\">MaturitySize: InputLayer</text>\n</g>\n<!-- 140080437539560&#45;&gt;140080437540736 -->\n<g class=\"edge\" id=\"edge8\">\n<title>140080437539560-&gt;140080437540736</title>\n<path d=\"M888.118,-292.4551C843.7454,-281.9722 787.7068,-268.7333 741.7508,-257.8764\" fill=\"none\" stroke=\"#000000\"/>\n<polygon fill=\"#000000\" points=\"742.343,-254.42 731.8061,-255.527 740.7335,-261.2325 742.343,-254.42\" stroke=\"#000000\"/>\n</g>\n<!-- 140080437540008 -->\n<g class=\"node\" id=\"node9\">\n<title>140080437540008</title>\n<polygon fill=\"none\" points=\"1063,-292.5 1063,-328.5 1212,-328.5 1212,-292.5 1063,-292.5\" stroke=\"#000000\"/>\n<text fill=\"#000000\" font-family=\"Times,serif\" font-size=\"14.00\" text-anchor=\"middle\" x=\"1137.5\" y=\"-306.8\">FurLength: InputLayer</text>\n</g>\n<!-- 140080437540008&#45;&gt;140080437540736 -->\n<g class=\"edge\" id=\"edge9\">\n<title>140080437540008-&gt;140080437540736</title>\n<path d=\"M1062.9027,-293.5643C1060.0693,-293.0191 1057.2609,-292.4954 1054.5,-292 949.0766,-273.0852 826.9414,-257.2913 745.8498,-247.6568\" fill=\"none\" stroke=\"#000000\"/>\n<polygon fill=\"#000000\" points=\"746.0164,-244.1522 735.6748,-246.4546 745.195,-251.1039 746.0164,-244.1522\" stroke=\"#000000\"/>\n</g>\n<!-- 140080437937768 -->\n<g class=\"node\" id=\"node11\">\n<title>140080437937768</title>\n<polygon fill=\"none\" points=\"609.5,-146.5 609.5,-182.5 701.5,-182.5 701.5,-146.5 609.5,-146.5\" stroke=\"#000000\"/>\n<text fill=\"#000000\" font-family=\"Times,serif\" font-size=\"14.00\" text-anchor=\"middle\" x=\"655.5\" y=\"-160.8\">dense: Dense</text>\n</g>\n<!-- 140080437540736&#45;&gt;140080437937768 -->\n<g class=\"edge\" id=\"edge10\">\n<title>140080437540736-&gt;140080437937768</title>\n<path d=\"M655.5,-219.4551C655.5,-211.3828 655.5,-201.6764 655.5,-192.6817\" fill=\"none\" stroke=\"#000000\"/>\n<polygon fill=\"#000000\" points=\"659.0001,-192.5903 655.5,-182.5904 652.0001,-192.5904 659.0001,-192.5903\" stroke=\"#000000\"/>\n</g>\n<!-- 140080437542864 -->\n<g class=\"node\" id=\"node12\">\n<title>140080437542864</title>\n<polygon fill=\"none\" points=\"596,-73.5 596,-109.5 715,-109.5 715,-73.5 596,-73.5\" stroke=\"#000000\"/>\n<text fill=\"#000000\" font-family=\"Times,serif\" font-size=\"14.00\" text-anchor=\"middle\" x=\"655.5\" y=\"-87.8\">dropout: Dropout</text>\n</g>\n<!-- 140080437937768&#45;&gt;140080437542864 -->\n<g class=\"edge\" id=\"edge11\">\n<title>140080437937768-&gt;140080437542864</title>\n<path d=\"M655.5,-146.4551C655.5,-138.3828 655.5,-128.6764 655.5,-119.6817\" fill=\"none\" stroke=\"#000000\"/>\n<polygon fill=\"#000000\" points=\"659.0001,-119.5903 655.5,-109.5904 652.0001,-119.5904 659.0001,-119.5903\" stroke=\"#000000\"/>\n</g>\n<!-- 140080437589776 -->\n<g class=\"node\" id=\"node13\">\n<title>140080437589776</title>\n<polygon fill=\"none\" points=\"602,-.5 602,-36.5 709,-36.5 709,-.5 602,-.5\" stroke=\"#000000\"/>\n<text fill=\"#000000\" font-family=\"Times,serif\" font-size=\"14.00\" text-anchor=\"middle\" x=\"655.5\" y=\"-14.8\">dense_1: Dense</text>\n</g>\n<!-- 140080437542864&#45;&gt;140080437589776 -->\n<g class=\"edge\" id=\"edge12\">\n<title>140080437542864-&gt;140080437589776</title>\n<path d=\"M655.5,-73.4551C655.5,-65.3828 655.5,-55.6764 655.5,-46.6817\" fill=\"none\" stroke=\"#000000\"/>\n<polygon fill=\"#000000\" points=\"659.0001,-46.5903 655.5,-36.5904 652.0001,-46.5904 659.0001,-46.5903\" stroke=\"#000000\"/>\n</g>\n</g>\n</svg>"
          },
          "metadata": {
            "tags": []
          },
          "execution_count": 119
        }
      ]
    },
    {
      "cell_type": "code",
      "metadata": {
        "id": "J9SNjJBnNmnG",
        "colab_type": "code",
        "colab": {}
      },
      "source": [
        "model.compile(loss='mean_squared_error', optimizer='sgd',\n",
        "              metrics=['accuracy'])"
      ],
      "execution_count": 0,
      "outputs": []
    },
    {
      "cell_type": "code",
      "metadata": {
        "id": "6GAA_384Nr7N",
        "colab_type": "code",
        "colab": {
          "base_uri": "https://localhost:8080/",
          "height": 1000
        },
        "outputId": "42b0b619-0d21-4c73-ae8e-284fdd5b4d44"
      },
      "source": [
        "mlflow.set_experiment('very_base_approach')\n",
        "\n",
        "with mlflow.start_run(nested=True):\n",
        "    # Log model hiperparameters first\n",
        "    mlflow.log_param('hidden_layer_size', hidden_layer_size)\n",
        "    mlflow.log_param('embedded_columns', embedded_columns)\n",
        "    mlflow.log_param('one_hot_columns', one_hot_columns)\n",
        "    mlflow.log_param('numerical_columns', numeric_columns)  # Not using these yet\n",
        "    \n",
        "    # Train\n",
        "    epochs = 100\n",
        "    history09 = model.fit(train_ds, epochs=epochs,validation_data=test_ds)\n",
        "    \n",
        "    # Evaluate\n",
        "    loss, accuracy = model.evaluate(test_ds)\n",
        "    print(\"*** Test loss: {} - accuracy: {}\".format(loss, accuracy))\n",
        "    mlflow.log_metric('epochs', epochs)\n",
        "    mlflow.log_metric('loss', loss)\n",
        "    mlflow.log_metric('accuracy', accuracy)"
      ],
      "execution_count": 121,
      "outputs": [
        {
          "output_type": "stream",
          "text": [
            "Epoch 1/100\n",
            "WARNING:tensorflow:Large dropout rate: 0.9 (>0.5). In TensorFlow 2.x, dropout() uses dropout rate instead of keep_prob. Please ensure that this is intended.\n",
            "WARNING:tensorflow:Large dropout rate: 0.9 (>0.5). In TensorFlow 2.x, dropout() uses dropout rate instead of keep_prob. Please ensure that this is intended.\n",
            "265/265 [==============================] - 2s 8ms/step - loss: 0.1724 - accuracy: 0.2252 - val_loss: 0.0000e+00 - val_accuracy: 0.0000e+00\n",
            "Epoch 2/100\n",
            "265/265 [==============================] - 1s 3ms/step - loss: 0.1683 - accuracy: 0.2347 - val_loss: 0.1553 - val_accuracy: 0.2589\n",
            "Epoch 3/100\n",
            "265/265 [==============================] - 1s 3ms/step - loss: 0.1661 - accuracy: 0.2450 - val_loss: 0.1548 - val_accuracy: 0.2678\n",
            "Epoch 4/100\n",
            "265/265 [==============================] - 1s 3ms/step - loss: 0.1644 - accuracy: 0.2478 - val_loss: 0.1543 - val_accuracy: 0.2782\n",
            "Epoch 5/100\n",
            "265/265 [==============================] - 1s 3ms/step - loss: 0.1631 - accuracy: 0.2483 - val_loss: 0.1540 - val_accuracy: 0.2834\n",
            "Epoch 6/100\n",
            "265/265 [==============================] - 1s 3ms/step - loss: 0.1617 - accuracy: 0.2559 - val_loss: 0.1538 - val_accuracy: 0.2891\n",
            "Epoch 7/100\n",
            "265/265 [==============================] - 1s 3ms/step - loss: 0.1600 - accuracy: 0.2613 - val_loss: 0.1535 - val_accuracy: 0.2867\n",
            "Epoch 8/100\n",
            "265/265 [==============================] - 1s 3ms/step - loss: 0.1599 - accuracy: 0.2573 - val_loss: 0.1534 - val_accuracy: 0.2891\n",
            "Epoch 9/100\n",
            "265/265 [==============================] - 1s 3ms/step - loss: 0.1593 - accuracy: 0.2563 - val_loss: 0.1532 - val_accuracy: 0.2929\n",
            "Epoch 10/100\n",
            "265/265 [==============================] - 1s 3ms/step - loss: 0.1583 - accuracy: 0.2631 - val_loss: 0.1530 - val_accuracy: 0.2957\n",
            "Epoch 11/100\n",
            "265/265 [==============================] - 1s 3ms/step - loss: 0.1577 - accuracy: 0.2672 - val_loss: 0.1529 - val_accuracy: 0.2995\n",
            "Epoch 12/100\n",
            "265/265 [==============================] - 1s 3ms/step - loss: 0.1571 - accuracy: 0.2756 - val_loss: 0.1527 - val_accuracy: 0.2995\n",
            "Epoch 13/100\n",
            "265/265 [==============================] - 1s 3ms/step - loss: 0.1572 - accuracy: 0.2631 - val_loss: 0.1526 - val_accuracy: 0.3033\n",
            "Epoch 14/100\n",
            "265/265 [==============================] - 1s 3ms/step - loss: 0.1566 - accuracy: 0.2708 - val_loss: 0.1525 - val_accuracy: 0.3033\n",
            "Epoch 15/100\n",
            "265/265 [==============================] - 1s 3ms/step - loss: 0.1568 - accuracy: 0.2633 - val_loss: 0.1524 - val_accuracy: 0.3051\n",
            "Epoch 16/100\n",
            "265/265 [==============================] - 1s 3ms/step - loss: 0.1560 - accuracy: 0.2706 - val_loss: 0.1523 - val_accuracy: 0.3033\n",
            "Epoch 17/100\n",
            "265/265 [==============================] - 1s 3ms/step - loss: 0.1558 - accuracy: 0.2743 - val_loss: 0.1522 - val_accuracy: 0.3042\n",
            "Epoch 18/100\n",
            "265/265 [==============================] - 1s 3ms/step - loss: 0.1558 - accuracy: 0.2727 - val_loss: 0.1521 - val_accuracy: 0.3085\n",
            "Epoch 19/100\n",
            "265/265 [==============================] - 1s 3ms/step - loss: 0.1553 - accuracy: 0.2799 - val_loss: 0.1520 - val_accuracy: 0.3094\n",
            "Epoch 20/100\n",
            "265/265 [==============================] - 1s 3ms/step - loss: 0.1556 - accuracy: 0.2717 - val_loss: 0.1520 - val_accuracy: 0.3108\n",
            "Epoch 21/100\n",
            "265/265 [==============================] - 1s 3ms/step - loss: 0.1550 - accuracy: 0.2768 - val_loss: 0.1519 - val_accuracy: 0.3122\n",
            "Epoch 22/100\n",
            "265/265 [==============================] - 1s 3ms/step - loss: 0.1548 - accuracy: 0.2717 - val_loss: 0.1518 - val_accuracy: 0.3118\n",
            "Epoch 23/100\n",
            "265/265 [==============================] - 1s 3ms/step - loss: 0.1546 - accuracy: 0.2788 - val_loss: 0.1517 - val_accuracy: 0.3146\n",
            "Epoch 24/100\n",
            "265/265 [==============================] - 1s 3ms/step - loss: 0.1544 - accuracy: 0.2869 - val_loss: 0.1517 - val_accuracy: 0.3151\n",
            "Epoch 25/100\n",
            "265/265 [==============================] - 1s 3ms/step - loss: 0.1545 - accuracy: 0.2861 - val_loss: 0.1516 - val_accuracy: 0.3155\n",
            "Epoch 26/100\n",
            "265/265 [==============================] - 1s 3ms/step - loss: 0.1541 - accuracy: 0.2827 - val_loss: 0.1515 - val_accuracy: 0.3174\n",
            "Epoch 27/100\n",
            "265/265 [==============================] - 1s 3ms/step - loss: 0.1543 - accuracy: 0.2861 - val_loss: 0.1515 - val_accuracy: 0.3179\n",
            "Epoch 28/100\n",
            "265/265 [==============================] - 1s 3ms/step - loss: 0.1539 - accuracy: 0.2774 - val_loss: 0.1514 - val_accuracy: 0.3184\n",
            "Epoch 29/100\n",
            "265/265 [==============================] - 1s 3ms/step - loss: 0.1538 - accuracy: 0.2813 - val_loss: 0.1514 - val_accuracy: 0.3165\n",
            "Epoch 30/100\n",
            "265/265 [==============================] - 1s 3ms/step - loss: 0.1539 - accuracy: 0.2760 - val_loss: 0.1513 - val_accuracy: 0.3151\n",
            "Epoch 31/100\n",
            "265/265 [==============================] - 1s 3ms/step - loss: 0.1539 - accuracy: 0.2777 - val_loss: 0.1513 - val_accuracy: 0.3160\n",
            "Epoch 32/100\n",
            "265/265 [==============================] - 1s 3ms/step - loss: 0.1535 - accuracy: 0.2840 - val_loss: 0.1512 - val_accuracy: 0.3170\n",
            "Epoch 33/100\n",
            "265/265 [==============================] - 1s 3ms/step - loss: 0.1536 - accuracy: 0.2845 - val_loss: 0.1512 - val_accuracy: 0.3184\n",
            "Epoch 34/100\n",
            "265/265 [==============================] - 1s 3ms/step - loss: 0.1537 - accuracy: 0.2800 - val_loss: 0.1511 - val_accuracy: 0.3188\n",
            "Epoch 35/100\n",
            "265/265 [==============================] - 1s 3ms/step - loss: 0.1533 - accuracy: 0.2773 - val_loss: 0.1511 - val_accuracy: 0.3132\n",
            "Epoch 36/100\n",
            "265/265 [==============================] - 1s 3ms/step - loss: 0.1532 - accuracy: 0.2858 - val_loss: 0.1511 - val_accuracy: 0.3160\n",
            "Epoch 37/100\n",
            "265/265 [==============================] - 1s 3ms/step - loss: 0.1529 - accuracy: 0.2821 - val_loss: 0.1510 - val_accuracy: 0.3165\n",
            "Epoch 38/100\n",
            "265/265 [==============================] - 1s 3ms/step - loss: 0.1529 - accuracy: 0.2843 - val_loss: 0.1510 - val_accuracy: 0.3174\n",
            "Epoch 39/100\n",
            "265/265 [==============================] - 1s 3ms/step - loss: 0.1532 - accuracy: 0.2773 - val_loss: 0.1510 - val_accuracy: 0.3155\n",
            "Epoch 40/100\n",
            "265/265 [==============================] - 1s 3ms/step - loss: 0.1530 - accuracy: 0.2887 - val_loss: 0.1509 - val_accuracy: 0.3188\n",
            "Epoch 41/100\n",
            "265/265 [==============================] - 1s 3ms/step - loss: 0.1529 - accuracy: 0.2866 - val_loss: 0.1509 - val_accuracy: 0.3184\n",
            "Epoch 42/100\n",
            "265/265 [==============================] - 1s 3ms/step - loss: 0.1527 - accuracy: 0.2827 - val_loss: 0.1508 - val_accuracy: 0.3165\n",
            "Epoch 43/100\n",
            "265/265 [==============================] - 1s 3ms/step - loss: 0.1530 - accuracy: 0.2820 - val_loss: 0.1508 - val_accuracy: 0.3165\n",
            "Epoch 44/100\n",
            "265/265 [==============================] - 1s 3ms/step - loss: 0.1526 - accuracy: 0.2852 - val_loss: 0.1508 - val_accuracy: 0.3160\n",
            "Epoch 45/100\n",
            "265/265 [==============================] - 1s 3ms/step - loss: 0.1526 - accuracy: 0.2847 - val_loss: 0.1508 - val_accuracy: 0.3170\n",
            "Epoch 46/100\n",
            "265/265 [==============================] - 1s 3ms/step - loss: 0.1526 - accuracy: 0.2914 - val_loss: 0.1507 - val_accuracy: 0.3165\n",
            "Epoch 47/100\n",
            "265/265 [==============================] - 1s 3ms/step - loss: 0.1529 - accuracy: 0.2845 - val_loss: 0.1507 - val_accuracy: 0.3165\n",
            "Epoch 48/100\n",
            "265/265 [==============================] - 1s 3ms/step - loss: 0.1522 - accuracy: 0.2913 - val_loss: 0.1507 - val_accuracy: 0.3160\n",
            "Epoch 49/100\n",
            "265/265 [==============================] - 1s 3ms/step - loss: 0.1525 - accuracy: 0.2940 - val_loss: 0.1506 - val_accuracy: 0.3174\n",
            "Epoch 50/100\n",
            "265/265 [==============================] - 1s 3ms/step - loss: 0.1525 - accuracy: 0.2877 - val_loss: 0.1506 - val_accuracy: 0.3198\n",
            "Epoch 51/100\n",
            "265/265 [==============================] - 1s 3ms/step - loss: 0.1522 - accuracy: 0.2911 - val_loss: 0.1506 - val_accuracy: 0.3222\n",
            "Epoch 52/100\n",
            "265/265 [==============================] - 1s 3ms/step - loss: 0.1522 - accuracy: 0.2946 - val_loss: 0.1505 - val_accuracy: 0.3207\n",
            "Epoch 53/100\n",
            "265/265 [==============================] - 1s 3ms/step - loss: 0.1525 - accuracy: 0.2856 - val_loss: 0.1505 - val_accuracy: 0.3198\n",
            "Epoch 54/100\n",
            "265/265 [==============================] - 1s 3ms/step - loss: 0.1524 - accuracy: 0.2841 - val_loss: 0.1505 - val_accuracy: 0.3193\n",
            "Epoch 55/100\n",
            "265/265 [==============================] - 1s 3ms/step - loss: 0.1523 - accuracy: 0.2829 - val_loss: 0.1505 - val_accuracy: 0.3179\n",
            "Epoch 56/100\n",
            "265/265 [==============================] - 1s 3ms/step - loss: 0.1520 - accuracy: 0.2910 - val_loss: 0.1505 - val_accuracy: 0.3184\n",
            "Epoch 57/100\n",
            "265/265 [==============================] - 1s 3ms/step - loss: 0.1518 - accuracy: 0.2905 - val_loss: 0.1505 - val_accuracy: 0.3174\n",
            "Epoch 58/100\n",
            "265/265 [==============================] - 1s 3ms/step - loss: 0.1521 - accuracy: 0.2905 - val_loss: 0.1504 - val_accuracy: 0.3184\n",
            "Epoch 59/100\n",
            "265/265 [==============================] - 1s 3ms/step - loss: 0.1517 - accuracy: 0.2880 - val_loss: 0.1504 - val_accuracy: 0.3184\n",
            "Epoch 60/100\n",
            "265/265 [==============================] - 1s 3ms/step - loss: 0.1523 - accuracy: 0.2882 - val_loss: 0.1504 - val_accuracy: 0.3184\n",
            "Epoch 61/100\n",
            "265/265 [==============================] - 1s 3ms/step - loss: 0.1515 - accuracy: 0.2899 - val_loss: 0.1503 - val_accuracy: 0.3212\n",
            "Epoch 62/100\n",
            "265/265 [==============================] - 1s 3ms/step - loss: 0.1518 - accuracy: 0.2882 - val_loss: 0.1503 - val_accuracy: 0.3226\n",
            "Epoch 63/100\n",
            "265/265 [==============================] - 1s 3ms/step - loss: 0.1519 - accuracy: 0.2931 - val_loss: 0.1503 - val_accuracy: 0.3250\n",
            "Epoch 64/100\n",
            "265/265 [==============================] - 1s 3ms/step - loss: 0.1518 - accuracy: 0.2924 - val_loss: 0.1503 - val_accuracy: 0.3259\n",
            "Epoch 65/100\n",
            "265/265 [==============================] - 1s 3ms/step - loss: 0.1519 - accuracy: 0.2862 - val_loss: 0.1503 - val_accuracy: 0.3259\n",
            "Epoch 66/100\n",
            "265/265 [==============================] - 1s 3ms/step - loss: 0.1516 - accuracy: 0.2930 - val_loss: 0.1502 - val_accuracy: 0.3255\n",
            "Epoch 67/100\n",
            "265/265 [==============================] - 1s 3ms/step - loss: 0.1521 - accuracy: 0.2949 - val_loss: 0.1502 - val_accuracy: 0.3278\n",
            "Epoch 68/100\n",
            "265/265 [==============================] - 1s 3ms/step - loss: 0.1516 - accuracy: 0.2916 - val_loss: 0.1502 - val_accuracy: 0.3288\n",
            "Epoch 69/100\n",
            "265/265 [==============================] - 1s 3ms/step - loss: 0.1514 - accuracy: 0.2933 - val_loss: 0.1502 - val_accuracy: 0.3269\n",
            "Epoch 70/100\n",
            "265/265 [==============================] - 1s 3ms/step - loss: 0.1515 - accuracy: 0.3063 - val_loss: 0.1501 - val_accuracy: 0.3297\n",
            "Epoch 71/100\n",
            "265/265 [==============================] - 1s 3ms/step - loss: 0.1516 - accuracy: 0.2969 - val_loss: 0.1501 - val_accuracy: 0.3288\n",
            "Epoch 72/100\n",
            "265/265 [==============================] - 1s 3ms/step - loss: 0.1516 - accuracy: 0.2999 - val_loss: 0.1501 - val_accuracy: 0.3302\n",
            "Epoch 73/100\n",
            "265/265 [==============================] - 1s 3ms/step - loss: 0.1515 - accuracy: 0.3049 - val_loss: 0.1501 - val_accuracy: 0.3297\n",
            "Epoch 74/100\n",
            "265/265 [==============================] - 1s 3ms/step - loss: 0.1516 - accuracy: 0.2924 - val_loss: 0.1501 - val_accuracy: 0.3288\n",
            "Epoch 75/100\n",
            "265/265 [==============================] - 1s 3ms/step - loss: 0.1518 - accuracy: 0.2986 - val_loss: 0.1501 - val_accuracy: 0.3278\n",
            "Epoch 76/100\n",
            "265/265 [==============================] - 1s 3ms/step - loss: 0.1515 - accuracy: 0.2999 - val_loss: 0.1501 - val_accuracy: 0.3274\n",
            "Epoch 77/100\n",
            "265/265 [==============================] - 1s 3ms/step - loss: 0.1512 - accuracy: 0.2966 - val_loss: 0.1500 - val_accuracy: 0.3288\n",
            "Epoch 78/100\n",
            "265/265 [==============================] - 1s 3ms/step - loss: 0.1517 - accuracy: 0.3001 - val_loss: 0.1500 - val_accuracy: 0.3288\n",
            "Epoch 79/100\n",
            "265/265 [==============================] - 1s 3ms/step - loss: 0.1513 - accuracy: 0.3003 - val_loss: 0.1500 - val_accuracy: 0.3307\n",
            "Epoch 80/100\n",
            "265/265 [==============================] - 1s 3ms/step - loss: 0.1512 - accuracy: 0.3050 - val_loss: 0.1500 - val_accuracy: 0.3311\n",
            "Epoch 81/100\n",
            "265/265 [==============================] - 1s 3ms/step - loss: 0.1513 - accuracy: 0.3005 - val_loss: 0.1500 - val_accuracy: 0.3307\n",
            "Epoch 82/100\n",
            "265/265 [==============================] - 1s 3ms/step - loss: 0.1515 - accuracy: 0.3009 - val_loss: 0.1500 - val_accuracy: 0.3368\n",
            "Epoch 83/100\n",
            "265/265 [==============================] - 1s 3ms/step - loss: 0.1513 - accuracy: 0.3070 - val_loss: 0.1499 - val_accuracy: 0.3363\n",
            "Epoch 84/100\n",
            "265/265 [==============================] - 1s 3ms/step - loss: 0.1516 - accuracy: 0.2998 - val_loss: 0.1499 - val_accuracy: 0.3368\n",
            "Epoch 85/100\n",
            "265/265 [==============================] - 1s 3ms/step - loss: 0.1511 - accuracy: 0.3048 - val_loss: 0.1499 - val_accuracy: 0.3368\n",
            "Epoch 86/100\n",
            "265/265 [==============================] - 1s 3ms/step - loss: 0.1512 - accuracy: 0.2978 - val_loss: 0.1499 - val_accuracy: 0.3373\n",
            "Epoch 87/100\n",
            "265/265 [==============================] - 1s 3ms/step - loss: 0.1511 - accuracy: 0.2996 - val_loss: 0.1499 - val_accuracy: 0.3359\n",
            "Epoch 88/100\n",
            "265/265 [==============================] - 1s 3ms/step - loss: 0.1512 - accuracy: 0.3004 - val_loss: 0.1499 - val_accuracy: 0.3368\n",
            "Epoch 89/100\n",
            "265/265 [==============================] - 1s 3ms/step - loss: 0.1510 - accuracy: 0.3045 - val_loss: 0.1499 - val_accuracy: 0.3368\n",
            "Epoch 90/100\n",
            "265/265 [==============================] - 1s 3ms/step - loss: 0.1513 - accuracy: 0.3043 - val_loss: 0.1499 - val_accuracy: 0.3373\n",
            "Epoch 91/100\n",
            "265/265 [==============================] - 1s 3ms/step - loss: 0.1510 - accuracy: 0.3038 - val_loss: 0.1498 - val_accuracy: 0.3382\n",
            "Epoch 92/100\n",
            "265/265 [==============================] - 1s 3ms/step - loss: 0.1510 - accuracy: 0.3049 - val_loss: 0.1498 - val_accuracy: 0.3382\n",
            "Epoch 93/100\n",
            "265/265 [==============================] - 1s 3ms/step - loss: 0.1513 - accuracy: 0.3010 - val_loss: 0.1498 - val_accuracy: 0.3382\n",
            "Epoch 94/100\n",
            "265/265 [==============================] - 1s 3ms/step - loss: 0.1510 - accuracy: 0.3050 - val_loss: 0.1498 - val_accuracy: 0.3387\n",
            "Epoch 95/100\n",
            "265/265 [==============================] - 1s 3ms/step - loss: 0.1513 - accuracy: 0.3024 - val_loss: 0.1498 - val_accuracy: 0.3382\n",
            "Epoch 96/100\n",
            "265/265 [==============================] - 1s 3ms/step - loss: 0.1508 - accuracy: 0.3063 - val_loss: 0.1497 - val_accuracy: 0.3396\n",
            "Epoch 97/100\n",
            "265/265 [==============================] - 1s 3ms/step - loss: 0.1510 - accuracy: 0.3005 - val_loss: 0.1497 - val_accuracy: 0.3382\n",
            "Epoch 98/100\n",
            "265/265 [==============================] - 1s 3ms/step - loss: 0.1506 - accuracy: 0.3105 - val_loss: 0.1497 - val_accuracy: 0.3387\n",
            "Epoch 99/100\n",
            "265/265 [==============================] - 1s 3ms/step - loss: 0.1508 - accuracy: 0.3092 - val_loss: 0.1497 - val_accuracy: 0.3406\n",
            "Epoch 100/100\n",
            "265/265 [==============================] - 1s 3ms/step - loss: 0.1510 - accuracy: 0.3041 - val_loss: 0.1497 - val_accuracy: 0.3410\n",
            "67/67 [==============================] - 0s 2ms/step - loss: 0.1497 - accuracy: 0.3410\n",
            "*** Test loss: 0.14969915596406852 - accuracy: 0.3410486578941345\n"
          ],
          "name": "stdout"
        }
      ]
    },
    {
      "cell_type": "code",
      "metadata": {
        "id": "rt95i3XwN29s",
        "colab_type": "code",
        "colab": {
          "base_uri": "https://localhost:8080/",
          "height": 565
        },
        "outputId": "60777667-6ade-4532-c0c7-6d50a8238cd4"
      },
      "source": [
        "figure(num=None, figsize=(10,8), dpi=80, facecolor='w', edgecolor='k')\n",
        "\n",
        "plt.plot(history.history['loss'],label=\"Dropout=0.2.   Train\")\n",
        "plt.plot(history.history['val_loss'],label=\"Dropout=0.2.   Test\")\n",
        "\n",
        "plt.plot(history09.history['loss'],label=\"Dropout=0.9.   Train\")\n",
        "plt.plot(history09.history['val_loss'],label=\"Dropout=0.9.   Test\")\n",
        "\n",
        "\n",
        "plt.title('model loss')\n",
        "plt.ylabel('loss')\n",
        "plt.xlabel('epoch')\n",
        "plt.legend(loc='best')\n",
        "plt.show()"
      ],
      "execution_count": 122,
      "outputs": [
        {
          "output_type": "display_data",
          "data": {
            "image/png": "[encoded data removed]",
            "text/plain": [
              "<Figure size 800x640 with 1 Axes>"
            ]
          },
          "metadata": {
            "tags": []
          }
        }
      ]
    },
    {
      "cell_type": "code",
      "metadata": {
        "id": "4_5CnaiNOg0Z",
        "colab_type": "code",
        "colab": {
          "base_uri": "https://localhost:8080/",
          "height": 565
        },
        "outputId": "c54e1a3d-84b7-4b6c-d006-2924ef7b5d7a"
      },
      "source": [
        "figure(num=None, figsize=(10,8), dpi=80, facecolor='w', edgecolor='k')\n",
        "\n",
        "plt.plot(history.history['accuracy'],label=\"Dropout=0.2.   Train\")\n",
        "plt.plot(history.history['val_accuracy'],label=\"Dropout=0.2.   Test\")\n",
        "\n",
        "plt.plot(history09.history['accuracy'],label=\"Dropout=0.9.   Train\")\n",
        "plt.plot(history09.history['val_accuracy'],label=\"Dropout=0.9.   Test\")\n",
        "\n",
        "\n",
        "plt.title('model accuracy')\n",
        "plt.ylabel('accuracy')\n",
        "plt.xlabel('epoch')\n",
        "plt.legend(loc='best')\n",
        "plt.show()"
      ],
      "execution_count": 123,
      "outputs": [
        {
          "output_type": "display_data",
          "data": {
            "image/png": "[encoded data removed]",
            "text/plain": [
              "<Figure size 800x640 with 1 Axes>"
            ]
          },
          "metadata": {
            "tags": []
          }
        }
      ]
    },
    {
      "cell_type": "markdown",
      "metadata": {
        "id": "4Q3NJybkO6Qn",
        "colab_type": "text"
      },
      "source": [
        "La eficiencia del modelo bajó para un dropout alto. Al tener la mayoría de neuronas apagadas el modelo pierde capacidad de aprender. También se ve mayor diferencia entre valores de train y test."
      ]
    },
    {
      "cell_type": "markdown",
      "metadata": {
        "id": "KwKiuKgHbsww",
        "colab_type": "text"
      },
      "source": [
        "En este trabajo pudimos ver como infiere en el resultado los diferentes valores de batch size y dropout. También analizamos diferencias al agregar diferentes columnas, cambiar la arquitectura de la red neuronal utilizada y utilizar diferentes funciones de activación.\n",
        "\n",
        "Además pudimos observar la variación de las métricas loss y accuracy en función del número de epoch."
      ]
    },
    {
      "cell_type": "markdown",
      "metadata": {
        "id": "g27WjNQfiVi4",
        "colab_type": "text"
      },
      "source": [
        "En el modelo que mejores resultados arrojó, se obtuvo:\n",
        "\n",
        "test loss: 1.33 - accuracy: 0.37"
      ]
    }
  ]
}