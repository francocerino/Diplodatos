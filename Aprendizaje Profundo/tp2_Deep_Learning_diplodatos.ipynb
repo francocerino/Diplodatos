{
  "nbformat": 4,
  "nbformat_minor": 0,
  "metadata": {
    "kernelspec": {
      "name": "python3",
      "display_name": "Python 3"
    },
    "language_info": {
      "codemirror_mode": {
        "name": "ipython",
        "version": 3
      },
      "file_extension": ".py",
      "mimetype": "text/x-python",
      "name": "python",
      "nbconvert_exporter": "python",
      "pygments_lexer": "ipython3",
      "version": "3.7.3"
    },
    "colab": {
      "name": "tp2_Deep_Learning_diplodatos.ipynb",
      "provenance": [],
      "collapsed_sections": []
    },
    "accelerator": "GPU"
  },
  "cells": [
    {
      "cell_type": "markdown",
      "metadata": {
        "id": "X_d3xv8oNl2i",
        "colab_type": "text"
      },
      "source": [
        "# Práctico 2 - Redes en escalera avanzadas\n",
        "\n",
        "Este práctico es similar al práctico 1, pero agregará un paso extra que es el uso de redes en escalera avanzadas, ya sean Redes Convolucionales o Redes Recurrentes.\n",
        "\n",
        "Se les dará, como base, el mismo conjunto de datos de la competencia \"PetFinder\" que se trabajó para el práctico 1, con el agregado de, en este caso, utilizar la descripción como un feature extra y todo el procesamiento que ello requiere.\n",
        "\n",
        "Ahora bien, no es el único conjunto de datos que pueden trabajar. Si tienen un conjunto propio de datos que quieran utilizar y dicho conjunto se preste para el uso de alguna red en escalera avanzada (e.g. conjuntos que tengan imágenes o texto), son libres de hacerlo."
      ]
    },
    {
      "cell_type": "code",
      "metadata": {
        "id": "gB_WFvb9q7Xo",
        "colab_type": "code",
        "colab": {
          "base_uri": "https://localhost:8080/",
          "height": 35
        },
        "outputId": "f8ba3d95-f9c1-4ae4-f470-917d28c86166"
      },
      "source": [
        "from google.colab import drive\n",
        "drive.mount('/content/drive')"
      ],
      "execution_count": 1,
      "outputs": [
        {
          "output_type": "stream",
          "text": [
            "Drive already mounted at /content/drive; to attempt to forcibly remount, call drive.mount(\"/content/drive\", force_remount=True).\n"
          ],
          "name": "stdout"
        }
      ]
    },
    {
      "cell_type": "code",
      "metadata": {
        "id": "wkGbkoD6tTUq",
        "colab_type": "code",
        "colab": {}
      },
      "source": [
        "import numpy as np\n",
        "import matplotlib.pyplot as plt"
      ],
      "execution_count": 0,
      "outputs": []
    },
    {
      "cell_type": "code",
      "metadata": {
        "id": "mamVmEP0tmqz",
        "colab_type": "code",
        "colab": {}
      },
      "source": [
        "import seaborn as sns"
      ],
      "execution_count": 0,
      "outputs": []
    },
    {
      "cell_type": "code",
      "metadata": {
        "scrolled": false,
        "id": "nG0kPENVNl3d",
        "colab_type": "code",
        "outputId": "6ca46c68-efcf-48e7-aebe-6934f1e67d24",
        "colab": {
          "base_uri": "https://localhost:8080/",
          "height": 88
        }
      },
      "source": [
        "import nltk\n",
        "import numpy as np\n",
        "import os\n",
        "import pandas as pd\n",
        "import tensorflow as tf\n",
        "\n",
        "from IPython.display import SVG\n",
        "from gensim import corpora\n",
        "from nltk import word_tokenize\n",
        "from nltk.corpus import stopwords\n",
        "from pprint import pprint\n",
        "\n",
        "nltk.download([\"punkt\", \"stopwords\"]);"
      ],
      "execution_count": 4,
      "outputs": [
        {
          "output_type": "stream",
          "text": [
            "[nltk_data] Downloading package punkt to /root/nltk_data...\n",
            "[nltk_data]   Package punkt is already up-to-date!\n",
            "[nltk_data] Downloading package stopwords to /root/nltk_data...\n",
            "[nltk_data]   Package stopwords is already up-to-date!\n"
          ],
          "name": "stdout"
        }
      ]
    },
    {
      "cell_type": "code",
      "metadata": {
        "id": "wfsqj4hXPfSZ",
        "colab_type": "code",
        "colab": {}
      },
      "source": [
        "%%bash\n",
        "\n",
        "pip install --upgrade pip\n",
        "pip install --upgrade tensorflow-gpu==2.0.0\n",
        "pip install --upgrade mlflow graphviz pydot"
      ],
      "execution_count": 0,
      "outputs": []
    },
    {
      "cell_type": "code",
      "metadata": {
        "id": "X-a8ipv2k6Ni",
        "colab_type": "code",
        "colab": {
          "base_uri": "https://localhost:8080/",
          "height": 35
        },
        "outputId": "9fc1b4a4-05f3-4793-84ea-541637bf3c9c"
      },
      "source": [
        "tf.__version__"
      ],
      "execution_count": 6,
      "outputs": [
        {
          "output_type": "execute_result",
          "data": {
            "text/plain": [
              "'2.0.0'"
            ]
          },
          "metadata": {
            "tags": []
          },
          "execution_count": 6
        }
      ]
    },
    {
      "cell_type": "markdown",
      "metadata": {
        "id": "Ohc1OfzCNl5M",
        "colab_type": "text"
      },
      "source": [
        "## Carga de los datos"
      ]
    },
    {
      "cell_type": "code",
      "metadata": {
        "id": "p3gRfKJIrTEO",
        "colab_type": "code",
        "colab": {
          "base_uri": "https://localhost:8080/",
          "height": 278
        },
        "outputId": "51e62948-1082-48ef-cb55-f155d431b394"
      },
      "source": [
        "dataset=pd.read_csv(\"/content/drive/My Drive/train.csv\")\n",
        "dataset.head()"
      ],
      "execution_count": 7,
      "outputs": [
        {
          "output_type": "execute_result",
          "data": {
            "text/html": [
              "<div>\n",
              "<style scoped>\n",
              "    .dataframe tbody tr th:only-of-type {\n",
              "        vertical-align: middle;\n",
              "    }\n",
              "\n",
              "    .dataframe tbody tr th {\n",
              "        vertical-align: top;\n",
              "    }\n",
              "\n",
              "    .dataframe thead th {\n",
              "        text-align: right;\n",
              "    }\n",
              "</style>\n",
              "<table border=\"1\" class=\"dataframe\">\n",
              "  <thead>\n",
              "    <tr style=\"text-align: right;\">\n",
              "      <th></th>\n",
              "      <th>Type</th>\n",
              "      <th>Age</th>\n",
              "      <th>Breed1</th>\n",
              "      <th>Breed2</th>\n",
              "      <th>Gender</th>\n",
              "      <th>Color1</th>\n",
              "      <th>Color2</th>\n",
              "      <th>Color3</th>\n",
              "      <th>MaturitySize</th>\n",
              "      <th>FurLength</th>\n",
              "      <th>Vaccinated</th>\n",
              "      <th>Dewormed</th>\n",
              "      <th>Sterilized</th>\n",
              "      <th>Health</th>\n",
              "      <th>Quantity</th>\n",
              "      <th>Fee</th>\n",
              "      <th>State</th>\n",
              "      <th>Description</th>\n",
              "      <th>AdoptionSpeed</th>\n",
              "      <th>PID</th>\n",
              "    </tr>\n",
              "  </thead>\n",
              "  <tbody>\n",
              "    <tr>\n",
              "      <th>0</th>\n",
              "      <td>2</td>\n",
              "      <td>3</td>\n",
              "      <td>299</td>\n",
              "      <td>0</td>\n",
              "      <td>1</td>\n",
              "      <td>1</td>\n",
              "      <td>7</td>\n",
              "      <td>0</td>\n",
              "      <td>1</td>\n",
              "      <td>1</td>\n",
              "      <td>2</td>\n",
              "      <td>2</td>\n",
              "      <td>2</td>\n",
              "      <td>1</td>\n",
              "      <td>1</td>\n",
              "      <td>100</td>\n",
              "      <td>41326</td>\n",
              "      <td>Nibble is a 3+ month old ball of cuteness. He ...</td>\n",
              "      <td>2</td>\n",
              "      <td>0</td>\n",
              "    </tr>\n",
              "    <tr>\n",
              "      <th>1</th>\n",
              "      <td>1</td>\n",
              "      <td>4</td>\n",
              "      <td>307</td>\n",
              "      <td>0</td>\n",
              "      <td>2</td>\n",
              "      <td>1</td>\n",
              "      <td>2</td>\n",
              "      <td>0</td>\n",
              "      <td>2</td>\n",
              "      <td>1</td>\n",
              "      <td>1</td>\n",
              "      <td>1</td>\n",
              "      <td>2</td>\n",
              "      <td>1</td>\n",
              "      <td>1</td>\n",
              "      <td>150</td>\n",
              "      <td>41401</td>\n",
              "      <td>Good guard dog, very alert, active, obedience ...</td>\n",
              "      <td>2</td>\n",
              "      <td>3</td>\n",
              "    </tr>\n",
              "    <tr>\n",
              "      <th>2</th>\n",
              "      <td>1</td>\n",
              "      <td>1</td>\n",
              "      <td>307</td>\n",
              "      <td>0</td>\n",
              "      <td>1</td>\n",
              "      <td>1</td>\n",
              "      <td>0</td>\n",
              "      <td>0</td>\n",
              "      <td>2</td>\n",
              "      <td>1</td>\n",
              "      <td>2</td>\n",
              "      <td>2</td>\n",
              "      <td>2</td>\n",
              "      <td>1</td>\n",
              "      <td>1</td>\n",
              "      <td>0</td>\n",
              "      <td>41326</td>\n",
              "      <td>This handsome yet cute boy is up for adoption....</td>\n",
              "      <td>2</td>\n",
              "      <td>4</td>\n",
              "    </tr>\n",
              "    <tr>\n",
              "      <th>3</th>\n",
              "      <td>2</td>\n",
              "      <td>3</td>\n",
              "      <td>266</td>\n",
              "      <td>0</td>\n",
              "      <td>2</td>\n",
              "      <td>5</td>\n",
              "      <td>6</td>\n",
              "      <td>0</td>\n",
              "      <td>2</td>\n",
              "      <td>1</td>\n",
              "      <td>2</td>\n",
              "      <td>2</td>\n",
              "      <td>2</td>\n",
              "      <td>1</td>\n",
              "      <td>1</td>\n",
              "      <td>0</td>\n",
              "      <td>41326</td>\n",
              "      <td>This is a stray kitten that came to my house. ...</td>\n",
              "      <td>2</td>\n",
              "      <td>5</td>\n",
              "    </tr>\n",
              "    <tr>\n",
              "      <th>4</th>\n",
              "      <td>2</td>\n",
              "      <td>12</td>\n",
              "      <td>264</td>\n",
              "      <td>264</td>\n",
              "      <td>1</td>\n",
              "      <td>1</td>\n",
              "      <td>0</td>\n",
              "      <td>0</td>\n",
              "      <td>2</td>\n",
              "      <td>3</td>\n",
              "      <td>2</td>\n",
              "      <td>2</td>\n",
              "      <td>3</td>\n",
              "      <td>1</td>\n",
              "      <td>1</td>\n",
              "      <td>300</td>\n",
              "      <td>41326</td>\n",
              "      <td>anyone within the area of ipoh or taiping who ...</td>\n",
              "      <td>1</td>\n",
              "      <td>6</td>\n",
              "    </tr>\n",
              "  </tbody>\n",
              "</table>\n",
              "</div>"
            ],
            "text/plain": [
              "   Type  Age  ...  AdoptionSpeed  PID\n",
              "0     2    3  ...              2    0\n",
              "1     1    4  ...              2    3\n",
              "2     1    1  ...              2    4\n",
              "3     2    3  ...              2    5\n",
              "4     2   12  ...              1    6\n",
              "\n",
              "[5 rows x 20 columns]"
            ]
          },
          "metadata": {
            "tags": []
          },
          "execution_count": 7
        }
      ]
    },
    {
      "cell_type": "code",
      "metadata": {
        "id": "XW16FJ-eNl56",
        "colab_type": "code",
        "colab": {}
      },
      "source": [
        "target_col = 'AdoptionSpeed'\n",
        "nlabels = dataset[target_col].unique().shape[0]"
      ],
      "execution_count": 0,
      "outputs": []
    },
    {
      "cell_type": "code",
      "metadata": {
        "id": "OebctWeOdh0i",
        "colab_type": "code",
        "colab": {
          "base_uri": "https://localhost:8080/",
          "height": 278
        },
        "outputId": "d09bc143-c185-427b-daf7-c0a21a060111"
      },
      "source": [
        "dataset.head()"
      ],
      "execution_count": 9,
      "outputs": [
        {
          "output_type": "execute_result",
          "data": {
            "text/html": [
              "<div>\n",
              "<style scoped>\n",
              "    .dataframe tbody tr th:only-of-type {\n",
              "        vertical-align: middle;\n",
              "    }\n",
              "\n",
              "    .dataframe tbody tr th {\n",
              "        vertical-align: top;\n",
              "    }\n",
              "\n",
              "    .dataframe thead th {\n",
              "        text-align: right;\n",
              "    }\n",
              "</style>\n",
              "<table border=\"1\" class=\"dataframe\">\n",
              "  <thead>\n",
              "    <tr style=\"text-align: right;\">\n",
              "      <th></th>\n",
              "      <th>Type</th>\n",
              "      <th>Age</th>\n",
              "      <th>Breed1</th>\n",
              "      <th>Breed2</th>\n",
              "      <th>Gender</th>\n",
              "      <th>Color1</th>\n",
              "      <th>Color2</th>\n",
              "      <th>Color3</th>\n",
              "      <th>MaturitySize</th>\n",
              "      <th>FurLength</th>\n",
              "      <th>Vaccinated</th>\n",
              "      <th>Dewormed</th>\n",
              "      <th>Sterilized</th>\n",
              "      <th>Health</th>\n",
              "      <th>Quantity</th>\n",
              "      <th>Fee</th>\n",
              "      <th>State</th>\n",
              "      <th>Description</th>\n",
              "      <th>AdoptionSpeed</th>\n",
              "      <th>PID</th>\n",
              "    </tr>\n",
              "  </thead>\n",
              "  <tbody>\n",
              "    <tr>\n",
              "      <th>0</th>\n",
              "      <td>2</td>\n",
              "      <td>3</td>\n",
              "      <td>299</td>\n",
              "      <td>0</td>\n",
              "      <td>1</td>\n",
              "      <td>1</td>\n",
              "      <td>7</td>\n",
              "      <td>0</td>\n",
              "      <td>1</td>\n",
              "      <td>1</td>\n",
              "      <td>2</td>\n",
              "      <td>2</td>\n",
              "      <td>2</td>\n",
              "      <td>1</td>\n",
              "      <td>1</td>\n",
              "      <td>100</td>\n",
              "      <td>41326</td>\n",
              "      <td>Nibble is a 3+ month old ball of cuteness. He ...</td>\n",
              "      <td>2</td>\n",
              "      <td>0</td>\n",
              "    </tr>\n",
              "    <tr>\n",
              "      <th>1</th>\n",
              "      <td>1</td>\n",
              "      <td>4</td>\n",
              "      <td>307</td>\n",
              "      <td>0</td>\n",
              "      <td>2</td>\n",
              "      <td>1</td>\n",
              "      <td>2</td>\n",
              "      <td>0</td>\n",
              "      <td>2</td>\n",
              "      <td>1</td>\n",
              "      <td>1</td>\n",
              "      <td>1</td>\n",
              "      <td>2</td>\n",
              "      <td>1</td>\n",
              "      <td>1</td>\n",
              "      <td>150</td>\n",
              "      <td>41401</td>\n",
              "      <td>Good guard dog, very alert, active, obedience ...</td>\n",
              "      <td>2</td>\n",
              "      <td>3</td>\n",
              "    </tr>\n",
              "    <tr>\n",
              "      <th>2</th>\n",
              "      <td>1</td>\n",
              "      <td>1</td>\n",
              "      <td>307</td>\n",
              "      <td>0</td>\n",
              "      <td>1</td>\n",
              "      <td>1</td>\n",
              "      <td>0</td>\n",
              "      <td>0</td>\n",
              "      <td>2</td>\n",
              "      <td>1</td>\n",
              "      <td>2</td>\n",
              "      <td>2</td>\n",
              "      <td>2</td>\n",
              "      <td>1</td>\n",
              "      <td>1</td>\n",
              "      <td>0</td>\n",
              "      <td>41326</td>\n",
              "      <td>This handsome yet cute boy is up for adoption....</td>\n",
              "      <td>2</td>\n",
              "      <td>4</td>\n",
              "    </tr>\n",
              "    <tr>\n",
              "      <th>3</th>\n",
              "      <td>2</td>\n",
              "      <td>3</td>\n",
              "      <td>266</td>\n",
              "      <td>0</td>\n",
              "      <td>2</td>\n",
              "      <td>5</td>\n",
              "      <td>6</td>\n",
              "      <td>0</td>\n",
              "      <td>2</td>\n",
              "      <td>1</td>\n",
              "      <td>2</td>\n",
              "      <td>2</td>\n",
              "      <td>2</td>\n",
              "      <td>1</td>\n",
              "      <td>1</td>\n",
              "      <td>0</td>\n",
              "      <td>41326</td>\n",
              "      <td>This is a stray kitten that came to my house. ...</td>\n",
              "      <td>2</td>\n",
              "      <td>5</td>\n",
              "    </tr>\n",
              "    <tr>\n",
              "      <th>4</th>\n",
              "      <td>2</td>\n",
              "      <td>12</td>\n",
              "      <td>264</td>\n",
              "      <td>264</td>\n",
              "      <td>1</td>\n",
              "      <td>1</td>\n",
              "      <td>0</td>\n",
              "      <td>0</td>\n",
              "      <td>2</td>\n",
              "      <td>3</td>\n",
              "      <td>2</td>\n",
              "      <td>2</td>\n",
              "      <td>3</td>\n",
              "      <td>1</td>\n",
              "      <td>1</td>\n",
              "      <td>300</td>\n",
              "      <td>41326</td>\n",
              "      <td>anyone within the area of ipoh or taiping who ...</td>\n",
              "      <td>1</td>\n",
              "      <td>6</td>\n",
              "    </tr>\n",
              "  </tbody>\n",
              "</table>\n",
              "</div>"
            ],
            "text/plain": [
              "   Type  Age  ...  AdoptionSpeed  PID\n",
              "0     2    3  ...              2    0\n",
              "1     1    4  ...              2    3\n",
              "2     1    1  ...              2    4\n",
              "3     2    3  ...              2    5\n",
              "4     2   12  ...              1    6\n",
              "\n",
              "[5 rows x 20 columns]"
            ]
          },
          "metadata": {
            "tags": []
          },
          "execution_count": 9
        }
      ]
    },
    {
      "cell_type": "markdown",
      "metadata": {
        "id": "okaDOuHzNl6j",
        "colab_type": "text"
      },
      "source": [
        "## Preproceso del texto para agregarlo como feature (manejo de secuencias)\n",
        "\n",
        "A diferencia del práctico anterior, en este caso es necesario utilizar el texto como feature extra. Pueden luego agregarlo a una red recurrente o convolucional y concatenar su salida a los atributos \"escalares\" (como \"raza\" o \"género\").\n",
        "\n",
        "A continuación les mostraremos los pasos a seguir para ello. La descripción detallada de para que sirve cada paso se encuentra disponible en el [notebook 3](./3_cnns.ipynb).\n",
        "\n",
        "### Tokenización"
      ]
    },
    {
      "cell_type": "code",
      "metadata": {
        "id": "5fo9qd3Z_EVs",
        "colab_type": "code",
        "colab": {
          "base_uri": "https://localhost:8080/",
          "height": 35
        },
        "outputId": "f66041c8-a063-4fb8-dd4b-200e2587f00d"
      },
      "source": [
        "word_tokenize(\"australopitecus is he\",language=\"italian\")"
      ],
      "execution_count": 10,
      "outputs": [
        {
          "output_type": "execute_result",
          "data": {
            "text/plain": [
              "['australopitecus', 'is', 'he']"
            ]
          },
          "metadata": {
            "tags": []
          },
          "execution_count": 10
        }
      ]
    },
    {
      "cell_type": "code",
      "metadata": {
        "id": "jC7Kbt8HNl6s",
        "colab_type": "code",
        "colab": {}
      },
      "source": [
        "SW = set(stopwords.words(\"english\"))\n",
        "\n",
        "def tokenize_description(description):\n",
        "    return [w.lower() for w in word_tokenize(description, language=\"english\") if w.lower() not in SW]\n",
        "\n",
        "# Fill the null values with the empty string to avoid errors with NLTK tokenization\n",
        "dataset[\"TokenizedDescription\"] = dataset[\"Description\"].fillna(value=\"\").apply(tokenize_description)"
      ],
      "execution_count": 0,
      "outputs": []
    },
    {
      "cell_type": "code",
      "metadata": {
        "id": "OqHsIE-28u8d",
        "colab_type": "code",
        "colab": {
          "base_uri": "https://localhost:8080/",
          "height": 159
        },
        "outputId": "2b1679bd-889a-44d2-f5b2-ac98c4a0b43a"
      },
      "source": [
        "for x in range(8):\n",
        "  print (SW.pop())"
      ],
      "execution_count": 12,
      "outputs": [
        {
          "output_type": "stream",
          "text": [
            "yours\n",
            "wouldn\n",
            "o\n",
            "won't\n",
            "above\n",
            "or\n",
            "didn't\n",
            "until\n"
          ],
          "name": "stdout"
        }
      ]
    },
    {
      "cell_type": "code",
      "metadata": {
        "id": "tbuEvNt2ACmX",
        "colab_type": "code",
        "colab": {
          "base_uri": "https://localhost:8080/",
          "height": 124
        },
        "outputId": "15a7656b-cbf9-4a20-ea2a-4d7ad491e8b1"
      },
      "source": [
        "dataset[\"TokenizedDescription\"][:5]"
      ],
      "execution_count": 13,
      "outputs": [
        {
          "output_type": "execute_result",
          "data": {
            "text/plain": [
              "0    [nibble, 3+, month, old, ball, cuteness, ., en...\n",
              "1    [good, guard, dog, ,, alert, ,, active, ,, obe...\n",
              "2    [handsome, yet, cute, boy, adoption, ., playfu...\n",
              "3    [stray, kitten, came, house, ., feeding, ,, ke...\n",
              "4    [anyone, within, area, ipoh, taiping, interest...\n",
              "Name: TokenizedDescription, dtype: object"
            ]
          },
          "metadata": {
            "tags": []
          },
          "execution_count": 13
        }
      ]
    },
    {
      "cell_type": "markdown",
      "metadata": {
        "id": "UwB-m3CONl7Q",
        "colab_type": "text"
      },
      "source": [
        "#### Tamaño de las descripciones\n",
        "\n",
        "Un punto importante a tener en cuenta es que las descripciones tienen tamaño variable, y esto no es compatible con los algoritmos de aprendizaje automático. Por lo que hay que llevar las secuencias a un tamaño uniforme.\n",
        "\n",
        "Para definir dicho tamaño uniforme, es útil mirar qué tamaños mínimos, máximos y medios manejan las descripciones y a partir de esto establecer el tamaño máximo de la secuencia."
      ]
    },
    {
      "cell_type": "code",
      "metadata": {
        "id": "DUSwlUivNl7Y",
        "colab_type": "code",
        "outputId": "aaa06e10-3280-48d5-cd6d-ac9c9aeeccea",
        "colab": {
          "base_uri": "https://localhost:8080/",
          "height": 177
        }
      },
      "source": [
        "print(dataset[\"TokenizedDescription\"].apply(len).describe())"
      ],
      "execution_count": 14,
      "outputs": [
        {
          "output_type": "stream",
          "text": [
            "count    10582.000000\n",
            "mean        44.418541\n",
            "std         48.464623\n",
            "min          0.000000\n",
            "25%         16.000000\n",
            "50%         31.000000\n",
            "75%         55.000000\n",
            "max        803.000000\n",
            "Name: TokenizedDescription, dtype: float64\n"
          ],
          "name": "stdout"
        }
      ]
    },
    {
      "cell_type": "markdown",
      "metadata": {
        "id": "3zsPKPqONl79",
        "colab_type": "text"
      },
      "source": [
        "Vemos que más del 75% de las secuencias tienen 55 palabras o menos. Esto es un buen punto de partida, así que podemos establecer el tamaño máximo de las secuencia en 55 palabras."
      ]
    },
    {
      "cell_type": "code",
      "metadata": {
        "id": "losGEMWFNl8C",
        "colab_type": "code",
        "colab": {}
      },
      "source": [
        "MAX_SEQUENCE_LEN = 55"
      ],
      "execution_count": 0,
      "outputs": []
    },
    {
      "cell_type": "markdown",
      "metadata": {
        "id": "2LSARmmHNl9L",
        "colab_type": "text"
      },
      "source": [
        "## Vocabulario"
      ]
    },
    {
      "cell_type": "code",
      "metadata": {
        "id": "YjQma9fiNl9V",
        "colab_type": "code",
        "colab": {}
      },
      "source": [
        "#less than no_below documents (absolute number) or\n",
        "#more than no_above documents (fraction of total corpus size, not absolute number).\n",
        "#after (1) and (2), keep only the first keep_n most frequent tokens (or keep all if None).\n",
        "\n",
        "vocabulary = corpora.Dictionary(dataset[\"TokenizedDescription\"])\n",
        "vocabulary.filter_extremes(no_below=1, no_above=1.0, keep_n=10000)"
      ],
      "execution_count": 0,
      "outputs": []
    },
    {
      "cell_type": "markdown",
      "metadata": {
        "id": "GtuerzAeNl90",
        "colab_type": "text"
      },
      "source": [
        "## Word Embeddings (GloVe)"
      ]
    },
    {
      "cell_type": "code",
      "metadata": {
        "id": "RornvRTudO83",
        "colab_type": "code",
        "colab": {
          "base_uri": "https://localhost:8080/",
          "height": 177
        },
        "outputId": "56b1cc50-46e7-4bde-8404-48178286c362"
      },
      "source": [
        "%%bash\n",
        "\n",
        "# Descargar los datos de IMDB\n",
        "mkdir -p dataset\n",
        "curl -L -o ./dataset/imdb_reviews.csv.gz https://cs.famaf.unc.edu.ar/~ccardellino/resources/diplodatos/imdb_reviews.csv.gz\n",
        "\n",
        "# Descargar los word embeddings (GloVe)\n",
        "curl -L -o ./dataset/glove.6B.zip https://cs.famaf.unc.edu.ar/~ccardellino/resources/diplodatos/glove.6B.zip\n",
        "unzip ./dataset/glove.6B.zip glove.6B.100d.txt -d ./dataset"
      ],
      "execution_count": 17,
      "outputs": [
        {
          "output_type": "stream",
          "text": [
            "Archive:  ./dataset/glove.6B.zip\n"
          ],
          "name": "stdout"
        },
        {
          "output_type": "stream",
          "text": [
            "  % Total    % Received % Xferd  Average Speed   Time    Time     Time  Current\n",
            "                                 Dload  Upload   Total   Spent    Left  Speed\n",
            "\r  0     0    0     0    0     0      0      0 --:--:-- --:--:-- --:--:--     0\r  0     0    0     0    0     0      0      0 --:--:--  0:00:01 --:--:--     0\r  0     0    0     0    0     0      0      0 --:--:--  0:00:01 --:--:--     0\r  0 25.3M    0 49152    0     0  18197      0  0:24:18  0:00:02  0:24:16 18190\r  6 25.3M    6 1760k    0     0   478k      0  0:00:54  0:00:03  0:00:51  478k\r 58 25.3M   58 14.8M    0     0  3325k      0  0:00:07  0:00:04  0:00:03 3324k\r100 25.3M  100 25.3M    0     0  4854k      0  0:00:05  0:00:05 --:--:-- 6774k\n",
            "  % Total    % Received % Xferd  Average Speed   Time    Time     Time  Current\n",
            "                                 Dload  Upload   Total   Spent    Left  Speed\n",
            "\r  0     0    0     0    0     0      0      0 --:--:-- --:--:-- --:--:--     0\r  0     0    0     0    0     0      0      0 --:--:-- --:--:-- --:--:--     0\r  0  822M    0  112k    0     0  89181      0  2:41:07  0:00:01  2:41:06 89112\r  0  822M    0 5184k    0     0  2185k      0  0:06:25  0:00:02  0:06:23 2184k\r  1  822M    1 12.8M    0     0  4004k      0  0:03:30  0:00:03  0:03:27 4003k\r  2  822M    2 21.4M    0     0  5213k      0  0:02:41  0:00:04  0:02:37 5212k\r  3  822M    3 30.1M    0     0  5853k      0  0:02:23  0:00:05  0:02:18 6305k\r  4  822M    4 39.1M    0     0  6450k      0  0:02:10  0:00:06  0:02:04 8108k\r  5  822M    5 47.7M    0     0  6726k      0  0:02:05  0:00:07  0:01:58 8927k\r  6  822M    6 57.3M    0     0  7146k      0  0:01:57  0:00:08  0:01:49 9228k\r  8  822M    8 66.1M    0     0  7318k      0  0:01:55  0:00:09  0:01:46 9083k\r  9  822M    9 76.7M    0     0  7685k      0  0:01:49  0:00:10  0:01:39 9635k\r 10  822M   10 86.1M    0     0  7848k      0  0:01:47  0:00:11  0:01:36 9578k\r 11  822M   11 98.1M    0     0  8219k      0  0:01:42  0:00:12  0:01:30 10.1M\r 13  822M   13  109M    0     0  8433k      0  0:01:39  0:00:13  0:01:26 10.2M\r 14  822M   14  122M    0     0  8843k      0  0:01:35  0:00:14  0:01:21 11.4M\r 16  822M   16  135M    0     0  9104k      0  0:01:32  0:00:15  0:01:17 11.7M\r 18  822M   18  150M    0     0  9512k      0  0:01:28  0:00:16  0:01:12 12.9M\r 20  822M   20  165M    0     0  9842k      0  0:01:25  0:00:17  0:01:08 13.4M\r 22  822M   22  181M    0     0   9.9M      0  0:01:22  0:00:18  0:01:04 14.4M\r 23  822M   23  196M    0     0  10.2M      0  0:01:20  0:00:19  0:01:01 14.8M\r 25  822M   25  212M    0     0  10.5M      0  0:01:18  0:00:20  0:00:58 15.5M\r 27  822M   27  228M    0     0  10.7M      0  0:01:16  0:00:21  0:00:55 15.4M\r 29  822M   29  243M    0     0  10.9M      0  0:01:14  0:00:22  0:00:52 15.6M\r 31  822M   31  259M    0     0  11.1M      0  0:01:13  0:00:23  0:00:50 15.6M\r 33  822M   33  275M    0     0  11.3M      0  0:01:12  0:00:24  0:00:48 15.6M\r 35  822M   35  290M    0     0  11.5M      0  0:01:11  0:00:25  0:00:46 15.5M\r 37  822M   37  306M    0     0  11.6M      0  0:01:10  0:00:26  0:00:44 15.5M\r 39  822M   39  321M    0     0  11.8M      0  0:01:09  0:00:27  0:00:42 15.5M\r 40  822M   40  337M    0     0  11.9M      0  0:01:08  0:00:28  0:00:40 15.4M\r 42  822M   42  352M    0     0  12.0M      0  0:01:08  0:00:29  0:00:39 15.5M\r 44  822M   44  367M    0     0  12.1M      0  0:01:07  0:00:30  0:00:37 15.4M\r 46  822M   46  383M    0     0  12.2M      0  0:01:06  0:00:31  0:00:35 15.5M\r 48  822M   48  399M    0     0  12.3M      0  0:01:06  0:00:32  0:00:34 15.4M\r 50  822M   50  414M    0     0  12.4M      0  0:01:05  0:00:33  0:00:32 15.5M\r 52  822M   52  430M    0     0  12.5M      0  0:01:05  0:00:34  0:00:31 15.5M\r 54  822M   54  445M    0     0  12.6M      0  0:01:04  0:00:35  0:00:29 15.6M\r 56  822M   56  461M    0     0  12.7M      0  0:01:04  0:00:36  0:00:28 15.5M\r 57  822M   57  476M    0     0  12.8M      0  0:01:04  0:00:37  0:00:27 15.6M\r 59  822M   59  492M    0     0  12.8M      0  0:01:03  0:00:38  0:00:25 15.5M\r 61  822M   61  507M    0     0  12.9M      0  0:01:03  0:00:39  0:00:24 15.4M\r 63  822M   63  523M    0     0  13.0M      0  0:01:03  0:00:40  0:00:23 15.4M\r 65  822M   65  538M    0     0  13.0M      0  0:01:02  0:00:41  0:00:21 15.4M\r 67  822M   67  554M    0     0  13.1M      0  0:01:02  0:00:42  0:00:20 15.4M\r 69  822M   69  569M    0     0  13.1M      0  0:01:02  0:00:43  0:00:19 15.4M\r 71  822M   71  584M    0     0  13.2M      0  0:01:02  0:00:44  0:00:18 15.4M\r 72  822M   72  600M    0     0  13.2M      0  0:01:01  0:00:45  0:00:16 15.4M\r 74  822M   74  615M    0     0  13.3M      0  0:01:01  0:00:46  0:00:15 15.2M\r 76  822M   76  630M    0     0  13.3M      0  0:01:01  0:00:47  0:00:14 15.3M\r 78  822M   78  646M    0     0  13.3M      0  0:01:01  0:00:48  0:00:13 15.2M\r 80  822M   80  661M    0     0  13.4M      0  0:01:01  0:00:49  0:00:12 15.2M\r 82  822M   82  676M    0     0  13.4M      0  0:01:01  0:00:50  0:00:11 15.3M\r 84  822M   84  691M    0     0  13.5M      0  0:01:00  0:00:51  0:00:09 15.3M\r 86  822M   86  707M    0     0  13.5M      0  0:01:00  0:00:52  0:00:08 15.3M\r 87  822M   87  722M    0     0  13.5M      0  0:01:00  0:00:53  0:00:07 15.3M\r 89  822M   89  738M    0     0  13.6M      0  0:01:00  0:00:54  0:00:06 15.4M\r 91  822M   91  753M    0     0  13.6M      0  0:01:00  0:00:55  0:00:05 15.2M\r 93  822M   93  769M    0     0  13.6M      0  0:01:00  0:00:56  0:00:04 15.4M\r 95  822M   95  785M    0     0  13.7M      0  0:00:59  0:00:57  0:00:02 15.5M\r 97  822M   97  799M    0     0  13.7M      0  0:00:59  0:00:58  0:00:01 15.4M\r 99  822M   99  815M    0     0  13.7M      0  0:00:59  0:00:59 --:--:-- 15.5M\r100  822M  100  822M    0     0  13.7M      0  0:00:59  0:00:59 --:--:-- 15.7M\n",
            "replace ./dataset/glove.6B.100d.txt? [y]es, [n]o, [A]ll, [N]one, [r]ename:  NULL\n",
            "(EOF or read error, treating as \"[N]one\" ...)\n"
          ],
          "name": "stderr"
        }
      ]
    },
    {
      "cell_type": "code",
      "metadata": {
        "id": "ZDSnZVi_Nl98",
        "colab_type": "code",
        "outputId": "892c52a3-50dc-4dde-9899-ad2a72284810",
        "colab": {
          "base_uri": "https://localhost:8080/",
          "height": 35
        }
      },
      "source": [
        "embeddings_index = {}\n",
        "\n",
        "with open(\"./dataset/glove.6B.100d.txt\", \"r\") as fh:\n",
        "    for line in fh:\n",
        "        values = line.split()\n",
        "        word = values[0]\n",
        "        if word in vocabulary.token2id:  # Only use the embeddings of words in our vocabulary\n",
        "            coefs = np.asarray(values[1:], dtype='float32')\n",
        "            embeddings_index[word] = coefs\n",
        "\n",
        "print(\"Found {} word vectors.\".format(len(embeddings_index)))"
      ],
      "execution_count": 18,
      "outputs": [
        {
          "output_type": "stream",
          "text": [
            "Found 7897 word vectors.\n"
          ],
          "name": "stdout"
        }
      ]
    },
    {
      "cell_type": "markdown",
      "metadata": {
        "id": "lH9k0Uu7Nl-o",
        "colab_type": "text"
      },
      "source": [
        "## Creación de los datasets\n",
        "\n",
        "Similar al práctico anterior, tendremos datos que serán \"one-hot-encoded\", otros serán \"embeddings\" y otros serán numéricos.\n",
        "\n",
        "El caso particular del texto es que será tratado como una secuencia de embeddings, y dichos embeddings no serán entrenados en conjunto con la red, sino que serán tomados de un modelo \"pre-entrenado\". En este caso utilizamos GloVe, pero podríamos haber utilizado otro modelo (e.g. FastText)."
      ]
    },
    {
      "cell_type": "code",
      "metadata": {
        "id": "SPbIh5TLNl_G",
        "colab_type": "code",
        "colab": {}
      },
      "source": [
        "# It's important to always use the same one-hot length\n",
        "one_hot_columns = {\n",
        "    one_hot_col: dataset[one_hot_col].max()\n",
        "    for one_hot_col in ['Gender', 'Color1']\n",
        "}\n",
        "embedded_columns = {\n",
        "    embedded_col: dataset[embedded_col].max() + 1\n",
        "    for embedded_col in ['Breed1']\n",
        "}\n",
        "numeric_columns = ['Age', 'Fee']"
      ],
      "execution_count": 0,
      "outputs": []
    },
    {
      "cell_type": "markdown",
      "metadata": {
        "id": "QqXs2XmXNl_X",
        "colab_type": "text"
      },
      "source": [
        "## Generador del conjunto de datos\n",
        "\n",
        "Dada la naturaleza de los datos de texto, y que estos representan una secuencia de datos (que se da luego a una red recurrente o convolucional), en este caso no crearemos los datasets de antemano, sino que los generaremos a medida que el algoritmo de entrenamiento los pida. \n",
        "\n",
        "En particular, es porque las secuencias de texto pueden no tener el mismo tamaño (las oraciones tienen diferente cantidad de palabras), pero para que los modelos de redes las acepten, necesitamos rellenarlas (*padding*) de manera que todas tengan el mismo tamaño.\n",
        "\n",
        "En este paso también vamos a truncar aquellas secuencias de descripciones con más de `MAX_SEQUENCE_LEN` palabras, de manera que al hacer uso de `padded_batch` no lance un error al encontrarse con secuencias de tamaño mayor."
      ]
    },
    {
      "cell_type": "code",
      "metadata": {
        "id": "hUyUo7x1Nl_s",
        "colab_type": "code",
        "colab": {}
      },
      "source": [
        "def dataset_generator(ds, test_data=False):\n",
        "    for _, row in ds.iterrows():\n",
        "        instance = {}\n",
        "        \n",
        "        # One hot encoded features\n",
        "        instance[\"direct_features\"] = np.hstack([\n",
        "            tf.keras.utils.to_categorical(row[one_hot_col] - 1, max_value)\n",
        "            for one_hot_col, max_value in one_hot_columns.items()\n",
        "        ])\n",
        "\n",
        "        # Numeric features (should be normalized beforehand)\n",
        "        # TODO: Add numeric features for row\n",
        "        \n",
        "        # Embedded features\n",
        "        for embedded_col in embedded_columns:\n",
        "            instance[embedded_col] = [row[embedded_col]]\n",
        "        \n",
        "        # Document to indices for text data, truncated at MAX_SEQUENCE_LEN words\n",
        "        instance[\"description\"] = vocabulary.doc2idx(\n",
        "            row[\"TokenizedDescription\"],\n",
        "            unknown_word_index=len(vocabulary)\n",
        "        )[:MAX_SEQUENCE_LEN]\n",
        "        \n",
        "        # One hot encoded target for categorical crossentropy\n",
        "        if not test_data:\n",
        "            target = tf.keras.utils.to_categorical(row[target_col], nlabels)\n",
        "            yield instance, target\n",
        "        else:\n",
        "            yield instance\n",
        "\n",
        "# Set output types of the generator (for numeric types check the type is valid)\n",
        "instance_types = {\n",
        "    \"direct_features\": tf.float32,\n",
        "    \"description\": tf.int32\n",
        "}\n",
        "\n",
        "for embedded_col in embedded_columns:\n",
        "    instance_types[embedded_col] = tf.int32\n",
        "        \n",
        "tf_dataset = tf.data.Dataset.from_generator(\n",
        "    lambda: dataset_generator(dataset),\n",
        "    output_types=(instance_types, tf.int32)\n",
        ")\n",
        "\n",
        "#for data, target in tf_dataset.take(2):\n",
        "#    pprint(data)\n",
        " #   pprint(target)\n",
        "#    print()"
      ],
      "execution_count": 0,
      "outputs": []
    },
    {
      "cell_type": "code",
      "metadata": {
        "id": "t3G8iinTggm6",
        "colab_type": "code",
        "colab": {
          "base_uri": "https://localhost:8080/",
          "height": 35
        },
        "outputId": "d6506c03-a50e-4bed-9c59-0172b2725cc2"
      },
      "source": [
        "tf_dataset.take(2)"
      ],
      "execution_count": 21,
      "outputs": [
        {
          "output_type": "execute_result",
          "data": {
            "text/plain": [
              "<DatasetV1Adapter shapes: ({direct_features: <unknown>, description: <unknown>, Breed1: <unknown>}, <unknown>), types: ({direct_features: tf.float32, description: tf.int32, Breed1: tf.int32}, tf.int32)>"
            ]
          },
          "metadata": {
            "tags": []
          },
          "execution_count": 21
        }
      ]
    },
    {
      "cell_type": "code",
      "metadata": {
        "id": "MO4h72aJf3mQ",
        "colab_type": "code",
        "colab": {
          "base_uri": "https://localhost:8080/",
          "height": 390
        },
        "outputId": "b5cb37fa-56c3-4c57-8985-787bd3283cc9"
      },
      "source": [
        "for data, target in tf_dataset.take(2):\n",
        "    pprint(data)\n",
        "    pprint(target)\n",
        "    print()"
      ],
      "execution_count": 54,
      "outputs": [
        {
          "output_type": "stream",
          "text": [
            "{'Breed1': <tf.Tensor: id=19779, shape=(1,), dtype=int32, numpy=array([299], dtype=int32)>,\n",
            " 'description': <tf.Tensor: id=19780, shape=(42,), dtype=int32, numpy=\n",
            "array([23,  2, 20, 24,  4, 10,  1, 11, 26,  1, 27,  9,  6, 21,  3,  8, 15,\n",
            "       22, 33,  7, 13, 30,  1, 29, 18, 17,  1, 12, 31, 14,  5,  6, 16,  1,\n",
            "       19, 28, 25, 32, 23,  0,  5,  1], dtype=int32)>,\n",
            " 'direct_features': <tf.Tensor: id=19781, shape=(35,), dtype=float32, numpy=\n",
            "array([1., 0., 0., 1., 0., 0., 0., 0., 0., 0., 0., 0., 0., 0., 0., 0., 1.,\n",
            "       0., 0., 0., 0., 0., 0., 1., 0., 1., 0., 1., 0., 0., 1., 0., 0., 1.,\n",
            "       0.], dtype=float32)>}\n",
            "<tf.Tensor: id=19782, shape=(5,), dtype=int32, numpy=array([0, 0, 1, 0, 0], dtype=int32)>\n",
            "\n",
            "{'Breed1': <tf.Tensor: id=19783, shape=(1,), dtype=int32, numpy=array([307], dtype=int32)>,\n",
            " 'description': <tf.Tensor: id=19784, shape=(24,), dtype=int32, numpy=\n",
            "array([41, 42, 40, 35, 37, 35, 36, 35, 45, 50, 41, 44, 35, 46, 38, 48, 39,\n",
            "       47, 15, 43, 35, 49, 34, 34], dtype=int32)>,\n",
            " 'direct_features': <tf.Tensor: id=19785, shape=(35,), dtype=float32, numpy=\n",
            "array([0., 1., 0., 1., 0., 0., 0., 0., 0., 0., 0., 1., 0., 0., 0., 0., 0.,\n",
            "       0., 0., 0., 0., 0., 0., 1., 1., 0., 1., 0., 0., 1., 0., 0., 0., 1.,\n",
            "       0.], dtype=float32)>}\n",
            "<tf.Tensor: id=19786, shape=(5,), dtype=int32, numpy=array([0, 0, 1, 0, 0], dtype=int32)>\n",
            "\n"
          ],
          "name": "stdout"
        }
      ]
    },
    {
      "cell_type": "markdown",
      "metadata": {
        "id": "LVClByM4NmAD",
        "colab_type": "text"
      },
      "source": [
        "## Datos de entrenamiento y validación\n",
        "\n",
        "Ya generado el conjunto de datos base, tenemos que dividirlo en entrenamiento y validación. Además, como vamos a utilizar algunos datos que forman secuencias, los lotes (*batches*) de datos deben estar \"rellenados\" (*padded_batch*). \n",
        "\n",
        "Si bien rellenaremos \"todos\" los atributos, en la práctica el único que efectivamente se rellenará es el de *description* pues es el único con tamaños distintos."
      ]
    },
    {
      "cell_type": "code",
      "metadata": {
        "id": "Qvrf0AVTNmAa",
        "colab_type": "code",
        "colab": {}
      },
      "source": [
        "TRAIN_SIZE = int(dataset.shape[0] * 0.8)\n",
        "DEV_SIZE = dataset.shape[0] - TRAIN_SIZE\n",
        "BATCH_SIZE = 128\n",
        "\n",
        "shuffled_dataset = tf_dataset.shuffle(TRAIN_SIZE + DEV_SIZE, seed=42)\n",
        "\n",
        "# Pad the datasets to the max value for all the \"non sequence\" features\n",
        "padding_shapes = (\n",
        "    {k: [-1] for k in [\"direct_features\"] + list(embedded_columns.keys())},\n",
        "    [-1]\n",
        ")\n",
        "\n",
        "# Pad to MAX_SEQUENCE_LEN for sequence features\n",
        "padding_shapes[0][\"description\"] = [MAX_SEQUENCE_LEN]\n",
        "\n",
        "# Pad values are irrelevant for non padded data\n",
        "padding_values = (\n",
        "    {k: 0 for k in list(embedded_columns.keys())},\n",
        "    0\n",
        ")\n",
        "\n",
        "# Padding value for direct features should be a float\n",
        "padding_values[0][\"direct_features\"] = np.float32(0)\n",
        "\n",
        "# Padding value for sequential features is the vocabulary length + 1\n",
        "padding_values[0][\"description\"] = len(vocabulary) + 1\n",
        "\n",
        "train_dataset = shuffled_dataset.skip(DEV_SIZE)\\\n",
        "    .padded_batch(BATCH_SIZE, padded_shapes=padding_shapes, padding_values=padding_values)\n",
        "\n",
        "dev_dataset = shuffled_dataset.take(DEV_SIZE)\\\n",
        "    .padded_batch(BATCH_SIZE, padded_shapes=padding_shapes, padding_values=padding_values)"
      ],
      "execution_count": 0,
      "outputs": []
    },
    {
      "cell_type": "markdown",
      "metadata": {
        "id": "BqZVN0JBNmB2",
        "colab_type": "text"
      },
      "source": [
        "## Construyendo el modelo\n",
        "\n",
        "Al modelo anterior tenemos que agregarle la capa que maneje los embeddings de las palabras, e inicializarla de manera acorde, podemos guiarnos por lo visto en el [notebook 3](./3_cnns.ipynb) para hacer esto.\n",
        "\n",
        "### Matriz de embeddings de palabras"
      ]
    },
    {
      "cell_type": "code",
      "metadata": {
        "id": "rUDLt22zNmCC",
        "colab_type": "code",
        "colab": {}
      },
      "source": [
        "EMBEDDINGS_DIM = 100  # Given by the model (in this case glove.6B.100d)\n",
        "\n",
        "embedding_matrix = np.zeros((len(vocabulary) + 2, 100))\n",
        "\n",
        "for widx, word in vocabulary.items():\n",
        "    embedding_vector = embeddings_index.get(word)\n",
        "    if embedding_vector is not None:\n",
        "        embedding_matrix[widx] = embedding_vector\n",
        "    else:\n",
        "        # Random normal initialization for words without embeddings\n",
        "        embedding_matrix[widx] = np.random.normal(size=(100,))  \n",
        "\n",
        "# Random normal initialization for unknown words\n",
        "embedding_matrix[len(vocabulary)] = np.random.normal(size=(100,))"
      ],
      "execution_count": 0,
      "outputs": []
    },
    {
      "cell_type": "markdown",
      "metadata": {
        "id": "wpVxT5oSNmDI",
        "colab_type": "text"
      },
      "source": [
        "### Definiendo los inputs del modelo\n",
        "\n",
        "Definamos los inputs del modelo, con el agregado de la capa de embeddings de palabras inicializada en `embedding_matrix`."
      ]
    },
    {
      "cell_type": "code",
      "metadata": {
        "id": "aj2mzEJsNmDs",
        "colab_type": "code",
        "colab": {
          "base_uri": "https://localhost:8080/",
          "height": 35
        },
        "outputId": "eb954a79-c889-4e45-b78f-cd3e9acd4565"
      },
      "source": [
        "tf.keras.backend.clear_session()\n",
        "\n",
        "# Add one input and one embedding for each embedded column\n",
        "embedding_layers = []\n",
        "inputs = []\n",
        "for embedded_col, max_value in embedded_columns.items():\n",
        "    input_layer = tf.keras.layers.Input(shape=(1,), name=embedded_col)\n",
        "    inputs.append(input_layer)\n",
        "    # Define the embedding layer\n",
        "    embedding_size = int(max_value / 4)\n",
        "    embedding_layers.append(\n",
        "        tf.squeeze(\n",
        "            tf.keras.layers.Embedding(\n",
        "                input_dim=max_value, \n",
        "                output_dim=embedding_size\n",
        "            )(input_layer), \n",
        "            axis=-2\n",
        "        )\n",
        "    )\n",
        "    print('Adding embedding of size {} for layer {}'.format(embedding_size, embedded_col))\n",
        "\n",
        "# Add the direct features already calculated\n",
        "direct_features_input = tf.keras.layers.Input(\n",
        "    shape=(sum(one_hot_columns.values()),), \n",
        "    name='direct_features'\n",
        ")\n",
        "inputs.append(direct_features_input)\n",
        "\n",
        "# Word embedding layer\n",
        "description_input = tf.keras.layers.Input(shape=(MAX_SEQUENCE_LEN,), name=\"description\")\n",
        "inputs.append(description_input)\n",
        "\n",
        "word_embeddings_layer = tf.keras.layers.Embedding(\n",
        "    embedding_matrix.shape[0],\n",
        "    EMBEDDINGS_DIM,\n",
        "    weights=[embedding_matrix],\n",
        "    input_length=MAX_SEQUENCE_LEN,\n",
        "    trainable=False,\n",
        "    name=\"word_embedding\"\n",
        ")(description_input)"
      ],
      "execution_count": 25,
      "outputs": [
        {
          "output_type": "stream",
          "text": [
            "Adding embedding of size 77 for layer Breed1\n"
          ],
          "name": "stdout"
        }
      ]
    },
    {
      "cell_type": "markdown",
      "metadata": {
        "id": "mUeQU9cCNmFT",
        "colab_type": "text"
      },
      "source": [
        "### Definiendo la red que trabajará con el texto\n",
        "\n",
        "Antes de generar el *feature map* final entre los inputs y las clases, tenemos que generar el *feature map* de las secuencias de texto. \n",
        "\n",
        "Para ello pueden utilizar una red neuronal recurrente o convolucional.\n",
        "\n",
        "Pueden pensar dicha red como un submodelo del modelo general que se encarga de generar los atributos que representan la descripción de la mascota (recordemos que las redes se utilizan para hacer aprendizaje de representaciones).\n",
        "\n",
        "La red puede ser tan compleja como ustedes lo consideren pertinente."
      ]
    },
    {
      "cell_type": "markdown",
      "metadata": {
        "id": "uQbqLAwRZvqk",
        "colab_type": "text"
      },
      "source": [
        "Comenzamos con un modelo simple"
      ]
    },
    {
      "cell_type": "code",
      "metadata": {
        "id": "K0axX5gHNmF6",
        "colab_type": "code",
        "colab": {}
      },
      "source": [
        "DESCRIPTION_FEATURES_LAYER_SIZE = 512\n",
        "\n",
        "description_features = tf.keras.layers.Flatten()(word_embeddings_layer)  # This is a simple concatenation\n",
        "description_features = tf.keras.layers.Dense(\n",
        "    units=DESCRIPTION_FEATURES_LAYER_SIZE, \n",
        "    activation=\"relu\", \n",
        "    name=\"description_features\")(description_features)"
      ],
      "execution_count": 0,
      "outputs": []
    },
    {
      "cell_type": "markdown",
      "metadata": {
        "id": "QI61RnRXNmGd",
        "colab_type": "text"
      },
      "source": [
        "### Definiendo el *feature map* final de la red\n",
        "\n",
        "Ahora que tenemos nuestra representación de las descripciones, pasamos a combinarlo con los demás features en la última parte de nuestra red."
      ]
    },
    {
      "cell_type": "code",
      "metadata": {
        "id": "qpPGdgYVNmGl",
        "colab_type": "code",
        "colab": {}
      },
      "source": [
        "HIDDEN_LAYER_SIZE = 128\n",
        "\n",
        "feature_map = tf.keras.layers.Concatenate(name=\"feature_map\")(\n",
        "    embedding_layers + [description_features, direct_features_input]\n",
        ")\n",
        "\n",
        "hidden_layer = tf.keras.layers.Dense(HIDDEN_LAYER_SIZE, activation=\"relu\")(feature_map)\n",
        "output_layer = tf.keras.layers.Dense(nlabels, activation=\"softmax\", name=\"output\")(hidden_layer)\n",
        "\n",
        "model = tf.keras.models.Model(inputs=inputs, outputs=[output_layer], name=\"amazing_model\")"
      ],
      "execution_count": 0,
      "outputs": []
    },
    {
      "cell_type": "markdown",
      "metadata": {
        "id": "3TL4H7kyNmG6",
        "colab_type": "text"
      },
      "source": [
        "### Compilando y visualizando el modelo"
      ]
    },
    {
      "cell_type": "code",
      "metadata": {
        "id": "5EzmkJhyNmHB",
        "colab_type": "code",
        "colab": {
          "base_uri": "https://localhost:8080/",
          "height": 586
        },
        "outputId": "cc6eb5ce-1e99-40d3-f977-85c39680adf6"
      },
      "source": [
        "model.compile(loss='categorical_crossentropy', \n",
        "              optimizer='nadam',\n",
        "              metrics=['accuracy'])\n",
        "model.summary()"
      ],
      "execution_count": 28,
      "outputs": [
        {
          "output_type": "stream",
          "text": [
            "Model: \"amazing_model\"\n",
            "__________________________________________________________________________________________________\n",
            "Layer (type)                    Output Shape         Param #     Connected to                     \n",
            "==================================================================================================\n",
            "description (InputLayer)        [(None, 55)]         0                                            \n",
            "__________________________________________________________________________________________________\n",
            "Breed1 (InputLayer)             [(None, 1)]          0                                            \n",
            "__________________________________________________________________________________________________\n",
            "word_embedding (Embedding)      (None, 55, 100)      1000200     description[0][0]                \n",
            "__________________________________________________________________________________________________\n",
            "embedding (Embedding)           (None, 1, 77)        23716       Breed1[0][0]                     \n",
            "__________________________________________________________________________________________________\n",
            "flatten (Flatten)               (None, 5500)         0           word_embedding[0][0]             \n",
            "__________________________________________________________________________________________________\n",
            "tf_op_layer_Squeeze (TensorFlow [(None, 77)]         0           embedding[0][0]                  \n",
            "__________________________________________________________________________________________________\n",
            "description_features (Dense)    (None, 512)          2816512     flatten[0][0]                    \n",
            "__________________________________________________________________________________________________\n",
            "direct_features (InputLayer)    [(None, 10)]         0                                            \n",
            "__________________________________________________________________________________________________\n",
            "feature_map (Concatenate)       (None, 599)          0           tf_op_layer_Squeeze[0][0]        \n",
            "                                                                 description_features[0][0]       \n",
            "                                                                 direct_features[0][0]            \n",
            "__________________________________________________________________________________________________\n",
            "dense (Dense)                   (None, 128)          76800       feature_map[0][0]                \n",
            "__________________________________________________________________________________________________\n",
            "output (Dense)                  (None, 5)            645         dense[0][0]                      \n",
            "==================================================================================================\n",
            "Total params: 3,917,873\n",
            "Trainable params: 2,917,673\n",
            "Non-trainable params: 1,000,200\n",
            "__________________________________________________________________________________________________\n"
          ],
          "name": "stdout"
        }
      ]
    },
    {
      "cell_type": "code",
      "metadata": {
        "id": "GrlYLWf9NmHV",
        "colab_type": "code",
        "colab": {
          "base_uri": "https://localhost:8080/",
          "height": 556
        },
        "outputId": "3a34f27f-894b-4b6e-da86-9eeeb2cc16f3"
      },
      "source": [
        "SVG(tf.keras.utils.model_to_dot(model, dpi=60).create(prog='dot', format='svg'))"
      ],
      "execution_count": 29,
      "outputs": [
        {
          "output_type": "execute_result",
          "data": {
            "text/plain": [
              "<IPython.core.display.SVG object>"
            ],
            "image/svg+xml": "<svg height=\"402pt\" viewBox=\"0.00 0.00 663.00 483.00\" width=\"553pt\" xmlns=\"http://www.w3.org/2000/svg\" xmlns:xlink=\"http://www.w3.org/1999/xlink\">\n<g class=\"graph\" id=\"graph0\" transform=\"scale(.8333 .8333) rotate(0) translate(4 479)\">\n<title>G</title>\n<polygon fill=\"#ffffff\" points=\"-4,4 -4,-479 659,-479 659,4 -4,4\" stroke=\"transparent\"/>\n<!-- 139927008065800 -->\n<g class=\"node\" id=\"node1\">\n<title>139927008065800</title>\n<polygon fill=\"none\" points=\"21.5,-438.5 21.5,-474.5 172.5,-474.5 172.5,-438.5 21.5,-438.5\" stroke=\"#000000\"/>\n<text fill=\"#000000\" font-family=\"Times,serif\" font-size=\"14.00\" text-anchor=\"middle\" x=\"97\" y=\"-452.8\">description: InputLayer</text>\n</g>\n<!-- 139927007668208 -->\n<g class=\"node\" id=\"node3\">\n<title>139927007668208</title>\n<polygon fill=\"none\" points=\"0,-365.5 0,-401.5 194,-401.5 194,-365.5 0,-365.5\" stroke=\"#000000\"/>\n<text fill=\"#000000\" font-family=\"Times,serif\" font-size=\"14.00\" text-anchor=\"middle\" x=\"97\" y=\"-379.8\">word_embedding: Embedding</text>\n</g>\n<!-- 139927008065800&#45;&gt;139927007668208 -->\n<g class=\"edge\" id=\"edge1\">\n<title>139927008065800-&gt;139927007668208</title>\n<path d=\"M97,-438.4551C97,-430.3828 97,-420.6764 97,-411.6817\" fill=\"none\" stroke=\"#000000\"/>\n<polygon fill=\"#000000\" points=\"100.5001,-411.5903 97,-401.5904 93.5001,-411.5904 100.5001,-411.5903\" stroke=\"#000000\"/>\n</g>\n<!-- 139927008000040 -->\n<g class=\"node\" id=\"node2\">\n<title>139927008000040</title>\n<polygon fill=\"none\" points=\"269.5,-365.5 269.5,-401.5 398.5,-401.5 398.5,-365.5 269.5,-365.5\" stroke=\"#000000\"/>\n<text fill=\"#000000\" font-family=\"Times,serif\" font-size=\"14.00\" text-anchor=\"middle\" x=\"334\" y=\"-379.8\">Breed1: InputLayer</text>\n</g>\n<!-- 139927008064120 -->\n<g class=\"node\" id=\"node4\">\n<title>139927008064120</title>\n<polygon fill=\"none\" points=\"256,-292.5 256,-328.5 412,-328.5 412,-292.5 256,-292.5\" stroke=\"#000000\"/>\n<text fill=\"#000000\" font-family=\"Times,serif\" font-size=\"14.00\" text-anchor=\"middle\" x=\"334\" y=\"-306.8\">embedding: Embedding</text>\n</g>\n<!-- 139927008000040&#45;&gt;139927008064120 -->\n<g class=\"edge\" id=\"edge2\">\n<title>139927008000040-&gt;139927008064120</title>\n<path d=\"M334,-365.4551C334,-357.3828 334,-347.6764 334,-338.6817\" fill=\"none\" stroke=\"#000000\"/>\n<polygon fill=\"#000000\" points=\"337.5001,-338.5903 334,-328.5904 330.5001,-338.5904 337.5001,-338.5903\" stroke=\"#000000\"/>\n</g>\n<!-- 139927105474008 -->\n<g class=\"node\" id=\"node5\">\n<title>139927105474008</title>\n<polygon fill=\"none\" points=\"48,-292.5 48,-328.5 146,-328.5 146,-292.5 48,-292.5\" stroke=\"#000000\"/>\n<text fill=\"#000000\" font-family=\"Times,serif\" font-size=\"14.00\" text-anchor=\"middle\" x=\"97\" y=\"-306.8\">flatten: Flatten</text>\n</g>\n<!-- 139927007668208&#45;&gt;139927105474008 -->\n<g class=\"edge\" id=\"edge3\">\n<title>139927007668208-&gt;139927105474008</title>\n<path d=\"M97,-365.4551C97,-357.3828 97,-347.6764 97,-338.6817\" fill=\"none\" stroke=\"#000000\"/>\n<polygon fill=\"#000000\" points=\"100.5001,-338.5903 97,-328.5904 93.5001,-338.5904 100.5001,-338.5903\" stroke=\"#000000\"/>\n</g>\n<!-- 139927007743224 -->\n<g class=\"node\" id=\"node6\">\n<title>139927007743224</title>\n<polygon fill=\"none\" points=\"201.5,-219.5 201.5,-255.5 466.5,-255.5 466.5,-219.5 201.5,-219.5\" stroke=\"#000000\"/>\n<text fill=\"#000000\" font-family=\"Times,serif\" font-size=\"14.00\" text-anchor=\"middle\" x=\"334\" y=\"-233.8\">tf_op_layer_Squeeze: TensorFlowOpLayer</text>\n</g>\n<!-- 139927008064120&#45;&gt;139927007743224 -->\n<g class=\"edge\" id=\"edge4\">\n<title>139927008064120-&gt;139927007743224</title>\n<path d=\"M334,-292.4551C334,-284.3828 334,-274.6764 334,-265.6817\" fill=\"none\" stroke=\"#000000\"/>\n<polygon fill=\"#000000\" points=\"337.5001,-265.5903 334,-255.5904 330.5001,-265.5904 337.5001,-265.5903\" stroke=\"#000000\"/>\n</g>\n<!-- 139927105474120 -->\n<g class=\"node\" id=\"node7\">\n<title>139927105474120</title>\n<polygon fill=\"none\" points=\"10.5,-219.5 10.5,-255.5 183.5,-255.5 183.5,-219.5 10.5,-219.5\" stroke=\"#000000\"/>\n<text fill=\"#000000\" font-family=\"Times,serif\" font-size=\"14.00\" text-anchor=\"middle\" x=\"97\" y=\"-233.8\">description_features: Dense</text>\n</g>\n<!-- 139927105474008&#45;&gt;139927105474120 -->\n<g class=\"edge\" id=\"edge5\">\n<title>139927105474008-&gt;139927105474120</title>\n<path d=\"M97,-292.4551C97,-284.3828 97,-274.6764 97,-265.6817\" fill=\"none\" stroke=\"#000000\"/>\n<polygon fill=\"#000000\" points=\"100.5001,-265.5903 97,-255.5904 93.5001,-265.5904 100.5001,-265.5903\" stroke=\"#000000\"/>\n</g>\n<!-- 139927007742664 -->\n<g class=\"node\" id=\"node9\">\n<title>139927007742664</title>\n<polygon fill=\"none\" points=\"252,-146.5 252,-182.5 416,-182.5 416,-146.5 252,-146.5\" stroke=\"#000000\"/>\n<text fill=\"#000000\" font-family=\"Times,serif\" font-size=\"14.00\" text-anchor=\"middle\" x=\"334\" y=\"-160.8\">feature_map: Concatenate</text>\n</g>\n<!-- 139927007743224&#45;&gt;139927007742664 -->\n<g class=\"edge\" id=\"edge6\">\n<title>139927007743224-&gt;139927007742664</title>\n<path d=\"M334,-219.4551C334,-211.3828 334,-201.6764 334,-192.6817\" fill=\"none\" stroke=\"#000000\"/>\n<polygon fill=\"#000000\" points=\"337.5001,-192.5903 334,-182.5904 330.5001,-192.5904 337.5001,-192.5903\" stroke=\"#000000\"/>\n</g>\n<!-- 139927105474120&#45;&gt;139927007742664 -->\n<g class=\"edge\" id=\"edge7\">\n<title>139927105474120-&gt;139927007742664</title>\n<path d=\"M155.5843,-219.4551C188.9128,-209.1893 230.8224,-196.2804 265.6469,-185.5539\" fill=\"none\" stroke=\"#000000\"/>\n<polygon fill=\"#000000\" points=\"266.7417,-188.879 275.2683,-182.5904 264.681,-182.1892 266.7417,-188.879\" stroke=\"#000000\"/>\n</g>\n<!-- 139927007999928 -->\n<g class=\"node\" id=\"node8\">\n<title>139927007999928</title>\n<polygon fill=\"none\" points=\"485,-219.5 485,-255.5 655,-255.5 655,-219.5 485,-219.5\" stroke=\"#000000\"/>\n<text fill=\"#000000\" font-family=\"Times,serif\" font-size=\"14.00\" text-anchor=\"middle\" x=\"570\" y=\"-233.8\">direct_features: InputLayer</text>\n</g>\n<!-- 139927007999928&#45;&gt;139927007742664 -->\n<g class=\"edge\" id=\"edge8\">\n<title>139927007999928-&gt;139927007742664</title>\n<path d=\"M511.6629,-219.4551C478.475,-209.1893 436.7423,-196.2804 402.0647,-185.5539\" fill=\"none\" stroke=\"#000000\"/>\n<polygon fill=\"#000000\" points=\"403.0716,-182.2018 392.4839,-182.5904 401.003,-188.8892 403.0716,-182.2018\" stroke=\"#000000\"/>\n</g>\n<!-- 139927007742720 -->\n<g class=\"node\" id=\"node10\">\n<title>139927007742720</title>\n<polygon fill=\"none\" points=\"288,-73.5 288,-109.5 380,-109.5 380,-73.5 288,-73.5\" stroke=\"#000000\"/>\n<text fill=\"#000000\" font-family=\"Times,serif\" font-size=\"14.00\" text-anchor=\"middle\" x=\"334\" y=\"-87.8\">dense: Dense</text>\n</g>\n<!-- 139927007742664&#45;&gt;139927007742720 -->\n<g class=\"edge\" id=\"edge9\">\n<title>139927007742664-&gt;139927007742720</title>\n<path d=\"M334,-146.4551C334,-138.3828 334,-128.6764 334,-119.6817\" fill=\"none\" stroke=\"#000000\"/>\n<polygon fill=\"#000000\" points=\"337.5001,-119.5903 334,-109.5904 330.5001,-119.5904 337.5001,-119.5903\" stroke=\"#000000\"/>\n</g>\n<!-- 139927007743056 -->\n<g class=\"node\" id=\"node11\">\n<title>139927007743056</title>\n<polygon fill=\"none\" points=\"285.5,-.5 285.5,-36.5 382.5,-36.5 382.5,-.5 285.5,-.5\" stroke=\"#000000\"/>\n<text fill=\"#000000\" font-family=\"Times,serif\" font-size=\"14.00\" text-anchor=\"middle\" x=\"334\" y=\"-14.8\">output: Dense</text>\n</g>\n<!-- 139927007742720&#45;&gt;139927007743056 -->\n<g class=\"edge\" id=\"edge10\">\n<title>139927007742720-&gt;139927007743056</title>\n<path d=\"M334,-73.4551C334,-65.3828 334,-55.6764 334,-46.6817\" fill=\"none\" stroke=\"#000000\"/>\n<polygon fill=\"#000000\" points=\"337.5001,-46.5903 334,-36.5904 330.5001,-46.5904 337.5001,-46.5903\" stroke=\"#000000\"/>\n</g>\n</g>\n</svg>"
          },
          "metadata": {
            "tags": []
          },
          "execution_count": 29
        }
      ]
    },
    {
      "cell_type": "markdown",
      "metadata": {
        "id": "A-0_SuU6NmHv",
        "colab_type": "text"
      },
      "source": [
        "## Entrenando el modelo\n",
        "\n",
        "Para entrenar el modelo es igual al caso anterior, ya generados el conjunto de datos correspondiente. Lo entrenamos con ayuda de `mlflow`."
      ]
    },
    {
      "cell_type": "code",
      "metadata": {
        "id": "3X8URZJjNmHz",
        "colab_type": "code",
        "colab": {
          "base_uri": "https://localhost:8080/",
          "height": 1000
        },
        "outputId": "0f10c169-2af4-42aa-d89a-6cb2c0640879"
      },
      "source": [
        "import mlflow\n",
        "\n",
        "mlflow.set_experiment('awesome_advanced_approach')\n",
        "\n",
        "with mlflow.start_run(nested=True):\n",
        "    # Log model hiperparameters first\n",
        "    mlflow.log_param('description_features_layer_size', DESCRIPTION_FEATURES_LAYER_SIZE)\n",
        "    mlflow.log_param('hidden_layer_size', HIDDEN_LAYER_SIZE)\n",
        "    mlflow.log_param('embedded_columns', embedded_columns)\n",
        "    mlflow.log_param('one_hot_columns', one_hot_columns)\n",
        "    # mlflow.log_param('numerical_columns', numerical_columns)  # Not using these yet\n",
        "    \n",
        "    # Train\n",
        "    epochs = 30\n",
        "    history = model.fit(train_dataset, epochs=epochs,validation_data=dev_dataset)\n",
        "    \n",
        "    # Evaluate\n",
        "    loss, accuracy = model.evaluate(dev_dataset, verbose=0)\n",
        "    print(\"\\n*** Validation loss: {} - accuracy: {}\".format(loss, accuracy))\n",
        "    mlflow.log_metric('epochs', epochs)\n",
        "    mlflow.log_metric('train_loss', history.history[\"loss\"][-1])\n",
        "    mlflow.log_metric('train_accuracy', history.history[\"accuracy\"][-1])\n",
        "    mlflow.log_metric('validation_loss', loss)\n",
        "    mlflow.log_metric('validation_accuracy', accuracy)"
      ],
      "execution_count": 30,
      "outputs": [
        {
          "output_type": "stream",
          "text": [
            "Epoch 1/30\n",
            "67/67 [==============================] - 18s 268ms/step - loss: 1.4940 - accuracy: 0.2913 - val_loss: 0.0000e+00 - val_accuracy: 0.0000e+00\n",
            "Epoch 2/30\n",
            "67/67 [==============================] - 16s 244ms/step - loss: 1.2774 - accuracy: 0.4546 - val_loss: 1.3517 - val_accuracy: 0.3878\n",
            "Epoch 3/30\n",
            "67/67 [==============================] - 17s 250ms/step - loss: 1.0502 - accuracy: 0.5914 - val_loss: 0.8848 - val_accuracy: 0.6334\n",
            "Epoch 4/30\n",
            "67/67 [==============================] - 16s 243ms/step - loss: 0.7534 - accuracy: 0.7303 - val_loss: 0.5111 - val_accuracy: 0.8224\n",
            "Epoch 5/30\n",
            "67/67 [==============================] - 16s 244ms/step - loss: 0.4642 - accuracy: 0.8438 - val_loss: 0.4627 - val_accuracy: 0.8394\n",
            "Epoch 6/30\n",
            "67/67 [==============================] - 16s 244ms/step - loss: 0.2721 - accuracy: 0.9167 - val_loss: 0.1523 - val_accuracy: 0.9589\n",
            "Epoch 7/30\n",
            "67/67 [==============================] - 16s 246ms/step - loss: 0.1778 - accuracy: 0.9468 - val_loss: 0.1195 - val_accuracy: 0.9594\n",
            "Epoch 8/30\n",
            "67/67 [==============================] - 16s 244ms/step - loss: 0.1318 - accuracy: 0.9579 - val_loss: 0.2850 - val_accuracy: 0.9027\n",
            "Epoch 9/30\n",
            "67/67 [==============================] - 16s 245ms/step - loss: 0.6662 - accuracy: 0.8543 - val_loss: 0.1994 - val_accuracy: 0.9428\n",
            "Epoch 10/30\n",
            "67/67 [==============================] - 16s 245ms/step - loss: 0.1578 - accuracy: 0.9522 - val_loss: 0.1084 - val_accuracy: 0.9636\n",
            "Epoch 11/30\n",
            "67/67 [==============================] - 17s 249ms/step - loss: 0.1129 - accuracy: 0.9624 - val_loss: 0.0902 - val_accuracy: 0.9688\n",
            "Epoch 12/30\n",
            "67/67 [==============================] - 17s 246ms/step - loss: 0.0984 - accuracy: 0.9654 - val_loss: 0.0715 - val_accuracy: 0.9740\n",
            "Epoch 13/30\n",
            "67/67 [==============================] - 16s 244ms/step - loss: 0.0803 - accuracy: 0.9668 - val_loss: 0.0567 - val_accuracy: 0.9806\n",
            "Epoch 14/30\n",
            "67/67 [==============================] - 16s 244ms/step - loss: 0.0719 - accuracy: 0.9715 - val_loss: 0.0590 - val_accuracy: 0.9740\n",
            "Epoch 15/30\n",
            "67/67 [==============================] - 16s 245ms/step - loss: 0.0656 - accuracy: 0.9702 - val_loss: 0.0625 - val_accuracy: 0.9693\n",
            "Epoch 16/30\n",
            "67/67 [==============================] - 16s 246ms/step - loss: 0.0644 - accuracy: 0.9712 - val_loss: 0.0560 - val_accuracy: 0.9745\n",
            "Epoch 17/30\n",
            "67/67 [==============================] - 16s 245ms/step - loss: 0.0612 - accuracy: 0.9727 - val_loss: 0.0653 - val_accuracy: 0.9679\n",
            "Epoch 18/30\n",
            "67/67 [==============================] - 16s 243ms/step - loss: 0.0562 - accuracy: 0.9750 - val_loss: 0.0473 - val_accuracy: 0.9778\n",
            "Epoch 19/30\n",
            "67/67 [==============================] - 16s 244ms/step - loss: 0.0594 - accuracy: 0.9719 - val_loss: 0.0509 - val_accuracy: 0.9754\n",
            "Epoch 20/30\n",
            "67/67 [==============================] - 16s 243ms/step - loss: 0.0616 - accuracy: 0.9707 - val_loss: 0.0554 - val_accuracy: 0.9754\n",
            "Epoch 21/30\n",
            "67/67 [==============================] - 16s 245ms/step - loss: 0.0544 - accuracy: 0.9737 - val_loss: 0.0486 - val_accuracy: 0.9773\n",
            "Epoch 22/30\n",
            "67/67 [==============================] - 17s 250ms/step - loss: 0.0563 - accuracy: 0.9737 - val_loss: 0.0511 - val_accuracy: 0.9769\n",
            "Epoch 23/30\n",
            "67/67 [==============================] - 16s 245ms/step - loss: 0.0550 - accuracy: 0.9758 - val_loss: 0.0402 - val_accuracy: 0.9802\n",
            "Epoch 24/30\n",
            "67/67 [==============================] - 17s 246ms/step - loss: 0.0574 - accuracy: 0.9720 - val_loss: 0.0527 - val_accuracy: 0.9759\n",
            "Epoch 25/30\n",
            "67/67 [==============================] - 16s 244ms/step - loss: 0.0552 - accuracy: 0.9726 - val_loss: 0.0505 - val_accuracy: 0.9769\n",
            "Epoch 26/30\n",
            "67/67 [==============================] - 16s 244ms/step - loss: 0.0486 - accuracy: 0.9759 - val_loss: 0.0481 - val_accuracy: 0.9773\n",
            "Epoch 27/30\n",
            "67/67 [==============================] - 16s 244ms/step - loss: 0.0504 - accuracy: 0.9767 - val_loss: 0.0556 - val_accuracy: 0.9792\n",
            "Epoch 28/30\n",
            "67/67 [==============================] - 16s 245ms/step - loss: 0.8000 - accuracy: 0.7583 - val_loss: 0.6814 - val_accuracy: 0.7827\n",
            "Epoch 29/30\n",
            "67/67 [==============================] - 17s 247ms/step - loss: 0.4753 - accuracy: 0.8361 - val_loss: 0.3404 - val_accuracy: 0.8710\n",
            "Epoch 30/30\n",
            "67/67 [==============================] - 17s 246ms/step - loss: 0.2024 - accuracy: 0.9304 - val_loss: 0.1699 - val_accuracy: 0.9362\n",
            "\n",
            "*** Validation loss: 0.20676000460105784 - accuracy: 0.9296174049377441\n"
          ],
          "name": "stdout"
        }
      ]
    },
    {
      "cell_type": "markdown",
      "metadata": {
        "id": "9FG83IOaNmII",
        "colab_type": "text"
      },
      "source": [
        "## Evaluando el modelo sobre los datos de evaluación para la competencia\n",
        "\n",
        "Una vez que tenemos definido nuestro modelo, el último paso es ponerlo a prueba en los datos de evaluación para generar un archivo para enviar a la competencia Kaggle.\n",
        "\n",
        "Comenzamos cargando el conjunto de datos."
      ]
    },
    {
      "cell_type": "code",
      "metadata": {
        "id": "k6Gfarffqmvj",
        "colab_type": "code",
        "colab": {
          "base_uri": "https://localhost:8080/",
          "height": 194
        },
        "outputId": "9d5596ee-2aa5-4137-d4ac-47155f59771e"
      },
      "source": [
        "test_dataset=pd.read_csv(\"/content/drive/My Drive/test.csv\")\n",
        "test_dataset.head()"
      ],
      "execution_count": 31,
      "outputs": [
        {
          "output_type": "execute_result",
          "data": {
            "text/html": [
              "<div>\n",
              "<style scoped>\n",
              "    .dataframe tbody tr th:only-of-type {\n",
              "        vertical-align: middle;\n",
              "    }\n",
              "\n",
              "    .dataframe tbody tr th {\n",
              "        vertical-align: top;\n",
              "    }\n",
              "\n",
              "    .dataframe thead th {\n",
              "        text-align: right;\n",
              "    }\n",
              "</style>\n",
              "<table border=\"1\" class=\"dataframe\">\n",
              "  <thead>\n",
              "    <tr style=\"text-align: right;\">\n",
              "      <th></th>\n",
              "      <th>Type</th>\n",
              "      <th>Age</th>\n",
              "      <th>Breed1</th>\n",
              "      <th>Breed2</th>\n",
              "      <th>Gender</th>\n",
              "      <th>Color1</th>\n",
              "      <th>Color2</th>\n",
              "      <th>Color3</th>\n",
              "      <th>MaturitySize</th>\n",
              "      <th>FurLength</th>\n",
              "      <th>Vaccinated</th>\n",
              "      <th>Dewormed</th>\n",
              "      <th>Sterilized</th>\n",
              "      <th>Health</th>\n",
              "      <th>Quantity</th>\n",
              "      <th>Fee</th>\n",
              "      <th>State</th>\n",
              "      <th>Description</th>\n",
              "      <th>PID</th>\n",
              "    </tr>\n",
              "  </thead>\n",
              "  <tbody>\n",
              "    <tr>\n",
              "      <th>0</th>\n",
              "      <td>2</td>\n",
              "      <td>1</td>\n",
              "      <td>265</td>\n",
              "      <td>0</td>\n",
              "      <td>1</td>\n",
              "      <td>1</td>\n",
              "      <td>2</td>\n",
              "      <td>0</td>\n",
              "      <td>2</td>\n",
              "      <td>2</td>\n",
              "      <td>3</td>\n",
              "      <td>3</td>\n",
              "      <td>3</td>\n",
              "      <td>1</td>\n",
              "      <td>1</td>\n",
              "      <td>0</td>\n",
              "      <td>41401</td>\n",
              "      <td>I just found it alone yesterday near my apartm...</td>\n",
              "      <td>1</td>\n",
              "    </tr>\n",
              "    <tr>\n",
              "      <th>1</th>\n",
              "      <td>1</td>\n",
              "      <td>1</td>\n",
              "      <td>307</td>\n",
              "      <td>0</td>\n",
              "      <td>1</td>\n",
              "      <td>2</td>\n",
              "      <td>7</td>\n",
              "      <td>0</td>\n",
              "      <td>2</td>\n",
              "      <td>2</td>\n",
              "      <td>1</td>\n",
              "      <td>1</td>\n",
              "      <td>2</td>\n",
              "      <td>1</td>\n",
              "      <td>1</td>\n",
              "      <td>0</td>\n",
              "      <td>41326</td>\n",
              "      <td>Their pregnant mother was dumped by her irresp...</td>\n",
              "      <td>2</td>\n",
              "    </tr>\n",
              "    <tr>\n",
              "      <th>2</th>\n",
              "      <td>1</td>\n",
              "      <td>0</td>\n",
              "      <td>307</td>\n",
              "      <td>0</td>\n",
              "      <td>2</td>\n",
              "      <td>1</td>\n",
              "      <td>2</td>\n",
              "      <td>7</td>\n",
              "      <td>2</td>\n",
              "      <td>1</td>\n",
              "      <td>2</td>\n",
              "      <td>2</td>\n",
              "      <td>2</td>\n",
              "      <td>1</td>\n",
              "      <td>6</td>\n",
              "      <td>0</td>\n",
              "      <td>41326</td>\n",
              "      <td>Siu Pak just give birth on 13/6/10 to 6puppies...</td>\n",
              "      <td>7</td>\n",
              "    </tr>\n",
              "    <tr>\n",
              "      <th>3</th>\n",
              "      <td>2</td>\n",
              "      <td>12</td>\n",
              "      <td>265</td>\n",
              "      <td>0</td>\n",
              "      <td>2</td>\n",
              "      <td>1</td>\n",
              "      <td>7</td>\n",
              "      <td>0</td>\n",
              "      <td>2</td>\n",
              "      <td>2</td>\n",
              "      <td>3</td>\n",
              "      <td>3</td>\n",
              "      <td>3</td>\n",
              "      <td>1</td>\n",
              "      <td>1</td>\n",
              "      <td>0</td>\n",
              "      <td>41326</td>\n",
              "      <td>Very manja and gentle stray cat found, we woul...</td>\n",
              "      <td>9</td>\n",
              "    </tr>\n",
              "    <tr>\n",
              "      <th>4</th>\n",
              "      <td>2</td>\n",
              "      <td>3</td>\n",
              "      <td>264</td>\n",
              "      <td>0</td>\n",
              "      <td>2</td>\n",
              "      <td>1</td>\n",
              "      <td>2</td>\n",
              "      <td>5</td>\n",
              "      <td>3</td>\n",
              "      <td>3</td>\n",
              "      <td>1</td>\n",
              "      <td>1</td>\n",
              "      <td>2</td>\n",
              "      <td>1</td>\n",
              "      <td>1</td>\n",
              "      <td>50</td>\n",
              "      <td>41326</td>\n",
              "      <td>Kali is a super playful kitten who is on the g...</td>\n",
              "      <td>11</td>\n",
              "    </tr>\n",
              "  </tbody>\n",
              "</table>\n",
              "</div>"
            ],
            "text/plain": [
              "   Type  Age  ...                                        Description  PID\n",
              "0     2    1  ...  I just found it alone yesterday near my apartm...    1\n",
              "1     1    1  ...  Their pregnant mother was dumped by her irresp...    2\n",
              "2     1    0  ...  Siu Pak just give birth on 13/6/10 to 6puppies...    7\n",
              "3     2   12  ...  Very manja and gentle stray cat found, we woul...    9\n",
              "4     2    3  ...  Kali is a super playful kitten who is on the g...   11\n",
              "\n",
              "[5 rows x 19 columns]"
            ]
          },
          "metadata": {
            "tags": []
          },
          "execution_count": 31
        }
      ]
    },
    {
      "cell_type": "markdown",
      "metadata": {
        "id": "DGbJHQ3xNmIZ",
        "colab_type": "text"
      },
      "source": [
        "## Creamos el conjunto de datos para darle al modelo entrenado\n",
        "\n",
        "Tenemos que preprocesar los datos de evaluación de la misma manera que preprocesamos los de entrenamiento (para que sean compatibles con lo esperado por el modelo). Por suerte, es tan simple como hacer un par de modificaciones a lo ya hecho previamente. Lo único que tenemos que tener en cuenta es que ahora el conjunto de datos no generará una etiqueta."
      ]
    },
    {
      "cell_type": "code",
      "metadata": {
        "id": "GTxEwYXmNmIe",
        "colab_type": "code",
        "colab": {
          "base_uri": "https://localhost:8080/",
          "height": 301
        },
        "outputId": "a50a329c-c2a9-4307-e606-fd51beae5205"
      },
      "source": [
        "# First tokenize the description\n",
        "\n",
        "test_dataset[\"TokenizedDescription\"] = test_dataset[\"Description\"]\\\n",
        "    .fillna(value=\"\").apply(tokenize_description)\n",
        "\n",
        "# Generate the basic TF dataset\n",
        "\n",
        "tf_test_dataset = tf.data.Dataset.from_generator(\n",
        "    lambda: dataset_generator(test_dataset, True),\n",
        "    output_types=instance_types  # It should have the same instance types\n",
        ")\n",
        "\n",
        "for data in tf_test_dataset.take(2):  # The dataset only returns a data instance now (no target)\n",
        "    pprint(data)\n",
        "    print()"
      ],
      "execution_count": 32,
      "outputs": [
        {
          "output_type": "stream",
          "text": [
            "{'Breed1': <tf.Tensor: id=9625, shape=(1,), dtype=int32, numpy=array([265], dtype=int32)>,\n",
            " 'description': <tf.Tensor: id=9626, shape=(13,), dtype=int32, numpy=\n",
            "array([ 116,  429, 1371,  991,  189,    1, 7873, 1043,   62,  600,  728,\n",
            "          5,    1], dtype=int32)>,\n",
            " 'direct_features': <tf.Tensor: id=9627, shape=(10,), dtype=float32, numpy=array([1., 0., 0., 1., 0., 0., 0., 0., 0., 0.], dtype=float32)>}\n",
            "\n",
            "{'Breed1': <tf.Tensor: id=9628, shape=(1,), dtype=int32, numpy=array([307], dtype=int32)>,\n",
            " 'description': <tf.Tensor: id=9629, shape=(49,), dtype=int32, numpy=\n",
            "array([  945,   154,   256,  2049,   105,   403,   991,  4677,   552,\n",
            "         545,     1,   142,   134,   403,     1,   118,   210,    73,\n",
            "           1,   533,   387,    35,   394,   272,    98,    62,     1,\n",
            "         464, 10000,   411,   151,  1401,    42,   253,     1,   825,\n",
            "          35,  4659,   247, 10000,  4155,  1402,  1403,     1,    43,\n",
            "          52,   599,    38,     1], dtype=int32)>,\n",
            " 'direct_features': <tf.Tensor: id=9630, shape=(10,), dtype=float32, numpy=array([1., 0., 0., 0., 1., 0., 0., 0., 0., 0.], dtype=float32)>}\n",
            "\n"
          ],
          "name": "stdout"
        }
      ]
    },
    {
      "cell_type": "markdown",
      "metadata": {
        "id": "eHkKOIrUNmIz",
        "colab_type": "text"
      },
      "source": [
        "## Padding batches\n",
        "\n",
        "Por último, y previo a probar el modelo sobre los datos de evaluación, generamos el conjunto de datos \"rellenado\". \n",
        "\n",
        "A diferencia de los datos de entrenamiento y validación, en este caso no permutamos las instancias, pues necesitamos saber a que `PID` pertenece cada una.\n",
        "\n",
        "Por otra parte, utilizamos los mismos valores de `padding_shapes` y `padding_values` para el primer componente (el de los datos), ignorando el valor del segundo componente (el de las etiquetas)."
      ]
    },
    {
      "cell_type": "code",
      "metadata": {
        "id": "BZqH4LSQNmI1",
        "colab_type": "code",
        "colab": {}
      },
      "source": [
        "test_data = tf_test_dataset.padded_batch(\n",
        "    BATCH_SIZE, \n",
        "    padded_shapes=padding_shapes[0], \n",
        "    padding_values=padding_values[0]\n",
        ")"
      ],
      "execution_count": 0,
      "outputs": []
    },
    {
      "cell_type": "markdown",
      "metadata": {
        "id": "5jIQhrSZNmJI",
        "colab_type": "text"
      },
      "source": [
        "## Correr el modelo\n",
        "\n",
        "El último paso es correr el modelo sobre los datos de evaluación para conseguir las predicciones a enviar a la competencia."
      ]
    },
    {
      "cell_type": "code",
      "metadata": {
        "id": "wIhR4TDUNmJa",
        "colab_type": "code",
        "colab": {}
      },
      "source": [
        "test_dataset[\"AdoptionSpeed\"] = model.predict(test_data).argmax(axis=1)\n",
        "test_dataset.to_csv(\"./submission.csv\", index=False, columns=[\"PID\", \"AdoptionSpeed\"])"
      ],
      "execution_count": 0,
      "outputs": []
    },
    {
      "cell_type": "code",
      "metadata": {
        "id": "bJYDHipZtMJc",
        "colab_type": "code",
        "colab": {
          "base_uri": "https://localhost:8080/",
          "height": 265
        },
        "outputId": "e6155d7c-500b-4896-ab61-9c3bee188220"
      },
      "source": [
        "predictions = np.argmax(model.predict(test_data), axis=1)\n",
        "sns.countplot(predictions);"
      ],
      "execution_count": 35,
      "outputs": [
        {
          "output_type": "display_data",
          "data": {
            "image/png": "[encoded data removed]",
            "text/plain": [
              "<Figure size 432x288 with 1 Axes>"
            ]
          },
          "metadata": {
            "tags": []
          }
        }
      ]
    },
    {
      "cell_type": "markdown",
      "metadata": {
        "id": "JD3Mxat2aItg",
        "colab_type": "text"
      },
      "source": [
        "Graficamos diferentes métricas en función del epoch."
      ]
    },
    {
      "cell_type": "code",
      "metadata": {
        "id": "OAYptn2PtMe_",
        "colab_type": "code",
        "colab": {
          "base_uri": "https://localhost:8080/",
          "height": 295
        },
        "outputId": "34b6629b-1830-4831-9645-6453e36d30c4"
      },
      "source": [
        "# summarize history for accuracy\n",
        "plt.plot(history.history['accuracy'])\n",
        "plt.plot(history.history['val_accuracy'])\n",
        "plt.title('model accuracy')\n",
        "plt.ylabel('accuracy')\n",
        "plt.xlabel('epoch')\n",
        "plt.legend(['train', 'test']);"
      ],
      "execution_count": 36,
      "outputs": [
        {
          "output_type": "display_data",
          "data": {
            "image/png": "[encoded data removed]",
            "text/plain": [
              "<Figure size 432x288 with 1 Axes>"
            ]
          },
          "metadata": {
            "tags": []
          }
        }
      ]
    },
    {
      "cell_type": "code",
      "metadata": {
        "id": "mgidAul3lE2X",
        "colab_type": "code",
        "colab": {
          "base_uri": "https://localhost:8080/",
          "height": 295
        },
        "outputId": "31b4f633-ce8c-4c84-fd6c-0b5f88de537c"
      },
      "source": [
        "plt.plot(history.history['loss'])\n",
        "plt.plot(history.history['val_loss'])\n",
        "plt.title('model loss')\n",
        "plt.ylabel('loss')\n",
        "plt.xlabel('epoch')\n",
        "plt.legend(['train', 'test']);"
      ],
      "execution_count": 37,
      "outputs": [
        {
          "output_type": "display_data",
          "data": {
            "image/png": "[encoded data removed]",
            "text/plain": [
              "<Figure size 432x288 with 1 Axes>"
            ]
          },
          "metadata": {
            "tags": []
          }
        }
      ]
    },
    {
      "cell_type": "markdown",
      "metadata": {
        "id": "b2aWnHmUndu6",
        "colab_type": "text"
      },
      "source": [
        "Bastan alrededor de 10 epochs para obtener resultados considerablemente buenos."
      ]
    },
    {
      "cell_type": "markdown",
      "metadata": {
        "id": "Egv5QVbJw6v9",
        "colab_type": "text"
      },
      "source": [
        "Podemos ver que obtuvimos un modelo de buena eficacia, siendo capaz de predecir la mayoría de las veces los resultados correctos. No tenemos overfitting debido a que los accuracy del conjuto de train y test son muy similares. "
      ]
    },
    {
      "cell_type": "markdown",
      "metadata": {
        "id": "sr3CwbQbAMBJ",
        "colab_type": "text"
      },
      "source": [
        "En este trabajo práctico logramos una accuracy significativamente mejor a la obtenida con una red multicapa simple, incluso utilizando menos columnas para entrenar el modelo."
      ]
    },
    {
      "cell_type": "markdown",
      "metadata": {
        "id": "MRLDy85vwqxg",
        "colab_type": "text"
      },
      "source": [
        "---------------"
      ]
    },
    {
      "cell_type": "markdown",
      "metadata": {
        "id": "brHNCG23SOZH",
        "colab_type": "text"
      },
      "source": [
        "Vamos a utilizar otro modelo para predecir la velocidad de adopción agregando una capa convolucional de 1 dimensión y un max pooling. Veremos las diferencias en los resultados de los modelos."
      ]
    },
    {
      "cell_type": "code",
      "metadata": {
        "id": "e2_Q7TqzyNje",
        "colab_type": "code",
        "colab": {}
      },
      "source": [
        "def dataset_generator(ds, test_data=False):\n",
        "    for _, row in ds.iterrows():\n",
        "        instance = {}\n",
        "        \n",
        "        # One hot encoded features\n",
        "        instance[\"direct_features\"] = np.hstack([\n",
        "            tf.keras.utils.to_categorical(row[one_hot_col] - 1, max_value)\n",
        "            for one_hot_col, max_value in one_hot_columns.items()\n",
        "        ])\n",
        "\n",
        "        # Embedded features\n",
        "        for embedded_col in embedded_columns:\n",
        "            instance[embedded_col] = [row[embedded_col]]\n",
        "        \n",
        "        # Document to indices for text data, truncated at MAX_SEQUENCE_LEN words\n",
        "        instance[\"description\"] = vocabulary.doc2idx(\n",
        "            row[\"TokenizedDescription\"],\n",
        "            unknown_word_index=len(vocabulary)\n",
        "        )[:MAX_SEQUENCE_LEN]\n",
        "        \n",
        "        # One hot encoded target for categorical crossentropy\n",
        "        if not test_data:\n",
        "            target = tf.keras.utils.to_categorical(row[target_col], nlabels)\n",
        "            yield instance, target\n",
        "        else:\n",
        "            yield instance\n",
        "\n",
        "# Set output types of the generator (for numeric types check the type is valid)\n",
        "instance_types = {\n",
        "    \"direct_features\": tf.float32,\n",
        "    \"description\": tf.int32\n",
        "}\n",
        "\n",
        "for embedded_col in embedded_columns:\n",
        "    instance_types[embedded_col] = tf.int32\n",
        "        \n",
        "tf_dataset = tf.data.Dataset.from_generator(\n",
        "    lambda: dataset_generator(dataset),\n",
        "    output_types=(instance_types, tf.int32)\n",
        ")"
      ],
      "execution_count": 0,
      "outputs": []
    },
    {
      "cell_type": "code",
      "metadata": {
        "id": "a5d3Yd2sw6tt",
        "colab_type": "code",
        "colab": {}
      },
      "source": [
        "# It's important to always use the same one-hot length\n",
        "one_hot_columns = {\n",
        "    one_hot_col: dataset[one_hot_col].max()\n",
        "    for one_hot_col in ['Gender', 'Color1','Color2','Color3',\"Type\",\"Vaccinated\",\"Dewormed\",\t\"Sterilized\"]\n",
        "}\n",
        "embedded_columns = {\n",
        "    embedded_col: dataset[embedded_col].max() + 1\n",
        "    for embedded_col in ['Breed1']\n",
        "}\n",
        "#numeric_columns = ['Age', 'Fee','Quantity',\"MaturitySize\",\"FurLength\"]h"
      ],
      "execution_count": 0,
      "outputs": []
    },
    {
      "cell_type": "code",
      "metadata": {
        "id": "65Yrnv-sxYnW",
        "colab_type": "code",
        "colab": {}
      },
      "source": [
        "TRAIN_SIZE = int(dataset.shape[0] * 0.8)\n",
        "DEV_SIZE = dataset.shape[0] - TRAIN_SIZE\n",
        "BATCH_SIZE = 128\n",
        "\n",
        "shuffled_dataset = tf_dataset.shuffle(TRAIN_SIZE + DEV_SIZE, seed=42)\n",
        "\n",
        "# Pad the datasets to the max value for all the \"non sequence\" features\n",
        "padding_shapes = (\n",
        "    {k: [-1] for k in [\"direct_features\"] + list(embedded_columns.keys())},\n",
        "    [-1]\n",
        ")\n",
        "\n",
        "# Pad to MAX_SEQUENCE_LEN for sequence features\n",
        "padding_shapes[0][\"description\"] = [MAX_SEQUENCE_LEN]\n",
        "\n",
        "# Pad values are irrelevant for non padded data\n",
        "padding_values = (\n",
        "    {k: 0 for k in list(embedded_columns.keys())},\n",
        "    0\n",
        ")\n",
        "\n",
        "# Padding value for direct features should be a float\n",
        "padding_values[0][\"direct_features\"] = np.float32(0)\n",
        "\n",
        "# Padding value for sequential features is the vocabulary length + 1\n",
        "padding_values[0][\"description\"] = len(vocabulary) + 1\n",
        "\n",
        "train_dataset = shuffled_dataset.skip(DEV_SIZE)\\\n",
        "    .padded_batch(BATCH_SIZE, padded_shapes=padding_shapes, padding_values=padding_values)\n",
        "\n",
        "dev_dataset = shuffled_dataset.take(DEV_SIZE)\\\n",
        "    .padded_batch(BATCH_SIZE, padded_shapes=padding_shapes, padding_values=padding_values)"
      ],
      "execution_count": 0,
      "outputs": []
    },
    {
      "cell_type": "code",
      "metadata": {
        "id": "Lpiv_r32xjt7",
        "colab_type": "code",
        "colab": {}
      },
      "source": [
        "EMBEDDINGS_DIM = 100  # Given by the model (in this case glove.6B.100d)\n",
        "\n",
        "embedding_matrix = np.zeros((len(vocabulary) + 2, 100))\n",
        "\n",
        "for widx, word in vocabulary.items():\n",
        "    embedding_vector = embeddings_index.get(word)\n",
        "    if embedding_vector is not None:\n",
        "        embedding_matrix[widx] = embedding_vector\n",
        "    else:\n",
        "        # Random normal initialization for words without embeddings\n",
        "        embedding_matrix[widx] = np.random.normal(size=(100,))  \n",
        "\n",
        "# Random normal initialization for unknown words\n",
        "embedding_matrix[len(vocabulary)] = np.random.normal(size=(100,))"
      ],
      "execution_count": 0,
      "outputs": []
    },
    {
      "cell_type": "code",
      "metadata": {
        "id": "mghXir2Oxt8k",
        "colab_type": "code",
        "colab": {
          "base_uri": "https://localhost:8080/",
          "height": 35
        },
        "outputId": "4dfe8006-5ad0-4daa-a5cf-0cb9041c4236"
      },
      "source": [
        "tf.keras.backend.clear_session()\n",
        "\n",
        "# Add one input and one embedding for each embedded column\n",
        "embedding_layers = []\n",
        "inputs = []\n",
        "for embedded_col, max_value in embedded_columns.items():\n",
        "    input_layer = tf.keras.layers.Input(shape=(1,), name=embedded_col)\n",
        "    inputs.append(input_layer)\n",
        "    # Define the embedding layer\n",
        "    embedding_size = int(max_value / 4)\n",
        "    embedding_layers.append(\n",
        "        tf.squeeze(\n",
        "            tf.keras.layers.Embedding(\n",
        "                input_dim=max_value, \n",
        "                output_dim=embedding_size\n",
        "            )(input_layer), \n",
        "            axis=-2\n",
        "        )\n",
        "    )\n",
        "    print('Adding embedding of size {} for layer {}'.format(embedding_size, embedded_col))\n",
        "\n",
        "# Add the direct features already calculated\n",
        "direct_features_input = tf.keras.layers.Input(\n",
        "    shape=(sum(one_hot_columns.values()),), \n",
        "    name='direct_features'\n",
        ")\n",
        "inputs.append(direct_features_input)\n",
        "\n",
        "# Word embedding layer\n",
        "description_input = tf.keras.layers.Input(shape=(MAX_SEQUENCE_LEN,), name=\"description\")\n",
        "inputs.append(description_input)\n",
        "\n",
        "word_embeddings_layer = tf.keras.layers.Embedding(\n",
        "    embedding_matrix.shape[0],\n",
        "    EMBEDDINGS_DIM,\n",
        "    weights=[embedding_matrix],\n",
        "    input_length=MAX_SEQUENCE_LEN,\n",
        "    trainable=False,\n",
        "    name=\"word_embedding\"\n",
        ")(description_input)"
      ],
      "execution_count": 42,
      "outputs": [
        {
          "output_type": "stream",
          "text": [
            "Adding embedding of size 77 for layer Breed1\n"
          ],
          "name": "stdout"
        }
      ]
    },
    {
      "cell_type": "code",
      "metadata": {
        "id": "Xs_IOW2zxxec",
        "colab_type": "code",
        "colab": {}
      },
      "source": [
        "DESCRIPTION_FEATURES_LAYER_SIZE = 512\n",
        "pooling_size=5\n",
        "description_features = tf.keras.layers.Conv1D(16, 3, activation='relu')(word_embeddings_layer)\n",
        "description_features = tf.keras.layers.MaxPooling1D(pooling_size,strides=4,padding='same')(description_features)\n",
        "description_features = tf.keras.layers.Flatten()(description_features)  # This is a simple concatenation\n",
        "description_features = tf.keras.layers.Dense(\n",
        "    units=DESCRIPTION_FEATURES_LAYER_SIZE, \n",
        "    activation=\"relu\", \n",
        "    name=\"description_features\")(description_features)"
      ],
      "execution_count": 0,
      "outputs": []
    },
    {
      "cell_type": "code",
      "metadata": {
        "id": "0yNvHWXAx2Qe",
        "colab_type": "code",
        "colab": {}
      },
      "source": [
        "HIDDEN_LAYER_SIZE = 128\n",
        "\n",
        "feature_map = tf.keras.layers.Concatenate(name=\"feature_map\")(\n",
        "    embedding_layers + [description_features, direct_features_input]\n",
        ")\n",
        "\n",
        "hidden_layer = tf.keras.layers.Dense(HIDDEN_LAYER_SIZE, activation=\"relu\")(feature_map)\n",
        "output_layer = tf.keras.layers.Dense(nlabels, activation=\"softmax\", name=\"output\")(hidden_layer)\n",
        "\n",
        "model = tf.keras.models.Model(inputs=inputs, outputs=[output_layer], name=\"amazing_model\")"
      ],
      "execution_count": 0,
      "outputs": []
    },
    {
      "cell_type": "code",
      "metadata": {
        "id": "SHdUH2qqx8Ti",
        "colab_type": "code",
        "colab": {
          "base_uri": "https://localhost:8080/",
          "height": 657
        },
        "outputId": "0359d04b-5e6d-495e-cbe9-f55c09a41cd9"
      },
      "source": [
        "model.compile(loss='categorical_crossentropy', \n",
        "              optimizer='nadam',\n",
        "              metrics=['accuracy'])\n",
        "model.summary()"
      ],
      "execution_count": 47,
      "outputs": [
        {
          "output_type": "stream",
          "text": [
            "Model: \"amazing_model\"\n",
            "__________________________________________________________________________________________________\n",
            "Layer (type)                    Output Shape         Param #     Connected to                     \n",
            "==================================================================================================\n",
            "description (InputLayer)        [(None, 55)]         0                                            \n",
            "__________________________________________________________________________________________________\n",
            "word_embedding (Embedding)      (None, 55, 100)      1000200     description[0][0]                \n",
            "__________________________________________________________________________________________________\n",
            "conv1d_1 (Conv1D)               (None, 53, 16)       4816        word_embedding[0][0]             \n",
            "__________________________________________________________________________________________________\n",
            "Breed1 (InputLayer)             [(None, 1)]          0                                            \n",
            "__________________________________________________________________________________________________\n",
            "max_pooling1d (MaxPooling1D)    (None, 14, 16)       0           conv1d_1[0][0]                   \n",
            "__________________________________________________________________________________________________\n",
            "embedding (Embedding)           (None, 1, 77)        23716       Breed1[0][0]                     \n",
            "__________________________________________________________________________________________________\n",
            "flatten (Flatten)               (None, 224)          0           max_pooling1d[0][0]              \n",
            "__________________________________________________________________________________________________\n",
            "tf_op_layer_Squeeze (TensorFlow [(None, 77)]         0           embedding[0][0]                  \n",
            "__________________________________________________________________________________________________\n",
            "description_features (Dense)    (None, 512)          115200      flatten[0][0]                    \n",
            "__________________________________________________________________________________________________\n",
            "direct_features (InputLayer)    [(None, 35)]         0                                            \n",
            "__________________________________________________________________________________________________\n",
            "feature_map (Concatenate)       (None, 624)          0           tf_op_layer_Squeeze[0][0]        \n",
            "                                                                 description_features[0][0]       \n",
            "                                                                 direct_features[0][0]            \n",
            "__________________________________________________________________________________________________\n",
            "dense (Dense)                   (None, 128)          80000       feature_map[0][0]                \n",
            "__________________________________________________________________________________________________\n",
            "output (Dense)                  (None, 5)            645         dense[0][0]                      \n",
            "==================================================================================================\n",
            "Total params: 1,224,577\n",
            "Trainable params: 224,377\n",
            "Non-trainable params: 1,000,200\n",
            "__________________________________________________________________________________________________\n"
          ],
          "name": "stdout"
        }
      ]
    },
    {
      "cell_type": "code",
      "metadata": {
        "id": "cX1M_47qx_IN",
        "colab_type": "code",
        "colab": {
          "base_uri": "https://localhost:8080/",
          "height": 719
        },
        "outputId": "6572853a-ee5f-42c3-90fc-1f1ce82b66a9"
      },
      "source": [
        "SVG(tf.keras.utils.model_to_dot(model, dpi=60).create(prog='dot', format='svg'))"
      ],
      "execution_count": 48,
      "outputs": [
        {
          "output_type": "execute_result",
          "data": {
            "text/plain": [
              "<IPython.core.display.SVG object>"
            ],
            "image/svg+xml": "<svg height=\"524pt\" viewBox=\"0.00 0.00 669.00 629.00\" width=\"558pt\" xmlns=\"http://www.w3.org/2000/svg\" xmlns:xlink=\"http://www.w3.org/1999/xlink\">\n<g class=\"graph\" id=\"graph0\" transform=\"scale(.8333 .8333) rotate(0) translate(4 625)\">\n<title>G</title>\n<polygon fill=\"#ffffff\" points=\"-4,4 -4,-625 665,-625 665,4 -4,4\" stroke=\"transparent\"/>\n<!-- 139926918571680 -->\n<g class=\"node\" id=\"node1\">\n<title>139926918571680</title>\n<polygon fill=\"none\" points=\"27.5,-584.5 27.5,-620.5 178.5,-620.5 178.5,-584.5 27.5,-584.5\" stroke=\"#000000\"/>\n<text fill=\"#000000\" font-family=\"Times,serif\" font-size=\"14.00\" text-anchor=\"middle\" x=\"103\" y=\"-598.8\">description: InputLayer</text>\n</g>\n<!-- 139926917830080 -->\n<g class=\"node\" id=\"node2\">\n<title>139926917830080</title>\n<polygon fill=\"none\" points=\"6,-511.5 6,-547.5 200,-547.5 200,-511.5 6,-511.5\" stroke=\"#000000\"/>\n<text fill=\"#000000\" font-family=\"Times,serif\" font-size=\"14.00\" text-anchor=\"middle\" x=\"103\" y=\"-525.8\">word_embedding: Embedding</text>\n</g>\n<!-- 139926918571680&#45;&gt;139926917830080 -->\n<g class=\"edge\" id=\"edge1\">\n<title>139926918571680-&gt;139926917830080</title>\n<path d=\"M103,-584.4551C103,-576.3828 103,-566.6764 103,-557.6817\" fill=\"none\" stroke=\"#000000\"/>\n<polygon fill=\"#000000\" points=\"106.5001,-557.5903 103,-547.5904 99.5001,-557.5904 106.5001,-557.5903\" stroke=\"#000000\"/>\n</g>\n<!-- 139926917299112 -->\n<g class=\"node\" id=\"node3\">\n<title>139926917299112</title>\n<polygon fill=\"none\" points=\"36.5,-438.5 36.5,-474.5 169.5,-474.5 169.5,-438.5 36.5,-438.5\" stroke=\"#000000\"/>\n<text fill=\"#000000\" font-family=\"Times,serif\" font-size=\"14.00\" text-anchor=\"middle\" x=\"103\" y=\"-452.8\">conv1d_1: Conv1D</text>\n</g>\n<!-- 139926917830080&#45;&gt;139926917299112 -->\n<g class=\"edge\" id=\"edge2\">\n<title>139926917830080-&gt;139926917299112</title>\n<path d=\"M103,-511.4551C103,-503.3828 103,-493.6764 103,-484.6817\" fill=\"none\" stroke=\"#000000\"/>\n<polygon fill=\"#000000\" points=\"106.5001,-484.5903 103,-474.5904 99.5001,-484.5904 106.5001,-484.5903\" stroke=\"#000000\"/>\n</g>\n<!-- 139926917299056 -->\n<g class=\"node\" id=\"node5\">\n<title>139926917299056</title>\n<polygon fill=\"none\" points=\"0,-365.5 0,-401.5 206,-401.5 206,-365.5 0,-365.5\" stroke=\"#000000\"/>\n<text fill=\"#000000\" font-family=\"Times,serif\" font-size=\"14.00\" text-anchor=\"middle\" x=\"103\" y=\"-379.8\">max_pooling1d: MaxPooling1D</text>\n</g>\n<!-- 139926917299112&#45;&gt;139926917299056 -->\n<g class=\"edge\" id=\"edge3\">\n<title>139926917299112-&gt;139926917299056</title>\n<path d=\"M103,-438.4551C103,-430.3828 103,-420.6764 103,-411.6817\" fill=\"none\" stroke=\"#000000\"/>\n<polygon fill=\"#000000\" points=\"106.5001,-411.5903 103,-401.5904 99.5001,-411.5904 106.5001,-411.5903\" stroke=\"#000000\"/>\n</g>\n<!-- 139927006191512 -->\n<g class=\"node\" id=\"node4\">\n<title>139927006191512</title>\n<polygon fill=\"none\" points=\"275.5,-365.5 275.5,-401.5 404.5,-401.5 404.5,-365.5 275.5,-365.5\" stroke=\"#000000\"/>\n<text fill=\"#000000\" font-family=\"Times,serif\" font-size=\"14.00\" text-anchor=\"middle\" x=\"340\" y=\"-379.8\">Breed1: InputLayer</text>\n</g>\n<!-- 139926918572184 -->\n<g class=\"node\" id=\"node6\">\n<title>139926918572184</title>\n<polygon fill=\"none\" points=\"262,-292.5 262,-328.5 418,-328.5 418,-292.5 262,-292.5\" stroke=\"#000000\"/>\n<text fill=\"#000000\" font-family=\"Times,serif\" font-size=\"14.00\" text-anchor=\"middle\" x=\"340\" y=\"-306.8\">embedding: Embedding</text>\n</g>\n<!-- 139927006191512&#45;&gt;139926918572184 -->\n<g class=\"edge\" id=\"edge4\">\n<title>139927006191512-&gt;139926918572184</title>\n<path d=\"M340,-365.4551C340,-357.3828 340,-347.6764 340,-338.6817\" fill=\"none\" stroke=\"#000000\"/>\n<polygon fill=\"#000000\" points=\"343.5001,-338.5903 340,-328.5904 336.5001,-338.5904 343.5001,-338.5903\" stroke=\"#000000\"/>\n</g>\n<!-- 139926917321224 -->\n<g class=\"node\" id=\"node7\">\n<title>139926917321224</title>\n<polygon fill=\"none\" points=\"54,-292.5 54,-328.5 152,-328.5 152,-292.5 54,-292.5\" stroke=\"#000000\"/>\n<text fill=\"#000000\" font-family=\"Times,serif\" font-size=\"14.00\" text-anchor=\"middle\" x=\"103\" y=\"-306.8\">flatten: Flatten</text>\n</g>\n<!-- 139926917299056&#45;&gt;139926917321224 -->\n<g class=\"edge\" id=\"edge5\">\n<title>139926917299056-&gt;139926917321224</title>\n<path d=\"M103,-365.4551C103,-357.3828 103,-347.6764 103,-338.6817\" fill=\"none\" stroke=\"#000000\"/>\n<polygon fill=\"#000000\" points=\"106.5001,-338.5903 103,-328.5904 99.5001,-338.5904 106.5001,-338.5903\" stroke=\"#000000\"/>\n</g>\n<!-- 139926916887272 -->\n<g class=\"node\" id=\"node8\">\n<title>139926916887272</title>\n<polygon fill=\"none\" points=\"207.5,-219.5 207.5,-255.5 472.5,-255.5 472.5,-219.5 207.5,-219.5\" stroke=\"#000000\"/>\n<text fill=\"#000000\" font-family=\"Times,serif\" font-size=\"14.00\" text-anchor=\"middle\" x=\"340\" y=\"-233.8\">tf_op_layer_Squeeze: TensorFlowOpLayer</text>\n</g>\n<!-- 139926918572184&#45;&gt;139926916887272 -->\n<g class=\"edge\" id=\"edge6\">\n<title>139926918572184-&gt;139926916887272</title>\n<path d=\"M340,-292.4551C340,-284.3828 340,-274.6764 340,-265.6817\" fill=\"none\" stroke=\"#000000\"/>\n<polygon fill=\"#000000\" points=\"343.5001,-265.5903 340,-255.5904 336.5001,-265.5904 343.5001,-265.5903\" stroke=\"#000000\"/>\n</g>\n<!-- 139926917321336 -->\n<g class=\"node\" id=\"node9\">\n<title>139926917321336</title>\n<polygon fill=\"none\" points=\"16.5,-219.5 16.5,-255.5 189.5,-255.5 189.5,-219.5 16.5,-219.5\" stroke=\"#000000\"/>\n<text fill=\"#000000\" font-family=\"Times,serif\" font-size=\"14.00\" text-anchor=\"middle\" x=\"103\" y=\"-233.8\">description_features: Dense</text>\n</g>\n<!-- 139926917321224&#45;&gt;139926917321336 -->\n<g class=\"edge\" id=\"edge7\">\n<title>139926917321224-&gt;139926917321336</title>\n<path d=\"M103,-292.4551C103,-284.3828 103,-274.6764 103,-265.6817\" fill=\"none\" stroke=\"#000000\"/>\n<polygon fill=\"#000000\" points=\"106.5001,-265.5903 103,-255.5904 99.5001,-265.5904 106.5001,-265.5903\" stroke=\"#000000\"/>\n</g>\n<!-- 139926916830096 -->\n<g class=\"node\" id=\"node11\">\n<title>139926916830096</title>\n<polygon fill=\"none\" points=\"258,-146.5 258,-182.5 422,-182.5 422,-146.5 258,-146.5\" stroke=\"#000000\"/>\n<text fill=\"#000000\" font-family=\"Times,serif\" font-size=\"14.00\" text-anchor=\"middle\" x=\"340\" y=\"-160.8\">feature_map: Concatenate</text>\n</g>\n<!-- 139926916887272&#45;&gt;139926916830096 -->\n<g class=\"edge\" id=\"edge8\">\n<title>139926916887272-&gt;139926916830096</title>\n<path d=\"M340,-219.4551C340,-211.3828 340,-201.6764 340,-192.6817\" fill=\"none\" stroke=\"#000000\"/>\n<polygon fill=\"#000000\" points=\"343.5001,-192.5903 340,-182.5904 336.5001,-192.5904 343.5001,-192.5903\" stroke=\"#000000\"/>\n</g>\n<!-- 139926917321336&#45;&gt;139926916830096 -->\n<g class=\"edge\" id=\"edge9\">\n<title>139926917321336-&gt;139926916830096</title>\n<path d=\"M161.5843,-219.4551C194.9128,-209.1893 236.8224,-196.2804 271.6469,-185.5539\" fill=\"none\" stroke=\"#000000\"/>\n<polygon fill=\"#000000\" points=\"272.7417,-188.879 281.2683,-182.5904 270.681,-182.1892 272.7417,-188.879\" stroke=\"#000000\"/>\n</g>\n<!-- 139927006191344 -->\n<g class=\"node\" id=\"node10\">\n<title>139927006191344</title>\n<polygon fill=\"none\" points=\"491,-219.5 491,-255.5 661,-255.5 661,-219.5 491,-219.5\" stroke=\"#000000\"/>\n<text fill=\"#000000\" font-family=\"Times,serif\" font-size=\"14.00\" text-anchor=\"middle\" x=\"576\" y=\"-233.8\">direct_features: InputLayer</text>\n</g>\n<!-- 139927006191344&#45;&gt;139926916830096 -->\n<g class=\"edge\" id=\"edge10\">\n<title>139927006191344-&gt;139926916830096</title>\n<path d=\"M517.6629,-219.4551C484.475,-209.1893 442.7423,-196.2804 408.0647,-185.5539\" fill=\"none\" stroke=\"#000000\"/>\n<polygon fill=\"#000000\" points=\"409.0716,-182.2018 398.4839,-182.5904 407.003,-188.8892 409.0716,-182.2018\" stroke=\"#000000\"/>\n</g>\n<!-- 139926916830152 -->\n<g class=\"node\" id=\"node12\">\n<title>139926916830152</title>\n<polygon fill=\"none\" points=\"294,-73.5 294,-109.5 386,-109.5 386,-73.5 294,-73.5\" stroke=\"#000000\"/>\n<text fill=\"#000000\" font-family=\"Times,serif\" font-size=\"14.00\" text-anchor=\"middle\" x=\"340\" y=\"-87.8\">dense: Dense</text>\n</g>\n<!-- 139926916830096&#45;&gt;139926916830152 -->\n<g class=\"edge\" id=\"edge11\">\n<title>139926916830096-&gt;139926916830152</title>\n<path d=\"M340,-146.4551C340,-138.3828 340,-128.6764 340,-119.6817\" fill=\"none\" stroke=\"#000000\"/>\n<polygon fill=\"#000000\" points=\"343.5001,-119.5903 340,-109.5904 336.5001,-119.5904 343.5001,-119.5903\" stroke=\"#000000\"/>\n</g>\n<!-- 139926916832840 -->\n<g class=\"node\" id=\"node13\">\n<title>139926916832840</title>\n<polygon fill=\"none\" points=\"291.5,-.5 291.5,-36.5 388.5,-36.5 388.5,-.5 291.5,-.5\" stroke=\"#000000\"/>\n<text fill=\"#000000\" font-family=\"Times,serif\" font-size=\"14.00\" text-anchor=\"middle\" x=\"340\" y=\"-14.8\">output: Dense</text>\n</g>\n<!-- 139926916830152&#45;&gt;139926916832840 -->\n<g class=\"edge\" id=\"edge12\">\n<title>139926916830152-&gt;139926916832840</title>\n<path d=\"M340,-73.4551C340,-65.3828 340,-55.6764 340,-46.6817\" fill=\"none\" stroke=\"#000000\"/>\n<polygon fill=\"#000000\" points=\"343.5001,-46.5903 340,-36.5904 336.5001,-46.5904 343.5001,-46.5903\" stroke=\"#000000\"/>\n</g>\n</g>\n</svg>"
          },
          "metadata": {
            "tags": []
          },
          "execution_count": 48
        }
      ]
    },
    {
      "cell_type": "code",
      "metadata": {
        "id": "24KEBss0yCnX",
        "colab_type": "code",
        "colab": {
          "base_uri": "https://localhost:8080/",
          "height": 1000
        },
        "outputId": "5f960150-c7e3-4667-d072-e8d2e4cd1cb7"
      },
      "source": [
        "import mlflow\n",
        "\n",
        "mlflow.set_experiment('awesome_advanced_approach')\n",
        "\n",
        "with mlflow.start_run(nested=True):\n",
        "    # Log model hiperparameters first\n",
        "    mlflow.log_param('description_features_layer_size', DESCRIPTION_FEATURES_LAYER_SIZE)\n",
        "    mlflow.log_param('hidden_layer_size', HIDDEN_LAYER_SIZE)\n",
        "    mlflow.log_param('embedded_columns', embedded_columns)\n",
        "    mlflow.log_param('one_hot_columns', one_hot_columns)\n",
        "    mlflow.log_param('numerical_columns', numeric_columns)  # Not using these yet\n",
        "    \n",
        "    # Train\n",
        "    epochs = 30\n",
        "    history = model.fit(train_dataset, epochs=epochs,validation_data=dev_dataset)\n",
        "    \n",
        "    # Evaluate\n",
        "    loss, accuracy = model.evaluate(dev_dataset, verbose=0)\n",
        "    print(\"\\n*** Validation loss: {} - accuracy: {}\".format(loss, accuracy))\n",
        "    mlflow.log_metric('epochs', epochs)\n",
        "    mlflow.log_metric('train_loss', history.history[\"loss\"][-1])\n",
        "    mlflow.log_metric('train_accuracy', history.history[\"accuracy\"][-1])\n",
        "    mlflow.log_metric('validation_loss', loss)\n",
        "    mlflow.log_metric('validation_accuracy', accuracy)"
      ],
      "execution_count": 49,
      "outputs": [
        {
          "output_type": "stream",
          "text": [
            "Epoch 1/30\n",
            "67/67 [==============================] - 17s 258ms/step - loss: 1.4594 - accuracy: 0.3022 - val_loss: 0.0000e+00 - val_accuracy: 0.0000e+00\n",
            "Epoch 2/30\n",
            "67/67 [==============================] - 16s 233ms/step - loss: 1.3901 - accuracy: 0.3688 - val_loss: 1.5960 - val_accuracy: 0.3042\n",
            "Epoch 3/30\n",
            "67/67 [==============================] - 16s 235ms/step - loss: 1.3531 - accuracy: 0.3999 - val_loss: 1.4917 - val_accuracy: 0.2796\n",
            "Epoch 4/30\n",
            "67/67 [==============================] - 16s 234ms/step - loss: 1.3032 - accuracy: 0.4347 - val_loss: 1.1985 - val_accuracy: 0.5012\n",
            "Epoch 5/30\n",
            "67/67 [==============================] - 16s 236ms/step - loss: 1.2257 - accuracy: 0.4787 - val_loss: 1.2204 - val_accuracy: 0.4549\n",
            "Epoch 6/30\n",
            "67/67 [==============================] - 16s 236ms/step - loss: 1.1592 - accuracy: 0.5193 - val_loss: 1.0695 - val_accuracy: 0.5716\n",
            "Epoch 7/30\n",
            "67/67 [==============================] - 16s 234ms/step - loss: 1.0775 - accuracy: 0.5617 - val_loss: 1.0798 - val_accuracy: 0.5668\n",
            "Epoch 8/30\n",
            "67/67 [==============================] - 16s 234ms/step - loss: 0.9906 - accuracy: 0.6159 - val_loss: 0.8899 - val_accuracy: 0.6627\n",
            "Epoch 9/30\n",
            "67/67 [==============================] - 16s 234ms/step - loss: 0.8887 - accuracy: 0.6538 - val_loss: 0.8529 - val_accuracy: 0.6656\n",
            "Epoch 10/30\n",
            "67/67 [==============================] - 16s 235ms/step - loss: 0.7852 - accuracy: 0.7044 - val_loss: 0.7657 - val_accuracy: 0.7019\n",
            "Epoch 11/30\n",
            "67/67 [==============================] - 16s 235ms/step - loss: 0.6727 - accuracy: 0.7517 - val_loss: 0.5662 - val_accuracy: 0.8205\n",
            "Epoch 12/30\n",
            "67/67 [==============================] - 16s 234ms/step - loss: 0.5617 - accuracy: 0.8004 - val_loss: 0.5152 - val_accuracy: 0.8162\n",
            "Epoch 13/30\n",
            "67/67 [==============================] - 16s 233ms/step - loss: 0.4985 - accuracy: 0.8187 - val_loss: 0.4156 - val_accuracy: 0.8677\n",
            "Epoch 14/30\n",
            "67/67 [==============================] - 16s 233ms/step - loss: 0.4119 - accuracy: 0.8643 - val_loss: 0.3375 - val_accuracy: 0.8880\n",
            "Epoch 15/30\n",
            "67/67 [==============================] - 16s 233ms/step - loss: 0.3394 - accuracy: 0.8894 - val_loss: 0.5610 - val_accuracy: 0.7884\n",
            "Epoch 16/30\n",
            "67/67 [==============================] - 16s 233ms/step - loss: 0.3162 - accuracy: 0.9023 - val_loss: 0.2373 - val_accuracy: 0.9329\n",
            "Epoch 17/30\n",
            "67/67 [==============================] - 16s 236ms/step - loss: 0.2452 - accuracy: 0.9233 - val_loss: 0.2648 - val_accuracy: 0.9150\n",
            "Epoch 18/30\n",
            "67/67 [==============================] - 16s 239ms/step - loss: 0.2242 - accuracy: 0.9336 - val_loss: 0.3861 - val_accuracy: 0.8559\n",
            "Epoch 19/30\n",
            "67/67 [==============================] - 16s 234ms/step - loss: 0.3317 - accuracy: 0.9147 - val_loss: 0.2102 - val_accuracy: 0.9329\n",
            "Epoch 20/30\n",
            "67/67 [==============================] - 16s 232ms/step - loss: 0.1827 - accuracy: 0.9457 - val_loss: 0.1465 - val_accuracy: 0.9580\n",
            "Epoch 21/30\n",
            "67/67 [==============================] - 16s 234ms/step - loss: 0.1487 - accuracy: 0.9588 - val_loss: 0.1197 - val_accuracy: 0.9698\n",
            "Epoch 22/30\n",
            "67/67 [==============================] - 15s 231ms/step - loss: 0.1387 - accuracy: 0.9613 - val_loss: 0.5671 - val_accuracy: 0.7898\n",
            "Epoch 23/30\n",
            "67/67 [==============================] - 16s 235ms/step - loss: 0.1636 - accuracy: 0.9561 - val_loss: 0.1059 - val_accuracy: 0.9759\n",
            "Epoch 24/30\n",
            "67/67 [==============================] - 16s 233ms/step - loss: 0.1251 - accuracy: 0.9630 - val_loss: 0.2945 - val_accuracy: 0.8984\n",
            "Epoch 25/30\n",
            "67/67 [==============================] - 16s 238ms/step - loss: 0.1690 - accuracy: 0.9576 - val_loss: 0.1141 - val_accuracy: 0.9674\n",
            "Epoch 26/30\n",
            "67/67 [==============================] - 16s 233ms/step - loss: 0.0995 - accuracy: 0.9712 - val_loss: 0.1103 - val_accuracy: 0.9721\n",
            "Epoch 27/30\n",
            "67/67 [==============================] - 16s 233ms/step - loss: 0.0930 - accuracy: 0.9729 - val_loss: 0.4067 - val_accuracy: 0.8498\n",
            "Epoch 28/30\n",
            "67/67 [==============================] - 16s 233ms/step - loss: 0.1800 - accuracy: 0.9548 - val_loss: 0.1067 - val_accuracy: 0.9702\n",
            "Epoch 29/30\n",
            "67/67 [==============================] - 16s 233ms/step - loss: 0.0965 - accuracy: 0.9735 - val_loss: 0.0968 - val_accuracy: 0.9740\n",
            "Epoch 30/30\n",
            "67/67 [==============================] - 16s 232ms/step - loss: 0.0917 - accuracy: 0.9709 - val_loss: 0.2124 - val_accuracy: 0.9140\n",
            "\n",
            "*** Validation loss: 0.2111905006801381 - accuracy: 0.9234766364097595\n"
          ],
          "name": "stdout"
        }
      ]
    },
    {
      "cell_type": "code",
      "metadata": {
        "id": "7LNRC5Uz363M",
        "colab_type": "code",
        "colab": {
          "base_uri": "https://localhost:8080/",
          "height": 265
        },
        "outputId": "9674840b-28a6-46f3-e3b5-5a2c1b8d0094"
      },
      "source": [
        "predictions = np.argmax(model.predict(test_data), axis=1)\n",
        "sns.countplot(predictions);"
      ],
      "execution_count": 50,
      "outputs": [
        {
          "output_type": "display_data",
          "data": {
            "image/png": "[encoded data removed]",
            "text/plain": [
              "<Figure size 432x288 with 1 Axes>"
            ]
          },
          "metadata": {
            "tags": []
          }
        }
      ]
    },
    {
      "cell_type": "code",
      "metadata": {
        "id": "n8hD9n1nOkxn",
        "colab_type": "code",
        "colab": {
          "base_uri": "https://localhost:8080/",
          "height": 295
        },
        "outputId": "84f8f5b8-5cf7-41dd-b44c-c66217dbbe42"
      },
      "source": [
        "# summarize history for accuracy\n",
        "plt.plot(history.history['accuracy'])\n",
        "plt.plot(history.history['val_accuracy'])\n",
        "plt.title('model accuracy')\n",
        "plt.ylabel('accuracy')\n",
        "plt.xlabel('epoch')\n",
        "plt.legend(['train', 'test']);"
      ],
      "execution_count": 51,
      "outputs": [
        {
          "output_type": "display_data",
          "data": {
            "image/png": "[encoded data removed]",
            "text/plain": [
              "<Figure size 432x288 with 1 Axes>"
            ]
          },
          "metadata": {
            "tags": []
          }
        }
      ]
    },
    {
      "cell_type": "code",
      "metadata": {
        "id": "1kaegzr0OoyK",
        "colab_type": "code",
        "colab": {
          "base_uri": "https://localhost:8080/",
          "height": 295
        },
        "outputId": "50db65f9-31d9-45ec-acae-3533528c3d2e"
      },
      "source": [
        "# summarize history for accuracy\n",
        "plt.plot(history.history['loss'])\n",
        "plt.plot(history.history['val_loss'])\n",
        "plt.title('model loss')\n",
        "plt.ylabel('loss')\n",
        "plt.xlabel('epoch')\n",
        "plt.legend(['train', 'test']);"
      ],
      "execution_count": 52,
      "outputs": [
        {
          "output_type": "display_data",
          "data": {
            "image/png": "[encoded data removed]",
            "text/plain": [
              "<Figure size 432x288 with 1 Axes>"
            ]
          },
          "metadata": {
            "tags": []
          }
        }
      ]
    },
    {
      "cell_type": "markdown",
      "metadata": {
        "id": "ogSzV2toQTvo",
        "colab_type": "text"
      },
      "source": [
        "Obtuvimos resultados similares a los de la red sin Conv1D y MaxPooling. En general, en ambos modelos los resultados mejoran a mayor epoch."
      ]
    },
    {
      "cell_type": "markdown",
      "metadata": {
        "id": "YxSMzUdaoVOh",
        "colab_type": "text"
      },
      "source": [
        "Los modelos utilizados en este trabajo pueden predecir correctamente la velocidad de adopción la mayoría de las veces, mostranado una eficiencia mucho mayor a la obtenida en todos los modelos utilizados en el trabajo práctico 1."
      ]
    }
  ]
}